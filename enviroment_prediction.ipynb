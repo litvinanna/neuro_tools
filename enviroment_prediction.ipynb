{
 "cells": [
  {
   "cell_type": "code",
   "execution_count": 10,
   "metadata": {
    "collapsed": true
   },
   "outputs": [],
   "source": [
    "from Bio import SeqIO"
   ]
  },
  {
   "cell_type": "code",
   "execution_count": 11,
   "metadata": {
    "collapsed": true
   },
   "outputs": [],
   "source": [
    "genome_file = \"../data/ecoli.genbank\"\n",
    "genome_file_type = genome_file.split('.')[-1]\n",
    "\n",
    "# genome_file = \"ecoli.fasta\"\n",
    "# genome_file_type = genome_file.split('.')[-1]"
   ]
  },
  {
   "cell_type": "code",
   "execution_count": 12,
   "metadata": {
    "collapsed": false
   },
   "outputs": [
    {
     "name": "stdout",
     "output_type": "stream",
     "text": [
      "read seq from file ../data/ecoli.genbank, length = 4641652\n"
     ]
    }
   ],
   "source": [
    "iterator = SeqIO.parse(genome_file, genome_file_type)\n",
    "record = next(iterator)\n",
    "length = len(record.seq)\n",
    "print(\"read seq from file {}, length = {}\".format(genome_file, length))"
   ]
  },
  {
   "cell_type": "code",
   "execution_count": 13,
   "metadata": {
    "collapsed": true
   },
   "outputs": [],
   "source": [
    "import numpy as np\n",
    "bases_dict     = {\"A\": 0, \"T\": 1, \"C\": 2, \"G\": 3}\n",
    "bases_list = [\"A\", \"T\", \"C\", \"G\"]\n",
    "bases_np        = {\n",
    "                    \"A\": np.array([1, 0, 0, 0], dtype = np.float32),\n",
    "                    \"T\": np.array([0, 1, 0, 0], dtype = np.float32),\n",
    "                    \"C\": np.array([0, 0, 1, 0], dtype = np.float32),\n",
    "                    \"G\": np.array([0, 0, 0, 1], dtype = np.float32)\n",
    "                    }\n",
    "\n",
    "seq_np = np.zeros((length, 4), dtype = np.float32) \n",
    "for index in range(length):\n",
    "    base = record.seq[index]\n",
    "    if base in bases_list:\n",
    "        channel = bases_dict[base]\n",
    "        seq_np[index, channel] = 1\n",
    "    else:\n",
    "        print(\"alternative base\")"
   ]
  },
  {
   "cell_type": "code",
   "execution_count": 14,
   "metadata": {
    "collapsed": false
   },
   "outputs": [
    {
     "data": {
      "text/plain": [
       "(4641652, 4)"
      ]
     },
     "execution_count": 14,
     "metadata": {},
     "output_type": "execute_result"
    }
   ],
   "source": [
    "seq_np.shape"
   ]
  },
  {
   "cell_type": "code",
   "execution_count": 18,
   "metadata": {
    "collapsed": true
   },
   "outputs": [],
   "source": [
    "LENGTH = 100\n",
    "\n",
    "def generate_data(seq_np):\n",
    "    \n",
    "    length = seq_np.shape[0]\n",
    "    test = 0.1\n",
    "    \n",
    "    train_ids = np.random.choice(int(length * (1-test)) - 300, 10000) + 200\n",
    "    test_ids = np.random.choice(int(length * test) - 300, 1000) + int(length * (1-test))\n",
    "    \n",
    "    print(len(train_ids), min(train_ids), max(train_ids))\n",
    "    print(len(test_ids), min(test_ids), max(test_ids))\n",
    "    \n",
    "    train1 = np.array([seq_np[x-LENGTH:x, ...] for x in train_ids])\n",
    "    train2 = np.array([seq_np[x+1:x+LENGTH+1, ...] for x in train_ids])\n",
    "    train_ans = np.array([seq_np[x, ...]  for x in train_ids])\n",
    "\n",
    "    test1 = np.array([seq_np[x-LENGTH:x, ...] for x in test_ids])\n",
    "    test2 = np.array([seq_np[x+1:x+LENGTH+1, ...] for x in test_ids])\n",
    "    test_ans = np.array([seq_np[x, ...]  for x in test_ids])\n",
    "    \n",
    "    print(train1.shape, train2.shape, train_ans.shape)\n",
    "    print( test1.shape, test2.shape, test_ans.shape)\n",
    "    \n",
    "    return train1, train2, train_ans, test1, test2, test_ans"
   ]
  },
  {
   "cell_type": "code",
   "execution_count": 19,
   "metadata": {
    "collapsed": true
   },
   "outputs": [],
   "source": [
    "# import tensorflow as tf\n",
    "# sess = tf.Session(config=tf.ConfigProto(log_device_placement=True))"
   ]
  },
  {
   "cell_type": "code",
   "execution_count": 20,
   "metadata": {
    "collapsed": true
   },
   "outputs": [],
   "source": [
    "# from tensorflow.python.client import device_lib\n",
    "# print(device_lib.list_local_devices())"
   ]
  },
  {
   "cell_type": "code",
   "execution_count": 24,
   "metadata": {
    "collapsed": false
   },
   "outputs": [],
   "source": [
    "import keras\n",
    "from keras.models import Sequential\n",
    "from keras.layers import Conv1D, MaxPooling1D\n",
    "from keras.layers import Activation, Dropout, Flatten, Dense, Input\n",
    "from keras.layers.normalization import BatchNormalization\n",
    "from keras.models import Model\n",
    "from keras.callbacks import EarlyStopping\n",
    "\n",
    "\n",
    "\n",
    "def build_half_model():\n",
    "    model = Sequential()\n",
    "    \n",
    "    model.add(Conv1D(16, kernel_size=(7), input_shape=(LENGTH, 4)))\n",
    "    model.add(BatchNormalization())\n",
    "    model.add(Activation('relu'))\n",
    "    \n",
    "#    model.add(MaxPooling1D(pool_size=(3)))\n",
    "    \n",
    "#     model.add(Conv1D(4, kernel_size=(3)))\n",
    "#     model.add(BatchNormalization())\n",
    "#     model.add(Activation('relu'))\n",
    "    \n",
    "    return model\n",
    "\n",
    "def create_model():\n",
    "    half1 = build_half_model()\n",
    "    half2 = build_half_model()\n",
    "\n",
    "    cur_layer = keras.layers.concatenate([half1.output, half2.output])\n",
    "\n",
    "    cur_layer = Flatten()(cur_layer)\n",
    "    cur_layer = Dense(8)(cur_layer)\n",
    "    cur_layer = Activation('relu')(cur_layer)\n",
    "    cur_layer = Dropout(0.4)(cur_layer)\n",
    "\n",
    "    cur_layer = Dense(4, kernel_initializer='normal', activation='sigmoid')(cur_layer)\n",
    "    \n",
    "    model = Model([half1.input, half2.input], cur_layer)\n",
    "    model.compile(loss='categorical_crossentropy', optimizer='adam', metrics=['accuracy'])\n",
    "    \n",
    "    return model\n",
    "\n",
    "model = create_model()\n",
    "# model.summary()"
   ]
  },
  {
   "cell_type": "code",
   "execution_count": 20,
   "metadata": {
    "collapsed": false
   },
   "outputs": [
    {
     "name": "stdout",
     "output_type": "stream",
     "text": [
      "1000/1000 [==============================] - 1s 840us/step\n"
     ]
    },
    {
     "data": {
      "text/plain": [
       "[1.3864956340789796, 0.255]"
      ]
     },
     "execution_count": 20,
     "metadata": {},
     "output_type": "execute_result"
    }
   ],
   "source": [
    "model.evaluate([test1, test2], test_ans)"
   ]
  },
  {
   "cell_type": "code",
   "execution_count": 21,
   "metadata": {
    "collapsed": false
   },
   "outputs": [
    {
     "name": "stdout",
     "output_type": "stream",
     "text": [
      "10000/10000 [==============================] - 4s 410us/step\n"
     ]
    },
    {
     "data": {
      "text/plain": [
       "[1.3865305728912354, 0.24740000000000001]"
      ]
     },
     "execution_count": 21,
     "metadata": {},
     "output_type": "execute_result"
    }
   ],
   "source": [
    "model.evaluate([train1, train2], train_ans)"
   ]
  },
  {
   "cell_type": "code",
   "execution_count": null,
   "metadata": {
    "collapsed": false
   },
   "outputs": [
    {
     "name": "stdout",
     "output_type": "stream",
     "text": [
      "Train on 9000 samples, validate on 1000 samples\n",
      "Epoch 1/100\n",
      "9000/9000 [==============================] - 10s 1ms/step - loss: 1.3865 - acc: 0.2497 - val_loss: 1.3862 - val_acc: 0.2440\n",
      "Epoch 2/100\n",
      "9000/9000 [==============================] - 9s 977us/step - loss: 1.3850 - acc: 0.2542 - val_loss: 1.3860 - val_acc: 0.2420\n",
      "Epoch 3/100\n",
      "9000/9000 [==============================] - 9s 1ms/step - loss: 1.3806 - acc: 0.2713 - val_loss: 1.3807 - val_acc: 0.2720\n",
      "Epoch 4/100\n",
      "5856/9000 [==================>...........] - ETA: 3s - loss: 1.3774 - acc: 0.2753"
     ]
    }
   ],
   "source": [
    "from keras.callbacks import EarlyStopping\n",
    "\n",
    "es = EarlyStopping(monitor='val_loss', verbose=1, patience=1)\n",
    "history = model.fit([train1, train2], train_ans, epochs=100, validation_split = 0.1, callbacks = [es])   "
   ]
  },
  {
   "cell_type": "code",
   "execution_count": null,
   "metadata": {
    "collapsed": false
   },
   "outputs": [],
   "source": [
    "# import matplotlib.pyplot as plt\n",
    "# %matplotlib inline\n",
    "\n",
    "# plt.plot(history.history['acc'])\n",
    "# plt.plot(history.history['val_acc'])\n",
    "# plt.title('Model accuracy')\n",
    "# plt.ylabel('Accuracy')\n",
    "# plt.xlabel('Epoch')\n",
    "# plt.legend(['Train', 'Validation'], loc='upper left')\n",
    "# plt.show()\n",
    "\n",
    "# # Plot training & validation loss values\n",
    "# plt.plot(history.history['loss'])\n",
    "# plt.plot(history.history['val_loss'])\n",
    "# plt.title('Model loss')\n",
    "# plt.ylabel('Loss')\n",
    "# plt.xlabel('Epoch')\n",
    "# plt.legend(['Train', 'Validation'], loc='upper left')\n",
    "# plt.show()"
   ]
  },
  {
   "cell_type": "code",
   "execution_count": null,
   "metadata": {
    "collapsed": false
   },
   "outputs": [],
   "source": [
    "print(model.evaluate([test1, test2], test_ans))"
   ]
  },
  {
   "cell_type": "code",
   "execution_count": 26,
   "metadata": {
    "collapsed": true
   },
   "outputs": [],
   "source": [
    "def train(seq_np):\n",
    "    train1, train2, train_ans, test1, test2, test_ans = generate_data(seq_np)\n",
    "    model = create_model()\n",
    "    es = EarlyStopping(monitor='val_loss', verbose=1, patience=1)\n",
    "    history = model.fit([train1, train2], train_ans, epochs=100, validation_split = 0.1, callbacks = [es])   \n",
    "    return model.evaluate([test1, test2], test_ans)[1]"
   ]
  },
  {
   "cell_type": "code",
   "execution_count": 27,
   "metadata": {
    "collapsed": false
   },
   "outputs": [
    {
     "name": "stdout",
     "output_type": "stream",
     "text": [
      "10000 374 4177347\n",
      "1000 4178909 4640090\n",
      "(10000, 100, 4) (10000, 100, 4) (10000, 4)\n",
      "(1000, 100, 4) (1000, 100, 4) (1000, 4)\n",
      "Train on 9000 samples, validate on 1000 samples\n",
      "Epoch 1/100\n",
      "9000/9000 [==============================] - 8s 943us/step - loss: 1.3866 - acc: 0.2611 - val_loss: 1.3869 - val_acc: 0.2350\n",
      "Epoch 2/100\n",
      "9000/9000 [==============================] - 7s 740us/step - loss: 1.3839 - acc: 0.2711 - val_loss: 1.3875 - val_acc: 0.2340\n",
      "Epoch 00002: early stopping\n",
      "1000/1000 [==============================] - 0s 284us/step\n"
     ]
    },
    {
     "data": {
      "text/plain": [
       "0.24099999999999999"
      ]
     },
     "execution_count": 27,
     "metadata": {},
     "output_type": "execute_result"
    }
   ],
   "source": [
    "train(seq_np)"
   ]
  },
  {
   "cell_type": "code",
   "execution_count": 28,
   "metadata": {
    "collapsed": false
   },
   "outputs": [
    {
     "name": "stdout",
     "output_type": "stream",
     "text": [
      "10000 218 4177113\n",
      "1000 4177915 4641248\n",
      "(10000, 100, 4) (10000, 100, 4) (10000, 4)\n",
      "(1000, 100, 4) (1000, 100, 4) (1000, 4)\n",
      "Train on 9000 samples, validate on 1000 samples\n",
      "Epoch 1/100\n",
      "9000/9000 [==============================] - 8s 876us/step - loss: 1.3869 - acc: 0.2574 - val_loss: 1.3862 - val_acc: 0.2500\n",
      "Epoch 2/100\n",
      "9000/9000 [==============================] - 7s 747us/step - loss: 1.3859 - acc: 0.2580 - val_loss: 1.3862 - val_acc: 0.2510\n",
      "Epoch 00002: early stopping\n",
      "1000/1000 [==============================] - 0s 288us/step\n",
      "10000 653 4177361\n",
      "1000 4177670 4640923\n",
      "(10000, 100, 4) (10000, 100, 4) (10000, 4)\n",
      "(1000, 100, 4) (1000, 100, 4) (1000, 4)\n",
      "Train on 9000 samples, validate on 1000 samples\n",
      "Epoch 1/100\n",
      "9000/9000 [==============================] - 9s 951us/step - loss: 1.3866 - acc: 0.2436 - val_loss: 1.3863 - val_acc: 0.2470\n",
      "Epoch 2/100\n",
      "9000/9000 [==============================] - 6s 668us/step - loss: 1.3862 - acc: 0.2489 - val_loss: 1.3861 - val_acc: 0.2600\n",
      "Epoch 3/100\n",
      "9000/9000 [==============================] - 6s 709us/step - loss: 1.3842 - acc: 0.2606 - val_loss: 1.3829 - val_acc: 0.2970\n",
      "Epoch 4/100\n",
      "9000/9000 [==============================] - 6s 640us/step - loss: 1.3773 - acc: 0.2828 - val_loss: 1.3788 - val_acc: 0.2860\n",
      "Epoch 5/100\n",
      "9000/9000 [==============================] - 6s 717us/step - loss: 1.3673 - acc: 0.2919 - val_loss: 1.3816 - val_acc: 0.2920\n",
      "Epoch 00005: early stopping\n",
      "1000/1000 [==============================] - 0s 272us/step\n",
      "10000 1130 4177152\n",
      "1000 4177499 4641166\n",
      "(10000, 100, 4) (10000, 100, 4) (10000, 4)\n",
      "(1000, 100, 4) (1000, 100, 4) (1000, 4)\n",
      "Train on 9000 samples, validate on 1000 samples\n",
      "Epoch 1/100\n",
      "9000/9000 [==============================] - 9s 950us/step - loss: 1.3865 - acc: 0.2657 - val_loss: 1.3852 - val_acc: 0.2620\n",
      "Epoch 2/100\n",
      "9000/9000 [==============================] - 7s 737us/step - loss: 1.3815 - acc: 0.2729 - val_loss: 1.3854 - val_acc: 0.2500\n",
      "Epoch 00002: early stopping\n",
      "1000/1000 [==============================] - 0s 279us/step\n",
      "10000 465 4177192\n",
      "1000 4177820 4640492\n",
      "(10000, 100, 4) (10000, 100, 4) (10000, 4)\n",
      "(1000, 100, 4) (1000, 100, 4) (1000, 4)\n",
      "Train on 9000 samples, validate on 1000 samples\n",
      "Epoch 1/100\n",
      "9000/9000 [==============================] - 8s 930us/step - loss: 1.3869 - acc: 0.2567 - val_loss: 1.3859 - val_acc: 0.2720\n",
      "Epoch 2/100\n",
      "9000/9000 [==============================] - 6s 712us/step - loss: 1.3861 - acc: 0.2634 - val_loss: 1.3855 - val_acc: 0.2720\n",
      "Epoch 3/100\n",
      "9000/9000 [==============================] - 6s 674us/step - loss: 1.3860 - acc: 0.2626 - val_loss: 1.3855 - val_acc: 0.2730\n",
      "Epoch 4/100\n",
      "9000/9000 [==============================] - 6s 717us/step - loss: 1.3859 - acc: 0.2628 - val_loss: 1.3853 - val_acc: 0.2720\n",
      "Epoch 5/100\n",
      "9000/9000 [==============================] - 6s 702us/step - loss: 1.3859 - acc: 0.2632 - val_loss: 1.3853 - val_acc: 0.2720\n",
      "Epoch 6/100\n",
      "9000/9000 [==============================] - 7s 730us/step - loss: 1.3856 - acc: 0.2662 - val_loss: 1.3851 - val_acc: 0.2720\n",
      "Epoch 7/100\n",
      "9000/9000 [==============================] - 7s 740us/step - loss: 1.3856 - acc: 0.2657 - val_loss: 1.3846 - val_acc: 0.2700\n",
      "Epoch 8/100\n",
      "9000/9000 [==============================] - 6s 713us/step - loss: 1.3816 - acc: 0.2778 - val_loss: 1.3855 - val_acc: 0.2830\n",
      "Epoch 00008: early stopping\n",
      "1000/1000 [==============================] - 0s 201us/step\n",
      "10000 498 4177381\n",
      "1000 4178220 4640407\n",
      "(10000, 100, 4) (10000, 100, 4) (10000, 4)\n",
      "(1000, 100, 4) (1000, 100, 4) (1000, 4)\n",
      "Train on 9000 samples, validate on 1000 samples\n",
      "Epoch 1/100\n",
      "9000/9000 [==============================] - 8s 944us/step - loss: 1.3866 - acc: 0.2458 - val_loss: 1.3865 - val_acc: 0.2390\n",
      "Epoch 2/100\n",
      "9000/9000 [==============================] - 7s 724us/step - loss: 1.3864 - acc: 0.2546 - val_loss: 1.3864 - val_acc: 0.2390\n",
      "Epoch 3/100\n",
      "9000/9000 [==============================] - 6s 694us/step - loss: 1.3863 - acc: 0.2547 - val_loss: 1.3865 - val_acc: 0.2390\n",
      "Epoch 00003: early stopping\n",
      "1000/1000 [==============================] - 0s 203us/step\n",
      "10000 760 4177305\n",
      "1000 4178534 4641275\n",
      "(10000, 100, 4) (10000, 100, 4) (10000, 4)\n",
      "(1000, 100, 4) (1000, 100, 4) (1000, 4)\n",
      "Train on 9000 samples, validate on 1000 samples\n",
      "Epoch 1/100\n",
      "9000/9000 [==============================] - 8s 933us/step - loss: 1.3860 - acc: 0.2590 - val_loss: 1.3862 - val_acc: 0.2510\n",
      "Epoch 2/100\n",
      "9000/9000 [==============================] - 6s 710us/step - loss: 1.3814 - acc: 0.2724 - val_loss: 1.3834 - val_acc: 0.2570\n",
      "Epoch 3/100\n",
      "9000/9000 [==============================] - 6s 696us/step - loss: 1.3752 - acc: 0.2868 - val_loss: 1.3783 - val_acc: 0.2970\n",
      "Epoch 4/100\n",
      "9000/9000 [==============================] - 6s 659us/step - loss: 1.3653 - acc: 0.3091 - val_loss: 1.3779 - val_acc: 0.2930\n",
      "Epoch 5/100\n",
      "9000/9000 [==============================] - 6s 712us/step - loss: 1.3589 - acc: 0.3096 - val_loss: 1.3791 - val_acc: 0.2640\n",
      "Epoch 00005: early stopping\n",
      "1000/1000 [==============================] - 0s 279us/step\n",
      "10000 219 4177175\n",
      "1000 4177712 4640871\n",
      "(10000, 100, 4) (10000, 100, 4) (10000, 4)\n",
      "(1000, 100, 4) (1000, 100, 4) (1000, 4)\n",
      "Train on 9000 samples, validate on 1000 samples\n",
      "Epoch 1/100\n",
      "9000/9000 [==============================] - 9s 946us/step - loss: 1.3865 - acc: 0.2657 - val_loss: 1.3858 - val_acc: 0.2690\n",
      "Epoch 2/100\n",
      "9000/9000 [==============================] - 6s 706us/step - loss: 1.3812 - acc: 0.2891 - val_loss: 1.3832 - val_acc: 0.2890\n",
      "Epoch 3/100\n",
      "9000/9000 [==============================] - 6s 712us/step - loss: 1.3735 - acc: 0.2959 - val_loss: 1.3754 - val_acc: 0.3010\n",
      "Epoch 4/100\n",
      "9000/9000 [==============================] - 6s 711us/step - loss: 1.3646 - acc: 0.3069 - val_loss: 1.3788 - val_acc: 0.2960\n",
      "Epoch 00004: early stopping\n",
      "1000/1000 [==============================] - 0s 276us/step\n",
      "10000 337 4176983\n",
      "1000 4178869 4640916\n",
      "(10000, 100, 4) (10000, 100, 4) (10000, 4)\n",
      "(1000, 100, 4) (1000, 100, 4) (1000, 4)\n",
      "Train on 9000 samples, validate on 1000 samples\n",
      "Epoch 1/100\n",
      "9000/9000 [==============================] - 9s 962us/step - loss: 1.3867 - acc: 0.2512 - val_loss: 1.3866 - val_acc: 0.2270\n",
      "Epoch 2/100\n",
      "9000/9000 [==============================] - 7s 755us/step - loss: 1.3854 - acc: 0.2528 - val_loss: 1.3853 - val_acc: 0.2490\n",
      "Epoch 3/100\n",
      "9000/9000 [==============================] - 6s 697us/step - loss: 1.3814 - acc: 0.2721 - val_loss: 1.3805 - val_acc: 0.2700\n",
      "Epoch 4/100\n",
      "9000/9000 [==============================] - 6s 715us/step - loss: 1.3717 - acc: 0.2870 - val_loss: 1.3818 - val_acc: 0.2930\n",
      "Epoch 00004: early stopping\n",
      "1000/1000 [==============================] - 0s 281us/step\n",
      "10000 201 4176812\n",
      "1000 4177585 4640054\n",
      "(10000, 100, 4) (10000, 100, 4) (10000, 4)\n",
      "(1000, 100, 4) (1000, 100, 4) (1000, 4)\n",
      "Train on 9000 samples, validate on 1000 samples\n",
      "Epoch 1/100\n",
      "9000/9000 [==============================] - 9s 974us/step - loss: 1.3865 - acc: 0.2504 - val_loss: 1.3863 - val_acc: 0.2490\n",
      "Epoch 2/100\n",
      "9000/9000 [==============================] - 6s 701us/step - loss: 1.3862 - acc: 0.2583 - val_loss: 1.3864 - val_acc: 0.2490\n",
      "Epoch 00002: early stopping\n",
      "1000/1000 [==============================] - 0s 273us/step\n",
      "10000 280 4177371\n",
      "1000 4177548 4641305\n",
      "(10000, 100, 4) (10000, 100, 4) (10000, 4)\n",
      "(1000, 100, 4) (1000, 100, 4) (1000, 4)\n",
      "Train on 9000 samples, validate on 1000 samples\n",
      "Epoch 1/100\n",
      "9000/9000 [==============================] - 9s 1ms/step - loss: 1.3856 - acc: 0.2601 - val_loss: 1.3836 - val_acc: 0.2510\n",
      "Epoch 2/100\n",
      "9000/9000 [==============================] - 6s 716us/step - loss: 1.3819 - acc: 0.2644 - val_loss: 1.3792 - val_acc: 0.2510\n",
      "Epoch 3/100\n",
      "9000/9000 [==============================] - 6s 722us/step - loss: 1.3777 - acc: 0.2613 - val_loss: 1.3785 - val_acc: 0.2510\n",
      "Epoch 4/100\n",
      "9000/9000 [==============================] - 6s 714us/step - loss: 1.3716 - acc: 0.2664 - val_loss: 1.3819 - val_acc: 0.2830\n",
      "Epoch 00004: early stopping\n",
      "1000/1000 [==============================] - 0s 295us/step\n",
      "10000 340 4177331\n",
      "1000 4177736 4639393\n",
      "(10000, 100, 4) (10000, 100, 4) (10000, 4)\n",
      "(1000, 100, 4) (1000, 100, 4) (1000, 4)\n",
      "Train on 9000 samples, validate on 1000 samples\n",
      "Epoch 1/100\n",
      "9000/9000 [==============================] - 9s 1ms/step - loss: 1.3868 - acc: 0.2461 - val_loss: 1.3863 - val_acc: 0.2510\n",
      "Epoch 2/100\n",
      "9000/9000 [==============================] - 7s 733us/step - loss: 1.3865 - acc: 0.2523 - val_loss: 1.3862 - val_acc: 0.2490\n",
      "Epoch 3/100\n",
      "9000/9000 [==============================] - 7s 722us/step - loss: 1.3862 - acc: 0.2533 - val_loss: 1.3862 - val_acc: 0.2500\n",
      "Epoch 4/100\n",
      "9000/9000 [==============================] - 7s 729us/step - loss: 1.3862 - acc: 0.2526 - val_loss: 1.3862 - val_acc: 0.2500\n",
      "Epoch 00004: early stopping\n",
      "1000/1000 [==============================] - 0s 296us/step\n",
      "10000 1131 4177330\n",
      "1000 4177589 4641124\n",
      "(10000, 100, 4) (10000, 100, 4) (10000, 4)\n",
      "(1000, 100, 4) (1000, 100, 4) (1000, 4)\n",
      "Train on 9000 samples, validate on 1000 samples\n",
      "Epoch 1/100\n",
      "9000/9000 [==============================] - 10s 1ms/step - loss: 1.3866 - acc: 0.2484 - val_loss: 1.3862 - val_acc: 0.2500\n",
      "Epoch 2/100\n",
      "9000/9000 [==============================] - 7s 739us/step - loss: 1.3857 - acc: 0.2619 - val_loss: 1.3831 - val_acc: 0.2850\n",
      "Epoch 3/100\n",
      "9000/9000 [==============================] - 7s 755us/step - loss: 1.3806 - acc: 0.2693 - val_loss: 1.3821 - val_acc: 0.2660\n",
      "Epoch 4/100\n",
      "9000/9000 [==============================] - 7s 766us/step - loss: 1.3733 - acc: 0.2844 - val_loss: 1.3758 - val_acc: 0.3080\n",
      "Epoch 5/100\n",
      "9000/9000 [==============================] - 6s 716us/step - loss: 1.3725 - acc: 0.2894 - val_loss: 1.3742 - val_acc: 0.3080\n",
      "Epoch 6/100\n",
      "9000/9000 [==============================] - 7s 758us/step - loss: 1.3642 - acc: 0.2970 - val_loss: 1.3726 - val_acc: 0.3130\n",
      "Epoch 7/100\n",
      "9000/9000 [==============================] - 7s 750us/step - loss: 1.3594 - acc: 0.3018 - val_loss: 1.3741 - val_acc: 0.3150\n",
      "Epoch 00007: early stopping\n",
      "1000/1000 [==============================] - 0s 273us/step\n",
      "10000 1430 4176234\n",
      "1000 4177631 4640989\n",
      "(10000, 100, 4) (10000, 100, 4) (10000, 4)\n",
      "(1000, 100, 4) (1000, 100, 4) (1000, 4)\n",
      "Train on 9000 samples, validate on 1000 samples\n",
      "Epoch 1/100\n",
      "9000/9000 [==============================] - 10s 1ms/step - loss: 1.3867 - acc: 0.2562 - val_loss: 1.3860 - val_acc: 0.2590\n",
      "Epoch 2/100\n",
      "9000/9000 [==============================] - 7s 772us/step - loss: 1.3850 - acc: 0.2578 - val_loss: 1.3843 - val_acc: 0.2700\n",
      "Epoch 3/100\n",
      "9000/9000 [==============================] - 7s 735us/step - loss: 1.3816 - acc: 0.2561 - val_loss: 1.3871 - val_acc: 0.2820\n",
      "Epoch 00003: early stopping\n",
      "1000/1000 [==============================] - 0s 292us/step\n",
      "10000 1123 4176863\n",
      "1000 4177504 4641319\n",
      "(10000, 100, 4) (10000, 100, 4) (10000, 4)\n",
      "(1000, 100, 4) (1000, 100, 4) (1000, 4)\n",
      "Train on 9000 samples, validate on 1000 samples\n",
      "Epoch 1/100\n",
      "9000/9000 [==============================] - 10s 1ms/step - loss: 1.3865 - acc: 0.2510 - val_loss: 1.3857 - val_acc: 0.2580\n",
      "Epoch 2/100\n",
      "9000/9000 [==============================] - 7s 725us/step - loss: 1.3848 - acc: 0.2600 - val_loss: 1.3831 - val_acc: 0.2610\n",
      "Epoch 3/100\n",
      "9000/9000 [==============================] - 7s 750us/step - loss: 1.3805 - acc: 0.2683 - val_loss: 1.3809 - val_acc: 0.2710\n",
      "Epoch 4/100\n",
      "9000/9000 [==============================] - 7s 763us/step - loss: 1.3724 - acc: 0.2950 - val_loss: 1.3799 - val_acc: 0.2740\n",
      "Epoch 5/100\n",
      "9000/9000 [==============================] - 7s 727us/step - loss: 1.3635 - acc: 0.3037 - val_loss: 1.3784 - val_acc: 0.2710\n",
      "Epoch 6/100\n",
      "9000/9000 [==============================] - 6s 705us/step - loss: 1.3560 - acc: 0.3072 - val_loss: 1.3805 - val_acc: 0.2610\n",
      "Epoch 00006: early stopping\n",
      "1000/1000 [==============================] - 0s 301us/step\n",
      "10000 852 4177051\n",
      "1000 4177795 4640708\n",
      "(10000, 100, 4) (10000, 100, 4) (10000, 4)\n",
      "(1000, 100, 4) (1000, 100, 4) (1000, 4)\n",
      "Train on 9000 samples, validate on 1000 samples\n",
      "Epoch 1/100\n",
      "9000/9000 [==============================] - 10s 1ms/step - loss: 1.3867 - acc: 0.2451 - val_loss: 1.3865 - val_acc: 0.2370\n",
      "Epoch 2/100\n",
      "9000/9000 [==============================] - 7s 758us/step - loss: 1.3860 - acc: 0.2607 - val_loss: 1.3845 - val_acc: 0.2530\n",
      "Epoch 3/100\n",
      "9000/9000 [==============================] - 7s 741us/step - loss: 1.3827 - acc: 0.2642 - val_loss: 1.3821 - val_acc: 0.2690\n",
      "Epoch 4/100\n",
      "9000/9000 [==============================] - 7s 764us/step - loss: 1.3731 - acc: 0.2827 - val_loss: 1.3806 - val_acc: 0.2580\n",
      "Epoch 5/100\n",
      "9000/9000 [==============================] - 7s 724us/step - loss: 1.3636 - acc: 0.2920 - val_loss: 1.3701 - val_acc: 0.2900\n",
      "Epoch 6/100\n",
      "9000/9000 [==============================] - 7s 742us/step - loss: 1.3560 - acc: 0.2917 - val_loss: 1.3724 - val_acc: 0.3130\n",
      "Epoch 00006: early stopping\n",
      "1000/1000 [==============================] - 0s 315us/step\n",
      "10000 423 4177340\n",
      "1000 4177791 4640829\n",
      "(10000, 100, 4) (10000, 100, 4) (10000, 4)\n",
      "(1000, 100, 4) (1000, 100, 4) (1000, 4)\n",
      "Train on 9000 samples, validate on 1000 samples\n",
      "Epoch 1/100\n",
      "9000/9000 [==============================] - 10s 1ms/step - loss: 1.3866 - acc: 0.2499 - val_loss: 1.3863 - val_acc: 0.2520\n",
      "Epoch 2/100\n",
      "9000/9000 [==============================] - 7s 748us/step - loss: 1.3865 - acc: 0.2581 - val_loss: 1.3863 - val_acc: 0.2520\n",
      "Epoch 00002: early stopping\n",
      "1000/1000 [==============================] - 0s 319us/step\n",
      "10000 560 4177089\n",
      "1000 4177759 4641230\n",
      "(10000, 100, 4) (10000, 100, 4) (10000, 4)\n",
      "(1000, 100, 4) (1000, 100, 4) (1000, 4)\n",
      "Train on 9000 samples, validate on 1000 samples\n",
      "Epoch 1/100\n",
      "9000/9000 [==============================] - 11s 1ms/step - loss: 1.3869 - acc: 0.2504 - val_loss: 1.3865 - val_acc: 0.2480\n",
      "Epoch 2/100\n",
      "9000/9000 [==============================] - 7s 725us/step - loss: 1.3864 - acc: 0.2548 - val_loss: 1.3865 - val_acc: 0.2480\n",
      "Epoch 3/100\n",
      "9000/9000 [==============================] - 7s 755us/step - loss: 1.3863 - acc: 0.2549 - val_loss: 1.3866 - val_acc: 0.2480\n",
      "Epoch 00003: early stopping\n",
      "1000/1000 [==============================] - 0s 299us/step\n",
      "10000 1402 4177192\n",
      "1000 4177848 4641129\n",
      "(10000, 100, 4) (10000, 100, 4) (10000, 4)\n",
      "(1000, 100, 4) (1000, 100, 4) (1000, 4)\n",
      "Train on 9000 samples, validate on 1000 samples\n",
      "Epoch 1/100\n",
      "9000/9000 [==============================] - 10s 1ms/step - loss: 1.3867 - acc: 0.2454 - val_loss: 1.3860 - val_acc: 0.2770\n",
      "Epoch 2/100\n",
      "9000/9000 [==============================] - 7s 756us/step - loss: 1.3856 - acc: 0.2578 - val_loss: 1.3831 - val_acc: 0.2710\n",
      "Epoch 3/100\n",
      "9000/9000 [==============================] - 7s 768us/step - loss: 1.3807 - acc: 0.2706 - val_loss: 1.3822 - val_acc: 0.2730\n",
      "Epoch 4/100\n",
      "9000/9000 [==============================] - 7s 752us/step - loss: 1.3741 - acc: 0.2842 - val_loss: 1.3835 - val_acc: 0.2670\n",
      "Epoch 00004: early stopping\n",
      "1000/1000 [==============================] - 0s 307us/step\n",
      "10000 2029 4176718\n",
      "1000 4178108 4641063\n",
      "(10000, 100, 4) (10000, 100, 4) (10000, 4)\n",
      "(1000, 100, 4) (1000, 100, 4) (1000, 4)\n",
      "Train on 9000 samples, validate on 1000 samples\n",
      "Epoch 1/100\n",
      "9000/9000 [==============================] - 12s 1ms/step - loss: 1.3849 - acc: 0.2711 - val_loss: 1.3852 - val_acc: 0.2510\n",
      "Epoch 2/100\n",
      "9000/9000 [==============================] - 7s 780us/step - loss: 1.3799 - acc: 0.2711 - val_loss: 1.3807 - val_acc: 0.2590\n",
      "Epoch 3/100\n",
      "9000/9000 [==============================] - 7s 775us/step - loss: 1.3747 - acc: 0.2716 - val_loss: 1.3789 - val_acc: 0.2570\n",
      "Epoch 4/100\n",
      "9000/9000 [==============================] - 7s 762us/step - loss: 1.3689 - acc: 0.2770 - val_loss: 1.3803 - val_acc: 0.2540\n",
      "Epoch 00004: early stopping\n",
      "1000/1000 [==============================] - 0s 357us/step\n",
      "10000 727 4177249\n",
      "1000 4178424 4640006\n",
      "(10000, 100, 4) (10000, 100, 4) (10000, 4)\n",
      "(1000, 100, 4) (1000, 100, 4) (1000, 4)\n",
      "Train on 9000 samples, validate on 1000 samples\n",
      "Epoch 1/100\n",
      "9000/9000 [==============================] - 12s 1ms/step - loss: 1.3851 - acc: 0.2547 - val_loss: 1.3826 - val_acc: 0.2790\n",
      "Epoch 2/100\n",
      "9000/9000 [==============================] - 7s 768us/step - loss: 1.3762 - acc: 0.2853 - val_loss: 1.3714 - val_acc: 0.3180\n",
      "Epoch 3/100\n",
      "9000/9000 [==============================] - 7s 759us/step - loss: 1.3627 - acc: 0.3041 - val_loss: 1.3738 - val_acc: 0.3050\n",
      "Epoch 00003: early stopping\n",
      "1000/1000 [==============================] - 0s 266us/step\n",
      "10000 413 4176316\n",
      "1000 4177504 4641241\n",
      "(10000, 100, 4) (10000, 100, 4) (10000, 4)\n",
      "(1000, 100, 4) (1000, 100, 4) (1000, 4)\n",
      "Train on 9000 samples, validate on 1000 samples\n",
      "Epoch 1/100\n",
      "9000/9000 [==============================] - 11s 1ms/step - loss: 1.3868 - acc: 0.2526 - val_loss: 1.3858 - val_acc: 0.2670\n",
      "Epoch 2/100\n",
      "9000/9000 [==============================] - 7s 778us/step - loss: 1.3859 - acc: 0.2578 - val_loss: 1.3861 - val_acc: 0.2510\n",
      "Epoch 00002: early stopping\n",
      "1000/1000 [==============================] - 0s 359us/step\n",
      "10000 327 4177364\n",
      "1000 4177518 4641066\n",
      "(10000, 100, 4) (10000, 100, 4) (10000, 4)\n",
      "(1000, 100, 4) (1000, 100, 4) (1000, 4)\n",
      "Train on 9000 samples, validate on 1000 samples\n",
      "Epoch 1/100\n",
      "9000/9000 [==============================] - 12s 1ms/step - loss: 1.3865 - acc: 0.2488 - val_loss: 1.3855 - val_acc: 0.2430\n",
      "Epoch 2/100\n",
      "9000/9000 [==============================] - 7s 771us/step - loss: 1.3823 - acc: 0.2654 - val_loss: 1.3737 - val_acc: 0.2960\n",
      "Epoch 3/100\n",
      "9000/9000 [==============================] - 7s 777us/step - loss: 1.3721 - acc: 0.2818 - val_loss: 1.3678 - val_acc: 0.2950\n",
      "Epoch 4/100\n",
      "9000/9000 [==============================] - 7s 769us/step - loss: 1.3589 - acc: 0.2979 - val_loss: 1.3638 - val_acc: 0.3140\n",
      "Epoch 5/100\n",
      "9000/9000 [==============================] - 7s 809us/step - loss: 1.3510 - acc: 0.3032 - val_loss: 1.3603 - val_acc: 0.3140\n",
      "Epoch 6/100\n",
      "9000/9000 [==============================] - 7s 749us/step - loss: 1.3422 - acc: 0.3169 - val_loss: 1.3616 - val_acc: 0.3070\n",
      "Epoch 00006: early stopping\n",
      "1000/1000 [==============================] - 0s 316us/step\n",
      "10000 1161 4176824\n",
      "1000 4177490 4639726\n",
      "(10000, 100, 4) (10000, 100, 4) (10000, 4)\n",
      "(1000, 100, 4) (1000, 100, 4) (1000, 4)\n",
      "Train on 9000 samples, validate on 1000 samples\n",
      "Epoch 1/100\n",
      "9000/9000 [==============================] - 12s 1ms/step - loss: 1.3865 - acc: 0.2508 - val_loss: 1.3862 - val_acc: 0.2490\n",
      "Epoch 2/100\n",
      "9000/9000 [==============================] - 7s 781us/step - loss: 1.3860 - acc: 0.2457 - val_loss: 1.3866 - val_acc: 0.2470\n",
      "Epoch 00002: early stopping\n",
      "1000/1000 [==============================] - 0s 361us/step\n",
      "10000 521 4176757\n",
      "1000 4178775 4641176\n",
      "(10000, 100, 4) (10000, 100, 4) (10000, 4)\n",
      "(1000, 100, 4) (1000, 100, 4) (1000, 4)\n",
      "Train on 9000 samples, validate on 1000 samples\n",
      "Epoch 1/100\n",
      "9000/9000 [==============================] - 12s 1ms/step - loss: 1.3865 - acc: 0.2496 - val_loss: 1.3892 - val_acc: 0.2510\n",
      "Epoch 2/100\n",
      "9000/9000 [==============================] - 7s 748us/step - loss: 1.3850 - acc: 0.2598 - val_loss: 1.3859 - val_acc: 0.2460\n",
      "Epoch 3/100\n",
      "9000/9000 [==============================] - 7s 730us/step - loss: 1.3804 - acc: 0.2740 - val_loss: 1.3844 - val_acc: 0.2480\n",
      "Epoch 4/100\n",
      "9000/9000 [==============================] - 7s 785us/step - loss: 1.3766 - acc: 0.2744 - val_loss: 1.3834 - val_acc: 0.2710\n",
      "Epoch 5/100\n",
      "9000/9000 [==============================] - 7s 785us/step - loss: 1.3706 - acc: 0.2927 - val_loss: 1.3850 - val_acc: 0.2730\n",
      "Epoch 00005: early stopping\n",
      "1000/1000 [==============================] - 0s 328us/step\n",
      "10000 312 4175878\n",
      "1000 4177864 4640322\n",
      "(10000, 100, 4) (10000, 100, 4) (10000, 4)\n",
      "(1000, 100, 4) (1000, 100, 4) (1000, 4)\n",
      "Train on 9000 samples, validate on 1000 samples\n",
      "Epoch 1/100\n",
      "9000/9000 [==============================] - 12s 1ms/step - loss: 1.3864 - acc: 0.2573 - val_loss: 1.3864 - val_acc: 0.2500\n",
      "Epoch 2/100\n",
      "9000/9000 [==============================] - 7s 747us/step - loss: 1.3855 - acc: 0.2598 - val_loss: 1.3864 - val_acc: 0.2500\n",
      "Epoch 00002: early stopping\n",
      "1000/1000 [==============================] - 0s 261us/step\n",
      "10000 2218 4176535\n",
      "1000 4178239 4641183\n",
      "(10000, 100, 4) (10000, 100, 4) (10000, 4)\n",
      "(1000, 100, 4) (1000, 100, 4) (1000, 4)\n",
      "Train on 9000 samples, validate on 1000 samples\n",
      "Epoch 1/100\n",
      "9000/9000 [==============================] - 12s 1ms/step - loss: 1.3864 - acc: 0.2482 - val_loss: 1.3861 - val_acc: 0.2900\n",
      "Epoch 2/100\n",
      "9000/9000 [==============================] - 7s 771us/step - loss: 1.3846 - acc: 0.2572 - val_loss: 1.3809 - val_acc: 0.2730\n",
      "Epoch 3/100\n",
      "9000/9000 [==============================] - 7s 765us/step - loss: 1.3805 - acc: 0.2716 - val_loss: 1.3822 - val_acc: 0.2820\n",
      "Epoch 00003: early stopping\n",
      "1000/1000 [==============================] - 0s 349us/step\n",
      "10000 885 4177261\n",
      "1000 4177489 4641235\n",
      "(10000, 100, 4) (10000, 100, 4) (10000, 4)\n",
      "(1000, 100, 4) (1000, 100, 4) (1000, 4)\n",
      "Train on 9000 samples, validate on 1000 samples\n",
      "Epoch 1/100\n",
      "9000/9000 [==============================] - 12s 1ms/step - loss: 1.3863 - acc: 0.2611 - val_loss: 1.3845 - val_acc: 0.2810\n",
      "Epoch 2/100\n",
      "9000/9000 [==============================] - 6s 718us/step - loss: 1.3832 - acc: 0.2664 - val_loss: 1.3866 - val_acc: 0.2480\n",
      "Epoch 00002: early stopping\n",
      "1000/1000 [==============================] - 0s 311us/step\n",
      "10000 455 4177128\n",
      "1000 4178153 4640712\n",
      "(10000, 100, 4) (10000, 100, 4) (10000, 4)\n",
      "(1000, 100, 4) (1000, 100, 4) (1000, 4)\n",
      "Train on 9000 samples, validate on 1000 samples\n",
      "Epoch 1/100\n",
      "9000/9000 [==============================] - 13s 1ms/step - loss: 1.3863 - acc: 0.2510 - val_loss: 1.3856 - val_acc: 0.2780\n",
      "Epoch 2/100\n",
      "9000/9000 [==============================] - 7s 806us/step - loss: 1.3814 - acc: 0.2628 - val_loss: 1.3815 - val_acc: 0.2580\n",
      "Epoch 3/100\n",
      "9000/9000 [==============================] - 7s 775us/step - loss: 1.3782 - acc: 0.2684 - val_loss: 1.3818 - val_acc: 0.3070\n",
      "Epoch 00003: early stopping\n",
      "1000/1000 [==============================] - 0s 308us/step\n",
      "10000 1196 4176948\n",
      "1000 4177669 4640495\n",
      "(10000, 100, 4) (10000, 100, 4) (10000, 4)\n",
      "(1000, 100, 4) (1000, 100, 4) (1000, 4)\n",
      "Train on 9000 samples, validate on 1000 samples\n",
      "Epoch 1/100\n",
      "9000/9000 [==============================] - 13s 1ms/step - loss: 1.3869 - acc: 0.2478 - val_loss: 1.3863 - val_acc: 0.2350\n",
      "Epoch 2/100\n",
      "9000/9000 [==============================] - 7s 748us/step - loss: 1.3849 - acc: 0.2657 - val_loss: 1.3854 - val_acc: 0.2500\n",
      "Epoch 3/100\n",
      "9000/9000 [==============================] - 7s 805us/step - loss: 1.3796 - acc: 0.2737 - val_loss: 1.3805 - val_acc: 0.2820\n",
      "Epoch 4/100\n",
      "9000/9000 [==============================] - 7s 806us/step - loss: 1.3732 - acc: 0.2824 - val_loss: 1.3812 - val_acc: 0.2790\n",
      "Epoch 00004: early stopping\n",
      "1000/1000 [==============================] - 0s 339us/step\n",
      "10000 606 4176957\n",
      "1000 4177530 4641175\n",
      "(10000, 100, 4) (10000, 100, 4) (10000, 4)\n",
      "(1000, 100, 4) (1000, 100, 4) (1000, 4)\n",
      "Train on 9000 samples, validate on 1000 samples\n",
      "Epoch 1/100\n",
      "9000/9000 [==============================] - 13s 1ms/step - loss: 1.3866 - acc: 0.2597 - val_loss: 1.3849 - val_acc: 0.2790\n",
      "Epoch 2/100\n",
      "9000/9000 [==============================] - 7s 755us/step - loss: 1.3855 - acc: 0.2610 - val_loss: 1.3845 - val_acc: 0.2780\n",
      "Epoch 3/100\n",
      "9000/9000 [==============================] - 7s 801us/step - loss: 1.3815 - acc: 0.2706 - val_loss: 1.3808 - val_acc: 0.2770\n",
      "Epoch 4/100\n",
      "9000/9000 [==============================] - 7s 771us/step - loss: 1.3796 - acc: 0.2719 - val_loss: 1.3805 - val_acc: 0.2820\n",
      "Epoch 5/100\n",
      "9000/9000 [==============================] - 7s 788us/step - loss: 1.3731 - acc: 0.2744 - val_loss: 1.3760 - val_acc: 0.2900\n",
      "Epoch 6/100\n",
      "9000/9000 [==============================] - 7s 799us/step - loss: 1.3713 - acc: 0.2797 - val_loss: 1.3744 - val_acc: 0.2770\n",
      "Epoch 7/100\n",
      "9000/9000 [==============================] - 7s 832us/step - loss: 1.3668 - acc: 0.2910 - val_loss: 1.3732 - val_acc: 0.2760\n",
      "Epoch 8/100\n",
      "9000/9000 [==============================] - 7s 764us/step - loss: 1.3604 - acc: 0.3018 - val_loss: 1.3751 - val_acc: 0.2850\n",
      "Epoch 00008: early stopping\n",
      "1000/1000 [==============================] - 0s 326us/step\n"
     ]
    }
   ],
   "source": [
    "scores = [train(seq_np) for i in range(30)]  "
   ]
  },
  {
   "cell_type": "code",
   "execution_count": 29,
   "metadata": {
    "collapsed": false
   },
   "outputs": [
    {
     "data": {
      "text/plain": [
       "0.27073333333333333"
      ]
     },
     "execution_count": 29,
     "metadata": {},
     "output_type": "execute_result"
    }
   ],
   "source": [
    "np.mean(scores)"
   ]
  },
  {
   "cell_type": "code",
   "execution_count": 30,
   "metadata": {
    "collapsed": false
   },
   "outputs": [
    {
     "data": {
      "text/plain": [
       "0.020644504245816982"
      ]
     },
     "execution_count": 30,
     "metadata": {},
     "output_type": "execute_result"
    }
   ],
   "source": [
    "np.std(scores)"
   ]
  },
  {
   "cell_type": "code",
   "execution_count": 31,
   "metadata": {
    "collapsed": false
   },
   "outputs": [
    {
     "data": {
      "text/plain": [
       "0.23499999999999999"
      ]
     },
     "execution_count": 31,
     "metadata": {},
     "output_type": "execute_result"
    }
   ],
   "source": [
    "min(scores)"
   ]
  },
  {
   "cell_type": "code",
   "execution_count": 32,
   "metadata": {
    "collapsed": false
   },
   "outputs": [
    {
     "data": {
      "text/plain": [
       "0.312"
      ]
     },
     "execution_count": 32,
     "metadata": {},
     "output_type": "execute_result"
    }
   ],
   "source": [
    "max(scores)"
   ]
  },
  {
   "cell_type": "code",
   "execution_count": null,
   "metadata": {
    "collapsed": true
   },
   "outputs": [],
   "source": []
  }
 ],
 "metadata": {
  "anaconda-cloud": {},
  "kernelspec": {
   "display_name": "Python [default]",
   "language": "python",
   "name": "python3"
  },
  "language_info": {
   "codemirror_mode": {
    "name": "ipython",
    "version": 3
   },
   "file_extension": ".py",
   "mimetype": "text/x-python",
   "name": "python",
   "nbconvert_exporter": "python",
   "pygments_lexer": "ipython3",
   "version": "3.5.2"
  }
 },
 "nbformat": 4,
 "nbformat_minor": 2
}
