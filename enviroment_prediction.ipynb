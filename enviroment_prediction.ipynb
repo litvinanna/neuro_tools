{
 "cells": [
  {
   "cell_type": "code",
   "execution_count": 1,
   "metadata": {
    "collapsed": true
   },
   "outputs": [],
   "source": [
    "from Bio import SeqIO"
   ]
  },
  {
   "cell_type": "code",
   "execution_count": 2,
   "metadata": {
    "collapsed": true
   },
   "outputs": [],
   "source": [
    "# genome_file = \"../data/ecoli.genbank\"\n",
    "# genome_file_type = genome_file.split('.')[-1]\n",
    "\n",
    "genome_file = \"../data/ecoli.genbank\"\n",
    "genome_file_type = genome_file.split('.')[-1]"
   ]
  },
  {
   "cell_type": "code",
   "execution_count": 3,
   "metadata": {
    "collapsed": false
   },
   "outputs": [
    {
     "name": "stdout",
     "output_type": "stream",
     "text": [
      "read seq from file ../data/ecoli.genbank, length = 4641652\n"
     ]
    }
   ],
   "source": [
    "iterator = SeqIO.parse(genome_file, genome_file_type)\n",
    "record = next(iterator)\n",
    "length = len(record.seq)\n",
    "print(\"read seq from file {}, length = {}\".format(genome_file, length))"
   ]
  },
  {
   "cell_type": "code",
   "execution_count": 4,
   "metadata": {
    "collapsed": false
   },
   "outputs": [],
   "source": [
    "import numpy as np\n",
    "bases_dict     = {\"A\": 0, \"T\": 1, \"C\": 2, \"G\": 3}\n",
    "bases_list = [\"A\", \"T\", \"C\", \"G\"]\n",
    "bases_np        = {\n",
    "                    \"A\": np.array([1, 0, 0, 0], dtype = np.float32),\n",
    "                    \"T\": np.array([0, 1, 0, 0], dtype = np.float32),\n",
    "                    \"C\": np.array([0, 0, 1, 0], dtype = np.float32),\n",
    "                    \"G\": np.array([0, 0, 0, 1], dtype = np.float32)\n",
    "                    }\n",
    "\n",
    "seq_np = np.zeros((length, 4), dtype = np.float32) \n",
    "for index in range(length):\n",
    "    base = record.seq[index]\n",
    "    if base in bases_list:\n",
    "        channel = bases_dict[base]\n",
    "        seq_np[index, channel] = 1\n",
    "    else:\n",
    "        print(\"alternative base\")"
   ]
  },
  {
   "cell_type": "code",
   "execution_count": 5,
   "metadata": {
    "collapsed": false
   },
   "outputs": [
    {
     "data": {
      "text/plain": [
       "(4641652, 4)"
      ]
     },
     "execution_count": 5,
     "metadata": {},
     "output_type": "execute_result"
    }
   ],
   "source": [
    "seq_np.shape"
   ]
  },
  {
   "cell_type": "code",
   "execution_count": 6,
   "metadata": {
    "collapsed": false
   },
   "outputs": [],
   "source": [
    "test = 0.1\n",
    "train_ids = np.random.choice(int(length * (1-test)) - 300, 10000) + 200\n",
    "test_ids = np.random.choice(int(length * test) - 300, 1000) + int(length * (1-test))"
   ]
  },
  {
   "cell_type": "code",
   "execution_count": 7,
   "metadata": {
    "collapsed": false
   },
   "outputs": [
    {
     "name": "stdout",
     "output_type": "stream",
     "text": [
      "10000 552 4177340\n",
      "1000 4178236 4641246\n"
     ]
    }
   ],
   "source": [
    "print(len(train_ids), min(train_ids), max(train_ids))\n",
    "print(len(test_ids), min(test_ids), max(test_ids))"
   ]
  },
  {
   "cell_type": "code",
   "execution_count": 8,
   "metadata": {
    "collapsed": false
   },
   "outputs": [],
   "source": [
    "LENGTH = 100\n",
    "train1 = np.array([seq_np[x-LENGTH:x, ...] for x in train_ids])\n",
    "train2 = np.array([seq_np[x+1:x+LENGTH+1, ...] for x in train_ids])\n",
    "train_ans = np.array([seq_np[x, ...]  for x in train_ids])\n",
    "\n",
    "test1 = np.array([seq_np[x-LENGTH:x, ...] for x in test_ids])\n",
    "test2 = np.array([seq_np[x+1:x+LENGTH+1, ...] for x in test_ids])\n",
    "test_ans = np.array([seq_np[x, ...]  for x in test_ids])"
   ]
  },
  {
   "cell_type": "code",
   "execution_count": 9,
   "metadata": {
    "collapsed": false
   },
   "outputs": [
    {
     "name": "stdout",
     "output_type": "stream",
     "text": [
      "(10000, 100, 4) (10000, 100, 4) (10000, 4)\n",
      "(1000, 100, 4) (1000, 100, 4) (1000, 4)\n"
     ]
    }
   ],
   "source": [
    "print(train1.shape, train2.shape, train_ans.shape)\n",
    "print( test1.shape, test2.shape, test_ans.shape)"
   ]
  },
  {
   "cell_type": "code",
   "execution_count": 31,
   "metadata": {
    "collapsed": false
   },
   "outputs": [],
   "source": [
    "# import tensorflow as tf\n",
    "# sess = tf.Session(config=tf.ConfigProto(log_device_placement=True))"
   ]
  },
  {
   "cell_type": "code",
   "execution_count": 32,
   "metadata": {
    "collapsed": false
   },
   "outputs": [],
   "source": [
    "# from tensorflow.python.client import device_lib\n",
    "# print(device_lib.list_local_devices())"
   ]
  },
  {
   "cell_type": "code",
   "execution_count": 16,
   "metadata": {
    "collapsed": false
   },
   "outputs": [],
   "source": [
    "import keras\n",
    "from keras.models import Sequential\n",
    "from keras.layers import Conv1D, MaxPooling1D\n",
    "from keras.layers import Activation, Dropout, Flatten, Dense, Input\n",
    "from keras.layers.normalization import BatchNormalization\n",
    "from keras.models import Model\n",
    "\n",
    "\n",
    "def build_half_model():\n",
    "    model = Sequential()\n",
    "    \n",
    "    model.add(Conv1D(32, kernel_size=(3), input_shape=(LENGTH, 4)))\n",
    "    model.add(BatchNormalization())\n",
    "    model.add(Activation('relu'))\n",
    "\n",
    "    model.add(MaxPooling1D(pool_size=(2)))\n",
    "    \n",
    "    model.add(Conv1D(16, kernel_size=(3)))\n",
    "    model.add(BatchNormalization())\n",
    "    model.add(Activation('relu'))\n",
    "    \n",
    "    model.add(MaxPooling1D(pool_size=(2)))\n",
    "    \n",
    "    model.add(Conv1D(8, kernel_size=(3)))\n",
    "    model.add(BatchNormalization())\n",
    "    model.add(Activation('relu'))\n",
    "    \n",
    "    model.add(MaxPooling1D(pool_size=(2)))\n",
    "    \n",
    "    model.add(Conv1D(8, kernel_size=(3)))\n",
    "    model.add(BatchNormalization())\n",
    "    model.add(Activation('relu'))\n",
    "    \n",
    "    model.add(Conv1D(8, kernel_size=(3)))\n",
    "    model.add(BatchNormalization())\n",
    "    model.add(Activation('relu'))\n",
    "\n",
    "    \n",
    "    return model\n",
    "\n",
    "def create_model():\n",
    "    half1 = build_half_model()\n",
    "    half2 = build_half_model()\n",
    "\n",
    "    cur_layer = keras.layers.concatenate([half1.output, half2.output])\n",
    "\n",
    "    cur_layer = Flatten()(cur_layer)\n",
    "    cur_layer = Dense(8)(cur_layer)\n",
    "    cur_layer = Activation('relu')(cur_layer)\n",
    "    cur_layer = Dropout(0.4)(cur_layer)\n",
    "\n",
    "    cur_layer = Dense(8)(cur_layer)\n",
    "    cur_layer = Activation('relu')(cur_layer)\n",
    "    cur_layer = Dropout(0.4)(cur_layer)\n",
    "\n",
    "    cur_layer = Dense(4, kernel_initializer='normal', activation='sigmoid')(cur_layer)\n",
    "    \n",
    "    model = Model([half1.input, half2.input], cur_layer)\n",
    "    model.compile(loss='categorical_crossentropy', optimizer='adam', metrics=['accuracy'])\n",
    "    \n",
    "    return model\n",
    "\n",
    "model = create_model()\n",
    "# model.summary()"
   ]
  },
  {
   "cell_type": "code",
   "execution_count": 17,
   "metadata": {
    "collapsed": false
   },
   "outputs": [
    {
     "name": "stdout",
     "output_type": "stream",
     "text": [
      "1000/1000 [==============================] - 2s 2ms/step\n"
     ]
    },
    {
     "data": {
      "text/plain": [
       "[1.3862682170867919, 0.25800000000000001]"
      ]
     },
     "execution_count": 17,
     "metadata": {},
     "output_type": "execute_result"
    }
   ],
   "source": [
    "model.evaluate([test1, test2], test_ans)"
   ]
  },
  {
   "cell_type": "code",
   "execution_count": null,
   "metadata": {
    "collapsed": false
   },
   "outputs": [
    {
     "name": "stdout",
     "output_type": "stream",
     "text": [
      "10000/10000 [==============================] - 5s 506us/step\n"
     ]
    },
    {
     "data": {
      "text/plain": [
       "[1.3862791316986085, 0.2495]"
      ]
     },
     "execution_count": 18,
     "metadata": {},
     "output_type": "execute_result"
    }
   ],
   "source": [
    "model.evaluate([train1, train2], train_ans)"
   ]
  },
  {
   "cell_type": "code",
   "execution_count": 26,
   "metadata": {
    "collapsed": false
   },
   "outputs": [
    {
     "name": "stdout",
     "output_type": "stream",
     "text": [
      "Train on 9000 samples, validate on 1000 samples\n",
      "Epoch 1/100\n",
      "9000/9000 [==============================] - 20s 2ms/step - loss: 1.1336 - acc: 0.4533 - val_loss: 1.8540 - val_acc: 0.2690\n",
      "Epoch 2/100\n",
      "9000/9000 [==============================] - 19s 2ms/step - loss: 1.1240 - acc: 0.4639 - val_loss: 1.8352 - val_acc: 0.2580\n",
      "Epoch 3/100\n",
      "9000/9000 [==============================] - 20s 2ms/step - loss: 1.1241 - acc: 0.4667 - val_loss: 1.8276 - val_acc: 0.2490\n",
      "Epoch 4/100\n",
      "9000/9000 [==============================] - 20s 2ms/step - loss: 1.1180 - acc: 0.4668 - val_loss: 1.8120 - val_acc: 0.2560\n",
      "Epoch 5/100\n",
      "9000/9000 [==============================] - 20s 2ms/step - loss: 1.1110 - acc: 0.4691 - val_loss: 1.9211 - val_acc: 0.2620\n",
      "Epoch 6/100\n",
      "9000/9000 [==============================] - 19s 2ms/step - loss: 1.1192 - acc: 0.4650 - val_loss: 1.8836 - val_acc: 0.2710\n",
      "Epoch 7/100\n",
      "9000/9000 [==============================] - 20s 2ms/step - loss: 1.1125 - acc: 0.4696 - val_loss: 1.9701 - val_acc: 0.2570\n",
      "Epoch 8/100\n",
      "9000/9000 [==============================] - 20s 2ms/step - loss: 1.1097 - acc: 0.4673 - val_loss: 2.0255 - val_acc: 0.2660\n",
      "Epoch 9/100\n",
      "9000/9000 [==============================] - 20s 2ms/step - loss: 1.1136 - acc: 0.4659 - val_loss: 1.8844 - val_acc: 0.2640\n",
      "Epoch 10/100\n",
      "9000/9000 [==============================] - 20s 2ms/step - loss: 1.1159 - acc: 0.4692 - val_loss: 1.9214 - val_acc: 0.2540\n",
      "Epoch 11/100\n",
      "9000/9000 [==============================] - 21s 2ms/step - loss: 1.1178 - acc: 0.4662 - val_loss: 1.8702 - val_acc: 0.2630\n",
      "Epoch 12/100\n",
      "9000/9000 [==============================] - 20s 2ms/step - loss: 1.1180 - acc: 0.4661 - val_loss: 1.7919 - val_acc: 0.2730\n",
      "Epoch 13/100\n",
      "9000/9000 [==============================] - 20s 2ms/step - loss: 1.0988 - acc: 0.4761 - val_loss: 1.9687 - val_acc: 0.2660\n",
      "Epoch 14/100\n",
      "9000/9000 [==============================] - 20s 2ms/step - loss: 1.0984 - acc: 0.4740 - val_loss: 1.9218 - val_acc: 0.2730\n",
      "Epoch 15/100\n",
      "9000/9000 [==============================] - 20s 2ms/step - loss: 1.1079 - acc: 0.4706 - val_loss: 1.8566 - val_acc: 0.2700\n",
      "Epoch 16/100\n",
      "9000/9000 [==============================] - 20s 2ms/step - loss: 1.0962 - acc: 0.4736 - val_loss: 1.8914 - val_acc: 0.2540\n",
      "Epoch 17/100\n",
      "9000/9000 [==============================] - 20s 2ms/step - loss: 1.1099 - acc: 0.4730 - val_loss: 1.9375 - val_acc: 0.2620\n",
      "Epoch 18/100\n",
      "9000/9000 [==============================] - 19s 2ms/step - loss: 1.1149 - acc: 0.4700 - val_loss: 1.9648 - val_acc: 0.2550\n",
      "Epoch 19/100\n",
      "9000/9000 [==============================] - 20s 2ms/step - loss: 1.1103 - acc: 0.4710 - val_loss: 1.7831 - val_acc: 0.2600\n",
      "Epoch 20/100\n",
      "9000/9000 [==============================] - 20s 2ms/step - loss: 1.1038 - acc: 0.4689 - val_loss: 1.8936 - val_acc: 0.2700\n",
      "Epoch 21/100\n",
      "9000/9000 [==============================] - 20s 2ms/step - loss: 1.0977 - acc: 0.4731 - val_loss: 1.8014 - val_acc: 0.2570\n",
      "Epoch 22/100\n",
      "9000/9000 [==============================] - 20s 2ms/step - loss: 1.0918 - acc: 0.4760 - val_loss: 1.8901 - val_acc: 0.2690\n",
      "Epoch 23/100\n",
      "9000/9000 [==============================] - 20s 2ms/step - loss: 1.1066 - acc: 0.4700 - val_loss: 1.8771 - val_acc: 0.2600\n",
      "Epoch 24/100\n",
      "9000/9000 [==============================] - 20s 2ms/step - loss: 1.1023 - acc: 0.4743 - val_loss: 1.9529 - val_acc: 0.2670\n",
      "Epoch 25/100\n",
      "9000/9000 [==============================] - 20s 2ms/step - loss: 1.0968 - acc: 0.4751 - val_loss: 1.8147 - val_acc: 0.2700\n",
      "Epoch 26/100\n",
      "9000/9000 [==============================] - 20s 2ms/step - loss: 1.1037 - acc: 0.4723 - val_loss: 1.8828 - val_acc: 0.2610\n",
      "Epoch 27/100\n",
      "9000/9000 [==============================] - 19s 2ms/step - loss: 1.1047 - acc: 0.4740 - val_loss: 1.8858 - val_acc: 0.2600\n",
      "Epoch 28/100\n",
      "9000/9000 [==============================] - 20s 2ms/step - loss: 1.0971 - acc: 0.4776 - val_loss: 1.8760 - val_acc: 0.2640\n",
      "Epoch 29/100\n",
      "9000/9000 [==============================] - 19s 2ms/step - loss: 1.0941 - acc: 0.4754 - val_loss: 2.0159 - val_acc: 0.2630\n",
      "Epoch 30/100\n",
      "9000/9000 [==============================] - 20s 2ms/step - loss: 1.0957 - acc: 0.4773 - val_loss: 1.8892 - val_acc: 0.2620\n",
      "Epoch 31/100\n",
      "9000/9000 [==============================] - 20s 2ms/step - loss: 1.1047 - acc: 0.4693 - val_loss: 1.8922 - val_acc: 0.2620\n",
      "Epoch 32/100\n",
      "9000/9000 [==============================] - 20s 2ms/step - loss: 1.0922 - acc: 0.4772 - val_loss: 2.0504 - val_acc: 0.2610\n",
      "Epoch 33/100\n",
      "9000/9000 [==============================] - 20s 2ms/step - loss: 1.0921 - acc: 0.4753 - val_loss: 2.0008 - val_acc: 0.2730\n",
      "Epoch 34/100\n",
      "9000/9000 [==============================] - 20s 2ms/step - loss: 1.0844 - acc: 0.4782 - val_loss: 1.9678 - val_acc: 0.2680\n",
      "Epoch 35/100\n",
      "9000/9000 [==============================] - 20s 2ms/step - loss: 1.0809 - acc: 0.4823 - val_loss: 1.9543 - val_acc: 0.2740\n",
      "Epoch 36/100\n",
      "9000/9000 [==============================] - 20s 2ms/step - loss: 1.0718 - acc: 0.4913 - val_loss: 1.9970 - val_acc: 0.2680\n",
      "Epoch 37/100\n",
      "9000/9000 [==============================] - 19s 2ms/step - loss: 1.0661 - acc: 0.4904 - val_loss: 1.9400 - val_acc: 0.2650\n",
      "Epoch 38/100\n",
      "9000/9000 [==============================] - 20s 2ms/step - loss: 1.0940 - acc: 0.4819 - val_loss: 1.8801 - val_acc: 0.2540\n",
      "Epoch 39/100\n",
      "9000/9000 [==============================] - 20s 2ms/step - loss: 1.0954 - acc: 0.4809 - val_loss: 1.9077 - val_acc: 0.2530\n",
      "Epoch 40/100\n",
      "9000/9000 [==============================] - 20s 2ms/step - loss: 1.0878 - acc: 0.4813 - val_loss: 1.9327 - val_acc: 0.2640\n",
      "Epoch 41/100\n",
      "9000/9000 [==============================] - 20s 2ms/step - loss: 1.0864 - acc: 0.4813 - val_loss: 2.0560 - val_acc: 0.2610\n",
      "Epoch 42/100\n",
      "9000/9000 [==============================] - 20s 2ms/step - loss: 1.1090 - acc: 0.4744 - val_loss: 1.9608 - val_acc: 0.2490\n",
      "Epoch 43/100\n",
      "9000/9000 [==============================] - 19s 2ms/step - loss: 1.0928 - acc: 0.4800 - val_loss: 1.9305 - val_acc: 0.2490\n",
      "Epoch 44/100\n",
      "9000/9000 [==============================] - 20s 2ms/step - loss: 1.0807 - acc: 0.4826 - val_loss: 2.0342 - val_acc: 0.2530\n",
      "Epoch 45/100\n",
      "9000/9000 [==============================] - 20s 2ms/step - loss: 1.0759 - acc: 0.4880 - val_loss: 1.9584 - val_acc: 0.2640\n",
      "Epoch 46/100\n",
      "9000/9000 [==============================] - 20s 2ms/step - loss: 1.0779 - acc: 0.4858 - val_loss: 1.9584 - val_acc: 0.2660\n",
      "Epoch 47/100\n",
      "9000/9000 [==============================] - 20s 2ms/step - loss: 1.0923 - acc: 0.4811 - val_loss: 1.9068 - val_acc: 0.2690\n",
      "Epoch 48/100\n",
      "9000/9000 [==============================] - 20s 2ms/step - loss: 1.0876 - acc: 0.4792 - val_loss: 1.8416 - val_acc: 0.2740\n",
      "Epoch 49/100\n",
      "9000/9000 [==============================] - 20s 2ms/step - loss: 1.0790 - acc: 0.4902 - val_loss: 1.9248 - val_acc: 0.2580\n",
      "Epoch 50/100\n",
      "9000/9000 [==============================] - 20s 2ms/step - loss: 1.0788 - acc: 0.4863 - val_loss: 1.9132 - val_acc: 0.2670\n",
      "Epoch 51/100\n",
      "9000/9000 [==============================] - 20s 2ms/step - loss: 1.0632 - acc: 0.4952 - val_loss: 2.0227 - val_acc: 0.2580\n",
      "Epoch 52/100\n",
      "9000/9000 [==============================] - 20s 2ms/step - loss: 1.0661 - acc: 0.4918 - val_loss: 2.0831 - val_acc: 0.2530\n",
      "Epoch 53/100\n",
      "9000/9000 [==============================] - 20s 2ms/step - loss: 1.0685 - acc: 0.4872 - val_loss: 2.1802 - val_acc: 0.2580\n",
      "Epoch 54/100\n",
      "9000/9000 [==============================] - 20s 2ms/step - loss: 1.0789 - acc: 0.4866 - val_loss: 1.9809 - val_acc: 0.2620\n",
      "Epoch 55/100\n",
      "9000/9000 [==============================] - 20s 2ms/step - loss: 1.0840 - acc: 0.4848 - val_loss: 2.0133 - val_acc: 0.2700\n",
      "Epoch 56/100\n",
      "9000/9000 [==============================] - 20s 2ms/step - loss: 1.0633 - acc: 0.4937 - val_loss: 2.1321 - val_acc: 0.2580\n",
      "Epoch 57/100\n",
      "9000/9000 [==============================] - 20s 2ms/step - loss: 1.0671 - acc: 0.4922 - val_loss: 2.0394 - val_acc: 0.2460\n",
      "Epoch 58/100\n",
      "9000/9000 [==============================] - 20s 2ms/step - loss: 1.0715 - acc: 0.4923 - val_loss: 2.0170 - val_acc: 0.2640\n",
      "Epoch 59/100\n",
      "9000/9000 [==============================] - 20s 2ms/step - loss: 1.0706 - acc: 0.4900 - val_loss: 2.0789 - val_acc: 0.2480\n",
      "Epoch 60/100\n",
      "9000/9000 [==============================] - 20s 2ms/step - loss: 1.0815 - acc: 0.4911 - val_loss: 1.9883 - val_acc: 0.2670\n",
      "Epoch 61/100\n",
      "9000/9000 [==============================] - 20s 2ms/step - loss: 1.0760 - acc: 0.4902 - val_loss: 1.9984 - val_acc: 0.2590\n",
      "Epoch 62/100\n",
      "9000/9000 [==============================] - 20s 2ms/step - loss: 1.0699 - acc: 0.4938 - val_loss: 1.9979 - val_acc: 0.2680\n",
      "Epoch 63/100\n",
      "9000/9000 [==============================] - 20s 2ms/step - loss: 1.0639 - acc: 0.4968 - val_loss: 2.0331 - val_acc: 0.2710\n",
      "Epoch 64/100\n",
      "9000/9000 [==============================] - 20s 2ms/step - loss: 1.0564 - acc: 0.4959 - val_loss: 2.0620 - val_acc: 0.2610\n",
      "Epoch 65/100\n",
      "9000/9000 [==============================] - 18s 2ms/step - loss: 1.0632 - acc: 0.4938 - val_loss: 2.0989 - val_acc: 0.2680\n",
      "Epoch 66/100\n",
      "9000/9000 [==============================] - 20s 2ms/step - loss: 1.0736 - acc: 0.4949 - val_loss: 1.9850 - val_acc: 0.2740\n",
      "Epoch 67/100\n",
      "9000/9000 [==============================] - 20s 2ms/step - loss: 1.0846 - acc: 0.4878 - val_loss: 2.0359 - val_acc: 0.2580\n",
      "Epoch 68/100\n",
      "9000/9000 [==============================] - 20s 2ms/step - loss: 1.0781 - acc: 0.4882 - val_loss: 2.0292 - val_acc: 0.2600\n",
      "Epoch 69/100\n",
      "9000/9000 [==============================] - 20s 2ms/step - loss: 1.0848 - acc: 0.4924 - val_loss: 1.9840 - val_acc: 0.2600\n",
      "Epoch 70/100\n",
      "9000/9000 [==============================] - 20s 2ms/step - loss: 1.0495 - acc: 0.5026 - val_loss: 2.0231 - val_acc: 0.2580\n",
      "Epoch 71/100\n",
      "9000/9000 [==============================] - 19s 2ms/step - loss: 1.0452 - acc: 0.5050 - val_loss: 2.0630 - val_acc: 0.2720\n",
      "Epoch 72/100\n",
      "9000/9000 [==============================] - 20s 2ms/step - loss: 1.0674 - acc: 0.4963 - val_loss: 1.9209 - val_acc: 0.2730\n",
      "Epoch 73/100\n",
      "9000/9000 [==============================] - 20s 2ms/step - loss: 1.0543 - acc: 0.4994 - val_loss: 2.0478 - val_acc: 0.2590\n",
      "Epoch 74/100\n",
      "9000/9000 [==============================] - 20s 2ms/step - loss: 1.0522 - acc: 0.5036 - val_loss: 2.0381 - val_acc: 0.2640\n",
      "Epoch 75/100\n",
      "9000/9000 [==============================] - 20s 2ms/step - loss: 1.0645 - acc: 0.4947 - val_loss: 2.1216 - val_acc: 0.2680\n",
      "Epoch 76/100\n",
      "9000/9000 [==============================] - 20s 2ms/step - loss: 1.0484 - acc: 0.5063 - val_loss: 1.9742 - val_acc: 0.2650\n",
      "Epoch 77/100\n",
      "9000/9000 [==============================] - 20s 2ms/step - loss: 1.0576 - acc: 0.5010 - val_loss: 2.0612 - val_acc: 0.2610\n",
      "Epoch 78/100\n",
      "9000/9000 [==============================] - 19s 2ms/step - loss: 1.0503 - acc: 0.5060 - val_loss: 2.0618 - val_acc: 0.2640\n",
      "Epoch 79/100\n",
      "9000/9000 [==============================] - 20s 2ms/step - loss: 1.0523 - acc: 0.5044 - val_loss: 2.1784 - val_acc: 0.2700\n",
      "Epoch 80/100\n",
      "9000/9000 [==============================] - 20s 2ms/step - loss: 1.0574 - acc: 0.5024 - val_loss: 1.9617 - val_acc: 0.2520\n",
      "Epoch 81/100\n",
      "9000/9000 [==============================] - 20s 2ms/step - loss: 1.0550 - acc: 0.5012 - val_loss: 2.0517 - val_acc: 0.2580\n",
      "Epoch 82/100\n",
      "9000/9000 [==============================] - 20s 2ms/step - loss: 1.0517 - acc: 0.5058 - val_loss: 2.0853 - val_acc: 0.2510\n",
      "Epoch 83/100\n",
      "9000/9000 [==============================] - 20s 2ms/step - loss: 1.0511 - acc: 0.5039 - val_loss: 2.1584 - val_acc: 0.2470\n",
      "Epoch 84/100\n",
      "9000/9000 [==============================] - 20s 2ms/step - loss: 1.0502 - acc: 0.5024 - val_loss: 2.0367 - val_acc: 0.2640\n",
      "Epoch 85/100\n",
      "9000/9000 [==============================] - 20s 2ms/step - loss: 1.0580 - acc: 0.5019 - val_loss: 2.0629 - val_acc: 0.2510\n",
      "Epoch 86/100\n",
      "9000/9000 [==============================] - 20s 2ms/step - loss: 1.0588 - acc: 0.4984 - val_loss: 2.0285 - val_acc: 0.2580\n",
      "Epoch 87/100\n",
      "9000/9000 [==============================] - 20s 2ms/step - loss: 1.0511 - acc: 0.5052 - val_loss: 2.0708 - val_acc: 0.2470\n",
      "Epoch 88/100\n",
      "9000/9000 [==============================] - 20s 2ms/step - loss: 1.0313 - acc: 0.5110 - val_loss: 2.0549 - val_acc: 0.2490\n",
      "Epoch 89/100\n",
      "9000/9000 [==============================] - 20s 2ms/step - loss: 1.0472 - acc: 0.5059 - val_loss: 2.1191 - val_acc: 0.2520\n",
      "Epoch 90/100\n",
      "9000/9000 [==============================] - 20s 2ms/step - loss: 1.0623 - acc: 0.5004 - val_loss: 1.9873 - val_acc: 0.2460\n",
      "Epoch 91/100\n",
      "9000/9000 [==============================] - 19s 2ms/step - loss: 1.0465 - acc: 0.5083 - val_loss: 2.1593 - val_acc: 0.2520\n",
      "Epoch 92/100\n",
      "9000/9000 [==============================] - 20s 2ms/step - loss: 1.0461 - acc: 0.5048 - val_loss: 2.1219 - val_acc: 0.2470\n",
      "Epoch 93/100\n",
      "9000/9000 [==============================] - 20s 2ms/step - loss: 1.0431 - acc: 0.5062 - val_loss: 2.0459 - val_acc: 0.2550\n",
      "Epoch 94/100\n",
      "9000/9000 [==============================] - 20s 2ms/step - loss: 1.0655 - acc: 0.4972 - val_loss: 2.0703 - val_acc: 0.2680\n",
      "Epoch 95/100\n",
      "9000/9000 [==============================] - 20s 2ms/step - loss: 1.0684 - acc: 0.4950 - val_loss: 1.9348 - val_acc: 0.2620\n",
      "Epoch 96/100\n",
      "9000/9000 [==============================] - 20s 2ms/step - loss: 1.0464 - acc: 0.5073 - val_loss: 2.1082 - val_acc: 0.2460\n",
      "Epoch 97/100\n",
      "9000/9000 [==============================] - 20s 2ms/step - loss: 1.0397 - acc: 0.5120 - val_loss: 2.0881 - val_acc: 0.2580\n",
      "Epoch 98/100\n",
      "9000/9000 [==============================] - 20s 2ms/step - loss: 1.0431 - acc: 0.5039 - val_loss: 2.1389 - val_acc: 0.2540\n",
      "Epoch 99/100\n",
      "9000/9000 [==============================] - 20s 2ms/step - loss: 1.0366 - acc: 0.5104 - val_loss: 2.0972 - val_acc: 0.2600\n",
      "Epoch 100/100\n",
      "9000/9000 [==============================] - 20s 2ms/step - loss: 1.0436 - acc: 0.5089 - val_loss: 1.9963 - val_acc: 0.2660\n"
     ]
    }
   ],
   "source": [
    "history = model.fit([train1, train2], train_ans, epochs=100, validation_split = 0.1)   "
   ]
  },
  {
   "cell_type": "code",
   "execution_count": 27,
   "metadata": {
    "collapsed": false
   },
   "outputs": [
    {
     "data": {
      "image/png": "[encoded data removed]",
      "text/plain": [
       "<matplotlib.figure.Figure at 0x7f8434220f28>"
      ]
     },
     "metadata": {},
     "output_type": "display_data"
    },
    {
     "data": {
      "image/png": "[encoded data removed]",
      "text/plain": [
       "<matplotlib.figure.Figure at 0x7f84340e7080>"
      ]
     },
     "metadata": {},
     "output_type": "display_data"
    }
   ],
   "source": [
    "import matplotlib.pyplot as plt\n",
    "%matplotlib inline\n",
    "\n",
    "plt.plot(history.history['acc'])\n",
    "plt.plot(history.history['val_acc'])\n",
    "plt.title('Model accuracy')\n",
    "plt.ylabel('Accuracy')\n",
    "plt.xlabel('Epoch')\n",
    "plt.legend(['Train', 'Validation'], loc='upper left')\n",
    "plt.show()\n",
    "\n",
    "# Plot training & validation loss values\n",
    "plt.plot(history.history['loss'])\n",
    "plt.plot(history.history['val_loss'])\n",
    "plt.title('Model loss')\n",
    "plt.ylabel('Loss')\n",
    "plt.xlabel('Epoch')\n",
    "plt.legend(['Train', 'Validation'], loc='upper left')\n",
    "plt.show()"
   ]
  },
  {
   "cell_type": "code",
   "execution_count": 28,
   "metadata": {
    "collapsed": false
   },
   "outputs": [
    {
     "name": "stdout",
     "output_type": "stream",
     "text": [
      "10000/10000 [==============================] - 5s 498us/step\n",
      "[1.0847143198013305, 0.51139999999999997]\n",
      "1000/1000 [==============================] - 1s 522us/step\n",
      "[2.0490440807342529, 0.251]\n"
     ]
    }
   ],
   "source": [
    "print(model.evaluate([train1, train2], train_ans))\n",
    "print(model.evaluate([test1, test2], test_ans))"
   ]
  },
  {
   "cell_type": "code",
   "execution_count": 29,
   "metadata": {
    "collapsed": false
   },
   "outputs": [
    {
     "data": {
      "text/plain": [
       "0.26097000000000004"
      ]
     },
     "execution_count": 29,
     "metadata": {},
     "output_type": "execute_result"
    }
   ],
   "source": [
    "np.mean(history.history['val_acc'])"
   ]
  },
  {
   "cell_type": "code",
   "execution_count": 30,
   "metadata": {
    "collapsed": false
   },
   "outputs": [
    {
     "data": {
      "text/plain": [
       "0.0075451375070306114"
      ]
     },
     "execution_count": 30,
     "metadata": {},
     "output_type": "execute_result"
    }
   ],
   "source": [
    "np.std(history.history['val_acc'])"
   ]
  },
  {
   "cell_type": "code",
   "execution_count": null,
   "metadata": {
    "collapsed": true
   },
   "outputs": [],
   "source": []
  }
 ],
 "metadata": {
  "anaconda-cloud": {},
  "kernelspec": {
   "display_name": "Python [conda env:anaconda3]",
   "language": "python",
   "name": "conda-env-anaconda3-py"
  },
  "language_info": {
   "codemirror_mode": {
    "name": "ipython",
    "version": 3
   },
   "file_extension": ".py",
   "mimetype": "text/x-python",
   "name": "python",
   "nbconvert_exporter": "python",
   "pygments_lexer": "ipython3",
   "version": "3.5.2"
  }
 },
 "nbformat": 4,
 "nbformat_minor": 2
}
