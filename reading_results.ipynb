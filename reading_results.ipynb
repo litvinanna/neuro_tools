{
 "cells": [
  {
   "cell_type": "code",
   "execution_count": 6,
   "metadata": {},
   "outputs": [
    {
     "name": "stdout",
     "output_type": "stream",
     "text": [
      "03-16_16:07\n",
      "0500000_000000000_0.0-11.4_47592_AP018033.1_Mycobacterium_tuberculosis_DNA,_complete_genome,_strain:_HN-024\n",
      "skip_depth6,reflection,net,adam,noise,32,0.01,0.03,101,False,189300,[128, 128, 128],[128, 128, 128],[128, 128, 128],3,3,nearest,1,True,True,reflection,LeakyReLU\n",
      "skip_depth6,reflection,net,adam,noise,32,0.01,0.03,101,False,189300,[128, 128, 128],[128, 128, 128],[128, 128, 128],3,3,nearest,1,True,True,reflection,LeakyReLU\n",
      "skip_depth6,reflection,net,adam,noise,32,0.01,0.03,101,False,189300,[128, 128, 128],[128, 128, 128],[128, 128, 128],3,3,nearest,1,True,True,reflection,LeakyReLU\n",
      "skip_depth6,reflection,net,adam,noise,32,0.01,0.03,101,False,189300,[128, 128, 128],[128, 128, 128],[128, 128, 128],3,3,nearest,1,True,True,reflection,LeakyReLU\n",
      "skip_depth6,reflection,net,adam,noise,32,0.01,0.03,11,False,189300,[128, 128, 128],[128, 128, 128],[128, 128, 128],3,3,nearest,1,True,True,reflection,LeakyReLU\n"
     ]
    }
   ],
   "source": [
    "import numpy as np\n",
    "#загрузка нужных результатов предсказания\n",
    "path = \"/Users/pochtalionizm/Projects/neuro/neuro_tools/results/03-16_16:07_0.0-11.4_AP018033.1_Mycobacterium\"\n",
    "seq_np = np.load(path + \"/seq_np.npy\")\n",
    "mask = np.load(path + \"/mask.npy\")\n",
    "out_np = np.load(path + \"/00010_out_np.npy\")\n",
    "info = open(path + \"/info.txt\")\n",
    "for line in info.readlines():\n",
    "    print(line, end = \"\")\n",
    "info.close()"
   ]
  },
  {
   "cell_type": "code",
   "execution_count": null,
   "metadata": {},
   "outputs": [],
   "source": []
  },
  {
   "cell_type": "code",
   "execution_count": 3,
   "metadata": {},
   "outputs": [],
   "source": [
    "#функция сравнения\n",
    "def compare(seq_np, out_np):\n",
    "    if len(seq_np) != len(out_np):\n",
    "        print(\"error\")\n",
    "        return None\n",
    "    \n",
    "    length = len(seq_np[0])\n",
    "\n",
    "    out_array = np.zeros((4,length)) #array analog to seq_np\n",
    "    for i in range(length):\n",
    "        n = np.argmax(out_np[:, i])\n",
    "        out_array[n, i] = 1\n",
    "            \n",
    "    diff = np.zeros(length)\n",
    "    diff_discrete = np.zeros(length)\n",
    "    for i in range(length):\n",
    "        a = out_array[:, i]\n",
    "        b = seq_np[:, i]\n",
    "        r = np.linalg.norm(a-b)\n",
    "        diff[i] = r\n",
    "        if r > 1:\n",
    "            diff_discrete[i] = 1\n",
    "    return diff, diff_discrete"
   ]
  },
  {
   "cell_type": "code",
   "execution_count": 22,
   "metadata": {},
   "outputs": [],
   "source": [
    "#возвращает массив расстояний между исходником и предсказанием\n",
    "diff, diff_discrete = compare(seq_np, out_np)"
   ]
  },
  {
   "cell_type": "code",
   "execution_count": 23,
   "metadata": {},
   "outputs": [],
   "source": [
    "def generate_counter(diff, mask, coding = None):\n",
    "    if len(diff) != len(mask):\n",
    "        print(\"error in length\")\n",
    "        return None\n",
    "    length = len(diff)\n",
    "    length_mask = sum(mask)\n",
    "    \n",
    "    c = {}\n",
    "    c[\"all_mist\"] = sum(diff)\n",
    "    c[\"mask_mist\"] = sum(diff * mask)\n",
    "    c[\"free_mist\"] = sum(diff) - sum(diff * mask)\n",
    "\n",
    "    if c[\"all_mist\"] != c[\"mask_mist\"] + c[\"free_mist\"]:\n",
    "        print(\"error in counter\")\n",
    "    \n",
    "    c[\"mask_part\"] = c[\"mask_mist\"] / length_mask\n",
    "    c[\"free_part\"] = c[\"free_mist\"] / (length - length_mask)\n",
    "    \n",
    "       \n",
    "    if coding != None:\n",
    "        c[\"coding_mask\"] = sum(mask * coding)\n",
    "        c[\"noncoding_mask\"] = sum(mask) - sum(mask * coding)\n",
    "        \n",
    "        if c[\"coding_mask\"]+ c[\"noncoding_mask\"] != length_mask:\n",
    "            print(\"error in counter\")\n",
    "        \n",
    "        c[\"coding_mask_mist\"] = sum(diff * mask * coding)\n",
    "        c[\"noncoding_mask_mist\"] = sum(diff * mask) - sum(diff * mask * coding)\n",
    "        \n",
    "        if c[\"coding_mask_mist\"]+c[\"noncoding_mask_mist\"] != c[\"mask_mist\"]:\n",
    "            print(\"error in counter\")\n",
    "\n",
    "        c[\"coding_part\"] = c[\"coding_mask_mist\"] / c[\"coding_mask\"]\n",
    "        c[\"noncoding_part\"] = c[\"noncoding_mask_mist\"] / c[\"noncoding_mask\"]\n",
    "    \n",
    "    return c\n"
   ]
  },
  {
   "cell_type": "code",
   "execution_count": 24,
   "metadata": {},
   "outputs": [
    {
     "data": {
      "text/plain": [
       "{'all_mist': 4.0,\n",
       " 'mask_mist': 0.0,\n",
       " 'free_mist': 4.0,\n",
       " 'mask_part': 0.0,\n",
       " 'free_part': 8.840951286358412e-06}"
      ]
     },
     "execution_count": 24,
     "metadata": {},
     "output_type": "execute_result"
    }
   ],
   "source": [
    "generate_counter(diff_discrete, mask)"
   ]
  },
  {
   "cell_type": "code",
   "execution_count": 7,
   "metadata": {},
   "outputs": [],
   "source": [
    "import torch"
   ]
  },
  {
   "cell_type": "code",
   "execution_count": 11,
   "metadata": {},
   "outputs": [],
   "source": [
    "net = torch.load(path + \"/net.pty\")"
   ]
  },
  {
   "cell_type": "code",
   "execution_count": null,
   "metadata": {},
   "outputs": [],
   "source": []
  },
  {
   "cell_type": "code",
   "execution_count": null,
   "metadata": {},
   "outputs": [],
   "source": []
  },
  {
   "cell_type": "markdown",
   "metadata": {},
   "source": [
    "Про консервативность"
   ]
  },
  {
   "cell_type": "code",
   "execution_count": 1,
   "metadata": {},
   "outputs": [],
   "source": [
    "import pyBigWig\n",
    "import numpy as np"
   ]
  },
  {
   "cell_type": "code",
   "execution_count": 2,
   "metadata": {},
   "outputs": [],
   "source": [
    "#файл с треком генома человека сборка 38\n",
    "track_file = \"/Users/pochtalionizm/Projects/neuro/data/hg38.phastCons20way.bw\""
   ]
  },
  {
   "cell_type": "code",
   "execution_count": 3,
   "metadata": {},
   "outputs": [
    {
     "data": {
      "text/plain": [
       "242193529"
      ]
     },
     "execution_count": 3,
     "metadata": {},
     "output_type": "execute_result"
    }
   ],
   "source": [
    "bw = pyBigWig.open(track_file)\n",
    "bw.chroms()\n",
    "bw.chroms(\"chr2\")"
   ]
  },
  {
   "cell_type": "code",
   "execution_count": 50,
   "metadata": {},
   "outputs": [
    {
     "name": "stdout",
     "output_type": "stream",
     "text": [
      "2019-02-25_19:00:56\n",
      "skip_depth6,reflection,net,adam,noise,32,0.01,0.03,4001,True,646788\n",
      "0500000_007500000_3.1-3.3_47555_NC_000002.12_Homo_sapiens_chromosome_2,_GRCh38.p12_Primary_Assembly\n",
      "net = skip(input_depth, seq_np.shape[0], #change skip function in models/skip.py\n",
      "               num_channels_down = [128] * 3,\n",
      "               num_channels_up =   [128] * 3,\n",
      "               num_channels_skip =    [128] * 3,  \n",
      "               filter_size_up = 3, filter_size_down = 3, \n",
      "               upsample_mode='nearest', filter_skip_size=1,\n",
      "               need_sigmoid=True, need_bias=True, pad=pad, act_fun='LeakyReLU').type(dtype)"
     ]
    }
   ],
   "source": []
  },
  {
   "cell_type": "code",
   "execution_count": 51,
   "metadata": {},
   "outputs": [
    {
     "data": {
      "text/plain": [
       "500000"
      ]
     },
     "execution_count": 51,
     "metadata": {},
     "output_type": "execute_result"
    }
   ],
   "source": [
    "#выбор нужной части трека \n",
    "track_part = bw.values(\"chr2\", 6000000, 6500000, numpy = True)\n",
    "len(track_part)"
   ]
  },
  {
   "cell_type": "code",
   "execution_count": 52,
   "metadata": {},
   "outputs": [],
   "source": []
  },
  {
   "cell_type": "code",
   "execution_count": 53,
   "metadata": {},
   "outputs": [],
   "source": []
  },
  {
   "cell_type": "code",
   "execution_count": 54,
   "metadata": {},
   "outputs": [
    {
     "name": "stdout",
     "output_type": "stream",
     "text": [
      "seq length 500000\n",
      "mistakes 350126\n"
     ]
    }
   ],
   "source": [
    "print(\"seq length\", len(diff))\n",
    "print(\"mistakes\", sum([1 for x in diff if x > 0.01]))"
   ]
  },
  {
   "cell_type": "code",
   "execution_count": 55,
   "metadata": {},
   "outputs": [
    {
     "name": "stdout",
     "output_type": "stream",
     "text": [
      "500000\n",
      "500000\n"
     ]
    }
   ],
   "source": [
    "#выбираем часть под маской\n",
    "mask_diff = []\n",
    "mask_track_part = []\n",
    "free_diff = []\n",
    "free_track_part = []\n",
    "for i in range(len(diff)):\n",
    "    if not (isinstance(diff[i], float) or isinstance(track_part[i], float)):\n",
    "        print(\"None\")\n",
    "        \n",
    "    if mask[i]==1:\n",
    "        mask_diff.append(diff[i])\n",
    "        mask_track_part.append(track_part[i])\n",
    "    else:\n",
    "        free_diff.append(diff[i])\n",
    "        free_track_part.append(track_part[i])\n",
    "\n",
    "print(len(mask_diff) + len(free_diff))\n",
    "print(len(free_track_part) + len(mask_track_part))"
   ]
  },
  {
   "cell_type": "code",
   "execution_count": 56,
   "metadata": {},
   "outputs": [
    {
     "data": {
      "text/plain": [
       "1.4142135623730951"
      ]
     },
     "execution_count": 56,
     "metadata": {},
     "output_type": "execute_result"
    }
   ],
   "source": [
    "max(free_diff)"
   ]
  },
  {
   "cell_type": "code",
   "execution_count": 57,
   "metadata": {},
   "outputs": [
    {
     "data": {
      "image/png": "[encoded data removed]",
      "text/plain": [
       "<Figure size 432x288 with 1 Axes>"
      ]
     },
     "metadata": {
      "needs_background": "light"
     },
     "output_type": "display_data"
    }
   ],
   "source": [
    "import matplotlib.pyplot as plt\n",
    "# plt.plot(free_diff, free_track_part, \"r,\")\n",
    "plt.hist2d(free_diff, free_track_part, bins = [[0, 0.1, 1.3, max(free_diff)], np.arange(0, 1, 0.1)])\n",
    "plt.title(\"dot plot 'distanse vs. conservation' on train \")\n",
    "# plt.xlabel(\"distance\")\n",
    "# plt.ylabel(\"value of conservation\")\n",
    "plt.show()\n",
    "# plt.savefig(\"/Users/pochtalionizm/Projects/neuro/results/3/hist2d_1.png\")"
   ]
  },
  {
   "cell_type": "code",
   "execution_count": 58,
   "metadata": {},
   "outputs": [
    {
     "data": {
      "image/png": "[encoded data removed]",
      "text/plain": [
       "<Figure size 432x288 with 1 Axes>"
      ]
     },
     "metadata": {
      "needs_background": "light"
     },
     "output_type": "display_data"
    }
   ],
   "source": [
    "import matplotlib.pyplot as plt\n",
    "# plt.plot(mask_diff, mask_track_part, \"r,\")\n",
    "plt.hist2d(mask_diff, mask_track_part, bins = [[0, 0.1, 1.3, max(mask_diff)], np.arange(0, 1, 0.1)])\n",
    "plt.title(\"dot plot 'distanse vs. conservation' on test \")\n",
    "plt.xlabel(\"distance\")\n",
    "plt.ylabel(\"value of conservation\")\n",
    "plt.show()\n",
    "# plt.savefig(\"/Users/pochtalionizm/Projects/neuro/results/3/hist2d_2.png\")"
   ]
  },
  {
   "cell_type": "code",
   "execution_count": 59,
   "metadata": {},
   "outputs": [
    {
     "name": "stdout",
     "output_type": "stream",
     "text": [
      "14166\n",
      "47555\n"
     ]
    },
    {
     "data": {
      "image/png": "[encoded data removed]",
      "text/plain": [
       "<Figure size 432x288 with 1 Axes>"
      ]
     },
     "metadata": {
      "needs_background": "light"
     },
     "output_type": "display_data"
    }
   ],
   "source": [
    "track_mask_for_small_d = [mask_track_part[i] for i in range(len(mask_diff)) if mask_diff[i]-0.0<0.1 ]\n",
    "track_mask_for_big_d = [mask_track_part[i] for i in range(len(mask_diff)) if mask_diff[i]-1.4<0.1 ]\n",
    "print(len(track_mask_for_small_d ))\n",
    "print(len(track_mask_for_big_d))\n",
    "plt.hist([track_mask_for_small_d , track_mask_for_big_d ], color = ['green', 'blue'], density = True)\n",
    "plt.title(\"\")\n",
    "plt.show()"
   ]
  },
  {
   "cell_type": "code",
   "execution_count": 60,
   "metadata": {},
   "outputs": [
    {
     "name": "stdout",
     "output_type": "stream",
     "text": [
      "135708\n",
      "452445\n"
     ]
    },
    {
     "data": {
      "image/png": "[encoded data removed]",
      "text/plain": [
       "<Figure size 432x288 with 1 Axes>"
      ]
     },
     "metadata": {
      "needs_background": "light"
     },
     "output_type": "display_data"
    }
   ],
   "source": [
    "track_free_for_small_d = [free_track_part[i] for i in range(len(free_track_part)) if free_diff[i]-0.0<0.1 ]\n",
    "track_free_for_big_d = [free_track_part[i] for i in range(len(free_track_part)) if free_diff[i]-1.4<0.1 ]\n",
    "print(len(track_free_for_small_d))\n",
    "print(len(track_free_for_big_d))\n",
    "plt.hist([track_free_for_small_d, track_free_for_big_d, track_part], color = ['green', 'blue', \"red\"], density = True)\n",
    "plt.show()"
   ]
  },
  {
   "cell_type": "code",
   "execution_count": 61,
   "metadata": {},
   "outputs": [
    {
     "data": {
      "image/png": "[encoded data removed]",
      "text/plain": [
       "<Figure size 432x288 with 1 Axes>"
      ]
     },
     "metadata": {
      "needs_background": "light"
     },
     "output_type": "display_data"
    }
   ],
   "source": [
    "from matplotlib.patches import Rectangle\n",
    "c = ['g', 'b', 'r', 'y' , 'pink']\n",
    "plt.hist([track_free_for_small_d, track_free_for_big_d, track_mask_for_small_d, \n",
    "          track_mask_for_big_d, track_part], \n",
    "         color = c, density = True)\n",
    "\n",
    "handles = [Rectangle((0,0),1,1,color=col,ec=\"k\") for col in c]\n",
    "labels= ['train0','train1','test0', 'test1', 'all' ]\n",
    "plt.legend(handles, labels)\n",
    "plt.show()\n",
    "# plt.savefig(\"/Users/pochtalionizm/Projects/neuro/results/3/all_cons.png\")"
   ]
  },
  {
   "cell_type": "code",
   "execution_count": 21,
   "metadata": {},
   "outputs": [],
   "source": [
    "def plot_loss(path, save = False):\n",
    "    loss = np.load(path + \"/loss.npy\")\n",
    "    fig = plt.plot(loss)\n",
    "    plt.ylabel('loss')\n",
    "    plt.xlabel('iteration')\n",
    "    plt.tight_layout()\n",
    "#     if save:\n",
    "#         plt.savefig(\"pics/loss_{}.png\".format(self.file_title))\n",
    "    plt.show()"
   ]
  },
  {
   "cell_type": "code",
   "execution_count": 22,
   "metadata": {},
   "outputs": [
    {
     "ename": "ModuleNotFoundError",
     "evalue": "No module named 'torch'",
     "output_type": "error",
     "traceback": [
      "\u001b[0;31m---------------------------------------------------------------------------\u001b[0m",
      "\u001b[0;31mModuleNotFoundError\u001b[0m                       Traceback (most recent call last)",
      "\u001b[0;32m<ipython-input-22-fb62438d5dc0>\u001b[0m in \u001b[0;36m<module>\u001b[0;34m\u001b[0m\n\u001b[0;32m----> 1\u001b[0;31m \u001b[0mplot_loss\u001b[0m\u001b[0;34m(\u001b[0m\u001b[0mpath\u001b[0m\u001b[0;34m)\u001b[0m\u001b[0;34m\u001b[0m\u001b[0;34m\u001b[0m\u001b[0m\n\u001b[0m",
      "\u001b[0;32m<ipython-input-21-0d6cabbab942>\u001b[0m in \u001b[0;36mplot_loss\u001b[0;34m(path, save)\u001b[0m\n\u001b[1;32m      1\u001b[0m \u001b[0;32mdef\u001b[0m \u001b[0mplot_loss\u001b[0m\u001b[0;34m(\u001b[0m\u001b[0mpath\u001b[0m\u001b[0;34m,\u001b[0m \u001b[0msave\u001b[0m \u001b[0;34m=\u001b[0m \u001b[0;32mFalse\u001b[0m\u001b[0;34m)\u001b[0m\u001b[0;34m:\u001b[0m\u001b[0;34m\u001b[0m\u001b[0;34m\u001b[0m\u001b[0m\n\u001b[0;32m----> 2\u001b[0;31m     \u001b[0mloss\u001b[0m \u001b[0;34m=\u001b[0m \u001b[0mnp\u001b[0m\u001b[0;34m.\u001b[0m\u001b[0mload\u001b[0m\u001b[0;34m(\u001b[0m\u001b[0mpath\u001b[0m \u001b[0;34m+\u001b[0m \u001b[0;34m\"/loss.npy\"\u001b[0m\u001b[0;34m)\u001b[0m\u001b[0;34m\u001b[0m\u001b[0;34m\u001b[0m\u001b[0m\n\u001b[0m\u001b[1;32m      3\u001b[0m     \u001b[0mfig\u001b[0m \u001b[0;34m=\u001b[0m \u001b[0mplt\u001b[0m\u001b[0;34m.\u001b[0m\u001b[0mplot\u001b[0m\u001b[0;34m(\u001b[0m\u001b[0mloss\u001b[0m\u001b[0;34m)\u001b[0m\u001b[0;34m\u001b[0m\u001b[0;34m\u001b[0m\u001b[0m\n\u001b[1;32m      4\u001b[0m     \u001b[0mplt\u001b[0m\u001b[0;34m.\u001b[0m\u001b[0mylabel\u001b[0m\u001b[0;34m(\u001b[0m\u001b[0;34m'loss'\u001b[0m\u001b[0;34m)\u001b[0m\u001b[0;34m\u001b[0m\u001b[0;34m\u001b[0m\u001b[0m\n\u001b[1;32m      5\u001b[0m     \u001b[0mplt\u001b[0m\u001b[0;34m.\u001b[0m\u001b[0mxlabel\u001b[0m\u001b[0;34m(\u001b[0m\u001b[0;34m'iteration'\u001b[0m\u001b[0;34m)\u001b[0m\u001b[0;34m\u001b[0m\u001b[0;34m\u001b[0m\u001b[0m\n",
      "\u001b[0;32m/miniconda3/envs/bw/lib/python3.6/site-packages/numpy/lib/npyio.py\u001b[0m in \u001b[0;36mload\u001b[0;34m(file, mmap_mode, allow_pickle, fix_imports, encoding)\u001b[0m\n\u001b[1;32m    431\u001b[0m             \u001b[0;32melse\u001b[0m\u001b[0;34m:\u001b[0m\u001b[0;34m\u001b[0m\u001b[0;34m\u001b[0m\u001b[0m\n\u001b[1;32m    432\u001b[0m                 return format.read_array(fid, allow_pickle=allow_pickle,\n\u001b[0;32m--> 433\u001b[0;31m                                          pickle_kwargs=pickle_kwargs)\n\u001b[0m\u001b[1;32m    434\u001b[0m         \u001b[0;32melse\u001b[0m\u001b[0;34m:\u001b[0m\u001b[0;34m\u001b[0m\u001b[0;34m\u001b[0m\u001b[0m\n\u001b[1;32m    435\u001b[0m             \u001b[0;31m# Try a pickle\u001b[0m\u001b[0;34m\u001b[0m\u001b[0;34m\u001b[0m\u001b[0;34m\u001b[0m\u001b[0m\n",
      "\u001b[0;32m/miniconda3/envs/bw/lib/python3.6/site-packages/numpy/lib/format.py\u001b[0m in \u001b[0;36mread_array\u001b[0;34m(fp, allow_pickle, pickle_kwargs)\u001b[0m\n\u001b[1;32m    655\u001b[0m             \u001b[0mpickle_kwargs\u001b[0m \u001b[0;34m=\u001b[0m \u001b[0;34m{\u001b[0m\u001b[0;34m}\u001b[0m\u001b[0;34m\u001b[0m\u001b[0;34m\u001b[0m\u001b[0m\n\u001b[1;32m    656\u001b[0m         \u001b[0;32mtry\u001b[0m\u001b[0;34m:\u001b[0m\u001b[0;34m\u001b[0m\u001b[0;34m\u001b[0m\u001b[0m\n\u001b[0;32m--> 657\u001b[0;31m             \u001b[0marray\u001b[0m \u001b[0;34m=\u001b[0m \u001b[0mpickle\u001b[0m\u001b[0;34m.\u001b[0m\u001b[0mload\u001b[0m\u001b[0;34m(\u001b[0m\u001b[0mfp\u001b[0m\u001b[0;34m,\u001b[0m \u001b[0;34m**\u001b[0m\u001b[0mpickle_kwargs\u001b[0m\u001b[0;34m)\u001b[0m\u001b[0;34m\u001b[0m\u001b[0;34m\u001b[0m\u001b[0m\n\u001b[0m\u001b[1;32m    658\u001b[0m         \u001b[0;32mexcept\u001b[0m \u001b[0mUnicodeError\u001b[0m \u001b[0;32mas\u001b[0m \u001b[0merr\u001b[0m\u001b[0;34m:\u001b[0m\u001b[0;34m\u001b[0m\u001b[0;34m\u001b[0m\u001b[0m\n\u001b[1;32m    659\u001b[0m             \u001b[0;32mif\u001b[0m \u001b[0msys\u001b[0m\u001b[0;34m.\u001b[0m\u001b[0mversion_info\u001b[0m\u001b[0;34m[\u001b[0m\u001b[0;36m0\u001b[0m\u001b[0;34m]\u001b[0m \u001b[0;34m>=\u001b[0m \u001b[0;36m3\u001b[0m\u001b[0;34m:\u001b[0m\u001b[0;34m\u001b[0m\u001b[0;34m\u001b[0m\u001b[0m\n",
      "\u001b[0;31mModuleNotFoundError\u001b[0m: No module named 'torch'"
     ]
    }
   ],
   "source": [
    "plot_loss(path)"
   ]
  },
  {
   "cell_type": "code",
   "execution_count": null,
   "metadata": {},
   "outputs": [],
   "source": []
  }
 ],
 "metadata": {
  "kernelspec": {
   "display_name": "Python 3",
   "language": "python",
   "name": "python3"
  },
  "language_info": {
   "codemirror_mode": {
    "name": "ipython",
    "version": 3
   },
   "file_extension": ".py",
   "mimetype": "text/x-python",
   "name": "python",
   "nbconvert_exporter": "python",
   "pygments_lexer": "ipython3",
   "version": "3.7.1"
  }
 },
 "nbformat": 4,
 "nbformat_minor": 2
}
