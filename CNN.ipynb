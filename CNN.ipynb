{
 "cells": [
  {
   "cell_type": "markdown",
   "metadata": {},
   "source": [
    "## Подготовка данных"
   ]
  },
  {
   "cell_type": "code",
   "execution_count": 68,
   "metadata": {
    "collapsed": true
   },
   "outputs": [],
   "source": [
    "from data_loading import *\n",
    "import glob"
   ]
  },
  {
   "cell_type": "code",
   "execution_count": 69,
   "metadata": {
    "collapsed": false
   },
   "outputs": [],
   "source": [
    "# import tensorflow as tf\n",
    "# gpu_fraction = 0.5\n",
    "# gpu_options = tf.GPUOptions(per_process_gpu_memory_fraction=gpu_fraction)\n",
    "# sess = tf.Session(config=tf.ConfigProto(gpu_options=gpu_options))"
   ]
  },
  {
   "cell_type": "code",
   "execution_count": 154,
   "metadata": {
    "collapsed": false
   },
   "outputs": [
    {
     "name": "stdout",
     "output_type": "stream",
     "text": [
      "../results/cnn/2019-04-27-17-33/cnn_model_1_all_runs_p1_ecoli_100000_10000_06_0.pyob\n",
      "../results/cnn/2019-04-27-20-10/cnn_model_1_all_runs_p1_ecoli_100000_10000_12_0.pyob\n",
      "../results/cnn/2019-04-27-22-52/cnn_model_1_all_runs_p1_ecoli_100000_10000_24_0.pyob\n",
      "../results/cnn/2019-05-01-10-18/cnn_model_1_all_runs_p1_ecoli_100000_10000_50_0.pyob\n",
      "../results/cnn/2019-04-29-07-41/cnn_model_1_all_runs_p1_ecoli_100000_10000_6_01.pyob\n",
      "../results/cnn/2019-04-29-09-55/cnn_model_1_all_runs_p1_ecoli_100000_10000_6_02.pyob\n",
      "../results/cnn/2019-04-29-00-29/cnn_model_1_all_runs_p1_ecoli_100000_10000_6_03.pyob\n",
      "../results/cnn/2019-04-29-02-25/cnn_model_1_all_runs_p1_ecoli_100000_10000_6_06.pyob\n",
      "../results/cnn/2019-04-29-04-14/cnn_model_1_all_runs_p1_ecoli_100000_10000_6_12.pyob\n",
      "../results/cnn/2019-04-29-05-49/cnn_model_1_all_runs_p1_ecoli_100000_10000_6_50.pyob\n",
      "../results/cnn/2019-04-25-10-58/cnn_model_1_all_runs_p2_ecoli_100000_10000_12_0.pyob\n",
      "../results/cnn/2019-04-24-23-31/cnn_model_1_all_runs_p2_ecoli_100000_10000_12_0.pyob\n",
      "../results/cnn/2019-04-25-14-50/cnn_model_1_all_runs_p2_ecoli_100000_10000_24_0.pyob\n",
      "../results/cnn/2019-04-25-06-53/cnn_model_1_all_runs_p2_ecoli_100000_10000_6_0.pyob\n",
      "../results/cnn/2019-05-01-17-07/cnn_model_2_all_runs_p1_ecoli_100000_10000_06_00.pyob\n",
      "../results/cnn/2019-05-01-18-30/cnn_model_2_all_runs_p1_ecoli_100000_10000_12_00.pyob\n",
      "../results/cnn/2019-05-01-20-40/cnn_model_2_all_runs_p1_ecoli_100000_10000_24_00.pyob\n",
      "../results/cnn/2019-05-01-23-06/cnn_model_2_all_runs_p1_ecoli_100000_10000_50_00.pyob\n",
      "../results/cnn/2019-05-17-00-41/cnn_model_3_all_runs_p1_ecoli_100000_10000_12_00_cds_False.pyob\n",
      "../results/cnn/2019-05-17-11-15/cnn_model_3_all_runs_p2_ecoli_100000_10000_51_00_cds_False.pyob\n",
      "../results/cnn/2019-05-16-23-06/cnn_model_4_all_runs_p1_ecoli_100000_10000_12_00_cds_False.pyob\n",
      "../results/cnn/2019-05-17-20-34/cnn_model_5_all_runs_p1_ecoli_100000_10000_12_00_cds_False.pyob\n"
     ]
    }
   ],
   "source": [
    "s = [print(x) for x in sorted(glob.glob(\"../results/cnn/*/*all_runs*100000*\"), key = lambda x : x.split(\"/\")[-1])]"
   ]
  },
  {
   "cell_type": "code",
   "execution_count": 9,
   "metadata": {
    "collapsed": false
   },
   "outputs": [],
   "source": [
    "# data = generate_data(\"../results/ecoli_10000_1000\", 10, 0)[0]"
   ]
  },
  {
   "cell_type": "markdown",
   "metadata": {},
   "source": [
    "# Статистика"
   ]
  },
  {
   "cell_type": "code",
   "execution_count": 45,
   "metadata": {
    "collapsed": false,
    "scrolled": false
   },
   "outputs": [],
   "source": [
    "# a = glob.glob(\"../results/cnn/*/*all_runs_p1*100000*\")\n",
    "# [print(x) for x in a]\n",
    "\n",
    "# for path in a:\n",
    "#     train, val, test = plot_hist(path, funcs = [plt.ylim(0.25, 0.34)])"
   ]
  },
  {
   "cell_type": "code",
   "execution_count": 46,
   "metadata": {
    "collapsed": false,
    "scrolled": false
   },
   "outputs": [],
   "source": [
    "# a = glob.glob(\"../results/cnn/*/*all_runs_p1*100000*6_*\")\n",
    "# [print(x) for x in a]\n",
    "\n",
    "# for path in a:\n",
    "#     train, val, test = plot_hist(path, funcs = [plt.ylim(0.25, 0.34)])"
   ]
  },
  {
   "cell_type": "markdown",
   "metadata": {},
   "source": [
    "Простейшая сверточная модель с одним фильтром -- не учится\n",
    "Берем с  тремя"
   ]
  },
  {
   "cell_type": "markdown",
   "metadata": {},
   "source": [
    "# По кодонам с разной рамкой"
   ]
  },
  {
   "cell_type": "code",
   "execution_count": 125,
   "metadata": {
    "collapsed": false
   },
   "outputs": [
    {
     "name": "stdout",
     "output_type": "stream",
     "text": [
      "0 1 2 3 4 5 6 7 8 9 10 11 12 13 14 15 16 17 18 19 20 21 22 23 24 25 26 27 28 29 "
     ]
    }
   ],
   "source": [
    "from data_loading import *\n",
    "data_list = generate_data(\"../results/ecoli_100000_10000\", 50, 0)\n",
    "data = data_list[0]"
   ]
  },
  {
   "cell_type": "code",
   "execution_count": 130,
   "metadata": {
    "collapsed": false
   },
   "outputs": [],
   "source": [
    "import keras\n",
    "from keras.models import Sequential, Model\n",
    "from keras.layers import Dense, Conv1D, Flatten, Input, MaxPooling1D, Concatenate, Lambda\n",
    "from keras.callbacks import EarlyStopping\n",
    "# from keras.backend import concatenate\n",
    "\n",
    "def model_n(n, input_size):\n",
    "    inp = Input(shape=(input_size, 4))\n",
    "    x = Lambda(lambda x : x[:, n:, :])(inp)\n",
    "#     print(x.shape)\n",
    "    x = Conv1D(8, kernel_size=3, activation='relu', strides = 3)(x)\n",
    "#     print(x.shape)\n",
    "    x = Flatten()(x)\n",
    "    x = Dense(10, activation='softmax')(x)\n",
    "    \n",
    "    model = Model(inp, x)\n",
    "    \n",
    "    return model\n",
    "\n",
    "# model = model_n(3, 50)"
   ]
  },
  {
   "cell_type": "code",
   "execution_count": 131,
   "metadata": {
    "collapsed": false
   },
   "outputs": [],
   "source": [
    "def create_cnn_model_3(input_size = 50):\n",
    "    z1 = model_n(0, input_size)\n",
    "    z2 = model_n(1, input_size)\n",
    "    z3 = model_n(2, input_size)\n",
    "    \n",
    "    x = keras.layers.concatenate([z1.output, z2.output, z3.output])\n",
    "    x = Dense(4, activation='softmax')(x)\n",
    "    \n",
    "#     z1.input, z2.input, z3.input = inp, inp, inp\n",
    "\n",
    "    model = Model([z1.input, z2.input, z3.input], x)\n",
    "    model.compile(loss='categorical_crossentropy', optimizer='adam', metrics=['accuracy'])\n",
    "    return model\n",
    "\n",
    "model = create_cnn_model_3(50)\n",
    "# model.summary()"
   ]
  },
  {
   "cell_type": "code",
   "execution_count": 132,
   "metadata": {
    "collapsed": false
   },
   "outputs": [
    {
     "data": {
      "text/plain": [
       "((100000, 50, 4), (100000, 4))"
      ]
     },
     "execution_count": 132,
     "metadata": {},
     "output_type": "execute_result"
    }
   ],
   "source": [
    "data.train1.shape, data.train_ans.shape"
   ]
  },
  {
   "cell_type": "code",
   "execution_count": 133,
   "metadata": {
    "collapsed": false
   },
   "outputs": [
    {
     "name": "stdout",
     "output_type": "stream",
     "text": [
      "Train on 100000 samples, validate on 10000 samples\n",
      "Epoch 1/100\n",
      "100000/100000 [==============================] - 62s 622us/step - loss: 1.3681 - acc: 0.3071 - val_loss: 1.3500 - val_acc: 0.3282\n",
      "Epoch 2/100\n",
      "100000/100000 [==============================] - 61s 607us/step - loss: 1.3490 - acc: 0.3359 - val_loss: 1.3447 - val_acc: 0.3382\n",
      "Epoch 3/100\n",
      "100000/100000 [==============================] - 57s 571us/step - loss: 1.3426 - acc: 0.3449 - val_loss: 1.3445 - val_acc: 0.3415\n",
      "Epoch 4/100\n",
      "100000/100000 [==============================] - 60s 595us/step - loss: 1.3392 - acc: 0.3497 - val_loss: 1.3415 - val_acc: 0.3418\n",
      "Epoch 5/100\n",
      "100000/100000 [==============================] - 60s 603us/step - loss: 1.3362 - acc: 0.3516 - val_loss: 1.3404 - val_acc: 0.3439\n",
      "Epoch 6/100\n",
      "100000/100000 [==============================] - 61s 606us/step - loss: 1.3338 - acc: 0.3548 - val_loss: 1.3393 - val_acc: 0.3458\n",
      "Epoch 7/100\n",
      "100000/100000 [==============================] - 64s 643us/step - loss: 1.3316 - acc: 0.3578 - val_loss: 1.3406 - val_acc: 0.3461\n",
      "Epoch 8/100\n",
      "100000/100000 [==============================] - 67s 674us/step - loss: 1.3296 - acc: 0.3600 - val_loss: 1.3435 - val_acc: 0.3388\n",
      "Epoch 9/100\n",
      "100000/100000 [==============================] - 62s 625us/step - loss: 1.3275 - acc: 0.3607 - val_loss: 1.3433 - val_acc: 0.3419\n",
      "Epoch 00009: early stopping\n"
     ]
    }
   ],
   "source": [
    "es = EarlyStopping(monitor='val_loss', verbose=1, patience=3)\n",
    "history = model.fit([data.train1, data.train1, data.train1], data.train_ans, \n",
    "                    epochs=100,verbose = 1, callbacks = [es], \n",
    "                    validation_data = ([data.validate1, data.validate1, data.validate1], data.validate_ans))"
   ]
  },
  {
   "cell_type": "code",
   "execution_count": 135,
   "metadata": {
    "collapsed": false
   },
   "outputs": [
    {
     "name": "stdout",
     "output_type": "stream",
     "text": [
      "10000/10000 [==============================] - 2s 219us/step\n"
     ]
    },
    {
     "data": {
      "text/plain": [
       "[1.3512953676223756, 0.3425]"
      ]
     },
     "execution_count": 135,
     "metadata": {},
     "output_type": "execute_result"
    }
   ],
   "source": [
    "model.evaluate([data.test1, data.test1, data.test1], data.test_ans)"
   ]
  },
  {
   "cell_type": "code",
   "execution_count": 137,
   "metadata": {
    "collapsed": false
   },
   "outputs": [
    {
     "name": "stderr",
     "output_type": "stream",
     "text": [
      "/home/bvdmitri/anaconda3/lib/python3.5/site-packages/matplotlib/figure.py:459: UserWarning: matplotlib is currently using a non-GUI backend, so cannot show the figure\n",
      "  \"matplotlib is currently using a non-GUI backend, \"\n",
      "/home/bvdmitri/anaconda3/lib/python3.5/site-packages/matplotlib/font_manager.py:1328: UserWarning: findfont: Font family ['serif'] not found. Falling back to DejaVu Sans\n",
      "  (prop.get_family(), self.defaultFamily[fontext]))\n"
     ]
    },
    {
     "data": {
      "image/png": "[encoded data removed]",
      "text/plain": [
       "<Figure size 720x216 with 2 Axes>"
      ]
     },
     "metadata": {},
     "output_type": "display_data"
    }
   ],
   "source": [
    "import matplotlib.pyplot as plt\n",
    "%matplotlib inline\n",
    "plot_history(history.history)"
   ]
  },
  {
   "cell_type": "markdown",
   "metadata": {},
   "source": [
    "Модель пожирнее"
   ]
  },
  {
   "cell_type": "code",
   "execution_count": 138,
   "metadata": {
    "collapsed": false
   },
   "outputs": [
    {
     "name": "stdout",
     "output_type": "stream",
     "text": [
      "Train on 100000 samples, validate on 10000 samples\n",
      "Epoch 1/100\n",
      "100000/100000 [==============================] - 108s 1ms/step - loss: 1.3714 - acc: 0.2971 - val_loss: 1.3543 - val_acc: 0.3274\n",
      "Epoch 2/100\n",
      "100000/100000 [==============================] - 104s 1ms/step - loss: 1.3524 - acc: 0.3295 - val_loss: 1.3456 - val_acc: 0.3323\n",
      "Epoch 3/100\n",
      "100000/100000 [==============================] - 105s 1ms/step - loss: 1.3471 - acc: 0.3371 - val_loss: 1.3415 - val_acc: 0.3397\n",
      "Epoch 4/100\n",
      "100000/100000 [==============================] - 105s 1ms/step - loss: 1.3435 - acc: 0.3430 - val_loss: 1.3419 - val_acc: 0.3381\n",
      "Epoch 5/100\n",
      "100000/100000 [==============================] - 106s 1ms/step - loss: 1.3392 - acc: 0.3498 - val_loss: 1.3443 - val_acc: 0.3389\n",
      "Epoch 6/100\n",
      "100000/100000 [==============================] - 105s 1ms/step - loss: 1.3364 - acc: 0.3526 - val_loss: 1.3397 - val_acc: 0.3447\n",
      "Epoch 7/100\n",
      "100000/100000 [==============================] - 102s 1ms/step - loss: 1.3339 - acc: 0.3553 - val_loss: 1.3387 - val_acc: 0.3478\n",
      "Epoch 8/100\n",
      "100000/100000 [==============================] - 102s 1ms/step - loss: 1.3319 - acc: 0.3572 - val_loss: 1.3399 - val_acc: 0.3406\n",
      "Epoch 9/100\n",
      "100000/100000 [==============================] - 100s 1ms/step - loss: 1.3298 - acc: 0.3591 - val_loss: 1.3407 - val_acc: 0.3433\n",
      "Epoch 10/100\n",
      "100000/100000 [==============================] - 104s 1ms/step - loss: 1.3278 - acc: 0.3612 - val_loss: 1.3396 - val_acc: 0.3431\n",
      "Epoch 00010: early stopping\n"
     ]
    }
   ],
   "source": [
    "def model_n(n, input_size):\n",
    "    inp = Input(shape=(input_size, 4))\n",
    "    x = Lambda(lambda x : x[:, n:, :])(inp)\n",
    "#     print(x.shape)\n",
    "    x = Conv1D(16, kernel_size=3, activation='relu', strides = 3)(x)\n",
    "    x = Conv1D(8, kernel_size=3, activation='relu')(x)\n",
    "#     print(x.shape)\n",
    "    x = Flatten()(x)\n",
    "    x = Dense(10, activation='softmax')(x)\n",
    "    \n",
    "    model = Model(inp, x)\n",
    "    \n",
    "    return model\n",
    "def create_cnn_model_3(input_size = 50):\n",
    "    z1 = model_n(0, input_size)\n",
    "    z2 = model_n(1, input_size)\n",
    "    z3 = model_n(2, input_size)\n",
    "    \n",
    "    x = keras.layers.concatenate([z1.output, z2.output, z3.output])\n",
    "    x = Dense(4, activation='softmax')(x)\n",
    "    \n",
    "#     z1.input, z2.input, z3.input = inp, inp, inp\n",
    "\n",
    "    model = Model([z1.input, z2.input, z3.input], x)\n",
    "    model.compile(loss='categorical_crossentropy', optimizer='adam', metrics=['accuracy'])\n",
    "    return model\n",
    "\n",
    "model = create_cnn_model_3(50)\n",
    "\n",
    "es = EarlyStopping(monitor='val_loss', verbose=1, patience=3)\n",
    "history = model.fit([data.train1, data.train1, data.train1], data.train_ans, \n",
    "                    epochs=100,verbose = 1, callbacks = [es], \n",
    "                    validation_data = ([data.validate1, data.validate1, data.validate1], data.validate_ans))"
   ]
  },
  {
   "cell_type": "code",
   "execution_count": 139,
   "metadata": {
    "collapsed": false
   },
   "outputs": [
    {
     "name": "stdout",
     "output_type": "stream",
     "text": [
      "10000/10000 [==============================] - 3s 279us/step\n"
     ]
    },
    {
     "data": {
      "text/plain": [
       "[1.3503364151000976, 0.3444]"
      ]
     },
     "execution_count": 139,
     "metadata": {},
     "output_type": "execute_result"
    }
   ],
   "source": [
    "model.evaluate([data.test1, data.test1, data.test1], data.test_ans)"
   ]
  },
  {
   "cell_type": "code",
   "execution_count": null,
   "metadata": {
    "collapsed": true
   },
   "outputs": [],
   "source": []
  },
  {
   "cell_type": "code",
   "execution_count": null,
   "metadata": {
    "collapsed": true
   },
   "outputs": [],
   "source": []
  },
  {
   "cell_type": "code",
   "execution_count": 5,
   "metadata": {
    "collapsed": false
   },
   "outputs": [
    {
     "name": "stdout",
     "output_type": "stream",
     "text": [
      "0 "
     ]
    }
   ],
   "source": [
    "from data_loading import *\n",
    "data_list = generate_data(\"../results/ecoli_100000_10000\", 50, 0, t = 1)\n",
    "data = data_list[0]"
   ]
  },
  {
   "cell_type": "code",
   "execution_count": 29,
   "metadata": {
    "collapsed": false
   },
   "outputs": [],
   "source": [
    "import keras\n",
    "from keras.models import Sequential, Model\n",
    "from keras.layers import Dense, Conv1D, Flatten, Input, MaxPooling1D, Concatenate, Lambda\n",
    "from keras.callbacks import EarlyStopping\n",
    "\n",
    "def create_cnn_model_5(input_size = 10):\n",
    "    inp = Input(shape=(input_size, 4))\n",
    "    x = Conv1D(64, kernel_size= 3, activation='relu', padding = \"same\")(inp)\n",
    "    x = MaxPooling1D(3)(x)\n",
    "#     x = Conv1D(8, kernel_size= 3, activation='relu', padding = \"same\")(x)\n",
    "    x = Flatten()(x)\n",
    "    x = Dense(4, activation='softmax')(x)\n",
    "    model = Model(inp, x)\n",
    "    model.compile(loss='categorical_crossentropy', optimizer='adam', metrics=['accuracy'])\n",
    "    return model"
   ]
  },
  {
   "cell_type": "code",
   "execution_count": 30,
   "metadata": {
    "collapsed": false
   },
   "outputs": [
    {
     "name": "stdout",
     "output_type": "stream",
     "text": [
      "_________________________________________________________________\n",
      "Layer (type)                 Output Shape              Param #   \n",
      "=================================================================\n",
      "input_10 (InputLayer)        (None, 50, 4)             0         \n",
      "_________________________________________________________________\n",
      "conv1d_16 (Conv1D)           (None, 50, 64)            832       \n",
      "_________________________________________________________________\n",
      "max_pooling1d_8 (MaxPooling1 (None, 16, 64)            0         \n",
      "_________________________________________________________________\n",
      "flatten_9 (Flatten)          (None, 1024)              0         \n",
      "_________________________________________________________________\n",
      "dense_9 (Dense)              (None, 4)                 4100      \n",
      "=================================================================\n",
      "Total params: 4,932\n",
      "Trainable params: 4,932\n",
      "Non-trainable params: 0\n",
      "_________________________________________________________________\n"
     ]
    }
   ],
   "source": [
    "model = create_cnn_model_5(50)\n",
    "model.summary()"
   ]
  },
  {
   "cell_type": "code",
   "execution_count": null,
   "metadata": {
    "collapsed": false
   },
   "outputs": [
    {
     "name": "stdout",
     "output_type": "stream",
     "text": [
      "Train on 100000 samples, validate on 10000 samples\n",
      "Epoch 1/100\n",
      " 62240/100000 [=================>............] - ETA: 16s - loss: 1.3859 - acc: 0.2702"
     ]
    }
   ],
   "source": [
    "es = EarlyStopping(monitor='val_loss', verbose=1, patience=1)\n",
    "history = model.fit(data.train1, data.train_ans, \n",
    "                    epochs=100,verbose = 1, callbacks = [es], \n",
    "                    validation_data = (data.validate1, data.validate_ans))"
   ]
  },
  {
   "cell_type": "code",
   "execution_count": null,
   "metadata": {
    "collapsed": true
   },
   "outputs": [],
   "source": []
  },
  {
   "cell_type": "markdown",
   "metadata": {},
   "source": []
  },
  {
   "cell_type": "markdown",
   "metadata": {},
   "source": [
    "# Статистика"
   ]
  },
  {
   "cell_type": "code",
   "execution_count": 72,
   "metadata": {
    "collapsed": false
   },
   "outputs": [
    {
     "name": "stdout",
     "output_type": "stream",
     "text": [
      "../results/cnn/2019-04-27-17-33/cnn_model_1_all_runs_p1_ecoli_100000_10000_06_0.pyob\n",
      "../results/cnn/2019-04-27-20-10/cnn_model_1_all_runs_p1_ecoli_100000_10000_12_0.pyob\n",
      "../results/cnn/2019-04-27-22-52/cnn_model_1_all_runs_p1_ecoli_100000_10000_24_0.pyob\n",
      "../results/cnn/2019-05-01-10-18/cnn_model_1_all_runs_p1_ecoli_100000_10000_50_0.pyob\n",
      "../results/cnn/2019-04-29-07-41/cnn_model_1_all_runs_p1_ecoli_100000_10000_6_01.pyob\n",
      "../results/cnn/2019-04-29-09-55/cnn_model_1_all_runs_p1_ecoli_100000_10000_6_02.pyob\n",
      "../results/cnn/2019-04-29-00-29/cnn_model_1_all_runs_p1_ecoli_100000_10000_6_03.pyob\n",
      "../results/cnn/2019-04-29-02-25/cnn_model_1_all_runs_p1_ecoli_100000_10000_6_06.pyob\n",
      "../results/cnn/2019-04-29-04-14/cnn_model_1_all_runs_p1_ecoli_100000_10000_6_12.pyob\n",
      "../results/cnn/2019-04-29-05-49/cnn_model_1_all_runs_p1_ecoli_100000_10000_6_50.pyob\n",
      "../results/cnn/2019-04-25-10-58/cnn_model_1_all_runs_p2_ecoli_100000_10000_12_0.pyob\n",
      "../results/cnn/2019-04-24-23-31/cnn_model_1_all_runs_p2_ecoli_100000_10000_12_0.pyob\n",
      "../results/cnn/2019-04-25-14-50/cnn_model_1_all_runs_p2_ecoli_100000_10000_24_0.pyob\n",
      "../results/cnn/2019-04-25-06-53/cnn_model_1_all_runs_p2_ecoli_100000_10000_6_0.pyob\n",
      "../results/cnn/2019-05-01-17-07/cnn_model_2_all_runs_p1_ecoli_100000_10000_06_00.pyob\n",
      "../results/cnn/2019-05-01-18-30/cnn_model_2_all_runs_p1_ecoli_100000_10000_12_00.pyob\n",
      "../results/cnn/2019-05-01-20-40/cnn_model_2_all_runs_p1_ecoli_100000_10000_24_00.pyob\n",
      "../results/cnn/2019-05-01-23-06/cnn_model_2_all_runs_p1_ecoli_100000_10000_50_00.pyob\n"
     ]
    }
   ],
   "source": [
    "import glob\n",
    "a = [print(x) for x in sorted(glob.glob(\"../results/cnn/*/*all_runs*100000*\"),key = lambda x : x.split(\"/\")[-1])]\n"
   ]
  },
  {
   "cell_type": "code",
   "execution_count": null,
   "metadata": {
    "collapsed": true
   },
   "outputs": [],
   "source": []
  },
  {
   "cell_type": "code",
   "execution_count": 148,
   "metadata": {
    "collapsed": false
   },
   "outputs": [
    {
     "name": "stdout",
     "output_type": "stream",
     "text": [
      "file ../results/cnn/2019-04-27-17-33/cnn_model_1_all_runs_p1_ecoli_100000_10000_06_0.pyob\n",
      "file ../results/cnn/2019-04-29-07-41/cnn_model_1_all_runs_p1_ecoli_100000_10000_6_01.pyob\n",
      "file ../results/cnn/2019-04-29-09-55/cnn_model_1_all_runs_p1_ecoli_100000_10000_6_02.pyob\n",
      "file ../results/cnn/2019-04-29-00-29/cnn_model_1_all_runs_p1_ecoli_100000_10000_6_03.pyob\n",
      "file ../results/cnn/2019-04-29-02-25/cnn_model_1_all_runs_p1_ecoli_100000_10000_6_06.pyob\n",
      "file ../results/cnn/2019-04-29-04-14/cnn_model_1_all_runs_p1_ecoli_100000_10000_6_12.pyob\n",
      "file ../results/cnn/2019-04-29-05-49/cnn_model_1_all_runs_p1_ecoli_100000_10000_6_50.pyob\n",
      "30 30 30 30 30 30 30 "
     ]
    },
    {
     "name": "stderr",
     "output_type": "stream",
     "text": [
      "/home/bvdmitri/anaconda3/lib/python3.5/site-packages/matplotlib/font_manager.py:1328: UserWarning: findfont: Font family ['serif'] not found. Falling back to DejaVu Sans\n",
      "  (prop.get_family(), self.defaultFamily[fontext]))\n"
     ]
    },
    {
     "data": {
      "image/png": "[encoded data removed]",
      "text/plain": [
       "<Figure size 432x288 with 1 Axes>"
      ]
     },
     "metadata": {},
     "output_type": "display_data"
    }
   ],
   "source": [
    "from data_loading import *\n",
    "import matplotlib.pyplot as plt\n",
    "%matplotlib inline\n",
    "\n",
    "test_list = [test_accs(x) for x in sorted(glob.glob(\"../results/cnn/*/*1_all_runs_p1*100000*6_*\"), key = lambda x : x.split(\"/\")[-1])]\n",
    "\n",
    "[print(len(x), end = \" \") for x in test_list]\n",
    "\n",
    "from matplotlib import rc\n",
    "rc('font',**{'family':'serif','serif':['Computer Modern Roman'], 'weight' : 200, 'size'   : 20})\n",
    "# rc('font',**{'family':'serif','serif':['Times'], 'weight' : 700, 'size'   : 26})\n",
    "rc('text', usetex=True)\n",
    "\n",
    "plt.ylim(0.23, 0.34)\n",
    "plt.hlines(0.25, 0, 8, color = 'red', linewidth = 2)\n",
    "plt.boxplot(test_list,\n",
    "            medianprops=dict(color=\"black\", linewidth = 2),\n",
    "            boxprops=dict(linewidth = 2),\n",
    "            capprops=dict(linewidth = 2),\n",
    "            whiskerprops=dict(linewidth = 2),)\n",
    "\n",
    "plt.xticks(range(1,8), (0, 1, 2, 3, 6, 12, 50))\n",
    "plt.ylabel(\"accuracy\")\n",
    "plt.xlabel(\"shift value\")\n",
    "plt.title(\"CNN model 1\")\n",
    "plt.savefig(\"../results/pics/cnn_model_1_all_runs_p1_ecoli_100000_10000_6_all.png\", dpi=300, bbox_inches='tight')\n",
    "plt.show()"
   ]
  },
  {
   "cell_type": "code",
   "execution_count": 53,
   "metadata": {
    "collapsed": false
   },
   "outputs": [
    {
     "name": "stdout",
     "output_type": "stream",
     "text": [
      "file ../results/cnn/2019-04-27-17-33/cnn_model_1_all_runs_p1_ecoli_100000_10000_06_0.pyob\n",
      "file ../results/cnn/2019-04-27-20-10/cnn_model_1_all_runs_p1_ecoli_100000_10000_12_0.pyob\n",
      "file ../results/cnn/2019-04-27-22-52/cnn_model_1_all_runs_p1_ecoli_100000_10000_24_0.pyob\n",
      "file ../results/cnn/2019-05-01-10-18/cnn_model_1_all_runs_p1_ecoli_100000_10000_50_0.pyob\n",
      "30 30 30 30 "
     ]
    },
    {
     "name": "stderr",
     "output_type": "stream",
     "text": [
      "/home/bvdmitri/anaconda3/lib/python3.5/site-packages/matplotlib/font_manager.py:1328: UserWarning: findfont: Font family ['serif'] not found. Falling back to DejaVu Sans\n",
      "  (prop.get_family(), self.defaultFamily[fontext]))\n"
     ]
    },
    {
     "data": {
      "image/png": "[encoded data removed]",
      "text/plain": [
       "<Figure size 432x288 with 1 Axes>"
      ]
     },
     "metadata": {},
     "output_type": "display_data"
    }
   ],
   "source": [
    "from data_loading import *\n",
    "import matplotlib.pyplot as plt\n",
    "%matplotlib inline\n",
    "\n",
    "test_list = [test_accs(x) for x in sorted(glob.glob(\"../results/cnn/*/*1_all_runs_p1*100000*_0.*\"), key = lambda x : x.split(\"/\")[-1])]\n",
    "\n",
    "[print(len(x), end = \" \") for x in test_list]\n",
    "\n",
    "from matplotlib import rc\n",
    "rc('font',**{'family':'serif','serif':['Computer Modern Roman'], 'weight' : 200, 'size'   : 20})\n",
    "# rc('font',**{'family':'serif','serif':['Times'], 'weight' : 700, 'size'   : 26})\n",
    "rc('text', usetex=True)\n",
    "\n",
    "# plt.hlines(0.25, 0, 4, color = 'red', linewidth = 2)\n",
    "plt.ylim(0.29, 0.35)\n",
    "plt.boxplot(test_list,\n",
    "            medianprops=dict(color=\"black\", linewidth = 2),\n",
    "            boxprops=dict(linewidth = 2),\n",
    "            capprops=dict(linewidth = 2),\n",
    "            whiskerprops=dict(linewidth = 2),)\n",
    "\n",
    "plt.xticks(range(1,5), (6, 12, 24, 50))\n",
    "plt.ylabel(\"accuracy\")\n",
    "plt.xlabel(\"predictor size\")\n",
    "plt.title(\"CNN model 1 (kernel = 3)\")\n",
    "\n",
    "plt.plot([1, 3], [0.344, 0.344], marker=\"|\", linewidth = 0.5, color = \"black\")\n",
    "plt.text(2-0.12, 0.343, \"**\")\n",
    "\n",
    "plt.savefig(\"../results/pics/cnn_model_1_all_runs_p1_ecoli_100000_10000_all_0.png\", dpi=300, bbox_inches='tight')\n",
    "plt.show()"
   ]
  },
  {
   "cell_type": "code",
   "execution_count": 52,
   "metadata": {
    "collapsed": false
   },
   "outputs": [
    {
     "name": "stdout",
     "output_type": "stream",
     "text": [
      "WilcoxonResult(statistic=116.0, pvalue=0.01656266342484228)\n",
      "MannwhitneyuResult(statistic=275.5, pvalue=0.005045887446977393)\n",
      "MannwhitneyuResult(statistic=229.0, pvalue=0.0005568613899056913)\n"
     ]
    }
   ],
   "source": [
    "with open(\"../results/cnn/2019-04-27-17-33/cnn_model_1_all_runs_p1_ecoli_100000_10000_06_0.pyob\", \"rb\") as file:\n",
    "    test6, x = pickle.load(file)\n",
    "with open(\"../results/cnn/2019-04-27-22-52/cnn_model_1_all_runs_p1_ecoli_100000_10000_24_0.pyob\", \"rb\") as file:\n",
    "    test24, x = pickle.load(file)  \n",
    "with open(\"../results/cnn/2019-05-01-10-18/cnn_model_1_all_runs_p1_ecoli_100000_10000_50_0.pyob\", \"rb\") as file:\n",
    "    test50, x = pickle.load(file)  \n",
    "    \n",
    "print(scipy.stats.wilcoxon(test6, test24))\n",
    "print(scipy.stats.mannwhitneyu(test6, test24))\n",
    "print(scipy.stats.mannwhitneyu(test6, test50))"
   ]
  },
  {
   "cell_type": "code",
   "execution_count": 84,
   "metadata": {
    "collapsed": false
   },
   "outputs": [
    {
     "name": "stdout",
     "output_type": "stream",
     "text": [
      "file ../results/cnn/2019-05-01-17-07/cnn_model_2_all_runs_p1_ecoli_100000_10000_06_00.pyob\n",
      "file ../results/cnn/2019-05-01-18-30/cnn_model_2_all_runs_p1_ecoli_100000_10000_12_00.pyob\n",
      "file ../results/cnn/2019-05-01-20-40/cnn_model_2_all_runs_p1_ecoli_100000_10000_24_00.pyob\n",
      "file ../results/cnn/2019-05-01-23-06/cnn_model_2_all_runs_p1_ecoli_100000_10000_50_00.pyob\n",
      "30 30 30 30 "
     ]
    },
    {
     "name": "stderr",
     "output_type": "stream",
     "text": [
      "/home/bvdmitri/anaconda3/lib/python3.5/site-packages/matplotlib/font_manager.py:1328: UserWarning: findfont: Font family ['serif'] not found. Falling back to DejaVu Sans\n",
      "  (prop.get_family(), self.defaultFamily[fontext]))\n"
     ]
    },
    {
     "data": {
      "image/png": "[encoded data removed]",
      "text/plain": [
       "<Figure size 432x288 with 1 Axes>"
      ]
     },
     "metadata": {},
     "output_type": "display_data"
    }
   ],
   "source": [
    "from data_loading import *\n",
    "import matplotlib.pyplot as plt\n",
    "%matplotlib inline\n",
    "\n",
    "test_list = [test_accs(x) for x in sorted(glob.glob(\"../results/cnn/*/*2_all_runs_p1*100000*_00.*\"), key = lambda x : x.split(\"/\")[-1])]\n",
    "\n",
    "[print(len(x), end = \" \") for x in test_list]\n",
    "\n",
    "from matplotlib import rc\n",
    "rc('font',**{'family':'serif','serif':['Computer Modern Roman'], 'weight' : 200, 'size'   : 20})\n",
    "# rc('font',**{'family':'serif','serif':['Times'], 'weight' : 700, 'size'   : 26})\n",
    "rc('text', usetex=True)\n",
    "\n",
    "# plt.hlines(0.25, 0, 4, color = 'red', linewidth = 2)\n",
    "plt.ylim(0.29, 0.35)\n",
    "plt.boxplot(test_list,\n",
    "            medianprops=dict(color=\"black\", linewidth = 2),\n",
    "            boxprops=dict(linewidth = 2),\n",
    "            capprops=dict(linewidth = 2),\n",
    "            whiskerprops=dict(linewidth = 2),)\n",
    "\n",
    "plt.xticks(range(1,5), (6, 12, 24, 50))\n",
    "plt.ylabel(\"accuracy\")\n",
    "plt.xlabel(\"predictor size\")\n",
    "plt.title(\"CNN model 1 (kernel = 6)\")\n",
    "\n",
    "plt.plot([2, 4], [0.345, 0.345], marker=\"|\", linewidth = 0.5, color = \"black\")\n",
    "plt.text(3-0.12, 0.344, \"**\")\n",
    "\n",
    "# plt.plot([1, 4], [0.345, 0.345], marker=\"|\", linewidth = 0.5, color = \"black\")\n",
    "# plt.text(2.5-0.12, 0.344, \"ns\")\n",
    "\n",
    "plt.savefig(\"../results/pics/cnn_model_2_all_runs_p1_ecoli_100000_10000_all_0.png\", dpi=300, bbox_inches='tight')\n",
    "plt.show()"
   ]
  },
  {
   "cell_type": "code",
   "execution_count": 93,
   "metadata": {
    "collapsed": false
   },
   "outputs": [
    {
     "name": "stdout",
     "output_type": "stream",
     "text": [
      "file ../results/cnn/2019-05-01-17-07/cnn_model_2_all_runs_p1_ecoli_100000_10000_06_00.pyob\n",
      "file ../results/cnn/2019-05-01-18-30/cnn_model_2_all_runs_p1_ecoli_100000_10000_12_00.pyob\n",
      "file ../results/cnn/2019-05-01-20-40/cnn_model_2_all_runs_p1_ecoli_100000_10000_24_00.pyob\n",
      "file ../results/cnn/2019-05-01-23-06/cnn_model_2_all_runs_p1_ecoli_100000_10000_50_00.pyob\n",
      "WilcoxonResult(statistic=175.5, pvalue=0.2409637184701241)\n",
      "MannwhitneyuResult(statistic=405.5, pvalue=0.25767114472326813)\n",
      "MannwhitneyuResult(statistic=307.0, pvalue=0.017563223676702492)\n",
      "MannwhitneyuResult(statistic=350.0, pvalue=0.07061940962521014)\n"
     ]
    }
   ],
   "source": [
    "test6  = test_accs(\"../results/cnn/2019-05-01-17-07/cnn_model_2_all_runs_p1_ecoli_100000_10000_06_00.pyob\")\n",
    "test12 = test_accs(\"../results/cnn/2019-05-01-18-30/cnn_model_2_all_runs_p1_ecoli_100000_10000_12_00.pyob\") \n",
    "test24 = test_accs(\"../results/cnn/2019-05-01-20-40/cnn_model_2_all_runs_p1_ecoli_100000_10000_24_00.pyob\")\n",
    "test50 = test_accs(\"../results/cnn/2019-05-01-23-06/cnn_model_2_all_runs_p1_ecoli_100000_10000_50_00.pyob\") \n",
    "  \n",
    "\n",
    "print(scipy.stats.wilcoxon(test6, test24))\n",
    "print(scipy.stats.mannwhitneyu(test6, test24))\n",
    "print(scipy.stats.mannwhitneyu(test12, test50))\n",
    "print(scipy.stats.mannwhitneyu(test6, test50))"
   ]
  },
  {
   "cell_type": "markdown",
   "metadata": {},
   "source": [
    "## Отступ"
   ]
  },
  {
   "cell_type": "code",
   "execution_count": 65,
   "metadata": {
    "collapsed": true
   },
   "outputs": [],
   "source": [
    "# import os\n",
    "# os.rename(\"../results/cnn/2019-05-01-10-18/cnn_model_1_all_runs_p1_ecoli_100000_10000_50_00.pyob\",\n",
    "#          \"../results/cnn/2019-05-01-10-18/cnn_model_1_all_runs_p1_ecoli_100000_10000_50_0.pyob\")"
   ]
  },
  {
   "cell_type": "code",
   "execution_count": 33,
   "metadata": {
    "collapsed": false
   },
   "outputs": [],
   "source": [
    "# from data_loading import *\n",
    "# import matplotlib.pyplot as plt\n",
    "# %matplotlib inline\n",
    "\n",
    "# test_list = [test_accs(x) for x in sorted(glob.glob(\"../results/cnn/*/*2_all_runs_*100000**\"), key = lambda x : x.split(\"/\")[-1])]\n",
    "\n",
    "# [print(len(x), end = \" \") for x in test_list]\n",
    "\n",
    "# from matplotlib import rc\n",
    "# rc('font',**{'family':'serif','serif':['Computer Modern Roman'], 'weight' : 200, 'size'   : 20})\n",
    "# # rc('font',**{'family':'serif','serif':['Times'], 'weight' : 700, 'size'   : 26})\n",
    "# rc('text', usetex=True)\n",
    "\n",
    "# # plt.hlines(0.25, 0, 4, color = 'red', linewidth = 2)\n",
    "# # plt.ylim(0.29, 0.35)\n",
    "# plt.boxplot(test_list,\n",
    "#             medianprops=dict(color=\"black\", linewidth = 2),\n",
    "#             boxprops=dict(linewidth = 2),\n",
    "#             capprops=dict(linewidth = 2),\n",
    "#             whiskerprops=dict(linewidth = 2),)\n",
    "\n",
    "# plt.xticks(range(1,5), (6, 12, 24, 50))\n",
    "# plt.ylabel(\"accuracy\")\n",
    "# # plt.xlabel(\"predictor size\")\n",
    "# # plt.title(\"CNN model 1\")\n",
    "# # plt.savefig(\"../results/pics/cnn_model_1_all_runs_p1_ecoli_100000_10000_all_0.png\", dpi=300, bbox_inches='tight')\n",
    "# plt.show()"
   ]
  },
  {
   "cell_type": "code",
   "execution_count": null,
   "metadata": {
    "collapsed": true
   },
   "outputs": [],
   "source": []
  },
  {
   "cell_type": "code",
   "execution_count": null,
   "metadata": {
    "collapsed": true
   },
   "outputs": [],
   "source": []
  },
  {
   "cell_type": "code",
   "execution_count": 153,
   "metadata": {
    "collapsed": false
   },
   "outputs": [
    {
     "name": "stdout",
     "output_type": "stream",
     "text": [
      "_________________________________________________________________\n",
      "Layer (type)                 Output Shape              Param #   \n",
      "=================================================================\n",
      "input_39 (InputLayer)        (None, 100, 4)            0         \n",
      "_________________________________________________________________\n",
      "conv1d_45 (Conv1D)           (None, 98, 6)             78        \n",
      "_________________________________________________________________\n",
      "flatten_37 (Flatten)         (None, 588)               0         \n",
      "_________________________________________________________________\n",
      "dense_37 (Dense)             (None, 4)                 2356      \n",
      "=================================================================\n",
      "Total params: 2,434\n",
      "Trainable params: 2,434\n",
      "Non-trainable params: 0\n",
      "_________________________________________________________________\n"
     ]
    }
   ],
   "source": [
    "from cnn_models import *\n",
    "model = create_cnn_model_4(100)\n",
    "model.summary()"
   ]
  },
  {
   "cell_type": "markdown",
   "metadata": {
    "collapsed": true
   },
   "source": [
    "# Сравнение моделей"
   ]
  },
  {
   "cell_type": "code",
   "execution_count": null,
   "metadata": {
    "collapsed": true
   },
   "outputs": [],
   "source": []
  },
  {
   "cell_type": "code",
   "execution_count": 149,
   "metadata": {
    "collapsed": false
   },
   "outputs": [
    {
     "name": "stdout",
     "output_type": "stream",
     "text": [
      "file ../results/cnn/2019-04-27-20-10/cnn_model_1_all_runs_p1_ecoli_100000_10000_12_0.pyob\n",
      "file ../results/cnn/2019-05-01-18-30/cnn_model_2_all_runs_p1_ecoli_100000_10000_12_00.pyob\n",
      "file ../results/cnn/2019-05-16-23-06/cnn_model_4_all_runs_p1_ecoli_100000_10000_12_00_cds_False.pyob\n",
      "file ../results/cnn/2019-05-17-20-34/cnn_model_5_all_runs_p1_ecoli_100000_10000_12_00_cds_False.pyob\n",
      "file ../results/cnn/2019-05-17-00-41/cnn_model_3_all_runs_p1_ecoli_100000_10000_12_00_cds_False.pyob\n",
      "file ../results/cnn/2019-05-17-11-15/cnn_model_3_all_runs_p2_ecoli_100000_10000_51_00_cds_False.pyob\n",
      "30 30 30 30 30 30 "
     ]
    },
    {
     "name": "stderr",
     "output_type": "stream",
     "text": [
      "/home/bvdmitri/anaconda3/lib/python3.5/site-packages/matplotlib/font_manager.py:1328: UserWarning: findfont: Font family ['serif'] not found. Falling back to DejaVu Sans\n",
      "  (prop.get_family(), self.defaultFamily[fontext]))\n"
     ]
    },
    {
     "data": {
      "image/png": "[encoded data removed]",
      "text/plain": [
       "<Figure size 576x288 with 1 Axes>"
      ]
     },
     "metadata": {},
     "output_type": "display_data"
    }
   ],
   "source": [
    "from data_loading import *\n",
    "import matplotlib.pyplot as plt\n",
    "%matplotlib inline\n",
    "\n",
    "files = sorted(glob.glob(\"../results/cnn/*/*[1,2,4,5]_all_runs_p1*100000*12_*.*\"), key = lambda x : x.split(\"/\")[-1])\n",
    "files += sorted(glob.glob(\"../results/cnn/*/*3_all_runs_p*100000**\"), key = lambda x : x.split(\"/\")[-1])\n",
    "\n",
    "test_list = [test_accs(x) for x in files]\n",
    "\n",
    "[print(len(x), end = \" \") for x in test_list]\n",
    "from matplotlib import rc\n",
    "rc('font',**{'family':'serif','serif':['Computer Modern Roman'], 'weight' : 200, 'size'   : 20})\n",
    "# rc('font',**{'family':'serif','serif':['Times'], 'weight' : 700, 'size'   : 26})\n",
    "rc('text', usetex=True)\n",
    "\n",
    "# plt.hlines(0.25, 0, 4, color = 'red', linewidth = 2)\n",
    "# print(plt.rcParams.get('figure.figsize'))\n",
    "plt.figure(figsize=(8,4))\n",
    "plt.ylim(0.29, 0.35)\n",
    "plt.boxplot(test_list,\n",
    "            medianprops=dict(color=\"black\", linewidth = 2),\n",
    "            boxprops=dict(linewidth = 2),\n",
    "            capprops=dict(linewidth = 2),\n",
    "            whiskerprops=dict(linewidth = 2),)\n",
    "\n",
    "plt.xticks(range(1,7), [\n",
    "        \"k3*3\\n-\\n 12\", \"k6*3 \\n-\\n 12\", \"k3*6 \\n-\\n 12\",  \"k3*12 \\n-\\n 12\", \"k3*3\\n strd=3 \\n 12\",  \"k3*3\\n strd=3 \\n 51\" ], \n",
    "#   rotation = 'vertical' \n",
    "          )\n",
    "\n",
    "plt.ylabel(\"test accuracy\")\n",
    "# plt.xlabel(\"model\")\n",
    "plt.title(\"CNN models\")\n",
    "\n",
    "# plt.plot([1, 3], [0.344, 0.344], marker=\"|\", linewidth = 0.5, color = \"black\")\n",
    "# plt.text(2-0.12, 0.343, \"ns\")\n",
    "\n",
    "\n",
    "plt.savefig(\"../results/pics/cnn_models_all_runs_p1_ecoli_100000_10000_all_0.png\", dpi=300, bbox_inches='tight')\n",
    "plt.show()"
   ]
  },
  {
   "cell_type": "markdown",
   "metadata": {},
   "source": [
    "# Автоэнкодер"
   ]
  },
  {
   "cell_type": "code",
   "execution_count": null,
   "metadata": {
    "collapsed": true
   },
   "outputs": [],
   "source": [
    "import tensorflow as tf\n",
    "import numpy as np\n",
    "import keras\n",
    "from keras.datasets import mnist\n",
    "from keras.models import Sequential\n",
    "# from keras.layers import Dense, Dropout, Flatten\n",
    "from keras.layers import Conv1D, MaxPooling1D, UpSampling1D, BatchNormalization, Input, concatenate\n",
    "from keras import backend as K\n",
    "from keras.models import Model"
   ]
  },
  {
   "cell_type": "code",
   "execution_count": null,
   "metadata": {
    "collapsed": true
   },
   "outputs": [],
   "source": [
    "x0 = Input(shape=(length,4))\n",
    "x1 = Conv1D(16, (4), activation='relu', padding='same')(x0)\n",
    "x1 = MaxPooling1D((2), padding='same')(x1) # x1 (64, 64, 16)\n",
    "\n",
    "# x2 = Conv2D(8, (4, 4), activation='relu', padding='same')(x1)\n",
    "# x2 = MaxPooling2D((2, 2), padding='same')(x2) # x2 (32, 32, 8)\n",
    "\n",
    "# # x3 = Conv2D(8, (4, 4), activation='relu', padding='same')(x2)\n",
    "# # x3 = MaxPooling2D((2, 2), padding='same')(x3) #x3 (16, 16, 8)\n",
    "\n",
    "# # # at this point the representation is (4, 4, 8) i.e. 128-dimensional\n",
    "\n",
    "\n",
    "# # x97 = Conv2D(8, (3, 3), activation='relu', padding='same')(x3)\n",
    "# # x97 = UpSampling2D((2, 2))(x97) #x97 (32, 32, 8)\n",
    "\n",
    "# x98 = Conv2D(8, (3, 3), activation='relu', padding='same')(concatenate([x97, x2]))\n",
    "# x98 = UpSampling2D((2, 2))(x98) # x98 (64, 64, 8)\n",
    "\n",
    "# x99 = Conv1D(16, (3), activation='relu', padding = \"same\")(concatenate([x98, x1]))\n",
    "x99 = Conv1D(16, (3), activation='relu', padding = \"same\")(x1)\n",
    "x99 = UpSampling1D((2))(x99) #x99 (128, 128, 16)\n",
    "\n",
    "decoded = Conv1D(4, (3), activation='softmax', padding='same')(x99)\n",
    "\n",
    "\n",
    "model = Model(x0, decoded)\n",
    "model.compile(loss='categorical_crossentropy', optimizer='adam', metrics=['accuracy'])\n",
    "model.summary()"
   ]
  },
  {
   "cell_type": "code",
   "execution_count": null,
   "metadata": {
    "collapsed": true
   },
   "outputs": [],
   "source": [
    "es = EarlyStopping(monitor='val_loss', verbose=1, patience=1)\n",
    "    history = model.fit(data.train1, data.train_ans, epochs=100, callbacks = [es], validation_data=(data.validate1, data.validate_ans))"
   ]
  },
  {
   "cell_type": "code",
   "execution_count": null,
   "metadata": {
    "collapsed": true
   },
   "outputs": [],
   "source": []
  },
  {
   "cell_type": "code",
   "execution_count": 124,
   "metadata": {
    "collapsed": false
   },
   "outputs": [],
   "source": []
  },
  {
   "cell_type": "code",
   "execution_count": null,
   "metadata": {
    "collapsed": false
   },
   "outputs": [],
   "source": []
  },
  {
   "cell_type": "code",
   "execution_count": null,
   "metadata": {
    "collapsed": true
   },
   "outputs": [],
   "source": []
  }
 ],
 "metadata": {
  "anaconda-cloud": {},
  "kernelspec": {
   "display_name": "Python [conda env:anaconda3]",
   "language": "python",
   "name": "conda-env-anaconda3-py"
  },
  "language_info": {
   "codemirror_mode": {
    "name": "ipython",
    "version": 3
   },
   "file_extension": ".py",
   "mimetype": "text/x-python",
   "name": "python",
   "nbconvert_exporter": "python",
   "pygments_lexer": "ipython3",
   "version": "3.5.6"
  }
 },
 "nbformat": 4,
 "nbformat_minor": 2
}
