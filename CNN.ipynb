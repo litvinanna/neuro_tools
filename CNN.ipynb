{
 "cells": [
  {
   "cell_type": "markdown",
   "metadata": {},
   "source": [
    "## Подготовка данных"
   ]
  },
  {
   "cell_type": "code",
   "execution_count": 2,
   "metadata": {
    "collapsed": false
   },
   "outputs": [],
   "source": [
    "from matplotlib import rc\n",
    "rc('font',**{'family':'serif', \"serif\":\"stix\",  'size': 26})\n",
    "rc('text', usetex=True)\n",
    "import matplotlib.pyplot as plt"
   ]
  },
  {
   "cell_type": "code",
   "execution_count": 3,
   "metadata": {
    "collapsed": true
   },
   "outputs": [],
   "source": [
    "from data_loading import *\n",
    "import glob"
   ]
  },
  {
   "cell_type": "code",
   "execution_count": 4,
   "metadata": {
    "collapsed": false
   },
   "outputs": [],
   "source": [
    "# import tensorflow as tf\n",
    "# gpu_fraction = 0.5\n",
    "# gpu_options = tf.GPUOptions(per_process_gpu_memory_fraction=gpu_fraction)\n",
    "# sess = tf.Session(config=tf.ConfigProto(gpu_options=gpu_options))"
   ]
  },
  {
   "cell_type": "code",
   "execution_count": 10,
   "metadata": {
    "collapsed": false,
    "scrolled": true
   },
   "outputs": [
    {
     "name": "stdout",
     "output_type": "stream",
     "text": [
      "../results/cnn/2019-05-25-01-01/cnn_model_20_all_runs_p1_ecoli_100000_10000_06_00_cds_False.pyob\n",
      "../results/cnn/2019-05-25-03-56/cnn_model_20_all_runs_p1_ecoli_100000_10000_12_00_cds_False.pyob\n",
      "../results/cnn/2019-05-25-09-21/cnn_model_20_all_runs_p1_ecoli_100000_10000_24_00_cds_False.pyob\n",
      "../results/cnn/2019-05-25-11-54/cnn_model_20_all_runs_p1_ecoli_100000_10000_50_00_cds_False.pyob\n",
      "../results/cnn/2019-05-25-16-09/cnn_model_21_all_runs_p1_ecoli_100000_10000_12_00_cds_False.pyob\n",
      "../results/cnn/2019-05-25-18-33/cnn_model_22_all_runs_p1_ecoli_100000_10000_12_00_cds_False.pyob\n",
      "../results/cnn/2019-05-26-19-14/cnn_model_21_all_runs_p1_ecoli_100000_10000_50_00_cds_False.pyob\n",
      "../results/cnn/2019-05-27-19-48/cnn_model_21_all_runs_p1_ecoli_100000_10000_coding_24_00.pyob\n",
      "../results/cnn/2019-05-27-22-09/cnn_model_21_all_runs_p1_ecoli_100000_10000_24_00.pyob\n",
      "../results/cnn/2019-05-28-02-59/cnn_model_21_all_runs_p1_ecoli_100000_10000_coding_51_00.pyob\n",
      "../results/cnn/2019-05-28-03-46/cnn_model_21_all_runs_p1_ecoli_100000_10000_coding_51_00.pyob\n",
      "../results/cnn/2019-05-28-05-35/cnn_model_21_all_runs_p1_ecoli_100000_10000_coding_50_00.pyob\n",
      "../results/cnn/2019-05-28-05-59/cnn_model_21_all_runs_p1_ecoli_100000_10000_coding_40_00.pyob\n",
      "../results/cnn/2019-06-01-13-46/cnn_model_21_all_runs_p1_ecoli_100000_10000_12_00_2.pyob\n"
     ]
    }
   ],
   "source": [
    "key = lambda x : x.split(\"/\")[-1]\n",
    "s = [print(x) for x in sorted(glob.glob(\"../results/cnn/*/*2[0,1,2]*_all_runs**\"), key = None)]"
   ]
  },
  {
   "cell_type": "markdown",
   "metadata": {
    "collapsed": false
   },
   "source": [
    "# Контексты со всех сторон"
   ]
  },
  {
   "cell_type": "code",
   "execution_count": 217,
   "metadata": {
    "collapsed": true
   },
   "outputs": [],
   "source": [
    "from data_loading import *\n",
    "import glob\n",
    "\n",
    "import matplotlib.pyplot as plt\n",
    "%matplotlib inline\n",
    "from matplotlib import rc\n",
    "rc('font',**{'family':'serif', \"serif\":\"stix\",  'size': 26})\n",
    "rc('text', usetex=True)\n",
    "\n",
    "def list_files(string):\n",
    "    a = sorted(glob.glob(string), key = lambda x : x.split(\"/\")[-1])\n",
    "#     [print(x) for x in a]\n",
    "    return a\n",
    "# \"../results/dnn/*/*all_runs**\"\n",
    "\n",
    "def boxplot(*args):\n",
    "    test_list = []\n",
    "    for arg in args:\n",
    "        test_list += [test_accs(x) for x in list_files(arg)]\n",
    "    [print(len(x), end = \" \") for x in test_list]\n",
    "    plt.boxplot(test_list,\n",
    "            medianprops=dict(color=\"black\", linewidth = 2),\n",
    "            boxprops=dict(linewidth = 2),\n",
    "            capprops=dict(linewidth = 2),\n",
    "            whiskerprops=dict(linewidth = 2))\n",
    "    return test_list"
   ]
  },
  {
   "cell_type": "code",
   "execution_count": 218,
   "metadata": {
    "collapsed": false
   },
   "outputs": [
    {
     "data": {
      "text/plain": [
       "['../results/cnn/2019-06-01-13-46/cnn_model_21_all_runs_p1_ecoli_100000_10000_12_00_2.pyob',\n",
       " '../results/cnn/2019-06-02-14-34/cnn_model_21_all_runs_p1_ecoli_100000_10000_12_00_2.pyob',\n",
       " '../results/cnn/2019-05-25-16-09/cnn_model_21_all_runs_p1_ecoli_100000_10000_12_00_cds_False.pyob']"
      ]
     },
     "execution_count": 218,
     "metadata": {},
     "output_type": "execute_result"
    }
   ],
   "source": [
    "list_files(\"../results/cnn/*/*21_all_runs_p1*100000*12*.*\")"
   ]
  },
  {
   "cell_type": "code",
   "execution_count": 227,
   "metadata": {
    "collapsed": false
   },
   "outputs": [
    {
     "name": "stdout",
     "output_type": "stream",
     "text": [
      "file ../results/cnn/2019-06-01-13-46/cnn_model_21_all_runs_p1_ecoli_100000_10000_12_00_2.pyob\n",
      "file ../results/cnn/2019-06-02-14-34/cnn_model_21_all_runs_p1_ecoli_100000_10000_12_00_2.pyob\n",
      "file ../results/cnn/2019-05-25-16-09/cnn_model_21_all_runs_p1_ecoli_100000_10000_12_00_cds_False.pyob\n",
      "30 30 30 "
     ]
    },
    {
     "data": {
      "image/png": "[encoded data removed]",
      "text/plain": [
       "<Figure size 432x288 with 1 Axes>"
      ]
     },
     "metadata": {},
     "output_type": "display_data"
    }
   ],
   "source": [
    "test_list = boxplot(\"../results/cnn/*/*21_all_runs_p1*100000*12*.*\")\n",
    "plt.xticks(range(1,4), (\"(0,0,0,0)\\n 12nt x4\", \"(1,1,1,1)\\n 12nt x4\", \"- \\n 12nt x2\"))\n",
    "plt.show()"
   ]
  },
  {
   "cell_type": "markdown",
   "metadata": {},
   "source": [
    "Ни замена предсказываемой позиции на (0,0,0,0) ни на (1,1,1,1) не делает точность выше -- только ниже ("
   ]
  },
  {
   "cell_type": "markdown",
   "metadata": {},
   "source": [
    "# Автоэнкодер"
   ]
  },
  {
   "cell_type": "code",
   "execution_count": 42,
   "metadata": {
    "collapsed": false
   },
   "outputs": [
    {
     "name": "stderr",
     "output_type": "stream",
     "text": [
      "Using TensorFlow backend.\n"
     ]
    }
   ],
   "source": [
    "import tensorflow as tf\n",
    "import numpy as np\n",
    "import keras\n",
    "from keras.datasets import mnist\n",
    "from keras.models import Sequential\n",
    "# from keras.layers import Dense, Dropout, Flatten\n",
    "from keras.layers import Conv1D, MaxPooling1D, UpSampling1D, BatchNormalization, Input, concatenate\n",
    "from keras import backend as K\n",
    "from keras.models import Model"
   ]
  },
  {
   "cell_type": "code",
   "execution_count": 43,
   "metadata": {
    "collapsed": false
   },
   "outputs": [
    {
     "ename": "NameError",
     "evalue": "name 'length' is not defined",
     "output_type": "error",
     "traceback": [
      "\u001b[0;31m---------------------------------------------------------------------------\u001b[0m",
      "\u001b[0;31mNameError\u001b[0m                                 Traceback (most recent call last)",
      "\u001b[0;32m<ipython-input-43-115592ec621c>\u001b[0m in \u001b[0;36m<module>\u001b[0;34m()\u001b[0m\n\u001b[0;32m----> 1\u001b[0;31m \u001b[0mx0\u001b[0m \u001b[0;34m=\u001b[0m \u001b[0mInput\u001b[0m\u001b[0;34m(\u001b[0m\u001b[0mshape\u001b[0m\u001b[0;34m=\u001b[0m\u001b[0;34m(\u001b[0m\u001b[0mlength\u001b[0m\u001b[0;34m,\u001b[0m\u001b[0;36m4\u001b[0m\u001b[0;34m)\u001b[0m\u001b[0;34m)\u001b[0m\u001b[0;34m\u001b[0m\u001b[0m\n\u001b[0m\u001b[1;32m      2\u001b[0m \u001b[0mx1\u001b[0m \u001b[0;34m=\u001b[0m \u001b[0mConv1D\u001b[0m\u001b[0;34m(\u001b[0m\u001b[0;36m16\u001b[0m\u001b[0;34m,\u001b[0m \u001b[0;34m(\u001b[0m\u001b[0;36m4\u001b[0m\u001b[0;34m)\u001b[0m\u001b[0;34m,\u001b[0m \u001b[0mactivation\u001b[0m\u001b[0;34m=\u001b[0m\u001b[0;34m'relu'\u001b[0m\u001b[0;34m,\u001b[0m \u001b[0mpadding\u001b[0m\u001b[0;34m=\u001b[0m\u001b[0;34m'same'\u001b[0m\u001b[0;34m)\u001b[0m\u001b[0;34m(\u001b[0m\u001b[0mx0\u001b[0m\u001b[0;34m)\u001b[0m\u001b[0;34m\u001b[0m\u001b[0m\n\u001b[1;32m      3\u001b[0m \u001b[0mx1\u001b[0m \u001b[0;34m=\u001b[0m \u001b[0mMaxPooling1D\u001b[0m\u001b[0;34m(\u001b[0m\u001b[0;34m(\u001b[0m\u001b[0;36m2\u001b[0m\u001b[0;34m)\u001b[0m\u001b[0;34m,\u001b[0m \u001b[0mpadding\u001b[0m\u001b[0;34m=\u001b[0m\u001b[0;34m'same'\u001b[0m\u001b[0;34m)\u001b[0m\u001b[0;34m(\u001b[0m\u001b[0mx1\u001b[0m\u001b[0;34m)\u001b[0m \u001b[0;31m# x1 (64, 64, 16)\u001b[0m\u001b[0;34m\u001b[0m\u001b[0m\n\u001b[1;32m      4\u001b[0m \u001b[0;34m\u001b[0m\u001b[0m\n\u001b[1;32m      5\u001b[0m \u001b[0;31m# x2 = Conv2D(8, (4, 4), activation='relu', padding='same')(x1)\u001b[0m\u001b[0;34m\u001b[0m\u001b[0;34m\u001b[0m\u001b[0m\n",
      "\u001b[0;31mNameError\u001b[0m: name 'length' is not defined"
     ]
    }
   ],
   "source": [
    "x0 = Input(shape=(length,4))\n",
    "x1 = Conv1D(16, (4), activation='relu', padding='same')(x0)\n",
    "x1 = MaxPooling1D((2), padding='same')(x1) # x1 (64, 64, 16)\n",
    "\n",
    "# x2 = Conv2D(8, (4, 4), activation='relu', padding='same')(x1)\n",
    "# x2 = MaxPooling2D((2, 2), padding='same')(x2) # x2 (32, 32, 8)\n",
    "\n",
    "# # x3 = Conv2D(8, (4, 4), activation='relu', padding='same')(x2)\n",
    "# # x3 = MaxPooling2D((2, 2), padding='same')(x3) #x3 (16, 16, 8)\n",
    "\n",
    "# # # at this point the representation is (4, 4, 8) i.e. 128-dimensional\n",
    "\n",
    "\n",
    "# # x97 = Conv2D(8, (3, 3), activation='relu', padding='same')(x3)\n",
    "# # x97 = UpSampling2D((2, 2))(x97) #x97 (32, 32, 8)\n",
    "\n",
    "# x98 = Conv2D(8, (3, 3), activation='relu', padding='same')(concatenate([x97, x2]))\n",
    "# x98 = UpSampling2D((2, 2))(x98) # x98 (64, 64, 8)\n",
    "\n",
    "# x99 = Conv1D(16, (3), activation='relu', padding = \"same\")(concatenate([x98, x1]))\n",
    "x99 = Conv1D(16, (3), activation='relu', padding = \"same\")(x1)\n",
    "x99 = UpSampling1D((2))(x99) #x99 (128, 128, 16)\n",
    "\n",
    "decoded = Conv1D(4, (3), activation='softmax', padding='same')(x99)\n",
    "\n",
    "\n",
    "model = Model(x0, decoded)\n",
    "model.compile(loss='categorical_crossentropy', optimizer='adam', metrics=['accuracy'])\n",
    "model.summary()"
   ]
  },
  {
   "cell_type": "code",
   "execution_count": null,
   "metadata": {
    "collapsed": true
   },
   "outputs": [],
   "source": [
    "es = EarlyStopping(monitor='val_loss', verbose=1, patience=1)\n",
    "    history = model.fit(data.train1, data.train_ans, epochs=100, callbacks = [es], validation_data=(data.validate1, data.validate_ans))"
   ]
  },
  {
   "cell_type": "code",
   "execution_count": null,
   "metadata": {
    "collapsed": true
   },
   "outputs": [],
   "source": []
  },
  {
   "cell_type": "code",
   "execution_count": 124,
   "metadata": {
    "collapsed": false
   },
   "outputs": [],
   "source": []
  },
  {
   "cell_type": "markdown",
   "metadata": {
    "collapsed": true
   },
   "source": [
    "# Смотрим фильтры"
   ]
  },
  {
   "cell_type": "code",
   "execution_count": 179,
   "metadata": {
    "collapsed": false
   },
   "outputs": [
    {
     "data": {
      "text/plain": [
       "['../results/cnn/2019-06-01-13-46/cnn_model_21_all_runs_p1_ecoli_100000_10000_12_00_2.pyob',\n",
       " '../results/cnn/2019-06-02-14-34/cnn_model_21_all_runs_p1_ecoli_100000_10000_12_00_2.pyob',\n",
       " '../results/cnn/2019-05-25-16-09/cnn_model_21_all_runs_p1_ecoli_100000_10000_12_00_cds_False.pyob']"
      ]
     },
     "execution_count": 179,
     "metadata": {},
     "output_type": "execute_result"
    }
   ],
   "source": [
    "list_files(\"../results/cnn/*/*21_all_runs_p1*100000*12*.*\")"
   ]
  },
  {
   "cell_type": "code",
   "execution_count": 180,
   "metadata": {
    "collapsed": false
   },
   "outputs": [
    {
     "data": {
      "text/plain": [
       "['../results/cnn/2019-05-25-16-09/cnn_model_21_all_runs_p1_ecoli_100000_10000_12_00_cds_False.pyob']"
      ]
     },
     "execution_count": 180,
     "metadata": {},
     "output_type": "execute_result"
    }
   ],
   "source": [
    "import glob\n",
    "path = \"../results/cnn/2019-05-25-16-09/\"\n",
    "glob.glob(path + \"/*all_runs*\")"
   ]
  },
  {
   "cell_type": "code",
   "execution_count": 20,
   "metadata": {
    "collapsed": false
   },
   "outputs": [
    {
     "name": "stdout",
     "output_type": "stream",
     "text": [
      "0 "
     ]
    }
   ],
   "source": [
    "data_g = generate_data(\"../results/ecoli_100000_10000\", 12, 0)\n",
    "data = next(data_g)"
   ]
  },
  {
   "cell_type": "code",
   "execution_count": null,
   "metadata": {
    "collapsed": true
   },
   "outputs": [],
   "source": [
    "from keras.models import model_from_json\n",
    "json_file = open(path+ '/model.json', 'r')\n",
    "loaded_model_json = json_file.read()\n",
    "json_file.close()"
   ]
  },
  {
   "cell_type": "code",
   "execution_count": 21,
   "metadata": {
    "collapsed": false
   },
   "outputs": [
    {
     "name": "stderr",
     "output_type": "stream",
     "text": [
      "Using TensorFlow backend.\n"
     ]
    },
    {
     "name": "stdout",
     "output_type": "stream",
     "text": [
      "Loaded model from disk\n"
     ]
    }
   ],
   "source": [
    "loaded_model = model_from_json(loaded_model_json)\n",
    "# load weights into new model\n",
    "loaded_model.load_weights(path + \"/0.weights\")\n",
    "print(\"Loaded model from disk\")"
   ]
  },
  {
   "cell_type": "code",
   "execution_count": 23,
   "metadata": {
    "collapsed": false
   },
   "outputs": [
    {
     "name": "stdout",
     "output_type": "stream",
     "text": [
      "10000/10000 [==============================] - 5s 497us/step\n"
     ]
    },
    {
     "data": {
      "text/plain": [
       "[1.314675722503662, 0.3721]"
      ]
     },
     "execution_count": 23,
     "metadata": {},
     "output_type": "execute_result"
    }
   ],
   "source": [
    "# evaluate loaded model on test data\n",
    "loaded_model.compile(loss='categorical_crossentropy', optimizer='adam', metrics=['accuracy'])\n",
    "loaded_model.evaluate([data.test1, data.test3], data.test_ans)"
   ]
  },
  {
   "cell_type": "code",
   "execution_count": 26,
   "metadata": {
    "collapsed": false
   },
   "outputs": [],
   "source": [
    "# loaded_model.summary()"
   ]
  },
  {
   "cell_type": "code",
   "execution_count": 131,
   "metadata": {
    "collapsed": false
   },
   "outputs": [],
   "source": []
  },
  {
   "cell_type": "code",
   "execution_count": 184,
   "metadata": {
    "collapsed": true
   },
   "outputs": [],
   "source": [
    "bases_list = [\"A\", \"T\", \"C\", \"G\"]"
   ]
  },
  {
   "cell_type": "code",
   "execution_count": 185,
   "metadata": {
    "collapsed": false
   },
   "outputs": [],
   "source": [
    "def letter(array):\n",
    "    ind = np.argsort(-array)\n",
    "    l = [bases_list[i] for i in ind]\n",
    "#     print(ind, array)\n",
    "    if array[ind[0]] - array[ind[1]] > 0.00001:\n",
    "        return l[0]\n",
    "    else:\n",
    "        return \"[\" + l[0] + l[1] + \"]\"\n",
    "\n",
    "def letters(array):\n",
    "    a = \"\"\n",
    "    for i in range(array.shape[0]):\n",
    "        a += letter(array[i, ...])\n",
    "    return a"
   ]
  },
  {
   "cell_type": "code",
   "execution_count": 186,
   "metadata": {
    "collapsed": false
   },
   "outputs": [
    {
     "name": "stdout",
     "output_type": "stream",
     "text": [
      "0 1 2 3 4 5 6 7 8 9 10 11 12 13 14 15 16 17 18 19 20 21 22 23 24 25 26 27 28 29 "
     ]
    }
   ],
   "source": [
    "filters = {}\n",
    "for i in range(30):\n",
    "    print(i, end = \" \")\n",
    "    loaded_model = model_from_json(loaded_model_json)\n",
    "    # load weights into new model\n",
    "    loaded_model.load_weights(path + \"/\" + str(i)+ \".weights\")\n",
    "    for j in range(2, 4):\n",
    "        layer = loaded_model.layers[j].get_weights()\n",
    "        for k in range(12):\n",
    "            f = letters(layer[0][ ..., k])\n",
    "            if f not in filters:\n",
    "                filters[f] = 0\n",
    "            filters[f] += 1"
   ]
  },
  {
   "cell_type": "code",
   "execution_count": 198,
   "metadata": {
    "collapsed": false
   },
   "outputs": [],
   "source": [
    "# sorted(filters.items(), key = lambda x: x[1], reverse = True)"
   ]
  },
  {
   "cell_type": "code",
   "execution_count": 189,
   "metadata": {
    "collapsed": false
   },
   "outputs": [
    {
     "data": {
      "image/png": "[encoded data removed]",
      "text/plain": [
       "<Figure size 432x288 with 1 Axes>"
      ]
     },
     "metadata": {},
     "output_type": "display_data"
    }
   ],
   "source": [
    "plt.hist(filters.values(), bins = range(40))\n",
    "plt.show()"
   ]
  },
  {
   "cell_type": "code",
   "execution_count": null,
   "metadata": {
    "collapsed": true
   },
   "outputs": [],
   "source": []
  },
  {
   "cell_type": "code",
   "execution_count": 190,
   "metadata": {
    "collapsed": false
   },
   "outputs": [
    {
     "data": {
      "text/plain": [
       "{'activation': 'relu',\n",
       " 'activity_regularizer': None,\n",
       " 'bias_constraint': None,\n",
       " 'bias_initializer': {'class_name': 'Zeros', 'config': {}},\n",
       " 'bias_regularizer': None,\n",
       " 'data_format': 'channels_last',\n",
       " 'dilation_rate': (1,),\n",
       " 'filters': 12,\n",
       " 'kernel_constraint': None,\n",
       " 'kernel_initializer': {'class_name': 'VarianceScaling',\n",
       "  'config': {'distribution': 'uniform',\n",
       "   'mode': 'fan_avg',\n",
       "   'scale': 1.0,\n",
       "   'seed': None}},\n",
       " 'kernel_regularizer': None,\n",
       " 'kernel_size': (3,),\n",
       " 'name': 'conv1d_1',\n",
       " 'padding': 'valid',\n",
       " 'strides': (1,),\n",
       " 'trainable': True,\n",
       " 'use_bias': True}"
      ]
     },
     "execution_count": 190,
     "metadata": {},
     "output_type": "execute_result"
    }
   ],
   "source": [
    "loaded_model.layers[2].get_config()"
   ]
  },
  {
   "cell_type": "code",
   "execution_count": 192,
   "metadata": {
    "collapsed": false
   },
   "outputs": [
    {
     "data": {
      "text/plain": [
       "[array([[[-0.13377085,  0.01273788,  0.12904076, -0.42858672,\n",
       "          -0.2528986 ,  0.15651877, -0.02066732,  0.01209036,\n",
       "          -0.15213999,  0.00555322, -0.11940747, -0.36739913],\n",
       "         [-0.2285325 , -0.21942338,  0.06651375, -0.23633762,\n",
       "          -0.36627614, -0.12861617,  0.09840048,  0.05397404,\n",
       "          -0.06512573,  0.19574727, -0.2350348 ,  0.16495712],\n",
       "         [ 0.19814578, -0.11457587, -0.19417518,  0.05283832,\n",
       "          -0.05975753, -0.15935943, -0.40370315, -0.04607344,\n",
       "          -0.05498779,  0.03801094,  0.0727724 ,  0.11699101],\n",
       "         [ 0.27094477, -0.10266501,  0.08189829, -0.32719606,\n",
       "           0.26641828, -0.14761016, -0.1255378 , -0.3062754 ,\n",
       "          -0.12189608,  0.20243102,  0.25472263, -0.41787678]],\n",
       " \n",
       "        [[-0.05276087,  0.1931867 , -0.06257947, -0.36722028,\n",
       "           0.02535531,  0.3096686 , -0.26398543, -0.01566134,\n",
       "           0.14412984,  0.047472  , -0.19755079,  0.21345638],\n",
       "         [-0.0947608 ,  0.26267952, -0.1811902 , -0.40067706,\n",
       "          -0.35266873,  0.09814116,  0.08637714,  0.16184875,\n",
       "          -0.0036041 ,  0.230726  ,  0.4344337 , -0.33235464],\n",
       "         [-0.18767162,  0.40360835,  0.22032405,  0.42447144,\n",
       "           0.09026053, -0.25943428,  0.32095394,  0.2570286 ,\n",
       "          -0.00183503,  0.26834482, -0.22533275, -0.33347836],\n",
       "         [-0.2443419 ,  0.2597542 ,  0.11394216, -0.31745803,\n",
       "           0.23581806, -0.15964171,  0.35980725,  0.03791859,\n",
       "           0.14969598,  0.08011585,  0.12087964,  0.03116345]],\n",
       " \n",
       "        [[-0.1360977 , -0.00993556,  0.09732821,  0.27435568,\n",
       "           0.18610585,  0.09974349, -0.46486327, -0.1788718 ,\n",
       "          -0.43164912,  0.39185795, -0.35530135,  0.2300347 ],\n",
       "         [-0.3384666 , -0.20535627,  0.18881293,  0.30977935,\n",
       "           0.1592159 , -0.11526268, -0.12754256, -0.41831735,\n",
       "           0.12268647, -0.4857175 , -0.3897874 , -0.02129437],\n",
       "         [ 0.12305982, -0.166315  ,  0.38294122, -0.3751851 ,\n",
       "          -0.13265647, -0.1748111 , -0.23403645,  0.3223064 ,\n",
       "           0.16987345, -0.00987083,  0.05763141, -0.13658912],\n",
       "         [ 0.21289437,  0.13560206, -0.4457411 , -0.5140006 ,\n",
       "          -0.5597945 ,  0.10538069,  0.01476139,  0.34025386,\n",
       "           0.37003806, -0.146768  ,  0.09763924, -0.10712909]]],\n",
       "       dtype=float32),\n",
       " array([-0.02736985, -0.07205244,  0.0815293 ,  0.01356189,  0.01147601,\n",
       "        -0.07095848, -0.06503762,  0.09646889, -0.04176004, -0.06137445,\n",
       "        -0.20886914, -0.18434975], dtype=float32)]"
      ]
     },
     "execution_count": 192,
     "metadata": {},
     "output_type": "execute_result"
    }
   ],
   "source": [
    "loaded_model.layers[2].get_weights()"
   ]
  },
  {
   "cell_type": "code",
   "execution_count": 199,
   "metadata": {
    "collapsed": false
   },
   "outputs": [],
   "source": [
    "x = hot_encode_seq(\"AAAAAAAAAAAA\").reshape(1, 12, 4)"
   ]
  },
  {
   "cell_type": "code",
   "execution_count": 200,
   "metadata": {
    "collapsed": false
   },
   "outputs": [
    {
     "data": {
      "text/plain": [
       "(1, 12, 4)"
      ]
     },
     "execution_count": 200,
     "metadata": {},
     "output_type": "execute_result"
    }
   ],
   "source": [
    "x.shape"
   ]
  },
  {
   "cell_type": "code",
   "execution_count": 202,
   "metadata": {
    "collapsed": false
   },
   "outputs": [],
   "source": [
    "prediction = loaded_model.predict([x, x])"
   ]
  },
  {
   "cell_type": "code",
   "execution_count": 211,
   "metadata": {
    "collapsed": false
   },
   "outputs": [
    {
     "data": {
      "text/plain": [
       "0.0686977"
      ]
     },
     "execution_count": 211,
     "metadata": {},
     "output_type": "execute_result"
    }
   ],
   "source": [
    "(prediction)"
   ]
  },
  {
   "cell_type": "markdown",
   "metadata": {
    "collapsed": true
   },
   "source": [
    "# Один большой контекст"
   ]
  },
  {
   "cell_type": "code",
   "execution_count": 4,
   "metadata": {
    "collapsed": false
   },
   "outputs": [
    {
     "name": "stderr",
     "output_type": "stream",
     "text": [
      "Using TensorFlow backend.\n"
     ]
    }
   ],
   "source": [
    "from data_loading import *\n",
    "from cnn_models import *"
   ]
  },
  {
   "cell_type": "code",
   "execution_count": 46,
   "metadata": {
    "collapsed": false
   },
   "outputs": [
    {
     "name": "stdout",
     "output_type": "stream",
     "text": [
      "0 "
     ]
    }
   ],
   "source": [
    "data_g = generate_data(\"../results/ecoli_1000000_100000_uniform\", enviroment_size=50)\n",
    "data = next(data_g)"
   ]
  },
  {
   "cell_type": "code",
   "execution_count": 9,
   "metadata": {
    "collapsed": false
   },
   "outputs": [],
   "source": [
    "model = create_cnn_model_21()"
   ]
  },
  {
   "cell_type": "code",
   "execution_count": 10,
   "metadata": {
    "collapsed": false
   },
   "outputs": [
    {
     "name": "stdout",
     "output_type": "stream",
     "text": [
      "__________________________________________________________________________________________________\n",
      "Layer (type)                    Output Shape         Param #     Connected to                     \n",
      "==================================================================================================\n",
      "input_5 (InputLayer)            (None, 10, 4)        0                                            \n",
      "__________________________________________________________________________________________________\n",
      "input_6 (InputLayer)            (None, 10, 4)        0                                            \n",
      "__________________________________________________________________________________________________\n",
      "conv1d_5 (Conv1D)               (None, 8, 12)        156         input_5[0][0]                    \n",
      "__________________________________________________________________________________________________\n",
      "conv1d_6 (Conv1D)               (None, 8, 12)        156         input_6[0][0]                    \n",
      "__________________________________________________________________________________________________\n",
      "concatenate_3 (Concatenate)     (None, 8, 24)        0           conv1d_5[0][0]                   \n",
      "                                                                 conv1d_6[0][0]                   \n",
      "__________________________________________________________________________________________________\n",
      "flatten_3 (Flatten)             (None, 192)          0           concatenate_3[0][0]              \n",
      "__________________________________________________________________________________________________\n",
      "dense_5 (Dense)                 (None, 4)            772         flatten_3[0][0]                  \n",
      "==================================================================================================\n",
      "Total params: 1,084\n",
      "Trainable params: 1,084\n",
      "Non-trainable params: 0\n",
      "__________________________________________________________________________________________________\n"
     ]
    }
   ],
   "source": [
    "model.summary()"
   ]
  },
  {
   "cell_type": "code",
   "execution_count": 41,
   "metadata": {
    "collapsed": false
   },
   "outputs": [],
   "source": [
    "from keras.models import Sequential, Model\n",
    "from keras.layers import Input, Conv1D, concatenate, Flatten, Dense\n",
    "import keras\n",
    "\n",
    "def create_input_model_1(input_size = 101):\n",
    "    model = Sequential()\n",
    "    model.add(Conv1D(24, kernel_size=6, activation='relu', input_shape=(input_size,4)))\n",
    "    return model\n",
    "\n",
    "def create_output_model_1(input_size = 101):\n",
    "    half1 = create_input_model_1()\n",
    "    half2 = create_input_model_1()\n",
    "    x = keras.layers.concatenate([half1.output, half2.output])\n",
    "    x = Flatten()(x)\n",
    "    x = Dense(4, activation='relu')(x)\n",
    "    x = Dense(4, activation='softmax')(x)\n",
    "    model = Model([half1.input, half2.input], x)\n",
    "    model.compile(loss='categorical_crossentropy', optimizer='adam', metrics=['accuracy'])\n",
    "    return model"
   ]
  },
  {
   "cell_type": "code",
   "execution_count": 42,
   "metadata": {
    "collapsed": false,
    "scrolled": true
   },
   "outputs": [],
   "source": [
    "model = create_output_model_1()"
   ]
  },
  {
   "cell_type": "code",
   "execution_count": 43,
   "metadata": {
    "collapsed": false
   },
   "outputs": [
    {
     "name": "stdout",
     "output_type": "stream",
     "text": [
      "__________________________________________________________________________________________________\n",
      "Layer (type)                    Output Shape         Param #     Connected to                     \n",
      "==================================================================================================\n",
      "conv1d_22_input (InputLayer)    (None, 101, 4)       0                                            \n",
      "__________________________________________________________________________________________________\n",
      "conv1d_23_input (InputLayer)    (None, 101, 4)       0                                            \n",
      "__________________________________________________________________________________________________\n",
      "conv1d_22 (Conv1D)              (None, 96, 24)       600         conv1d_22_input[0][0]            \n",
      "__________________________________________________________________________________________________\n",
      "conv1d_23 (Conv1D)              (None, 96, 24)       600         conv1d_23_input[0][0]            \n",
      "__________________________________________________________________________________________________\n",
      "concatenate_7 (Concatenate)     (None, 96, 48)       0           conv1d_22[0][0]                  \n",
      "                                                                 conv1d_23[0][0]                  \n",
      "__________________________________________________________________________________________________\n",
      "flatten_9 (Flatten)             (None, 4608)         0           concatenate_7[0][0]              \n",
      "__________________________________________________________________________________________________\n",
      "dense_10 (Dense)                (None, 4)            18436       flatten_9[0][0]                  \n",
      "__________________________________________________________________________________________________\n",
      "dense_11 (Dense)                (None, 4)            20          dense_10[0][0]                   \n",
      "==================================================================================================\n",
      "Total params: 19,656\n",
      "Trainable params: 19,656\n",
      "Non-trainable params: 0\n",
      "__________________________________________________________________________________________________\n"
     ]
    }
   ],
   "source": [
    "model.summary()"
   ]
  },
  {
   "cell_type": "code",
   "execution_count": 44,
   "metadata": {
    "collapsed": true
   },
   "outputs": [],
   "source": [
    "train    = [data.trainf,    data.trainr]\n",
    "test     = [data.testf,     data.testr]\n",
    "validate = [data.validatef, data.validater]"
   ]
  },
  {
   "cell_type": "code",
   "execution_count": 45,
   "metadata": {
    "collapsed": false
   },
   "outputs": [
    {
     "name": "stdout",
     "output_type": "stream",
     "text": [
      "Train on 100000 samples, validate on 10000 samples\n",
      "Epoch 1/100\n",
      "100000/100000 [==============================] - 53s 530us/step - loss: 1.3863 - acc: 0.2568 - val_loss: 1.3863 - val_acc: 0.2455\n",
      "Epoch 2/100\n",
      "100000/100000 [==============================] - 51s 507us/step - loss: 1.3862 - acc: 0.2573 - val_loss: 1.3865 - val_acc: 0.2455\n",
      "Epoch 00002: early stopping\n"
     ]
    }
   ],
   "source": [
    "es = EarlyStopping(monitor='val_loss', verbose=1, patience=1)\n",
    "history = model.fit(train, data.train_ans, epochs=100, callbacks = [es], validation_data=(validate, data.validate_ans)) "
   ]
  },
  {
   "cell_type": "code",
   "execution_count": null,
   "metadata": {
    "collapsed": true
   },
   "outputs": [],
   "source": []
  }
 ],
 "metadata": {
  "anaconda-cloud": {},
  "kernelspec": {
   "display_name": "Python [conda env:anaconda3]",
   "language": "python",
   "name": "conda-env-anaconda3-py"
  },
  "language_info": {
   "codemirror_mode": {
    "name": "ipython",
    "version": 3
   },
   "file_extension": ".py",
   "mimetype": "text/x-python",
   "name": "python",
   "nbconvert_exporter": "python",
   "pygments_lexer": "ipython3",
   "version": "3.5.6"
  }
 },
 "nbformat": 4,
 "nbformat_minor": 2
}
