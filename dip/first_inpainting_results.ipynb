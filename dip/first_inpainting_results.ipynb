{
 "cells": [
  {
   "cell_type": "markdown",
   "metadata": {},
   "source": [
    "В этом ноутбуке все результаты обработки тестового куска генома микобактерии 0-500,000"
   ]
  },
  {
   "cell_type": "code",
   "execution_count": 1,
   "metadata": {
    "collapsed": false
   },
   "outputs": [],
   "source": [
    "from __future__ import print_function\n",
    "import os\n",
    "import numpy as np\n",
    "from sequence_for_nn import *"
   ]
  },
  {
   "cell_type": "code",
   "execution_count": 9,
   "metadata": {
    "collapsed": false
   },
   "outputs": [
    {
     "name": "stdout",
     "output_type": "stream",
     "text": [
      "container created\n",
      "read seq from file ../data/myco.gbff, length = 4411532\n",
      "cuted seq for analysis, length = 500000, start = 0, part = 0.0-11.3\n",
      "generated seq_np\n"
     ]
    }
   ],
   "source": [
    "container = Container()\n",
    "container.read_seq(genome_file = \"../data/myco.gbff\", genome_file_type = \"genbank\")\n",
    "container.cut_seq(length = 500000)\n",
    "container.generate_seq()"
   ]
  },
  {
   "cell_type": "code",
   "execution_count": 13,
   "metadata": {
    "collapsed": false
   },
   "outputs": [
    {
     "data": {
      "text/plain": [
       "array([[ True,  True,  True, ...,  True,  True, False],\n",
       "       [ True,  True,  True, ..., False,  True, False],\n",
       "       [ True,  True,  True, ..., False, False,  True],\n",
       "       [ True,  True,  True, ...,  True, False,  True]], dtype=bool)"
      ]
     },
     "execution_count": 13,
     "metadata": {},
     "output_type": "execute_result"
    }
   ],
   "source": [
    "seq_np = get_seq_np(path)\n",
    "np.equal(seq_np, container.seq_np)"
   ]
  },
  {
   "cell_type": "code",
   "execution_count": 2,
   "metadata": {
    "collapsed": false
   },
   "outputs": [
    {
     "name": "stdout",
     "output_type": "stream",
     "text": [
      "03-17-21-37\n",
      "0500000_000000000_0.0-11.4_47579_AP018033.1_Mycobacterium_tuberculosis_DNA,_complete_genome,_strain:_HN-024\n",
      "skip_depth6,reflection,net,adam,noise,32,0.01,0.03,4001,True,189300,[128, 128, 128],[128, 128, 128],[128, 128, 128],3,3,nearest,1,True,True,reflection,LeakyReLU\n",
      "skip_depth6,reflection,net,adam,noise,32,0.01,0.03,4001,True,189300,[128, 128, 128],[128, 128, 128],[128, 128, 128],3,3,nearest,1,True,True,reflection,LeakyReLU\n",
      "1409.887s\tGeForce GTX TITAN X\n"
     ]
    }
   ],
   "source": [
    "path = \"../results/03-17-21-37_0.0-11.4_AP018033.1_Mycobacterium\"\n",
    "info = open(path + \"/info.txt\")\n",
    "for line in info.readlines():\n",
    "    print(line, end = \"\")\n",
    "info.close()"
   ]
  },
  {
   "cell_type": "code",
   "execution_count": 4,
   "metadata": {
    "collapsed": false
   },
   "outputs": [
    {
     "data": {
      "text/plain": [
       "41"
      ]
     },
     "execution_count": 4,
     "metadata": {},
     "output_type": "execute_result"
    }
   ],
   "source": [
    "number_of_outs(path)"
   ]
  },
  {
   "cell_type": "code",
   "execution_count": 5,
   "metadata": {
    "collapsed": false
   },
   "outputs": [
    {
     "name": "stdout",
     "output_type": "stream",
     "text": [
      "found np array ../results/03-17-21-37_0.0-11.4_AP018033.1_Mycobacterium/distances_to_right.npy\n"
     ]
    }
   ],
   "source": [
    "distances_to_right = get_distances_to_right(path)"
   ]
  },
  {
   "cell_type": "code",
   "execution_count": 6,
   "metadata": {
    "collapsed": false
   },
   "outputs": [
    {
     "data": {
      "image/png": "[encoded data removed]",
      "text/plain": [
       "<matplotlib.figure.Figure at 0x7f1339787f98>"
      ]
     },
     "metadata": {},
     "output_type": "display_data"
    }
   ],
   "source": [
    "import matplotlib.pyplot as plt\n",
    "from colour import Color\n",
    "red = Color(\"red\")\n",
    "colors = list(red.range_to(Color(\"green\"),20))\n",
    "for i in range(20):\n",
    "    plt.hist(distances_to_right[i], histtype='step',normed = True, color = colors[i].get_rgb())\n",
    "# #     plt.hist(diffs[19], histtype='step',normed = True, color = 'green')\n",
    "# #     plt.hist(diffs[9], histtype='step',normed = True, color = 'yellow')\n",
    "# #     plt.hist(diffs[0],  histtype='step',normed = True,color = 'red')\n",
    "plt.show()"
   ]
  },
  {
   "cell_type": "code",
   "execution_count": 8,
   "metadata": {
    "collapsed": false
   },
   "outputs": [
    {
     "name": "stdout",
     "output_type": "stream",
     "text": [
      "found np array ../results/03-17-21-37_0.0-11.4_AP018033.1_Mycobacterium/diff.npy\n"
     ]
    },
    {
     "data": {
      "text/plain": [
       "(500000,)"
      ]
     },
     "execution_count": 8,
     "metadata": {},
     "output_type": "execute_result"
    }
   ],
   "source": [
    "diff = get_diff(path)\n",
    "diff.shape"
   ]
  },
  {
   "cell_type": "code",
   "execution_count": 23,
   "metadata": {
    "collapsed": false
   },
   "outputs": [
    {
     "name": "stdout",
     "output_type": "stream",
     "text": [
      "generated counter\n"
     ]
    },
    {
     "data": {
      "text/plain": [
       "{'all_mist': 338558.0,\n",
       " 'free_mist': 322931.0,\n",
       " 'free_part': 0.71378428499119184,\n",
       " 'mask_mist': 15627.0,\n",
       " 'mask_part': 0.32844322074864962}"
      ]
     },
     "execution_count": 23,
     "metadata": {},
     "output_type": "execute_result"
    }
   ],
   "source": [
    "counter = generate_counter(diff, get_mask(path))\n",
    "counter"
   ]
  },
  {
   "cell_type": "code",
   "execution_count": 24,
   "metadata": {
    "collapsed": false
   },
   "outputs": [],
   "source": [
    "import pickle"
   ]
  },
  {
   "cell_type": "code",
   "execution_count": 25,
   "metadata": {
    "collapsed": false
   },
   "outputs": [],
   "source": [
    "filename = os.path.join(path, \"counters\")\n",
    "with open(filename, \"wb\") as file:\n",
    "    pickle.dump(counter,file)  \n"
   ]
  },
  {
   "cell_type": "code",
   "execution_count": 26,
   "metadata": {
    "collapsed": false
   },
   "outputs": [
    {
     "data": {
      "text/plain": [
       "{'all_mist': 338558.0,\n",
       " 'free_mist': 322931.0,\n",
       " 'free_part': 0.71378428499119184,\n",
       " 'mask_mist': 15627.0,\n",
       " 'mask_part': 0.32844322074864962}"
      ]
     },
     "execution_count": 26,
     "metadata": {},
     "output_type": "execute_result"
    }
   ],
   "source": [
    "with open(filename, \"rb\") as file:\n",
    "    a = pickle.load(file) \n",
    "a"
   ]
  },
  {
   "cell_type": "code",
   "execution_count": 3,
   "metadata": {
    "collapsed": false
   },
   "outputs": [
    {
     "name": "stdout",
     "output_type": "stream",
     "text": [
      "found file ../results/03-17-21-37_0.0-11.4_AP018033.1_Mycobacterium/diffs.npy\n"
     ]
    },
    {
     "data": {
      "text/plain": [
       "array([[ 1.,  1.,  1., ...,  1.,  0.,  1.],\n",
       "       [ 1.,  1.,  0., ...,  1.,  1.,  1.],\n",
       "       [ 1.,  1.,  0., ...,  1.,  0.,  1.],\n",
       "       ..., \n",
       "       [ 1.,  1.,  1., ...,  1.,  1.,  1.],\n",
       "       [ 1.,  1.,  1., ...,  1.,  1.,  1.],\n",
       "       [ 1.,  1.,  0., ...,  1.,  1.,  1.]])"
      ]
     },
     "execution_count": 3,
     "metadata": {},
     "output_type": "execute_result"
    }
   ],
   "source": [
    "get_diff(path)"
   ]
  },
  {
   "cell_type": "code",
   "execution_count": 4,
   "metadata": {
    "collapsed": false
   },
   "outputs": [
    {
     "name": "stdout",
     "output_type": "stream",
     "text": [
      "found file ../results/03-17-21-37_0.0-11.4_AP018033.1_Mycobacterium/diffs.npy\n"
     ]
    },
    {
     "data": {
      "text/plain": [
       "(41, 500000)"
      ]
     },
     "execution_count": 4,
     "metadata": {},
     "output_type": "execute_result"
    }
   ],
   "source": [
    "get_diff(path).shape"
   ]
  },
  {
   "cell_type": "code",
   "execution_count": 3,
   "metadata": {
    "collapsed": false
   },
   "outputs": [
    {
     "name": "stdout",
     "output_type": "stream",
     "text": [
      "found file ../results/03-17-21-37_0.0-11.4_AP018033.1_Mycobacterium/counters.pyob\n"
     ]
    }
   ],
   "source": [
    "counters = get_counters(path)"
   ]
  },
  {
   "cell_type": "code",
   "execution_count": 6,
   "metadata": {
    "collapsed": false
   },
   "outputs": [
    {
     "data": {
      "image/png": "[encoded data removed]",
      "text/plain": [
       "<matplotlib.figure.Figure at 0x7f53a8c63278>"
      ]
     },
     "metadata": {},
     "output_type": "display_data"
    }
   ],
   "source": [
    "import matplotlib\n",
    "import matplotlib.pyplot as plt\n",
    "y = [counter['free_part'] for counter in counters]\n",
    "fig, ax = plt.subplots()\n",
    "ax.plot(y, \"bo\")\n",
    "plt.show()"
   ]
  },
  {
   "cell_type": "code",
   "execution_count": 10,
   "metadata": {
    "collapsed": false
   },
   "outputs": [
    {
     "ename": "NameError",
     "evalue": "name 'StrToBytes' is not defined",
     "output_type": "error",
     "traceback": [
      "\u001b[0;31m---------------------------------------------------------------------------\u001b[0m",
      "\u001b[0;31mNameError\u001b[0m                                 Traceback (most recent call last)",
      "\u001b[0;32m<ipython-input-10-88224fea1775>\u001b[0m in \u001b[0;36m<module>\u001b[0;34m()\u001b[0m\n\u001b[1;32m      1\u001b[0m \u001b[0;32mwith\u001b[0m \u001b[0mopen\u001b[0m\u001b[0;34m(\u001b[0m\u001b[0mpath\u001b[0m \u001b[0;34m+\u001b[0m \u001b[0;34m\"/counters.pyob\"\u001b[0m\u001b[0;34m,\u001b[0m \u001b[0;34m\"rb\"\u001b[0m\u001b[0;34m)\u001b[0m \u001b[0;32mas\u001b[0m \u001b[0mfile\u001b[0m\u001b[0;34m:\u001b[0m\u001b[0;34m\u001b[0m\u001b[0m\n\u001b[0;32m----> 2\u001b[0;31m     \u001b[0mpickle\u001b[0m\u001b[0;34m.\u001b[0m\u001b[0mload\u001b[0m\u001b[0;34m(\u001b[0m\u001b[0mStrToBytes\u001b[0m\u001b[0;34m(\u001b[0m\u001b[0mfile\u001b[0m\u001b[0;34m)\u001b[0m\u001b[0;34m)\u001b[0m\u001b[0;34m\u001b[0m\u001b[0m\n\u001b[0m",
      "\u001b[0;31mNameError\u001b[0m: name 'StrToBytes' is not defined"
     ]
    }
   ],
   "source": []
  },
  {
   "cell_type": "code",
   "execution_count": null,
   "metadata": {
    "collapsed": true
   },
   "outputs": [],
   "source": []
  }
 ],
 "metadata": {
  "anaconda-cloud": {},
  "kernelspec": {
   "display_name": "Python [conda env:anaconda3]",
   "language": "python",
   "name": "conda-env-anaconda3-py"
  },
  "language_info": {
   "codemirror_mode": {
    "name": "ipython",
    "version": 3
   },
   "file_extension": ".py",
   "mimetype": "text/x-python",
   "name": "python",
   "nbconvert_exporter": "python",
   "pygments_lexer": "ipython3",
   "version": "3.5.2"
  }
 },
 "nbformat": 4,
 "nbformat_minor": 2
}
