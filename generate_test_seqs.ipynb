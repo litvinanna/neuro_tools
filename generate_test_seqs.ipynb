{
 "cells": [
  {
   "cell_type": "code",
   "execution_count": 10,
   "metadata": {},
   "outputs": [],
   "source": [
    "from Bio.Seq import Seq\n",
    "from Bio.Alphabet import generic_dna\n",
    "from Bio.SeqRecord import SeqRecord\n",
    "from Bio import SeqIO"
   ]
  },
  {
   "cell_type": "code",
   "execution_count": 3,
   "metadata": {},
   "outputs": [],
   "source": [
    "length=500000"
   ]
  },
  {
   "cell_type": "code",
   "execution_count": 18,
   "metadata": {},
   "outputs": [],
   "source": [
    "all_a = \"A\"*length"
   ]
  },
  {
   "cell_type": "code",
   "execution_count": 19,
   "metadata": {},
   "outputs": [],
   "source": [
    "seq_a = Seq(all_a, generic_dna)"
   ]
  },
  {
   "cell_type": "code",
   "execution_count": 23,
   "metadata": {},
   "outputs": [],
   "source": [
    "record = SeqRecord(Seq(all_a, generic_dna),\n",
    "                    id=\"all_A\", name=\"test_seq_A\",\n",
    "                    description=\"test seq all_A\")"
   ]
  },
  {
   "cell_type": "code",
   "execution_count": 26,
   "metadata": {},
   "outputs": [],
   "source": [
    "with open(\"/Users/pochtalionizm/Projects/neuro/data/test_all_A.fasta\", \"w\") as handle:\n",
    "  SeqIO.write(record, handle, \"fasta\")"
   ]
  },
  {
   "cell_type": "code",
   "execution_count": 29,
   "metadata": {},
   "outputs": [],
   "source": [
    "l = int(length / 4)\n",
    "blocks = \"A\"* l + \"C\"*l + \"G\"*l + \"T\"*l"
   ]
  },
  {
   "cell_type": "code",
   "execution_count": 30,
   "metadata": {},
   "outputs": [],
   "source": [
    "record = SeqRecord(Seq(blocks, generic_dna),\n",
    "                    id=\"blocks\", name=\"test_seq_blocks\",\n",
    "                    description=\"test seq blocks\")\n",
    "with open(\"/Users/pochtalionizm/Projects/neuro/data/test_blocks.fasta\", \"w\") as handle:\n",
    "  SeqIO.write(record, handle, \"fasta\")"
   ]
  },
  {
   "cell_type": "code",
   "execution_count": 4,
   "metadata": {},
   "outputs": [],
   "source": []
  },
  {
   "cell_type": "code",
   "execution_count": 5,
   "metadata": {},
   "outputs": [],
   "source": [
    "l = int(length / 4)\n",
    "miniblocks = \"ATGC\"*l\n",
    "record = SeqRecord(Seq(miniblocks, generic_dna),\n",
    "                    id=\"miniblocks\", name=\"test_seq_miniblocks\",\n",
    "                    description=\"test seq miniblocks\")\n",
    "with open(\"/Users/pochtalionizm/Projects/neuro/data/test_miniblocks.fasta\", \"w\") as handle:\n",
    "  SeqIO.write(record, handle, \"fasta\")"
   ]
  },
  {
   "cell_type": "code",
   "execution_count": 6,
   "metadata": {},
   "outputs": [],
   "source": [
    "l = int(length / 4)\n",
    "seq = \"AACATTGGC\"*l\n",
    "record = SeqRecord(Seq(seq, generic_dna),\n",
    "                    id=\"miniblocks10\", name=\"test_seq_miniblocks10\",\n",
    "                    description=\"test seq miniblocks10\")\n",
    "with open(\"/Users/pochtalionizm/Projects/neuro/data/test_miniblocks10.fasta\", \"w\") as handle:\n",
    "  SeqIO.write(record, handle, \"fasta\")"
   ]
  },
  {
   "cell_type": "markdown",
   "metadata": {},
   "source": [
    "Generate coding and noncoding"
   ]
  },
  {
   "cell_type": "code",
   "execution_count": 6,
   "metadata": {},
   "outputs": [
    {
     "name": "stdout",
     "output_type": "stream",
     "text": [
      "0.8947438214207672\n"
     ]
    }
   ],
   "source": [
    "from Bio import SeqIO\n",
    "import numpy as np\n",
    "\n",
    "iterator = SeqIO.parse(\"/Users/pochtalionizm/Projects/neuro/data/myco.gbff\", \"genbank\")\n",
    "record = next(iterator)\n",
    "length = (len(record.seq))\n",
    "\n",
    "\n",
    "coding = np.zeros(length)\n",
    "for f in record.features:\n",
    "    if f.type == \"CDS\":\n",
    "        f_start = f.location.start\n",
    "        f_end = f.location.end\n",
    "        coding[f_start: f_end] = 1 \n",
    "print(sum(coding)/ length)"
   ]
  },
  {
   "cell_type": "code",
   "execution_count": 8,
   "metadata": {},
   "outputs": [],
   "source": [
    "cds = ''\n",
    "non = ''\n",
    "for count, elem in enumerate(coding):\n",
    "    if elem == 1: #coding\n",
    "        cds += record.seq[count]\n",
    "    else:\n",
    "        non += record.seq[count]"
   ]
  },
  {
   "cell_type": "code",
   "execution_count": 9,
   "metadata": {},
   "outputs": [
    {
     "name": "stdout",
     "output_type": "stream",
     "text": [
      "3947191 3947191.0 464341\n"
     ]
    }
   ],
   "source": [
    "print(len(cds), sum(coding), len(non))"
   ]
  },
  {
   "cell_type": "code",
   "execution_count": 11,
   "metadata": {},
   "outputs": [],
   "source": [
    "record = SeqRecord(Seq(cds, generic_dna),\n",
    "                    id=\"myco_cds\", name=\"myco_cds\")\n",
    "\n",
    "with open(\"/Users/pochtalionizm/Projects/neuro/data/myco_cds.fasta\", \"w\") as handle:\n",
    "  SeqIO.write(record, handle, \"fasta\")"
   ]
  },
  {
   "cell_type": "code",
   "execution_count": 12,
   "metadata": {},
   "outputs": [],
   "source": [
    "record = SeqRecord(Seq(non, generic_dna),\n",
    "                    id=\"myco_non\", name=\"myco_non\")\n",
    "\n",
    "with open(\"/Users/pochtalionizm/Projects/neuro/data/myco_non.fasta\", \"w\") as handle:\n",
    "  SeqIO.write(record, handle, \"fasta\")"
   ]
  },
  {
   "cell_type": "code",
   "execution_count": null,
   "metadata": {},
   "outputs": [],
   "source": []
  }
 ],
 "metadata": {
  "kernelspec": {
   "display_name": "Python 3",
   "language": "python",
   "name": "python3"
  },
  "language_info": {
   "codemirror_mode": {
    "name": "ipython",
    "version": 3
   },
   "file_extension": ".py",
   "mimetype": "text/x-python",
   "name": "python",
   "nbconvert_exporter": "python",
   "pygments_lexer": "ipython3",
   "version": "3.7.1"
  }
 },
 "nbformat": 4,
 "nbformat_minor": 2
}
