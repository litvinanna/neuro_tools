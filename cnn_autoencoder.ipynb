{
 "cells": [
  {
   "cell_type": "code",
   "execution_count": 1,
   "metadata": {},
   "outputs": [],
   "source": [
    "from sequence_for_nn import *"
   ]
  },
  {
   "cell_type": "code",
   "execution_count": 2,
   "metadata": {},
   "outputs": [
    {
     "name": "stdout",
     "output_type": "stream",
     "text": [
      "...\r",
      "container created\n",
      "...\r",
      "read seq from file ../data/myco_genome.fasta, length = 4399916\n",
      "...\r",
      "cuted seq for analysis, length = 100, start = 0, part = 0.0-0.0\n",
      "...\r",
      "generated seq_np\n"
     ]
    }
   ],
   "source": [
    "container = Container()\n",
    "container.read_seq(\"../data/myco_genome.fasta\", \"fasta\")\n",
    "container.cut_seq(length = 100, start = 0)\n",
    "container.generate_seq()"
   ]
  },
  {
   "cell_type": "code",
   "execution_count": 3,
   "metadata": {},
   "outputs": [
    {
     "name": "stdout",
     "output_type": "stream",
     "text": [
      "(4, 100)\n",
      "(4, 100)\n"
     ]
    }
   ],
   "source": [
    "inp = np.random.rand(4, 100)\n",
    "end = container.seq_np\n",
    "print(inp.shape)\n",
    "print(end.shape)"
   ]
  },
  {
   "cell_type": "code",
   "execution_count": 4,
   "metadata": {},
   "outputs": [
    {
     "name": "stderr",
     "output_type": "stream",
     "text": [
      "Using TensorFlow backend.\n"
     ]
    }
   ],
   "source": [
    "import tensorflow as tf\n",
    "import numpy as np\n",
    "import keras\n",
    "from keras.datasets import mnist\n",
    "from keras.models import Sequential\n",
    "# from keras.layers import Dense, Dropout, Flatten\n",
    "from keras.layers import Conv1D, MaxPooling1D, UpSampling1D\n",
    "from keras import backend as K"
   ]
  },
  {
   "cell_type": "code",
   "execution_count": 5,
   "metadata": {},
   "outputs": [],
   "source": [
    "input_shape = (4, 100) #batch, steps, channels"
   ]
  },
  {
   "cell_type": "code",
   "execution_count": 7,
   "metadata": {},
   "outputs": [],
   "source": [
    "model = Sequential()\n",
    "model.add(Conv1D(32, kernel_size= 3,\n",
    "                 activation='relu',\n",
    "                 input_shape=input_shape))\n",
    "# model.add(Conv1D(64, 3, activation='relu'))\n",
    "# model.add(MaxPooling1D(pool_size=2))\n",
    "model.add(UpSampling1D(size = 3))"
   ]
  },
  {
   "cell_type": "code",
   "execution_count": 8,
   "metadata": {},
   "outputs": [],
   "source": [
    "model.compile(optimizer='adam', loss='mse')"
   ]
  },
  {
   "cell_type": "markdown",
   "metadata": {},
   "source": [
    "# 2D"
   ]
  },
  {
   "cell_type": "code",
   "execution_count": 9,
   "metadata": {},
   "outputs": [],
   "source": [
    "from PIL import Image\n",
    "import numpy as np\n",
    "import math"
   ]
  },
  {
   "cell_type": "code",
   "execution_count": 63,
   "metadata": {},
   "outputs": [
    {
     "name": "stdout",
     "output_type": "stream",
     "text": [
      "(100, 100, 3)\n",
      "(10, 100, 100, 3)\n"
     ]
    }
   ],
   "source": [
    "length = 100\n",
    "array = np.zeros((length, length), dtype = (np.uint8, 3))\n",
    "for line in range(0, length, 5):\n",
    "    array[line:line+1, :, :] = 255\n",
    "print(array.shape)\n",
    "image = Image.fromarray(array)\n",
    "image.show()\n",
    "\n",
    "array_10 = np.array([array for i in range(10)])\n",
    "print(array_10.shape)"
   ]
  },
  {
   "cell_type": "code",
   "execution_count": null,
   "metadata": {},
   "outputs": [],
   "source": []
  },
  {
   "cell_type": "code",
   "execution_count": 62,
   "metadata": {},
   "outputs": [
    {
     "name": "stdout",
     "output_type": "stream",
     "text": [
      "(100, 100, 3)\n",
      "(10, 100, 100, 3)\n"
     ]
    }
   ],
   "source": [
    "inp = np.random.rand(length, length, 3)\n",
    "print(inp.shape)\n",
    "for i in np.nditer(inp):\n",
    "    i = math.trunc(i * 255)\n",
    "image = Image.fromarray(inp.astype(np.uint8))\n",
    "image.show()\n",
    "inp_10 = np.array([inp for i in range(10)])\n",
    "print(inp_10.shape)"
   ]
  },
  {
   "cell_type": "code",
   "execution_count": 12,
   "metadata": {},
   "outputs": [],
   "source": [
    "from keras.layers import Conv2D, MaxPooling2D, UpSampling2D"
   ]
  },
  {
   "cell_type": "code",
   "execution_count": 52,
   "metadata": {},
   "outputs": [],
   "source": [
    "input_shape = (100, 100, 3)\n",
    "model = Sequential()\n",
    "model.add(Conv2D(3, kernel_size=(3, 3),\n",
    "                 activation='relu',\n",
    "                 input_shape=input_shape, \n",
    "                 padding = 'same'))\n",
    "\n",
    "model.add(MaxPooling2D(pool_size=(2, 2)))\n",
    "model.add(UpSampling2D(size = 2))\n",
    "model.add(Conv2D(3, kernel_size=(3, 3), \n",
    "                 padding = 'same',\n",
    "                activation='relu'))"
   ]
  },
  {
   "cell_type": "code",
   "execution_count": 53,
   "metadata": {},
   "outputs": [],
   "source": [
    "model.compile(optimizer='adam', loss='mean_squared_error')"
   ]
  },
  {
   "cell_type": "code",
   "execution_count": 54,
   "metadata": {},
   "outputs": [
    {
     "name": "stdout",
     "output_type": "stream",
     "text": [
      "_________________________________________________________________\n",
      "Layer (type)                 Output Shape              Param #   \n",
      "=================================================================\n",
      "conv2d_7 (Conv2D)            (None, 100, 100, 3)       84        \n",
      "=================================================================\n",
      "Total params: 84\n",
      "Trainable params: 84\n",
      "Non-trainable params: 0\n",
      "_________________________________________________________________\n"
     ]
    }
   ],
   "source": [
    "model.summary()"
   ]
  },
  {
   "cell_type": "code",
   "execution_count": 55,
   "metadata": {},
   "outputs": [
    {
     "name": "stdout",
     "output_type": "stream",
     "text": [
      "Epoch 1/100\n",
      "10/10 [==============================] - 0s 33ms/step - loss: 12941.1533\n",
      "Epoch 2/100\n",
      "10/10 [==============================] - 0s 4ms/step - loss: 12940.1699\n",
      "Epoch 3/100\n",
      "10/10 [==============================] - 0s 4ms/step - loss: 12939.1748\n",
      "Epoch 4/100\n",
      "10/10 [==============================] - 0s 4ms/step - loss: 12938.2617\n",
      "Epoch 5/100\n",
      "10/10 [==============================] - 0s 4ms/step - loss: 12937.3115\n",
      "Epoch 6/100\n",
      "10/10 [==============================] - 0s 6ms/step - loss: 12936.2959\n",
      "Epoch 7/100\n",
      "10/10 [==============================] - 0s 5ms/step - loss: 12935.2725\n",
      "Epoch 8/100\n",
      "10/10 [==============================] - 0s 5ms/step - loss: 12934.2402\n",
      "Epoch 9/100\n",
      "10/10 [==============================] - 0s 5ms/step - loss: 12933.2012\n",
      "Epoch 10/100\n",
      "10/10 [==============================] - 0s 4ms/step - loss: 12932.1523\n",
      "Epoch 11/100\n",
      "10/10 [==============================] - 0s 5ms/step - loss: 12931.0908\n",
      "Epoch 12/100\n",
      "10/10 [==============================] - 0s 5ms/step - loss: 12930.0205\n",
      "Epoch 13/100\n",
      "10/10 [==============================] - 0s 5ms/step - loss: 12928.9346\n",
      "Epoch 14/100\n",
      "10/10 [==============================] - 0s 5ms/step - loss: 12927.8457\n",
      "Epoch 15/100\n",
      "10/10 [==============================] - 0s 5ms/step - loss: 12926.7412\n",
      "Epoch 16/100\n",
      "10/10 [==============================] - 0s 4ms/step - loss: 12925.6221\n",
      "Epoch 17/100\n",
      "10/10 [==============================] - 0s 4ms/step - loss: 12924.4912\n",
      "Epoch 18/100\n",
      "10/10 [==============================] - 0s 4ms/step - loss: 12923.3428\n",
      "Epoch 19/100\n",
      "10/10 [==============================] - 0s 5ms/step - loss: 12922.1807\n",
      "Epoch 20/100\n",
      "10/10 [==============================] - 0s 5ms/step - loss: 12920.9873\n",
      "Epoch 21/100\n",
      "10/10 [==============================] - 0s 6ms/step - loss: 12919.7939\n",
      "Epoch 22/100\n",
      "10/10 [==============================] - 0s 6ms/step - loss: 12918.5840\n",
      "Epoch 23/100\n",
      "10/10 [==============================] - 0s 5ms/step - loss: 12917.3604\n",
      "Epoch 24/100\n",
      "10/10 [==============================] - 0s 4ms/step - loss: 12916.1172\n",
      "Epoch 25/100\n",
      "10/10 [==============================] - 0s 3ms/step - loss: 12914.8594\n",
      "Epoch 26/100\n",
      "10/10 [==============================] - 0s 4ms/step - loss: 12913.5850\n",
      "Epoch 27/100\n",
      "10/10 [==============================] - 0s 4ms/step - loss: 12912.2988\n",
      "Epoch 28/100\n",
      "10/10 [==============================] - 0s 3ms/step - loss: 12910.9912\n",
      "Epoch 29/100\n",
      "10/10 [==============================] - 0s 5ms/step - loss: 12909.6709\n",
      "Epoch 30/100\n",
      "10/10 [==============================] - 0s 5ms/step - loss: 12908.3301\n",
      "Epoch 31/100\n",
      "10/10 [==============================] - 0s 6ms/step - loss: 12906.9756\n",
      "Epoch 32/100\n",
      "10/10 [==============================] - 0s 6ms/step - loss: 12905.6045\n",
      "Epoch 33/100\n",
      "10/10 [==============================] - 0s 4ms/step - loss: 12904.2178\n",
      "Epoch 34/100\n",
      "10/10 [==============================] - 0s 5ms/step - loss: 12902.8125\n",
      "Epoch 35/100\n",
      "10/10 [==============================] - 0s 4ms/step - loss: 12901.3916\n",
      "Epoch 36/100\n",
      "10/10 [==============================] - 0s 4ms/step - loss: 12899.9580\n",
      "Epoch 37/100\n",
      "10/10 [==============================] - 0s 5ms/step - loss: 12898.4854\n",
      "Epoch 38/100\n",
      "10/10 [==============================] - 0s 6ms/step - loss: 12897.0186\n",
      "Epoch 39/100\n",
      "10/10 [==============================] - 0s 6ms/step - loss: 12895.5361\n",
      "Epoch 40/100\n",
      "10/10 [==============================] - 0s 4ms/step - loss: 12894.0283\n",
      "Epoch 41/100\n",
      "10/10 [==============================] - 0s 4ms/step - loss: 12892.5205\n",
      "Epoch 42/100\n",
      "10/10 [==============================] - 0s 5ms/step - loss: 12891.0068\n",
      "Epoch 43/100\n",
      "10/10 [==============================] - 0s 4ms/step - loss: 12889.4785\n",
      "Epoch 44/100\n",
      "10/10 [==============================] - 0s 4ms/step - loss: 12887.9404\n",
      "Epoch 45/100\n",
      "10/10 [==============================] - 0s 4ms/step - loss: 12886.4033\n",
      "Epoch 46/100\n",
      "10/10 [==============================] - 0s 4ms/step - loss: 12884.8359\n",
      "Epoch 47/100\n",
      "10/10 [==============================] - 0s 4ms/step - loss: 12883.2852\n",
      "Epoch 48/100\n",
      "10/10 [==============================] - 0s 4ms/step - loss: 12881.7246\n",
      "Epoch 49/100\n",
      "10/10 [==============================] - 0s 4ms/step - loss: 12880.1699\n",
      "Epoch 50/100\n",
      "10/10 [==============================] - 0s 5ms/step - loss: 12878.6074\n",
      "Epoch 51/100\n",
      "10/10 [==============================] - 0s 4ms/step - loss: 12877.0420\n",
      "Epoch 52/100\n",
      "10/10 [==============================] - 0s 4ms/step - loss: 12875.4639\n",
      "Epoch 53/100\n",
      "10/10 [==============================] - 0s 5ms/step - loss: 12873.8984\n",
      "Epoch 54/100\n",
      "10/10 [==============================] - 0s 4ms/step - loss: 12872.3320\n",
      "Epoch 55/100\n",
      "10/10 [==============================] - 0s 4ms/step - loss: 12870.7666\n",
      "Epoch 56/100\n",
      "10/10 [==============================] - 0s 5ms/step - loss: 12869.1992\n",
      "Epoch 57/100\n",
      "10/10 [==============================] - 0s 6ms/step - loss: 12867.6309\n",
      "Epoch 58/100\n",
      "10/10 [==============================] - 0s 5ms/step - loss: 12866.0654\n",
      "Epoch 59/100\n",
      "10/10 [==============================] - 0s 5ms/step - loss: 12864.5010\n",
      "Epoch 60/100\n",
      "10/10 [==============================] - 0s 3ms/step - loss: 12862.9404\n",
      "Epoch 61/100\n",
      "10/10 [==============================] - 0s 5ms/step - loss: 12861.3672\n",
      "Epoch 62/100\n",
      "10/10 [==============================] - 0s 4ms/step - loss: 12859.8096\n",
      "Epoch 63/100\n",
      "10/10 [==============================] - 0s 4ms/step - loss: 12858.2549\n",
      "Epoch 64/100\n",
      "10/10 [==============================] - 0s 4ms/step - loss: 12856.7041\n",
      "Epoch 65/100\n",
      "10/10 [==============================] - 0s 4ms/step - loss: 12855.1504\n",
      "Epoch 66/100\n",
      "10/10 [==============================] - 0s 3ms/step - loss: 12853.5977\n",
      "Epoch 67/100\n",
      "10/10 [==============================] - 0s 4ms/step - loss: 12852.0537\n",
      "Epoch 68/100\n",
      "10/10 [==============================] - 0s 3ms/step - loss: 12850.5029\n",
      "Epoch 69/100\n",
      "10/10 [==============================] - 0s 3ms/step - loss: 12848.9590\n",
      "Epoch 70/100\n",
      "10/10 [==============================] - 0s 3ms/step - loss: 12847.4180\n",
      "Epoch 71/100\n",
      "10/10 [==============================] - 0s 3ms/step - loss: 12845.8740\n",
      "Epoch 72/100\n",
      "10/10 [==============================] - 0s 5ms/step - loss: 12844.3408\n",
      "Epoch 73/100\n",
      "10/10 [==============================] - 0s 5ms/step - loss: 12842.8066\n",
      "Epoch 74/100\n",
      "10/10 [==============================] - 0s 5ms/step - loss: 12841.2783\n",
      "Epoch 75/100\n",
      "10/10 [==============================] - 0s 4ms/step - loss: 12839.7451\n",
      "Epoch 76/100\n",
      "10/10 [==============================] - 0s 5ms/step - loss: 12838.2168\n",
      "Epoch 77/100\n",
      "10/10 [==============================] - 0s 5ms/step - loss: 12836.6982\n",
      "Epoch 78/100\n",
      "10/10 [==============================] - 0s 3ms/step - loss: 12835.1758\n",
      "Epoch 79/100\n",
      "10/10 [==============================] - 0s 4ms/step - loss: 12833.6621\n",
      "Epoch 80/100\n",
      "10/10 [==============================] - 0s 4ms/step - loss: 12832.1465\n",
      "Epoch 81/100\n",
      "10/10 [==============================] - 0s 4ms/step - loss: 12830.6348\n",
      "Epoch 82/100\n",
      "10/10 [==============================] - 0s 3ms/step - loss: 12829.1279\n",
      "Epoch 83/100\n",
      "10/10 [==============================] - 0s 3ms/step - loss: 12827.6182\n",
      "Epoch 84/100\n",
      "10/10 [==============================] - 0s 3ms/step - loss: 12826.1104\n",
      "Epoch 85/100\n",
      "10/10 [==============================] - 0s 3ms/step - loss: 12824.6084\n",
      "Epoch 86/100\n",
      "10/10 [==============================] - 0s 3ms/step - loss: 12823.1084\n",
      "Epoch 87/100\n",
      "10/10 [==============================] - 0s 3ms/step - loss: 12821.6084\n",
      "Epoch 88/100\n",
      "10/10 [==============================] - 0s 3ms/step - loss: 12820.1172\n",
      "Epoch 89/100\n",
      "10/10 [==============================] - 0s 3ms/step - loss: 12818.6211\n",
      "Epoch 90/100\n",
      "10/10 [==============================] - 0s 3ms/step - loss: 12817.1299\n",
      "Epoch 91/100\n",
      "10/10 [==============================] - 0s 3ms/step - loss: 12815.6436\n",
      "Epoch 92/100\n",
      "10/10 [==============================] - 0s 3ms/step - loss: 12814.1553\n",
      "Epoch 93/100\n",
      "10/10 [==============================] - 0s 3ms/step - loss: 12812.6719\n",
      "Epoch 94/100\n",
      "10/10 [==============================] - 0s 3ms/step - loss: 12811.1904\n",
      "Epoch 95/100\n",
      "10/10 [==============================] - 0s 3ms/step - loss: 12809.7100\n",
      "Epoch 96/100\n",
      "10/10 [==============================] - 0s 3ms/step - loss: 12808.2363\n",
      "Epoch 97/100\n",
      "10/10 [==============================] - 0s 4ms/step - loss: 12806.7646\n"
     ]
    },
    {
     "name": "stdout",
     "output_type": "stream",
     "text": [
      "Epoch 98/100\n",
      "10/10 [==============================] - 0s 6ms/step - loss: 12805.2881\n",
      "Epoch 99/100\n",
      "10/10 [==============================] - 0s 5ms/step - loss: 12803.8164\n",
      "Epoch 100/100\n",
      "10/10 [==============================] - 0s 5ms/step - loss: 12802.3457\n"
     ]
    },
    {
     "data": {
      "text/plain": [
       "<keras.callbacks.History at 0xb226eeeb8>"
      ]
     },
     "execution_count": 55,
     "metadata": {},
     "output_type": "execute_result"
    }
   ],
   "source": [
    "model.fit(inp_10, array_10, epochs = 100)"
   ]
  },
  {
   "cell_type": "code",
   "execution_count": 57,
   "metadata": {},
   "outputs": [],
   "source": [
    "out_10 = model.predict(inp_10)"
   ]
  },
  {
   "cell_type": "code",
   "execution_count": 60,
   "metadata": {},
   "outputs": [
    {
     "data": {
      "text/plain": [
       "(100, 100, 3)"
      ]
     },
     "execution_count": 60,
     "metadata": {},
     "output_type": "execute_result"
    }
   ],
   "source": [
    "out_10.shape\n",
    "out = out_10[0]\n",
    "out.shape"
   ]
  },
  {
   "cell_type": "code",
   "execution_count": 61,
   "metadata": {},
   "outputs": [],
   "source": [
    "image = Image.fromarray(out.astype(np.uint8))\n",
    "image.show()"
   ]
  },
  {
   "cell_type": "code",
   "execution_count": null,
   "metadata": {},
   "outputs": [],
   "source": []
  }
 ],
 "metadata": {
  "kernelspec": {
   "display_name": "Python 3",
   "language": "python",
   "name": "python3"
  },
  "language_info": {
   "codemirror_mode": {
    "name": "ipython",
    "version": 3
   },
   "file_extension": ".py",
   "mimetype": "text/x-python",
   "name": "python",
   "nbconvert_exporter": "python",
   "pygments_lexer": "ipython3",
   "version": "3.6.7"
  }
 },
 "nbformat": 4,
 "nbformat_minor": 2
}
