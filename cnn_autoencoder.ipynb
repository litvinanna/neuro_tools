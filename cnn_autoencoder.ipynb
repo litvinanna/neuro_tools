{
 "cells": [
  {
   "cell_type": "code",
   "execution_count": 1,
   "metadata": {
    "collapsed": true
   },
   "outputs": [],
   "source": [
    "from sequence_for_nn import *"
   ]
  },
  {
   "cell_type": "code",
   "execution_count": 2,
   "metadata": {
    "collapsed": false
   },
   "outputs": [
    {
     "name": "stdout",
     "output_type": "stream",
     "text": [
      "...\r",
      "container created\n",
      "...\r",
      "read seq from file ../data/myco_genome.fasta, length = 4399916\n",
      "...\r",
      "cuted seq for analysis, length = 100, start = 0, part = 0.0-0.0\n",
      "...\r",
      "generated seq_np\n"
     ]
    }
   ],
   "source": [
    "container = Container()\n",
    "container.read_seq(\"../data/myco_genome.fasta\", \"fasta\")\n",
    "container.cut_seq(length = 100, start = 0)\n",
    "container.generate_seq()"
   ]
  },
  {
   "cell_type": "code",
   "execution_count": 3,
   "metadata": {
    "collapsed": false
   },
   "outputs": [
    {
     "name": "stdout",
     "output_type": "stream",
     "text": [
      "(4, 100)\n",
      "(4, 100)\n"
     ]
    }
   ],
   "source": [
    "inp = np.random.rand(4, 100)\n",
    "end = container.seq_np\n",
    "print(inp.shape)\n",
    "print(end.shape)"
   ]
  },
  {
   "cell_type": "code",
   "execution_count": 4,
   "metadata": {
    "collapsed": false
   },
   "outputs": [
    {
     "name": "stderr",
     "output_type": "stream",
     "text": [
      "Using TensorFlow backend.\n"
     ]
    }
   ],
   "source": [
    "import tensorflow as tf\n",
    "import numpy as np\n",
    "import keras\n",
    "from keras.datasets import mnist\n",
    "from keras.models import Sequential\n",
    "# from keras.layers import Dense, Dropout, Flatten\n",
    "from keras.layers import Conv1D, MaxPooling1D, UpSampling1D\n",
    "from keras import backend as K"
   ]
  },
  {
   "cell_type": "code",
   "execution_count": 5,
   "metadata": {
    "collapsed": true
   },
   "outputs": [],
   "source": [
    "input_shape = (4, 100) #batch, steps, channels"
   ]
  },
  {
   "cell_type": "code",
   "execution_count": null,
   "metadata": {
    "collapsed": true
   },
   "outputs": [],
   "source": []
  },
  {
   "cell_type": "code",
   "execution_count": 7,
   "metadata": {
    "collapsed": true
   },
   "outputs": [],
   "source": [
    "model = Sequential()\n",
    "model.add(Conv1D(32, kernel_size= 3,\n",
    "                 activation='relu',\n",
    "                 input_shape=input_shape))\n",
    "# model.add(Conv1D(64, 3, activation='relu'))\n",
    "# model.add(MaxPooling1D(pool_size=2))\n",
    "model.add(UpSampling1D(size = 3))"
   ]
  },
  {
   "cell_type": "code",
   "execution_count": 8,
   "metadata": {
    "collapsed": true
   },
   "outputs": [],
   "source": [
    "model.compile(optimizer='adam', loss='mse')"
   ]
  },
  {
   "cell_type": "markdown",
   "metadata": {},
   "source": [
    "# 2D with pics"
   ]
  },
  {
   "cell_type": "code",
   "execution_count": 1,
   "metadata": {
    "collapsed": true
   },
   "outputs": [],
   "source": [
    "# from PIL import Image\n",
    "import numpy as np\n",
    "import math\n",
    "# import IPython\n",
    "import matplotlib.pyplot as plt\n",
    "%matplotlib inline"
   ]
  },
  {
   "cell_type": "code",
   "execution_count": 27,
   "metadata": {
    "collapsed": false
   },
   "outputs": [
    {
     "name": "stdout",
     "output_type": "stream",
     "text": [
      "(64, 64, 3)\n",
      "(10, 64, 64, 3)\n"
     ]
    },
    {
     "data": {
      "image/png": "[encoded data removed]",
      "text/plain": [
       "<matplotlib.figure.Figure at 0x7fcec21d56a0>"
      ]
     },
     "metadata": {},
     "output_type": "display_data"
    }
   ],
   "source": [
    "length = 64\n",
    "array = np.zeros((length, length, 3))\n",
    "\n",
    "for line in range(0, length, 10):\n",
    "    array[line:line+4, :, 1] = 1\n",
    "    array[:, line:line+4, 1] = np.abs(array[:, line:line+4, 1] - 1)\n",
    "print(array.shape)\n",
    "\n",
    "array_image = (array * 255).astype(np.uint8)\n",
    "#image = Image.fromarray(array_image)\n",
    "# image.show()\n",
    "imgplot = plt.imshow(array_image)\n",
    "# IPython.display.display(IPython.display.Image(image))\n",
    "\n",
    "array_10 = np.array([array for i in range(10)])\n",
    "print(array_10.shape)"
   ]
  },
  {
   "cell_type": "code",
   "execution_count": 28,
   "metadata": {
    "collapsed": false
   },
   "outputs": [
    {
     "data": {
      "image/png": "[encoded data removed]",
      "text/plain": [
       "<matplotlib.figure.Figure at 0x7fcec21cfc18>"
      ]
     },
     "metadata": {},
     "output_type": "display_data"
    }
   ],
   "source": [
    "mask = np.zeros((length, length, 3))\n",
    "mask.fill(1)\n",
    "for line in range(10, 40):\n",
    "    mask[line, 10:40, :] = 0\n",
    "    \n",
    "mask_image = (mask * 255).astype(np.uint8)\n",
    "# image = Image.fromarray(mask_image)\n",
    "# image.show()\n",
    "imgplot = plt.imshow(mask_image)"
   ]
  },
  {
   "cell_type": "code",
   "execution_count": 29,
   "metadata": {
    "collapsed": false
   },
   "outputs": [
    {
     "data": {
      "image/png": "[encoded data removed]",
      "text/plain": [
       "<matplotlib.figure.Figure at 0x7fcec21da2b0>"
      ]
     },
     "metadata": {},
     "output_type": "display_data"
    }
   ],
   "source": [
    "masked_image = (array * mask * 255).astype(np.uint8)\n",
    "# image = Image.fromarray(masked_image)\n",
    "# image.show()\n",
    "imgplot = plt.imshow(masked_image)"
   ]
  },
  {
   "cell_type": "code",
   "execution_count": 30,
   "metadata": {
    "collapsed": false
   },
   "outputs": [
    {
     "name": "stdout",
     "output_type": "stream",
     "text": [
      "(64, 64, 32)\n",
      "(10, 64, 64, 32)\n"
     ]
    }
   ],
   "source": [
    "inp = np.random.rand(length, length, 32)\n",
    "print(inp.shape)\n",
    "\n",
    "# for i in np.nditer(inp):\n",
    "#     i = math.trunc(i * 255)\n",
    "# image = Image.fromarray(inp.astype(np.uint8))\n",
    "# image.show()\n",
    "inp_10 = np.array([inp for i in range(10)])\n",
    "print(inp_10.shape)"
   ]
  },
  {
   "cell_type": "code",
   "execution_count": 31,
   "metadata": {
    "collapsed": false
   },
   "outputs": [],
   "source": [
    "from keras.layers import Conv2D, MaxPooling2D, UpSampling2D, Input, Dense, Concatenate, concatenate\n",
    "from keras.layers import Input, Dense\n",
    "from keras.models import Model"
   ]
  },
  {
   "cell_type": "code",
   "execution_count": 52,
   "metadata": {
    "collapsed": false
   },
   "outputs": [],
   "source": [
    "input_shape = (length, length, 32)\n",
    "\n",
    "input_img = Input(shape=(length, length, 32))\n",
    "x1 = Conv2D(16, (4, 4), activation='relu', padding='same')(input_img)\n",
    "x1 = MaxPooling2D((2, 2), padding='same')(x1) # x1 (64, 64, 16)\n",
    "\n",
    "x2 = Conv2D(8, (4, 4), activation='relu', padding='same')(x1)\n",
    "x2 = MaxPooling2D((2, 2), padding='same')(x2) # x2 (32, 32, 8)\n",
    "\n",
    "x3 = Conv2D(8, (4, 4), activation='relu', padding='same')(x2)\n",
    "x3 = MaxPooling2D((2, 2), padding='same')(x3) #x3 (16, 16, 8)\n",
    "\n",
    "# at this point the representation is (4, 4, 8) i.e. 128-dimensional\n",
    "\n",
    "\n",
    "x97 = Conv2D(8, (3, 3), activation='relu', padding='same')(x3)\n",
    "x97 = UpSampling2D((2, 2))(x97) #x97 (32, 32, 8)\n",
    "\n",
    "x98 = Conv2D(8, (3, 3), activation='relu', padding='same')(concatenate([x97, x2]))\n",
    "x98 = UpSampling2D((2, 2))(x98) # x98 (64, 64, 8)\n",
    "\n",
    "x99 = Conv2D(16, (3, 3), activation='relu', padding = \"same\")(concatenate([x98, x1]))\n",
    "x99 = UpSampling2D((2, 2))(x99) #x99 (128, 128, 16)\n",
    "\n",
    "decoded = Conv2D(3, (3, 3), activation='sigmoid', padding='same')(x99)\n",
    "\n",
    "\n",
    "model = Model(input_img, decoded)\n"
   ]
  },
  {
   "cell_type": "code",
   "execution_count": 53,
   "metadata": {
    "collapsed": true
   },
   "outputs": [],
   "source": [
    "import keras\n",
    "\n",
    "def customLoss(y_true,y_pred):\n",
    "    return keras.losses.mean_squared_error(y_true * mask, y_pred * mask)\n"
   ]
  },
  {
   "cell_type": "code",
   "execution_count": 54,
   "metadata": {
    "collapsed": false
   },
   "outputs": [],
   "source": [
    "model.compile(optimizer='adam', loss=customLoss)"
   ]
  },
  {
   "cell_type": "code",
   "execution_count": 55,
   "metadata": {
    "collapsed": false
   },
   "outputs": [
    {
     "name": "stdout",
     "output_type": "stream",
     "text": [
      "__________________________________________________________________________________________________\n",
      "Layer (type)                    Output Shape         Param #     Connected to                     \n",
      "==================================================================================================\n",
      "input_4 (InputLayer)            (None, 64, 64, 32)   0                                            \n",
      "__________________________________________________________________________________________________\n",
      "conv2d_22 (Conv2D)              (None, 64, 64, 16)   8208        input_4[0][0]                    \n",
      "__________________________________________________________________________________________________\n",
      "max_pooling2d_10 (MaxPooling2D) (None, 32, 32, 16)   0           conv2d_22[0][0]                  \n",
      "__________________________________________________________________________________________________\n",
      "conv2d_23 (Conv2D)              (None, 32, 32, 8)    2056        max_pooling2d_10[0][0]           \n",
      "__________________________________________________________________________________________________\n",
      "max_pooling2d_11 (MaxPooling2D) (None, 16, 16, 8)    0           conv2d_23[0][0]                  \n",
      "__________________________________________________________________________________________________\n",
      "conv2d_24 (Conv2D)              (None, 16, 16, 8)    1032        max_pooling2d_11[0][0]           \n",
      "__________________________________________________________________________________________________\n",
      "max_pooling2d_12 (MaxPooling2D) (None, 8, 8, 8)      0           conv2d_24[0][0]                  \n",
      "__________________________________________________________________________________________________\n",
      "conv2d_25 (Conv2D)              (None, 8, 8, 8)      584         max_pooling2d_12[0][0]           \n",
      "__________________________________________________________________________________________________\n",
      "up_sampling2d_10 (UpSampling2D) (None, 16, 16, 8)    0           conv2d_25[0][0]                  \n",
      "__________________________________________________________________________________________________\n",
      "concatenate_7 (Concatenate)     (None, 16, 16, 16)   0           up_sampling2d_10[0][0]           \n",
      "                                                                 max_pooling2d_11[0][0]           \n",
      "__________________________________________________________________________________________________\n",
      "conv2d_26 (Conv2D)              (None, 16, 16, 8)    1160        concatenate_7[0][0]              \n",
      "__________________________________________________________________________________________________\n",
      "up_sampling2d_11 (UpSampling2D) (None, 32, 32, 8)    0           conv2d_26[0][0]                  \n",
      "__________________________________________________________________________________________________\n",
      "concatenate_8 (Concatenate)     (None, 32, 32, 24)   0           up_sampling2d_11[0][0]           \n",
      "                                                                 max_pooling2d_10[0][0]           \n",
      "__________________________________________________________________________________________________\n",
      "conv2d_27 (Conv2D)              (None, 32, 32, 16)   3472        concatenate_8[0][0]              \n",
      "__________________________________________________________________________________________________\n",
      "up_sampling2d_12 (UpSampling2D) (None, 64, 64, 16)   0           conv2d_27[0][0]                  \n",
      "__________________________________________________________________________________________________\n",
      "conv2d_28 (Conv2D)              (None, 64, 64, 3)    435         up_sampling2d_12[0][0]           \n",
      "==================================================================================================\n",
      "Total params: 16,947\n",
      "Trainable params: 16,947\n",
      "Non-trainable params: 0\n",
      "__________________________________________________________________________________________________\n"
     ]
    }
   ],
   "source": [
    "model.summary()"
   ]
  },
  {
   "cell_type": "code",
   "execution_count": 56,
   "metadata": {
    "collapsed": false
   },
   "outputs": [
    {
     "name": "stdout",
     "output_type": "stream",
     "text": [
      "Epoch 1/400\n",
      "10/10 [==============================] - 2s 186ms/step - loss: 0.2105\n",
      "Epoch 2/400\n",
      "10/10 [==============================] - 0s 44ms/step - loss: 0.1650\n",
      "Epoch 3/400\n",
      "10/10 [==============================] - 0s 44ms/step - loss: 0.1317\n",
      "Epoch 4/400\n",
      "10/10 [==============================] - 0s 42ms/step - loss: 0.1130\n",
      "Epoch 5/400\n",
      "10/10 [==============================] - 0s 38ms/step - loss: 0.1053\n",
      "Epoch 6/400\n",
      "10/10 [==============================] - 0s 43ms/step - loss: 0.1033\n",
      "Epoch 7/400\n",
      "10/10 [==============================] - 0s 46ms/step - loss: 0.1026\n",
      "Epoch 8/400\n",
      "10/10 [==============================] - 0s 45ms/step - loss: 0.1017\n",
      "Epoch 9/400\n",
      "10/10 [==============================] - 0s 47ms/step - loss: 0.1001\n",
      "Epoch 10/400\n",
      "10/10 [==============================] - 0s 46ms/step - loss: 0.0974\n",
      "Epoch 11/400\n",
      "10/10 [==============================] - 0s 48ms/step - loss: 0.0937\n",
      "Epoch 12/400\n",
      "10/10 [==============================] - 0s 45ms/step - loss: 0.0885\n",
      "Epoch 13/400\n",
      "10/10 [==============================] - 0s 42ms/step - loss: 0.0822\n",
      "Epoch 14/400\n",
      "10/10 [==============================] - 0s 39ms/step - loss: 0.0761\n",
      "Epoch 15/400\n",
      "10/10 [==============================] - 0s 41ms/step - loss: 0.0723\n",
      "Epoch 16/400\n",
      "10/10 [==============================] - 0s 45ms/step - loss: 0.0703\n",
      "Epoch 17/400\n",
      "10/10 [==============================] - 0s 48ms/step - loss: 0.0691\n",
      "Epoch 18/400\n",
      "10/10 [==============================] - 0s 45ms/step - loss: 0.0686\n",
      "Epoch 19/400\n",
      "10/10 [==============================] - 0s 49ms/step - loss: 0.0684\n",
      "Epoch 20/400\n",
      "10/10 [==============================] - 0s 47ms/step - loss: 0.0685\n",
      "Epoch 21/400\n",
      "10/10 [==============================] - 0s 48ms/step - loss: 0.0687\n",
      "Epoch 22/400\n",
      "10/10 [==============================] - 0s 43ms/step - loss: 0.0687\n",
      "Epoch 23/400\n",
      "10/10 [==============================] - 0s 35ms/step - loss: 0.0686\n",
      "Epoch 24/400\n",
      "10/10 [==============================] - 0s 37ms/step - loss: 0.0684\n",
      "Epoch 25/400\n",
      "10/10 [==============================] - 0s 43ms/step - loss: 0.0679\n",
      "Epoch 26/400\n",
      "10/10 [==============================] - 0s 47ms/step - loss: 0.0672\n",
      "Epoch 27/400\n",
      "10/10 [==============================] - 0s 46ms/step - loss: 0.0664\n",
      "Epoch 28/400\n",
      "10/10 [==============================] - 0s 48ms/step - loss: 0.0655\n",
      "Epoch 29/400\n",
      "10/10 [==============================] - 0s 47ms/step - loss: 0.0652\n",
      "Epoch 30/400\n",
      "10/10 [==============================] - 0s 42ms/step - loss: 0.0654\n",
      "Epoch 31/400\n",
      "10/10 [==============================] - 0s 37ms/step - loss: 0.0652\n",
      "Epoch 32/400\n",
      "10/10 [==============================] - 0s 38ms/step - loss: 0.0645\n",
      "Epoch 33/400\n",
      "10/10 [==============================] - 0s 38ms/step - loss: 0.0639\n",
      "Epoch 34/400\n",
      "10/10 [==============================] - 0s 45ms/step - loss: 0.0636\n",
      "Epoch 35/400\n",
      "10/10 [==============================] - 0s 45ms/step - loss: 0.0634\n",
      "Epoch 36/400\n",
      "10/10 [==============================] - 0s 42ms/step - loss: 0.0633\n",
      "Epoch 37/400\n",
      "10/10 [==============================] - 0s 47ms/step - loss: 0.0631\n",
      "Epoch 38/400\n",
      "10/10 [==============================] - 1s 51ms/step - loss: 0.0629\n",
      "Epoch 39/400\n",
      "10/10 [==============================] - 0s 44ms/step - loss: 0.0627\n",
      "Epoch 40/400\n",
      "10/10 [==============================] - 0s 40ms/step - loss: 0.0625\n",
      "Epoch 41/400\n",
      "10/10 [==============================] - 0s 41ms/step - loss: 0.0623\n",
      "Epoch 42/400\n",
      "10/10 [==============================] - 0s 40ms/step - loss: 0.0621\n",
      "Epoch 43/400\n",
      "10/10 [==============================] - 0s 41ms/step - loss: 0.0619\n",
      "Epoch 44/400\n",
      "10/10 [==============================] - 0s 45ms/step - loss: 0.0617\n",
      "Epoch 45/400\n",
      "10/10 [==============================] - 0s 43ms/step - loss: 0.0615\n",
      "Epoch 46/400\n",
      "10/10 [==============================] - 0s 45ms/step - loss: 0.0614\n",
      "Epoch 47/400\n",
      "10/10 [==============================] - 0s 42ms/step - loss: 0.0612\n",
      "Epoch 48/400\n",
      "10/10 [==============================] - 0s 46ms/step - loss: 0.0611\n",
      "Epoch 49/400\n",
      "10/10 [==============================] - 0s 45ms/step - loss: 0.0609\n",
      "Epoch 50/400\n",
      "10/10 [==============================] - 0s 43ms/step - loss: 0.0607\n",
      "Epoch 51/400\n",
      "10/10 [==============================] - 0s 37ms/step - loss: 0.0605\n",
      "Epoch 52/400\n",
      "10/10 [==============================] - 0s 38ms/step - loss: 0.0604\n",
      "Epoch 53/400\n",
      "10/10 [==============================] - 0s 45ms/step - loss: 0.0604\n",
      "Epoch 54/400\n",
      "10/10 [==============================] - 0s 43ms/step - loss: 0.0602\n",
      "Epoch 55/400\n",
      "10/10 [==============================] - 0s 46ms/step - loss: 0.0601\n",
      "Epoch 56/400\n",
      "10/10 [==============================] - 0s 43ms/step - loss: 0.0599\n",
      "Epoch 57/400\n",
      "10/10 [==============================] - 0s 45ms/step - loss: 0.0599\n",
      "Epoch 58/400\n",
      "10/10 [==============================] - 0s 46ms/step - loss: 0.0598\n",
      "Epoch 59/400\n",
      "10/10 [==============================] - 0s 41ms/step - loss: 0.0596\n",
      "Epoch 60/400\n",
      "10/10 [==============================] - 0s 37ms/step - loss: 0.0595\n",
      "Epoch 61/400\n",
      "10/10 [==============================] - 0s 39ms/step - loss: 0.0595\n",
      "Epoch 62/400\n",
      "10/10 [==============================] - 0s 43ms/step - loss: 0.0594\n",
      "Epoch 63/400\n",
      "10/10 [==============================] - 0s 44ms/step - loss: 0.0593\n",
      "Epoch 64/400\n",
      "10/10 [==============================] - 0s 46ms/step - loss: 0.0591\n",
      "Epoch 65/400\n",
      "10/10 [==============================] - 0s 46ms/step - loss: 0.0590\n",
      "Epoch 66/400\n",
      "10/10 [==============================] - 0s 45ms/step - loss: 0.0589\n",
      "Epoch 67/400\n",
      "10/10 [==============================] - 0s 46ms/step - loss: 0.0588\n",
      "Epoch 68/400\n",
      "10/10 [==============================] - 0s 41ms/step - loss: 0.0587\n",
      "Epoch 69/400\n",
      "10/10 [==============================] - 0s 39ms/step - loss: 0.0586\n",
      "Epoch 70/400\n",
      "10/10 [==============================] - 0s 34ms/step - loss: 0.0585\n",
      "Epoch 71/400\n",
      "10/10 [==============================] - 0s 41ms/step - loss: 0.0584\n",
      "Epoch 72/400\n",
      "10/10 [==============================] - 0s 47ms/step - loss: 0.0582\n",
      "Epoch 73/400\n",
      "10/10 [==============================] - 0s 43ms/step - loss: 0.0581\n",
      "Epoch 74/400\n",
      "10/10 [==============================] - 0s 45ms/step - loss: 0.0580\n",
      "Epoch 75/400\n",
      "10/10 [==============================] - 0s 43ms/step - loss: 0.0578\n",
      "Epoch 76/400\n",
      "10/10 [==============================] - 0s 45ms/step - loss: 0.0577\n",
      "Epoch 77/400\n",
      "10/10 [==============================] - 0s 43ms/step - loss: 0.0575\n",
      "Epoch 78/400\n",
      "10/10 [==============================] - 0s 42ms/step - loss: 0.0573\n",
      "Epoch 79/400\n",
      "10/10 [==============================] - 0s 38ms/step - loss: 0.0572\n",
      "Epoch 80/400\n",
      "10/10 [==============================] - 0s 46ms/step - loss: 0.0570\n",
      "Epoch 81/400\n",
      "10/10 [==============================] - 0s 47ms/step - loss: 0.0568\n",
      "Epoch 82/400\n",
      "10/10 [==============================] - 0s 50ms/step - loss: 0.0566\n",
      "Epoch 83/400\n",
      "10/10 [==============================] - 0s 46ms/step - loss: 0.0563\n",
      "Epoch 84/400\n",
      "10/10 [==============================] - 0s 44ms/step - loss: 0.0561\n",
      "Epoch 85/400\n",
      "10/10 [==============================] - 0s 43ms/step - loss: 0.0558\n",
      "Epoch 86/400\n",
      "10/10 [==============================] - 0s 43ms/step - loss: 0.0556\n",
      "Epoch 87/400\n",
      "10/10 [==============================] - 0s 39ms/step - loss: 0.0554\n",
      "Epoch 88/400\n",
      "10/10 [==============================] - 0s 36ms/step - loss: 0.0551\n",
      "Epoch 89/400\n",
      "10/10 [==============================] - 0s 39ms/step - loss: 0.0549\n",
      "Epoch 90/400\n",
      "10/10 [==============================] - 0s 47ms/step - loss: 0.0546\n",
      "Epoch 91/400\n",
      "10/10 [==============================] - 0s 48ms/step - loss: 0.0544\n",
      "Epoch 92/400\n",
      "10/10 [==============================] - 0s 45ms/step - loss: 0.0541\n",
      "Epoch 93/400\n",
      "10/10 [==============================] - 0s 44ms/step - loss: 0.0538\n",
      "Epoch 94/400\n",
      "10/10 [==============================] - 0s 43ms/step - loss: 0.0535\n",
      "Epoch 95/400\n",
      "10/10 [==============================] - 0s 41ms/step - loss: 0.0532\n",
      "Epoch 96/400\n",
      "10/10 [==============================] - 0s 42ms/step - loss: 0.0530\n",
      "Epoch 97/400\n",
      "10/10 [==============================] - 0s 37ms/step - loss: 0.0527\n",
      "Epoch 98/400\n",
      "10/10 [==============================] - 0s 38ms/step - loss: 0.0524\n",
      "Epoch 99/400\n",
      "10/10 [==============================] - 0s 42ms/step - loss: 0.0521\n",
      "Epoch 100/400\n",
      "10/10 [==============================] - 0s 46ms/step - loss: 0.0518\n",
      "Epoch 101/400\n",
      "10/10 [==============================] - 0s 47ms/step - loss: 0.0515\n",
      "Epoch 102/400\n",
      "10/10 [==============================] - 0s 43ms/step - loss: 0.0512\n",
      "Epoch 103/400\n",
      "10/10 [==============================] - 0s 44ms/step - loss: 0.0509\n",
      "Epoch 104/400\n",
      "10/10 [==============================] - 0s 45ms/step - loss: 0.0506\n",
      "Epoch 105/400\n",
      "10/10 [==============================] - 0s 41ms/step - loss: 0.0503\n",
      "Epoch 106/400\n",
      "10/10 [==============================] - 0s 40ms/step - loss: 0.0499\n",
      "Epoch 107/400\n",
      "10/10 [==============================] - 0s 37ms/step - loss: 0.0496\n",
      "Epoch 108/400\n",
      "10/10 [==============================] - 0s 42ms/step - loss: 0.0492\n",
      "Epoch 109/400\n",
      "10/10 [==============================] - 0s 45ms/step - loss: 0.0489\n",
      "Epoch 110/400\n",
      "10/10 [==============================] - 0s 45ms/step - loss: 0.0486\n",
      "Epoch 111/400\n",
      "10/10 [==============================] - 0s 45ms/step - loss: 0.0483\n",
      "Epoch 112/400\n",
      "10/10 [==============================] - 0s 43ms/step - loss: 0.0479\n",
      "Epoch 113/400\n",
      "10/10 [==============================] - 0s 45ms/step - loss: 0.0476\n",
      "Epoch 114/400\n",
      "10/10 [==============================] - 0s 46ms/step - loss: 0.0473\n",
      "Epoch 115/400\n",
      "10/10 [==============================] - 0s 41ms/step - loss: 0.0471\n",
      "Epoch 116/400\n",
      "10/10 [==============================] - 0s 39ms/step - loss: 0.0469\n",
      "Epoch 117/400\n",
      "10/10 [==============================] - 0s 40ms/step - loss: 0.0464\n",
      "Epoch 118/400\n",
      "10/10 [==============================] - 0s 47ms/step - loss: 0.0460\n",
      "Epoch 119/400\n",
      "10/10 [==============================] - 0s 44ms/step - loss: 0.0458\n",
      "Epoch 120/400\n",
      "10/10 [==============================] - 0s 46ms/step - loss: 0.0455\n",
      "Epoch 121/400\n",
      "10/10 [==============================] - 0s 46ms/step - loss: 0.0451\n",
      "Epoch 122/400\n",
      "10/10 [==============================] - 0s 46ms/step - loss: 0.0448\n",
      "Epoch 123/400\n",
      "10/10 [==============================] - 0s 45ms/step - loss: 0.0445\n",
      "Epoch 124/400\n",
      "10/10 [==============================] - 0s 43ms/step - loss: 0.0441\n",
      "Epoch 125/400\n",
      "10/10 [==============================] - 0s 39ms/step - loss: 0.0438\n",
      "Epoch 126/400\n",
      "10/10 [==============================] - 0s 42ms/step - loss: 0.0435\n",
      "Epoch 127/400\n",
      "10/10 [==============================] - 0s 47ms/step - loss: 0.0431\n",
      "Epoch 128/400\n",
      "10/10 [==============================] - 0s 45ms/step - loss: 0.0429\n",
      "Epoch 129/400\n",
      "10/10 [==============================] - 0s 46ms/step - loss: 0.0426\n",
      "Epoch 130/400\n",
      "10/10 [==============================] - 0s 46ms/step - loss: 0.0422\n",
      "Epoch 131/400\n",
      "10/10 [==============================] - 0s 42ms/step - loss: 0.0418\n",
      "Epoch 132/400\n",
      "10/10 [==============================] - 0s 44ms/step - loss: 0.0416\n",
      "Epoch 133/400\n",
      "10/10 [==============================] - 0s 41ms/step - loss: 0.0412\n",
      "Epoch 134/400\n",
      "10/10 [==============================] - 0s 39ms/step - loss: 0.0408\n",
      "Epoch 135/400\n",
      "10/10 [==============================] - 0s 37ms/step - loss: 0.0404\n",
      "Epoch 136/400\n",
      "10/10 [==============================] - 0s 49ms/step - loss: 0.0401\n",
      "Epoch 137/400\n",
      "10/10 [==============================] - 0s 49ms/step - loss: 0.0398\n",
      "Epoch 138/400\n",
      "10/10 [==============================] - 0s 47ms/step - loss: 0.0395\n",
      "Epoch 139/400\n",
      "10/10 [==============================] - 0s 48ms/step - loss: 0.0392\n",
      "Epoch 140/400\n",
      "10/10 [==============================] - 0s 47ms/step - loss: 0.0388\n",
      "Epoch 141/400\n",
      "10/10 [==============================] - 0s 43ms/step - loss: 0.0383\n",
      "Epoch 142/400\n",
      "10/10 [==============================] - 0s 40ms/step - loss: 0.0379\n",
      "Epoch 143/400\n",
      "10/10 [==============================] - 0s 37ms/step - loss: 0.0375\n",
      "Epoch 144/400\n",
      "10/10 [==============================] - 0s 40ms/step - loss: 0.0371\n",
      "Epoch 145/400\n",
      "10/10 [==============================] - 0s 43ms/step - loss: 0.0368\n",
      "Epoch 146/400\n",
      "10/10 [==============================] - 0s 44ms/step - loss: 0.0364\n",
      "Epoch 147/400\n",
      "10/10 [==============================] - 0s 46ms/step - loss: 0.0362\n",
      "Epoch 148/400\n",
      "10/10 [==============================] - 0s 45ms/step - loss: 0.0365\n",
      "Epoch 149/400\n",
      "10/10 [==============================] - 0s 46ms/step - loss: 0.0365\n",
      "Epoch 150/400\n",
      "10/10 [==============================] - 0s 47ms/step - loss: 0.0357\n",
      "Epoch 151/400\n",
      "10/10 [==============================] - 0s 44ms/step - loss: 0.0345\n",
      "Epoch 152/400\n",
      "10/10 [==============================] - 0s 41ms/step - loss: 0.0350\n",
      "Epoch 153/400\n",
      "10/10 [==============================] - 0s 40ms/step - loss: 0.0346\n",
      "Epoch 154/400\n",
      "10/10 [==============================] - 0s 49ms/step - loss: 0.0335\n",
      "Epoch 155/400\n",
      "10/10 [==============================] - 0s 46ms/step - loss: 0.0340\n",
      "Epoch 156/400\n",
      "10/10 [==============================] - 0s 49ms/step - loss: 0.0338\n",
      "Epoch 157/400\n",
      "10/10 [==============================] - 1s 50ms/step - loss: 0.0325\n",
      "Epoch 158/400\n",
      "10/10 [==============================] - 1s 53ms/step - loss: 0.0331\n",
      "Epoch 159/400\n",
      "10/10 [==============================] - 0s 46ms/step - loss: 0.0327\n",
      "Epoch 160/400\n",
      "10/10 [==============================] - 0s 43ms/step - loss: 0.0317\n",
      "Epoch 161/400\n",
      "10/10 [==============================] - 0s 39ms/step - loss: 0.0323\n",
      "Epoch 162/400\n",
      "10/10 [==============================] - 0s 39ms/step - loss: 0.0313\n",
      "Epoch 163/400\n",
      "10/10 [==============================] - 0s 45ms/step - loss: 0.0310\n",
      "Epoch 164/400\n",
      "10/10 [==============================] - 0s 49ms/step - loss: 0.0312\n",
      "Epoch 165/400\n",
      "10/10 [==============================] - 0s 49ms/step - loss: 0.0302\n",
      "Epoch 166/400\n",
      "10/10 [==============================] - 0s 45ms/step - loss: 0.0301\n",
      "Epoch 167/400\n",
      "10/10 [==============================] - 0s 47ms/step - loss: 0.0301\n",
      "Epoch 168/400\n",
      "10/10 [==============================] - 0s 46ms/step - loss: 0.0293\n",
      "Epoch 169/400\n",
      "10/10 [==============================] - 0s 48ms/step - loss: 0.0292\n",
      "Epoch 170/400\n",
      "10/10 [==============================] - 0s 41ms/step - loss: 0.0290\n",
      "Epoch 171/400\n",
      "10/10 [==============================] - 0s 45ms/step - loss: 0.0284\n",
      "Epoch 172/400\n",
      "10/10 [==============================] - 1s 51ms/step - loss: 0.0282\n",
      "Epoch 173/400\n",
      "10/10 [==============================] - 0s 48ms/step - loss: 0.0281\n",
      "Epoch 174/400\n",
      "10/10 [==============================] - 0s 48ms/step - loss: 0.0275\n",
      "Epoch 175/400\n",
      "10/10 [==============================] - 0s 47ms/step - loss: 0.0269\n",
      "Epoch 176/400\n",
      "10/10 [==============================] - 0s 43ms/step - loss: 0.0268\n",
      "Epoch 177/400\n",
      "10/10 [==============================] - 0s 41ms/step - loss: 0.0267\n",
      "Epoch 178/400\n",
      "10/10 [==============================] - 0s 38ms/step - loss: 0.0268\n",
      "Epoch 179/400\n",
      "10/10 [==============================] - 0s 39ms/step - loss: 0.0260\n",
      "Epoch 180/400\n",
      "10/10 [==============================] - 0s 43ms/step - loss: 0.0254\n",
      "Epoch 181/400\n",
      "10/10 [==============================] - 0s 47ms/step - loss: 0.0256\n",
      "Epoch 182/400\n",
      "10/10 [==============================] - 0s 44ms/step - loss: 0.0255\n",
      "Epoch 183/400\n",
      "10/10 [==============================] - 0s 50ms/step - loss: 0.0251\n",
      "Epoch 184/400\n",
      "10/10 [==============================] - 1s 53ms/step - loss: 0.0242\n",
      "Epoch 185/400\n",
      "10/10 [==============================] - 0s 49ms/step - loss: 0.0238\n",
      "Epoch 186/400\n",
      "10/10 [==============================] - 0s 45ms/step - loss: 0.0239\n",
      "Epoch 187/400\n",
      "10/10 [==============================] - 0s 41ms/step - loss: 0.0238\n",
      "Epoch 188/400\n",
      "10/10 [==============================] - 0s 43ms/step - loss: 0.0232\n",
      "Epoch 189/400\n",
      "10/10 [==============================] - 1s 61ms/step - loss: 0.0226\n",
      "Epoch 190/400\n",
      "10/10 [==============================] - 1s 50ms/step - loss: 0.0224\n",
      "Epoch 191/400\n",
      "10/10 [==============================] - 0s 43ms/step - loss: 0.0224\n",
      "Epoch 192/400\n",
      "10/10 [==============================] - 1s 50ms/step - loss: 0.0222\n",
      "Epoch 193/400\n",
      "10/10 [==============================] - 1s 58ms/step - loss: 0.0219\n",
      "Epoch 194/400\n",
      "10/10 [==============================] - 0s 49ms/step - loss: 0.0214\n",
      "Epoch 195/400\n",
      "10/10 [==============================] - 0s 38ms/step - loss: 0.0209\n",
      "Epoch 196/400\n",
      "10/10 [==============================] - 0s 42ms/step - loss: 0.0206\n",
      "Epoch 197/400\n",
      "10/10 [==============================] - 1s 50ms/step - loss: 0.0205\n",
      "Epoch 198/400\n",
      "10/10 [==============================] - 0s 50ms/step - loss: 0.0204\n",
      "Epoch 199/400\n",
      "10/10 [==============================] - 0s 44ms/step - loss: 0.0203\n",
      "Epoch 200/400\n",
      "10/10 [==============================] - 0s 44ms/step - loss: 0.0203\n",
      "Epoch 201/400\n",
      "10/10 [==============================] - 0s 44ms/step - loss: 0.0199\n",
      "Epoch 202/400\n",
      "10/10 [==============================] - 0s 46ms/step - loss: 0.0193\n",
      "Epoch 203/400\n",
      "10/10 [==============================] - 0s 39ms/step - loss: 0.0189\n",
      "Epoch 204/400\n",
      "10/10 [==============================] - 0s 38ms/step - loss: 0.0189\n",
      "Epoch 205/400\n",
      "10/10 [==============================] - 0s 39ms/step - loss: 0.0189\n",
      "Epoch 206/400\n",
      "10/10 [==============================] - 0s 47ms/step - loss: 0.0188\n",
      "Epoch 207/400\n",
      "10/10 [==============================] - 0s 46ms/step - loss: 0.0185\n",
      "Epoch 208/400\n",
      "10/10 [==============================] - 0s 44ms/step - loss: 0.0179\n",
      "Epoch 209/400\n",
      "10/10 [==============================] - 0s 47ms/step - loss: 0.0176\n",
      "Epoch 210/400\n",
      "10/10 [==============================] - 0s 46ms/step - loss: 0.0175\n",
      "Epoch 211/400\n",
      "10/10 [==============================] - 0s 43ms/step - loss: 0.0175\n",
      "Epoch 212/400\n",
      "10/10 [==============================] - 0s 43ms/step - loss: 0.0173\n",
      "Epoch 213/400\n",
      "10/10 [==============================] - 0s 37ms/step - loss: 0.0169\n",
      "Epoch 214/400\n",
      "10/10 [==============================] - 0s 38ms/step - loss: 0.0165\n",
      "Epoch 215/400\n",
      "10/10 [==============================] - 0s 39ms/step - loss: 0.0164\n",
      "Epoch 216/400\n",
      "10/10 [==============================] - 0s 47ms/step - loss: 0.0163\n",
      "Epoch 217/400\n",
      "10/10 [==============================] - 1s 50ms/step - loss: 0.0163\n",
      "Epoch 218/400\n",
      "10/10 [==============================] - 0s 48ms/step - loss: 0.0161\n",
      "Epoch 219/400\n",
      "10/10 [==============================] - 0s 45ms/step - loss: 0.0158\n",
      "Epoch 220/400\n",
      "10/10 [==============================] - 0s 43ms/step - loss: 0.0155\n",
      "Epoch 221/400\n",
      "10/10 [==============================] - 0s 42ms/step - loss: 0.0152\n",
      "Epoch 222/400\n",
      "10/10 [==============================] - 0s 40ms/step - loss: 0.0151\n",
      "Epoch 223/400\n",
      "10/10 [==============================] - 0s 39ms/step - loss: 0.0150\n",
      "Epoch 224/400\n",
      "10/10 [==============================] - 0s 41ms/step - loss: 0.0151\n",
      "Epoch 225/400\n",
      "10/10 [==============================] - 0s 44ms/step - loss: 0.0151\n",
      "Epoch 226/400\n",
      "10/10 [==============================] - 0s 43ms/step - loss: 0.0150\n",
      "Epoch 227/400\n",
      "10/10 [==============================] - 0s 47ms/step - loss: 0.0145\n",
      "Epoch 228/400\n",
      "10/10 [==============================] - 0s 46ms/step - loss: 0.0140\n",
      "Epoch 229/400\n",
      "10/10 [==============================] - 0s 46ms/step - loss: 0.0139\n",
      "Epoch 230/400\n",
      "10/10 [==============================] - 0s 42ms/step - loss: 0.0140\n",
      "Epoch 231/400\n",
      "10/10 [==============================] - 0s 41ms/step - loss: 0.0139\n",
      "Epoch 232/400\n",
      "10/10 [==============================] - 0s 37ms/step - loss: 0.0136\n",
      "Epoch 233/400\n",
      "10/10 [==============================] - 0s 38ms/step - loss: 0.0132\n",
      "Epoch 234/400\n",
      "10/10 [==============================] - 0s 46ms/step - loss: 0.0129\n",
      "Epoch 235/400\n",
      "10/10 [==============================] - 0s 42ms/step - loss: 0.0130\n",
      "Epoch 236/400\n",
      "10/10 [==============================] - 0s 46ms/step - loss: 0.0130\n",
      "Epoch 237/400\n",
      "10/10 [==============================] - 0s 45ms/step - loss: 0.0129\n",
      "Epoch 238/400\n",
      "10/10 [==============================] - 0s 45ms/step - loss: 0.0126\n",
      "Epoch 239/400\n",
      "10/10 [==============================] - 0s 42ms/step - loss: 0.0122\n",
      "Epoch 240/400\n",
      "10/10 [==============================] - 0s 40ms/step - loss: 0.0121\n",
      "Epoch 241/400\n",
      "10/10 [==============================] - 0s 36ms/step - loss: 0.0120\n",
      "Epoch 242/400\n",
      "10/10 [==============================] - 0s 41ms/step - loss: 0.0120\n",
      "Epoch 243/400\n",
      "10/10 [==============================] - 0s 45ms/step - loss: 0.0119\n",
      "Epoch 244/400\n",
      "10/10 [==============================] - 0s 44ms/step - loss: 0.0117\n",
      "Epoch 245/400\n",
      "10/10 [==============================] - 0s 48ms/step - loss: 0.0115\n",
      "Epoch 246/400\n",
      "10/10 [==============================] - 0s 45ms/step - loss: 0.0113\n",
      "Epoch 247/400\n",
      "10/10 [==============================] - 0s 47ms/step - loss: 0.0111\n",
      "Epoch 248/400\n",
      "10/10 [==============================] - 0s 44ms/step - loss: 0.0110\n",
      "Epoch 249/400\n",
      "10/10 [==============================] - 0s 42ms/step - loss: 0.0109\n",
      "Epoch 250/400\n",
      "10/10 [==============================] - 0s 39ms/step - loss: 0.0109\n",
      "Epoch 251/400\n",
      "10/10 [==============================] - 0s 37ms/step - loss: 0.0108\n",
      "Epoch 252/400\n",
      "10/10 [==============================] - 0s 42ms/step - loss: 0.0107\n",
      "Epoch 253/400\n",
      "10/10 [==============================] - 0s 46ms/step - loss: 0.0106\n",
      "Epoch 254/400\n",
      "10/10 [==============================] - 0s 46ms/step - loss: 0.0104\n",
      "Epoch 255/400\n",
      "10/10 [==============================] - 0s 45ms/step - loss: 0.0102\n",
      "Epoch 256/400\n",
      "10/10 [==============================] - 0s 40ms/step - loss: 0.0099\n",
      "Epoch 257/400\n",
      "10/10 [==============================] - 0s 47ms/step - loss: 0.0098\n",
      "Epoch 258/400\n",
      "10/10 [==============================] - 0s 44ms/step - loss: 0.0098\n",
      "Epoch 259/400\n",
      "10/10 [==============================] - 0s 38ms/step - loss: 0.0098\n",
      "Epoch 260/400\n",
      "10/10 [==============================] - 0s 36ms/step - loss: 0.0100\n",
      "Epoch 261/400\n",
      "10/10 [==============================] - 0s 42ms/step - loss: 0.0107\n",
      "Epoch 262/400\n",
      "10/10 [==============================] - 0s 47ms/step - loss: 0.0112\n",
      "Epoch 263/400\n",
      "10/10 [==============================] - 0s 43ms/step - loss: 0.0105\n",
      "Epoch 264/400\n",
      "10/10 [==============================] - 0s 47ms/step - loss: 0.0093\n",
      "Epoch 265/400\n",
      "10/10 [==============================] - 0s 46ms/step - loss: 0.0095\n",
      "Epoch 266/400\n",
      "10/10 [==============================] - 0s 44ms/step - loss: 0.0099\n",
      "Epoch 267/400\n",
      "10/10 [==============================] - 0s 40ms/step - loss: 0.0091\n",
      "Epoch 268/400\n",
      "10/10 [==============================] - 0s 43ms/step - loss: 0.0087\n",
      "Epoch 269/400\n",
      "10/10 [==============================] - 0s 39ms/step - loss: 0.0092\n",
      "Epoch 270/400\n",
      "10/10 [==============================] - 0s 40ms/step - loss: 0.0095\n",
      "Epoch 271/400\n",
      "10/10 [==============================] - 0s 45ms/step - loss: 0.0089\n",
      "Epoch 272/400\n",
      "10/10 [==============================] - 0s 46ms/step - loss: 0.0083\n",
      "Epoch 273/400\n",
      "10/10 [==============================] - 0s 47ms/step - loss: 0.0084\n",
      "Epoch 274/400\n",
      "10/10 [==============================] - 0s 45ms/step - loss: 0.0086\n",
      "Epoch 275/400\n",
      "10/10 [==============================] - 0s 43ms/step - loss: 0.0082\n",
      "Epoch 276/400\n",
      "10/10 [==============================] - 0s 44ms/step - loss: 0.0080\n",
      "Epoch 277/400\n",
      "10/10 [==============================] - 0s 38ms/step - loss: 0.0082\n",
      "Epoch 278/400\n",
      "10/10 [==============================] - 0s 39ms/step - loss: 0.0080\n",
      "Epoch 279/400\n",
      "10/10 [==============================] - 0s 39ms/step - loss: 0.0077\n",
      "Epoch 280/400\n",
      "10/10 [==============================] - 0s 41ms/step - loss: 0.0077\n",
      "Epoch 281/400\n",
      "10/10 [==============================] - 0s 45ms/step - loss: 0.0077\n",
      "Epoch 282/400\n",
      "10/10 [==============================] - 0s 47ms/step - loss: 0.0076\n",
      "Epoch 283/400\n",
      "10/10 [==============================] - 0s 46ms/step - loss: 0.0074\n",
      "Epoch 284/400\n",
      "10/10 [==============================] - 0s 47ms/step - loss: 0.0073\n",
      "Epoch 285/400\n",
      "10/10 [==============================] - 0s 43ms/step - loss: 0.0073\n",
      "Epoch 286/400\n",
      "10/10 [==============================] - 0s 46ms/step - loss: 0.0072\n",
      "Epoch 287/400\n",
      "10/10 [==============================] - 0s 39ms/step - loss: 0.0070\n",
      "Epoch 288/400\n",
      "10/10 [==============================] - 0s 36ms/step - loss: 0.0070\n",
      "Epoch 289/400\n",
      "10/10 [==============================] - 0s 40ms/step - loss: 0.0070\n",
      "Epoch 290/400\n",
      "10/10 [==============================] - 0s 45ms/step - loss: 0.0069\n",
      "Epoch 291/400\n",
      "10/10 [==============================] - 0s 49ms/step - loss: 0.0067\n",
      "Epoch 292/400\n",
      "10/10 [==============================] - 0s 41ms/step - loss: 0.0066\n",
      "Epoch 293/400\n",
      "10/10 [==============================] - 0s 46ms/step - loss: 0.0066\n",
      "Epoch 294/400\n",
      "10/10 [==============================] - 0s 43ms/step - loss: 0.0066\n",
      "Epoch 295/400\n",
      "10/10 [==============================] - 0s 45ms/step - loss: 0.0065\n",
      "Epoch 296/400\n",
      "10/10 [==============================] - 0s 43ms/step - loss: 0.0064\n",
      "Epoch 297/400\n",
      "10/10 [==============================] - 0s 40ms/step - loss: 0.0063\n",
      "Epoch 298/400\n",
      "10/10 [==============================] - 0s 42ms/step - loss: 0.0062\n",
      "Epoch 299/400\n",
      "10/10 [==============================] - 0s 47ms/step - loss: 0.0062\n",
      "Epoch 300/400\n",
      "10/10 [==============================] - 0s 42ms/step - loss: 0.0061\n",
      "Epoch 301/400\n",
      "10/10 [==============================] - 0s 46ms/step - loss: 0.0060\n",
      "Epoch 302/400\n",
      "10/10 [==============================] - 0s 40ms/step - loss: 0.0059\n",
      "Epoch 303/400\n",
      "10/10 [==============================] - 0s 42ms/step - loss: 0.0058\n",
      "Epoch 304/400\n",
      "10/10 [==============================] - 0s 42ms/step - loss: 0.0058\n",
      "Epoch 305/400\n",
      "10/10 [==============================] - 0s 42ms/step - loss: 0.0057\n",
      "Epoch 306/400\n",
      "10/10 [==============================] - 0s 37ms/step - loss: 0.0057\n",
      "Epoch 307/400\n",
      "10/10 [==============================] - 0s 39ms/step - loss: 0.0057\n",
      "Epoch 308/400\n",
      "10/10 [==============================] - 0s 45ms/step - loss: 0.0056\n",
      "Epoch 309/400\n",
      "10/10 [==============================] - 0s 45ms/step - loss: 0.0056\n",
      "Epoch 310/400\n",
      "10/10 [==============================] - 0s 49ms/step - loss: 0.0055\n",
      "Epoch 311/400\n",
      "10/10 [==============================] - 0s 46ms/step - loss: 0.0054\n",
      "Epoch 312/400\n",
      "10/10 [==============================] - 0s 42ms/step - loss: 0.0053\n",
      "Epoch 313/400\n",
      "10/10 [==============================] - 1s 50ms/step - loss: 0.0052\n",
      "Epoch 314/400\n",
      "10/10 [==============================] - 0s 42ms/step - loss: 0.0051\n",
      "Epoch 315/400\n",
      "10/10 [==============================] - 0s 39ms/step - loss: 0.0051\n",
      "Epoch 316/400\n",
      "10/10 [==============================] - 0s 39ms/step - loss: 0.0050\n",
      "Epoch 317/400\n",
      "10/10 [==============================] - 0s 46ms/step - loss: 0.0050\n",
      "Epoch 318/400\n",
      "10/10 [==============================] - 0s 43ms/step - loss: 0.0049\n",
      "Epoch 319/400\n",
      "10/10 [==============================] - 0s 44ms/step - loss: 0.0049\n",
      "Epoch 320/400\n",
      "10/10 [==============================] - 0s 45ms/step - loss: 0.0049\n",
      "Epoch 321/400\n",
      "10/10 [==============================] - 0s 44ms/step - loss: 0.0050\n",
      "Epoch 322/400\n",
      "10/10 [==============================] - 0s 48ms/step - loss: 0.0051\n",
      "Epoch 323/400\n",
      "10/10 [==============================] - 0s 43ms/step - loss: 0.0051\n",
      "Epoch 324/400\n",
      "10/10 [==============================] - 0s 38ms/step - loss: 0.0052\n",
      "Epoch 325/400\n",
      "10/10 [==============================] - 0s 37ms/step - loss: 0.0050\n",
      "Epoch 326/400\n",
      "10/10 [==============================] - 0s 42ms/step - loss: 0.0047\n",
      "Epoch 327/400\n",
      "10/10 [==============================] - 0s 42ms/step - loss: 0.0045\n",
      "Epoch 328/400\n",
      "10/10 [==============================] - 0s 46ms/step - loss: 0.0045\n",
      "Epoch 329/400\n",
      "10/10 [==============================] - 0s 42ms/step - loss: 0.0046\n",
      "Epoch 330/400\n",
      "10/10 [==============================] - 0s 47ms/step - loss: 0.0047\n",
      "Epoch 331/400\n",
      "10/10 [==============================] - 0s 43ms/step - loss: 0.0047\n",
      "Epoch 332/400\n",
      "10/10 [==============================] - 0s 40ms/step - loss: 0.0045\n",
      "Epoch 333/400\n",
      "10/10 [==============================] - 0s 39ms/step - loss: 0.0043\n",
      "Epoch 334/400\n",
      "10/10 [==============================] - 0s 38ms/step - loss: 0.0041\n",
      "Epoch 335/400\n",
      "10/10 [==============================] - 0s 41ms/step - loss: 0.0041\n",
      "Epoch 336/400\n",
      "10/10 [==============================] - 0s 47ms/step - loss: 0.0042\n",
      "Epoch 337/400\n",
      "10/10 [==============================] - 0s 45ms/step - loss: 0.0042\n",
      "Epoch 338/400\n",
      "10/10 [==============================] - 0s 44ms/step - loss: 0.0041\n",
      "Epoch 339/400\n",
      "10/10 [==============================] - 0s 46ms/step - loss: 0.0039\n",
      "Epoch 340/400\n",
      "10/10 [==============================] - 0s 42ms/step - loss: 0.0039\n",
      "Epoch 341/400\n",
      "10/10 [==============================] - 0s 46ms/step - loss: 0.0039\n",
      "Epoch 342/400\n",
      "10/10 [==============================] - 0s 41ms/step - loss: 0.0039\n",
      "Epoch 343/400\n",
      "10/10 [==============================] - 0s 38ms/step - loss: 0.0039\n",
      "Epoch 344/400\n",
      "10/10 [==============================] - 0s 39ms/step - loss: 0.0038\n",
      "Epoch 345/400\n",
      "10/10 [==============================] - 0s 41ms/step - loss: 0.0037\n",
      "Epoch 346/400\n",
      "10/10 [==============================] - 0s 44ms/step - loss: 0.0036\n",
      "Epoch 347/400\n",
      "10/10 [==============================] - 0s 45ms/step - loss: 0.0037\n",
      "Epoch 348/400\n",
      "10/10 [==============================] - 0s 43ms/step - loss: 0.0036\n",
      "Epoch 349/400\n",
      "10/10 [==============================] - 0s 46ms/step - loss: 0.0036\n",
      "Epoch 350/400\n",
      "10/10 [==============================] - 0s 47ms/step - loss: 0.0035\n",
      "Epoch 351/400\n",
      "10/10 [==============================] - 0s 44ms/step - loss: 0.0035\n",
      "Epoch 352/400\n",
      "10/10 [==============================] - 0s 38ms/step - loss: 0.0034\n",
      "Epoch 353/400\n",
      "10/10 [==============================] - 0s 38ms/step - loss: 0.0034\n",
      "Epoch 354/400\n",
      "10/10 [==============================] - 0s 42ms/step - loss: 0.0034\n",
      "Epoch 355/400\n",
      "10/10 [==============================] - 0s 49ms/step - loss: 0.0034\n",
      "Epoch 356/400\n",
      "10/10 [==============================] - 0s 43ms/step - loss: 0.0033\n",
      "Epoch 357/400\n",
      "10/10 [==============================] - 0s 43ms/step - loss: 0.0033\n",
      "Epoch 358/400\n",
      "10/10 [==============================] - 0s 44ms/step - loss: 0.0032\n",
      "Epoch 359/400\n",
      "10/10 [==============================] - 0s 48ms/step - loss: 0.0032\n",
      "Epoch 360/400\n",
      "10/10 [==============================] - 0s 43ms/step - loss: 0.0032\n",
      "Epoch 361/400\n",
      "10/10 [==============================] - 0s 41ms/step - loss: 0.0032\n",
      "Epoch 362/400\n",
      "10/10 [==============================] - 0s 37ms/step - loss: 0.0031\n",
      "Epoch 363/400\n",
      "10/10 [==============================] - 0s 40ms/step - loss: 0.0031\n",
      "Epoch 364/400\n",
      "10/10 [==============================] - 0s 45ms/step - loss: 0.0031\n",
      "Epoch 365/400\n",
      "10/10 [==============================] - 0s 45ms/step - loss: 0.0030\n",
      "Epoch 366/400\n",
      "10/10 [==============================] - 0s 43ms/step - loss: 0.0030\n",
      "Epoch 367/400\n",
      "10/10 [==============================] - 0s 45ms/step - loss: 0.0030\n",
      "Epoch 368/400\n",
      "10/10 [==============================] - 0s 47ms/step - loss: 0.0029\n",
      "Epoch 369/400\n",
      "10/10 [==============================] - 0s 43ms/step - loss: 0.0029\n",
      "Epoch 370/400\n",
      "10/10 [==============================] - 0s 39ms/step - loss: 0.0029\n",
      "Epoch 371/400\n",
      "10/10 [==============================] - 0s 38ms/step - loss: 0.0029\n",
      "Epoch 372/400\n",
      "10/10 [==============================] - 0s 42ms/step - loss: 0.0029\n",
      "Epoch 373/400\n",
      "10/10 [==============================] - 0s 44ms/step - loss: 0.0029\n",
      "Epoch 374/400\n",
      "10/10 [==============================] - 0s 45ms/step - loss: 0.0028\n",
      "Epoch 375/400\n",
      "10/10 [==============================] - 0s 46ms/step - loss: 0.0028\n",
      "Epoch 376/400\n",
      "10/10 [==============================] - 0s 42ms/step - loss: 0.0028\n",
      "Epoch 377/400\n",
      "10/10 [==============================] - 0s 46ms/step - loss: 0.0027\n",
      "Epoch 378/400\n",
      "10/10 [==============================] - 0s 43ms/step - loss: 0.0027\n",
      "Epoch 379/400\n",
      "10/10 [==============================] - 0s 43ms/step - loss: 0.0026\n",
      "Epoch 380/400\n",
      "10/10 [==============================] - 0s 39ms/step - loss: 0.0026\n",
      "Epoch 381/400\n",
      "10/10 [==============================] - 0s 40ms/step - loss: 0.0026\n",
      "Epoch 382/400\n",
      "10/10 [==============================] - 0s 42ms/step - loss: 0.0026\n",
      "Epoch 383/400\n",
      "10/10 [==============================] - 0s 44ms/step - loss: 0.0026\n",
      "Epoch 384/400\n",
      "10/10 [==============================] - 0s 45ms/step - loss: 0.0026\n",
      "Epoch 385/400\n",
      "10/10 [==============================] - 0s 45ms/step - loss: 0.0026\n",
      "Epoch 386/400\n",
      "10/10 [==============================] - 0s 42ms/step - loss: 0.0027\n",
      "Epoch 387/400\n",
      "10/10 [==============================] - 0s 45ms/step - loss: 0.0027\n",
      "Epoch 388/400\n",
      "10/10 [==============================] - 0s 37ms/step - loss: 0.0027\n",
      "Epoch 389/400\n",
      "10/10 [==============================] - 0s 37ms/step - loss: 0.0026\n",
      "Epoch 390/400\n",
      "10/10 [==============================] - 0s 39ms/step - loss: 0.0025\n",
      "Epoch 391/400\n",
      "10/10 [==============================] - 0s 40ms/step - loss: 0.0024\n",
      "Epoch 392/400\n",
      "10/10 [==============================] - 0s 42ms/step - loss: 0.0024\n",
      "Epoch 393/400\n",
      "10/10 [==============================] - 0s 43ms/step - loss: 0.0024\n",
      "Epoch 394/400\n",
      "10/10 [==============================] - 0s 44ms/step - loss: 0.0025\n",
      "Epoch 395/400\n",
      "10/10 [==============================] - 0s 45ms/step - loss: 0.0025\n",
      "Epoch 396/400\n",
      "10/10 [==============================] - 0s 47ms/step - loss: 0.0025\n",
      "Epoch 397/400\n",
      "10/10 [==============================] - 0s 45ms/step - loss: 0.0026\n",
      "Epoch 398/400\n",
      "10/10 [==============================] - 0s 44ms/step - loss: 0.0025\n",
      "Epoch 399/400\n",
      "10/10 [==============================] - 0s 39ms/step - loss: 0.0023\n",
      "Epoch 400/400\n",
      "10/10 [==============================] - 0s 37ms/step - loss: 0.0022\n"
     ]
    },
    {
     "data": {
      "text/plain": [
       "<keras.callbacks.History at 0x7fced38337b8>"
      ]
     },
     "execution_count": 56,
     "metadata": {},
     "output_type": "execute_result"
    }
   ],
   "source": [
    "model.fit(inp_10, array_10, epochs = 400)"
   ]
  },
  {
   "cell_type": "code",
   "execution_count": 57,
   "metadata": {
    "collapsed": true
   },
   "outputs": [],
   "source": [
    "out_10 = model.predict(inp_10)"
   ]
  },
  {
   "cell_type": "code",
   "execution_count": 58,
   "metadata": {
    "collapsed": false
   },
   "outputs": [
    {
     "data": {
      "text/plain": [
       "(64, 64, 3)"
      ]
     },
     "execution_count": 58,
     "metadata": {},
     "output_type": "execute_result"
    }
   ],
   "source": [
    "out_10.shape\n",
    "out = out_10[1]\n",
    "out.shape"
   ]
  },
  {
   "cell_type": "code",
   "execution_count": 59,
   "metadata": {
    "collapsed": false
   },
   "outputs": [
    {
     "data": {
      "text/plain": [
       "<matplotlib.image.AxesImage at 0x7fcec18c3780>"
      ]
     },
     "execution_count": 59,
     "metadata": {},
     "output_type": "execute_result"
    },
    {
     "data": {
      "image/png": "[encoded data removed]",
      "text/plain": [
       "<matplotlib.figure.Figure at 0x7fced39a5208>"
      ]
     },
     "metadata": {},
     "output_type": "display_data"
    }
   ],
   "source": [
    "out_image = (out * 255).astype(np.uint8)\n",
    "plt.imshow(out_image)"
   ]
  },
  {
   "cell_type": "code",
   "execution_count": 129,
   "metadata": {
    "collapsed": true
   },
   "outputs": [],
   "source": []
  },
  {
   "cell_type": "code",
   "execution_count": null,
   "metadata": {
    "collapsed": true
   },
   "outputs": [],
   "source": []
  },
  {
   "cell_type": "markdown",
   "metadata": {},
   "source": [
    "categorical crossentropy \n",
    "https://machinelearningmastery.com/multi-class-classification-tutorial-keras-deep-learning-library/"
   ]
  },
  {
   "cell_type": "code",
   "execution_count": 114,
   "metadata": {
    "collapsed": false
   },
   "outputs": [],
   "source": [
    "\n",
    "import numpy\n",
    "import pandas\n",
    "from keras.models import Sequential\n",
    "from keras.layers import Dense\n",
    "from keras.wrappers.scikit_learn import KerasClassifier\n",
    "from keras.utils import np_utils\n",
    "from sklearn.model_selection import cross_val_score\n",
    "from sklearn.model_selection import KFold\n",
    "from sklearn.preprocessing import LabelEncoder\n",
    "from sklearn.pipeline import Pipeline"
   ]
  },
  {
   "cell_type": "code",
   "execution_count": 151,
   "metadata": {
    "collapsed": true
   },
   "outputs": [],
   "source": [
    "# fix random seed for reproducibility\n",
    "seed = 5\n",
    "numpy.random.seed(seed)"
   ]
  },
  {
   "cell_type": "code",
   "execution_count": 152,
   "metadata": {
    "collapsed": false
   },
   "outputs": [],
   "source": [
    "# load dataset\n",
    "dataframe = pandas.read_csv(\"iris.csv\", header=None)\n",
    "dataset = dataframe.values\n",
    "X = dataset[:,0:4].astype(float)\n",
    "Y = dataset[:,4]\n"
   ]
  },
  {
   "cell_type": "code",
   "execution_count": 153,
   "metadata": {
    "collapsed": false
   },
   "outputs": [
    {
     "data": {
      "text/plain": [
       "150"
      ]
     },
     "execution_count": 153,
     "metadata": {},
     "output_type": "execute_result"
    }
   ],
   "source": [
    "len(Y)"
   ]
  },
  {
   "cell_type": "code",
   "execution_count": 154,
   "metadata": {
    "collapsed": true
   },
   "outputs": [],
   "source": [
    "# encode class values as integers\n",
    "encoder = LabelEncoder()\n",
    "encoder.fit(Y)\n",
    "encoded_Y = encoder.transform(Y)\n",
    "# convert integers to dummy variables (i.e. one hot encoded)\n",
    "dummy_y = np_utils.to_categorical(encoded_Y)"
   ]
  },
  {
   "cell_type": "code",
   "execution_count": 155,
   "metadata": {
    "collapsed": false
   },
   "outputs": [
    {
     "data": {
      "text/plain": [
       "(150, 3)"
      ]
     },
     "execution_count": 155,
     "metadata": {},
     "output_type": "execute_result"
    }
   ],
   "source": [
    "dummy_y.shape"
   ]
  },
  {
   "cell_type": "code",
   "execution_count": 156,
   "metadata": {
    "collapsed": true
   },
   "outputs": [],
   "source": [
    "ids = np.arange(len(Y))\n",
    "np.random.shuffle(ids)\n",
    "\n",
    "train_ids = ids[0:140]\n",
    "test_ids = ids[140:len(Y)]\n",
    "\n",
    "train_X = X[train_ids, ...]\n",
    "train_Y = dummy_y[train_ids, ...]\n",
    "test_X = X[test_ids, ...]\n",
    "test_Y = dummy_y[test_ids, ...]"
   ]
  },
  {
   "cell_type": "code",
   "execution_count": 157,
   "metadata": {
    "collapsed": false
   },
   "outputs": [
    {
     "data": {
      "text/plain": [
       "((140, 4), (140, 3), (10, 4), (10, 3))"
      ]
     },
     "execution_count": 157,
     "metadata": {},
     "output_type": "execute_result"
    }
   ],
   "source": [
    "train_X.shape, train_Y.shape, test_X.shape, test_Y.shape"
   ]
  },
  {
   "cell_type": "code",
   "execution_count": 158,
   "metadata": {
    "collapsed": true
   },
   "outputs": [],
   "source": [
    "# define baseline model\n",
    "def baseline_model():\n",
    "    # create model\n",
    "    model = Sequential()\n",
    "    model.add(Dense(8, input_dim=4, activation='relu'))\n",
    "    model.add(Dense(3, activation='softmax'))\n",
    "    # Compile model\n",
    "    model.compile(loss='categorical_crossentropy', optimizer='adam', metrics=['accuracy'])\n",
    "    return model"
   ]
  },
  {
   "cell_type": "code",
   "execution_count": 159,
   "metadata": {
    "collapsed": false
   },
   "outputs": [],
   "source": [
    "model = Sequential()\n",
    "model.add(Dense(8, input_dim=4, activation='relu'))\n",
    "model.add(Dense(3, activation='relu'))\n",
    "model.compile(loss='categorical_crossentropy', optimizer='adam', metrics=['accuracy'])"
   ]
  },
  {
   "cell_type": "code",
   "execution_count": 160,
   "metadata": {
    "collapsed": false
   },
   "outputs": [
    {
     "name": "stdout",
     "output_type": "stream",
     "text": [
      "_________________________________________________________________\n",
      "Layer (type)                 Output Shape              Param #   \n",
      "=================================================================\n",
      "dense_21 (Dense)             (None, 8)                 40        \n",
      "_________________________________________________________________\n",
      "dense_22 (Dense)             (None, 3)                 27        \n",
      "=================================================================\n",
      "Total params: 67\n",
      "Trainable params: 67\n",
      "Non-trainable params: 0\n",
      "_________________________________________________________________\n"
     ]
    }
   ],
   "source": [
    "model.summary()"
   ]
  },
  {
   "cell_type": "code",
   "execution_count": 161,
   "metadata": {
    "collapsed": false
   },
   "outputs": [
    {
     "name": "stdout",
     "output_type": "stream",
     "text": [
      "Epoch 1/100\n",
      "140/140 [==============================] - 1s 9ms/step - loss: 0.7962 - acc: 0.6143\n",
      "Epoch 2/100\n",
      "140/140 [==============================] - 0s 2ms/step - loss: 0.6536 - acc: 0.6643\n",
      "Epoch 3/100\n",
      "140/140 [==============================] - 0s 2ms/step - loss: 0.5568 - acc: 0.7857\n",
      "Epoch 4/100\n",
      "140/140 [==============================] - 0s 1ms/step - loss: nan - acc: 0.5429\n",
      "Epoch 5/100\n",
      "140/140 [==============================] - 0s 1ms/step - loss: nan - acc: 0.3357\n",
      "Epoch 6/100\n",
      "140/140 [==============================] - 0s 2ms/step - loss: nan - acc: 0.3357\n",
      "Epoch 7/100\n",
      "140/140 [==============================] - 0s 2ms/step - loss: nan - acc: 0.3357\n",
      "Epoch 8/100\n",
      "140/140 [==============================] - 0s 2ms/step - loss: nan - acc: 0.3357\n",
      "Epoch 9/100\n",
      "140/140 [==============================] - 0s 2ms/step - loss: nan - acc: 0.3357\n",
      "Epoch 10/100\n",
      "140/140 [==============================] - 0s 2ms/step - loss: nan - acc: 0.3357\n",
      "Epoch 11/100\n",
      "140/140 [==============================] - 0s 2ms/step - loss: nan - acc: 0.3357\n",
      "Epoch 12/100\n",
      "140/140 [==============================] - 0s 2ms/step - loss: nan - acc: 0.3357\n",
      "Epoch 13/100\n",
      "140/140 [==============================] - 0s 2ms/step - loss: nan - acc: 0.3357\n",
      "Epoch 14/100\n",
      "140/140 [==============================] - 0s 2ms/step - loss: nan - acc: 0.3357\n",
      "Epoch 15/100\n",
      "140/140 [==============================] - 0s 2ms/step - loss: nan - acc: 0.3357\n",
      "Epoch 16/100\n",
      "140/140 [==============================] - 0s 2ms/step - loss: nan - acc: 0.3357\n",
      "Epoch 17/100\n",
      "140/140 [==============================] - 0s 2ms/step - loss: nan - acc: 0.3357\n",
      "Epoch 18/100\n",
      "140/140 [==============================] - 0s 2ms/step - loss: nan - acc: 0.3357\n",
      "Epoch 19/100\n",
      "140/140 [==============================] - 0s 1ms/step - loss: nan - acc: 0.3357\n",
      "Epoch 20/100\n",
      "140/140 [==============================] - 0s 2ms/step - loss: nan - acc: 0.3357\n",
      "Epoch 21/100\n",
      "140/140 [==============================] - 0s 2ms/step - loss: nan - acc: 0.3357\n",
      "Epoch 22/100\n",
      "140/140 [==============================] - 0s 1ms/step - loss: nan - acc: 0.3357\n",
      "Epoch 23/100\n",
      "140/140 [==============================] - 0s 1ms/step - loss: nan - acc: 0.3357\n",
      "Epoch 24/100\n",
      "140/140 [==============================] - 0s 1ms/step - loss: nan - acc: 0.3357\n",
      "Epoch 25/100\n",
      "140/140 [==============================] - 0s 2ms/step - loss: nan - acc: 0.3357\n",
      "Epoch 26/100\n",
      "140/140 [==============================] - 0s 2ms/step - loss: nan - acc: 0.3357\n",
      "Epoch 27/100\n",
      "140/140 [==============================] - 0s 2ms/step - loss: nan - acc: 0.3357\n",
      "Epoch 28/100\n",
      "140/140 [==============================] - 0s 2ms/step - loss: nan - acc: 0.3357\n",
      "Epoch 29/100\n",
      "140/140 [==============================] - 0s 2ms/step - loss: nan - acc: 0.3357\n",
      "Epoch 30/100\n",
      "140/140 [==============================] - 0s 2ms/step - loss: nan - acc: 0.3357\n",
      "Epoch 31/100\n",
      "140/140 [==============================] - 0s 2ms/step - loss: nan - acc: 0.3357\n",
      "Epoch 32/100\n",
      "140/140 [==============================] - 0s 2ms/step - loss: nan - acc: 0.3357\n",
      "Epoch 33/100\n",
      "140/140 [==============================] - 0s 2ms/step - loss: nan - acc: 0.3357\n",
      "Epoch 34/100\n",
      "140/140 [==============================] - 0s 2ms/step - loss: nan - acc: 0.3357\n",
      "Epoch 35/100\n",
      "140/140 [==============================] - 0s 2ms/step - loss: nan - acc: 0.3357\n",
      "Epoch 36/100\n",
      "140/140 [==============================] - 0s 2ms/step - loss: nan - acc: 0.3357\n",
      "Epoch 37/100\n",
      "140/140 [==============================] - 0s 2ms/step - loss: nan - acc: 0.3357\n",
      "Epoch 38/100\n",
      "140/140 [==============================] - 0s 2ms/step - loss: nan - acc: 0.3357\n",
      "Epoch 39/100\n",
      "140/140 [==============================] - 0s 1ms/step - loss: nan - acc: 0.3357\n",
      "Epoch 40/100\n",
      "140/140 [==============================] - 0s 2ms/step - loss: nan - acc: 0.3357\n",
      "Epoch 41/100\n",
      "140/140 [==============================] - 0s 2ms/step - loss: nan - acc: 0.3357\n",
      "Epoch 42/100\n",
      "140/140 [==============================] - 0s 2ms/step - loss: nan - acc: 0.3357\n",
      "Epoch 43/100\n",
      "140/140 [==============================] - 0s 2ms/step - loss: nan - acc: 0.3357\n",
      "Epoch 44/100\n",
      "140/140 [==============================] - 0s 2ms/step - loss: nan - acc: 0.3357\n",
      "Epoch 45/100\n",
      "140/140 [==============================] - 0s 2ms/step - loss: nan - acc: 0.3357\n",
      "Epoch 46/100\n",
      "140/140 [==============================] - 0s 2ms/step - loss: nan - acc: 0.3357\n",
      "Epoch 47/100\n",
      "140/140 [==============================] - 0s 2ms/step - loss: nan - acc: 0.3357\n",
      "Epoch 48/100\n",
      "140/140 [==============================] - 0s 2ms/step - loss: nan - acc: 0.3357\n",
      "Epoch 49/100\n",
      "140/140 [==============================] - 0s 2ms/step - loss: nan - acc: 0.3357\n",
      "Epoch 50/100\n",
      "140/140 [==============================] - 0s 2ms/step - loss: nan - acc: 0.3357\n",
      "Epoch 51/100\n",
      "140/140 [==============================] - 0s 2ms/step - loss: nan - acc: 0.3357\n",
      "Epoch 52/100\n",
      "140/140 [==============================] - 0s 2ms/step - loss: nan - acc: 0.3357\n",
      "Epoch 53/100\n",
      "140/140 [==============================] - 0s 2ms/step - loss: nan - acc: 0.3357\n",
      "Epoch 54/100\n",
      "140/140 [==============================] - 0s 1ms/step - loss: nan - acc: 0.3357\n",
      "Epoch 55/100\n",
      "140/140 [==============================] - 0s 1ms/step - loss: nan - acc: 0.3357\n",
      "Epoch 56/100\n",
      "140/140 [==============================] - 0s 2ms/step - loss: nan - acc: 0.3357\n",
      "Epoch 57/100\n",
      "140/140 [==============================] - 0s 1ms/step - loss: nan - acc: 0.3357\n",
      "Epoch 58/100\n",
      "140/140 [==============================] - 0s 1ms/step - loss: nan - acc: 0.3357\n",
      "Epoch 59/100\n",
      "140/140 [==============================] - 0s 1ms/step - loss: nan - acc: 0.3357\n",
      "Epoch 60/100\n",
      "140/140 [==============================] - 0s 2ms/step - loss: nan - acc: 0.3357\n",
      "Epoch 61/100\n",
      "140/140 [==============================] - 0s 2ms/step - loss: nan - acc: 0.3357\n",
      "Epoch 62/100\n",
      "140/140 [==============================] - 0s 2ms/step - loss: nan - acc: 0.3357\n",
      "Epoch 63/100\n",
      "140/140 [==============================] - 0s 2ms/step - loss: nan - acc: 0.3357\n",
      "Epoch 64/100\n",
      "140/140 [==============================] - 0s 2ms/step - loss: nan - acc: 0.3357\n",
      "Epoch 65/100\n",
      "140/140 [==============================] - 0s 2ms/step - loss: nan - acc: 0.3357\n",
      "Epoch 66/100\n",
      "140/140 [==============================] - 0s 2ms/step - loss: nan - acc: 0.3357\n",
      "Epoch 67/100\n",
      "140/140 [==============================] - 0s 2ms/step - loss: nan - acc: 0.3357\n",
      "Epoch 68/100\n",
      "140/140 [==============================] - 0s 2ms/step - loss: nan - acc: 0.3357\n",
      "Epoch 69/100\n",
      "140/140 [==============================] - 0s 2ms/step - loss: nan - acc: 0.3357\n",
      "Epoch 70/100\n",
      "140/140 [==============================] - 0s 2ms/step - loss: nan - acc: 0.3357\n",
      "Epoch 71/100\n",
      "140/140 [==============================] - 0s 2ms/step - loss: nan - acc: 0.3357\n",
      "Epoch 72/100\n",
      "140/140 [==============================] - 0s 2ms/step - loss: nan - acc: 0.3357\n",
      "Epoch 73/100\n",
      "140/140 [==============================] - 0s 2ms/step - loss: nan - acc: 0.3357\n",
      "Epoch 74/100\n",
      "140/140 [==============================] - 0s 2ms/step - loss: nan - acc: 0.3357\n",
      "Epoch 75/100\n",
      "140/140 [==============================] - 0s 2ms/step - loss: nan - acc: 0.3357\n",
      "Epoch 76/100\n",
      "140/140 [==============================] - 0s 2ms/step - loss: nan - acc: 0.3357\n",
      "Epoch 77/100\n",
      "140/140 [==============================] - 0s 2ms/step - loss: nan - acc: 0.3357\n",
      "Epoch 78/100\n",
      "140/140 [==============================] - 0s 2ms/step - loss: nan - acc: 0.3357\n",
      "Epoch 79/100\n",
      "140/140 [==============================] - 0s 2ms/step - loss: nan - acc: 0.3357\n",
      "Epoch 80/100\n",
      "140/140 [==============================] - 0s 2ms/step - loss: nan - acc: 0.3357\n",
      "Epoch 81/100\n",
      "140/140 [==============================] - 0s 2ms/step - loss: nan - acc: 0.3357\n",
      "Epoch 82/100\n",
      "140/140 [==============================] - 0s 2ms/step - loss: nan - acc: 0.3357\n",
      "Epoch 83/100\n",
      "140/140 [==============================] - 0s 2ms/step - loss: nan - acc: 0.3357\n",
      "Epoch 84/100\n",
      "140/140 [==============================] - 0s 2ms/step - loss: nan - acc: 0.3357\n",
      "Epoch 85/100\n",
      "140/140 [==============================] - 0s 2ms/step - loss: nan - acc: 0.3357\n",
      "Epoch 86/100\n",
      "140/140 [==============================] - 0s 2ms/step - loss: nan - acc: 0.3357\n",
      "Epoch 87/100\n",
      "140/140 [==============================] - 0s 2ms/step - loss: nan - acc: 0.3357\n",
      "Epoch 88/100\n",
      "140/140 [==============================] - 0s 2ms/step - loss: nan - acc: 0.3357\n",
      "Epoch 89/100\n",
      "140/140 [==============================] - 0s 2ms/step - loss: nan - acc: 0.3357\n",
      "Epoch 90/100\n",
      "140/140 [==============================] - 0s 2ms/step - loss: nan - acc: 0.3357\n",
      "Epoch 91/100\n",
      "140/140 [==============================] - 0s 1ms/step - loss: nan - acc: 0.3357\n",
      "Epoch 92/100\n",
      "140/140 [==============================] - 0s 1ms/step - loss: nan - acc: 0.3357\n",
      "Epoch 93/100\n",
      "140/140 [==============================] - 0s 2ms/step - loss: nan - acc: 0.3357\n",
      "Epoch 94/100\n",
      "140/140 [==============================] - 0s 1ms/step - loss: nan - acc: 0.3357\n",
      "Epoch 95/100\n",
      "140/140 [==============================] - 0s 2ms/step - loss: nan - acc: 0.3357\n",
      "Epoch 96/100\n",
      "140/140 [==============================] - 0s 2ms/step - loss: nan - acc: 0.3357\n",
      "Epoch 97/100\n",
      "140/140 [==============================] - 0s 2ms/step - loss: nan - acc: 0.3357\n",
      "Epoch 98/100\n",
      "140/140 [==============================] - 0s 2ms/step - loss: nan - acc: 0.3357\n",
      "Epoch 99/100\n",
      "140/140 [==============================] - 0s 2ms/step - loss: nan - acc: 0.3357\n",
      "Epoch 100/100\n",
      "140/140 [==============================] - 0s 2ms/step - loss: nan - acc: 0.3357\n"
     ]
    },
    {
     "data": {
      "text/plain": [
       "<keras.callbacks.History at 0x7fcdcc5af198>"
      ]
     },
     "execution_count": 161,
     "metadata": {},
     "output_type": "execute_result"
    }
   ],
   "source": [
    "model.fit(x = train_X, y = train_Y, epochs=100, batch_size=5, verbose=1)"
   ]
  },
  {
   "cell_type": "code",
   "execution_count": 162,
   "metadata": {
    "collapsed": false
   },
   "outputs": [
    {
     "name": "stdout",
     "output_type": "stream",
     "text": [
      "\r",
      "10/10 [==============================] - 0s 22ms/step\n"
     ]
    }
   ],
   "source": [
    "score = model.evaluate(test_X, test_Y)"
   ]
  },
  {
   "cell_type": "code",
   "execution_count": 163,
   "metadata": {
    "collapsed": false
   },
   "outputs": [
    {
     "data": {
      "text/plain": [
       "[nan, 0.30000001192092896]"
      ]
     },
     "execution_count": 163,
     "metadata": {},
     "output_type": "execute_result"
    }
   ],
   "source": [
    "score"
   ]
  },
  {
   "cell_type": "code",
   "execution_count": null,
   "metadata": {
    "collapsed": true
   },
   "outputs": [],
   "source": []
  }
 ],
 "metadata": {
  "anaconda-cloud": {},
  "kernelspec": {
   "display_name": "Python [default]",
   "language": "python",
   "name": "python3"
  },
  "language_info": {
   "codemirror_mode": {
    "name": "ipython",
    "version": 3
   },
   "file_extension": ".py",
   "mimetype": "text/x-python",
   "name": "python",
   "nbconvert_exporter": "python",
   "pygments_lexer": "ipython3",
   "version": "3.5.2"
  }
 },
 "nbformat": 4,
 "nbformat_minor": 2
}
