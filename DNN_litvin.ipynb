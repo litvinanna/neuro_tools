{
 "cells": [
  {
   "cell_type": "code",
   "execution_count": 2,
   "metadata": {},
   "outputs": [],
   "source": [
    "from Bio import SeqIO\n",
    "\n",
    "genome_file = \"NC_000913.2.fasta\"\n",
    "genome_file_type = genome_file.split('.')[-1]\n",
    "record = SeqIO.read(genome_file, genome_file_type)\n",
    "length = len(record.seq)"
   ]
  },
  {
   "cell_type": "markdown",
   "metadata": {},
   "source": [
    "## Подготовка данных"
   ]
  },
  {
   "cell_type": "code",
   "execution_count": 41,
   "metadata": {},
   "outputs": [],
   "source": [
    "import numpy as np\n",
    "\n",
    "def recode_data():\n",
    "    bases_dict     = {\"A\": 0, \"T\": 1, \"C\": 2, \"G\": 3}\n",
    "    bases_list = [\"A\", \"T\", \"C\", \"G\"]\n",
    "    bases_np        = {\n",
    "                        \"A\": np.array([1, 0, 0, 0], dtype = np.float32),\n",
    "                        \"T\": np.array([0, 1, 0, 0], dtype = np.float32),\n",
    "                        \"C\": np.array([0, 0, 1, 0], dtype = np.float32),\n",
    "                        \"G\": np.array([0, 0, 0, 1], dtype = np.float32)\n",
    "                        }\n",
    "\n",
    "    seq_np = np.zeros((length, 4), dtype = np.float32) \n",
    "    for index in range(length):\n",
    "        base = record.seq[index]\n",
    "        if base in bases_list:\n",
    "            channel = bases_dict[base]\n",
    "            seq_np[index, channel] = 1\n",
    "        else:\n",
    "            print(\"alternative base\")\n",
    "    return seq_np"
   ]
  },
  {
   "cell_type": "code",
   "execution_count": 49,
   "metadata": {},
   "outputs": [],
   "source": [
    "LENGTH = 10\n",
    "N_TRAIN = 100000\n",
    "N_TEST = 10000\n",
    "\n",
    "def gen_data_sets(seq_np):\n",
    "    \n",
    "    train_ids = np.random.choice(int(length * (1-test)) - 300, N_TRAIN, replace=False) + 200\n",
    "    test_ids = np.random.choice(int(length * test) - 300, N_TEST, replace=False) + int(length * (1-test))\n",
    "\n",
    "    train1 = np.array([seq_np[x-LENGTH:x, ...] for x in train_ids])\n",
    "    train2 = np.array([seq_np[x+1:x+LENGTH+1, ...] for x in train_ids])\n",
    "    train_ans = np.array([seq_np[x, ...]  for x in train_ids])\n",
    "\n",
    "    test1 = np.array([seq_np[x-LENGTH:x, ...] for x in test_ids])\n",
    "    test2 = np.array([seq_np[x+1:x+LENGTH+1, ...] for x in test_ids])\n",
    "    test_ans = np.array([seq_np[x, ...]  for x in test_ids])\n",
    "    return [train1, train2, train_ans], [test1, test2, test_ans]"
   ]
  },
  {
   "cell_type": "code",
   "execution_count": 46,
   "metadata": {},
   "outputs": [
    {
     "name": "stdout",
     "output_type": "stream",
     "text": [
      "100000 222 4175601\n",
      "10000 4175730 4639365\n",
      "(100000, 10, 4) (100000, 10, 4) (100000, 4)\n",
      "(10000, 10, 4) (10000, 10, 4) (10000, 4)\n"
     ]
    }
   ],
   "source": [
    "seq_np = recode_data()\n",
    "[train1, train2, train_ans], [test1, test2, test_ans] = gen_data_sets(seq_np)\n",
    "print(train1.shape, train2.shape, train_ans.shape)\n",
    "print( test1.shape, test2.shape, test_ans.shape)"
   ]
  },
  {
   "cell_type": "markdown",
   "metadata": {},
   "source": [
    "## Самая простая модель - однослойная"
   ]
  },
  {
   "cell_type": "code",
   "execution_count": 66,
   "metadata": {},
   "outputs": [
    {
     "name": "stdout",
     "output_type": "stream",
     "text": [
      "_________________________________________________________________\n",
      "Layer (type)                 Output Shape              Param #   \n",
      "=================================================================\n",
      "input_8 (InputLayer)         (None, 10, 4)             0         \n",
      "_________________________________________________________________\n",
      "flatten_5 (Flatten)          (None, 40)                0         \n",
      "_________________________________________________________________\n",
      "dense_17 (Dense)             (None, 4)                 164       \n",
      "=================================================================\n",
      "Total params: 164\n",
      "Trainable params: 164\n",
      "Non-trainable params: 0\n",
      "_________________________________________________________________\n"
     ]
    }
   ],
   "source": [
    "import keras\n",
    "from keras.models import Sequential\n",
    "from keras.layers import Conv1D, MaxPooling1D\n",
    "from keras.layers import Activation, Dropout, Flatten, Dense, Input\n",
    "from keras.layers.normalization import BatchNormalization\n",
    "from keras.models import Model\n",
    "    \n",
    "\n",
    "def create_model():\n",
    "    x = Input(shape=(10, 4))\n",
    "    y = Flatten()(x)\n",
    "    z = Dense(4, activation='softmax')(y)\n",
    "    model = Model(x, z)\n",
    "    model.compile(loss='categorical_crossentropy', optimizer='adam', metrics=['accuracy'])\n",
    "    return model\n",
    "\n",
    "model = create_model()\n",
    "model.summary()"
   ]
  },
  {
   "cell_type": "code",
   "execution_count": 34,
   "metadata": {},
   "outputs": [
    {
     "name": "stdout",
     "output_type": "stream",
     "text": [
      "10000/10000 [==============================] - 0s 20us/step\n"
     ]
    },
    {
     "data": {
      "text/plain": [
       "[1.5775941806793212, 0.2344]"
      ]
     },
     "execution_count": 34,
     "metadata": {},
     "output_type": "execute_result"
    }
   ],
   "source": [
    "model.evaluate(test1, test_ans)"
   ]
  },
  {
   "cell_type": "code",
   "execution_count": 35,
   "metadata": {},
   "outputs": [
    {
     "name": "stdout",
     "output_type": "stream",
     "text": [
      "10000/10000 [==============================] - 0s 15us/step\n"
     ]
    },
    {
     "data": {
      "text/plain": [
       "[1.53789299659729, 0.258]"
      ]
     },
     "execution_count": 35,
     "metadata": {},
     "output_type": "execute_result"
    }
   ],
   "source": [
    "model.evaluate(test2, test_ans)"
   ]
  },
  {
   "cell_type": "code",
   "execution_count": 38,
   "metadata": {},
   "outputs": [
    {
     "name": "stdout",
     "output_type": "stream",
     "text": [
      "Train on 90000 samples, validate on 10000 samples\n",
      "Epoch 1/100\n",
      "90000/90000 [==============================] - 2s 25us/step - loss: 1.3595 - acc: 0.3238 - val_loss: 1.3631 - val_acc: 0.3256\n",
      "Epoch 2/100\n",
      "90000/90000 [==============================] - 2s 23us/step - loss: 1.3596 - acc: 0.3242 - val_loss: 1.3599 - val_acc: 0.3242\n",
      "Epoch 3/100\n",
      "90000/90000 [==============================] - 2s 23us/step - loss: 1.3596 - acc: 0.3237 - val_loss: 1.3605 - val_acc: 0.3258\n",
      "Epoch 4/100\n",
      "90000/90000 [==============================] - 2s 24us/step - loss: 1.3596 - acc: 0.3248 - val_loss: 1.3605 - val_acc: 0.3250\n",
      "Epoch 5/100\n",
      "90000/90000 [==============================] - 2s 23us/step - loss: 1.3596 - acc: 0.3222 - val_loss: 1.3607 - val_acc: 0.3240\n",
      "Epoch 6/100\n",
      "90000/90000 [==============================] - 2s 23us/step - loss: 1.3595 - acc: 0.3237 - val_loss: 1.3614 - val_acc: 0.3261\n",
      "Epoch 7/100\n",
      "90000/90000 [==============================] - 2s 23us/step - loss: 1.3596 - acc: 0.3238 - val_loss: 1.3622 - val_acc: 0.3222\n",
      "Epoch 00007: early stopping\n"
     ]
    }
   ],
   "source": [
    "from keras.callbacks import EarlyStopping\n",
    "\n",
    "es = EarlyStopping(monitor='val_loss', verbose=1, patience=5)\n",
    "history = model.fit(train1, train_ans, epochs=100, validation_split = 0.1, callbacks = [es])   "
   ]
  },
  {
   "cell_type": "code",
   "execution_count": 40,
   "metadata": {},
   "outputs": [
    {
     "name": "stdout",
     "output_type": "stream",
     "text": [
      "10000/10000 [==============================] - 0s 15us/step\n"
     ]
    },
    {
     "data": {
      "text/plain": [
       "[1.3553408445358277, 0.3328]"
      ]
     },
     "execution_count": 40,
     "metadata": {},
     "output_type": "execute_result"
    }
   ],
   "source": [
    "model.evaluate(test1, test_ans)"
   ]
  },
  {
   "cell_type": "code",
   "execution_count": 39,
   "metadata": {},
   "outputs": [
    {
     "data": {
      "image/png": "[encoded data removed]",
      "text/plain": [
       "<Figure size 432x288 with 1 Axes>"
      ]
     },
     "metadata": {
      "needs_background": "light"
     },
     "output_type": "display_data"
    },
    {
     "data": {
      "image/png": "[encoded data removed]",
      "text/plain": [
       "<Figure size 432x288 with 1 Axes>"
      ]
     },
     "metadata": {
      "needs_background": "light"
     },
     "output_type": "display_data"
    }
   ],
   "source": [
    "import matplotlib.pyplot as plt\n",
    "%matplotlib inline\n",
    "\n",
    "plt.plot(history.history['acc'])\n",
    "plt.plot(history.history['val_acc'])\n",
    "plt.title('Model accuracy')\n",
    "plt.ylabel('Accuracy')\n",
    "plt.xlabel('Epoch')\n",
    "plt.legend(['Train', 'Validation'], loc='upper left')\n",
    "plt.show()\n",
    "\n",
    "# Plot training & validation loss values\n",
    "plt.plot(history.history['loss'])\n",
    "plt.plot(history.history['val_loss'])\n",
    "plt.title('Model loss')\n",
    "plt.ylabel('Loss')\n",
    "plt.xlabel('Epoch')\n",
    "plt.legend(['Train', 'Validation'], loc='upper left')\n",
    "plt.show()"
   ]
  },
  {
   "cell_type": "markdown",
   "metadata": {},
   "source": [
    "проверим, что не переучиваем"
   ]
  },
  {
   "cell_type": "code",
   "execution_count": 67,
   "metadata": {},
   "outputs": [
    {
     "name": "stdout",
     "output_type": "stream",
     "text": [
      "0\n",
      "Epoch 00006: early stopping\n",
      "Epoch 00008: early stopping\n",
      "Epoch 00012: early stopping\n",
      "Epoch 00007: early stopping\n",
      "Epoch 00007: early stopping\n",
      "Epoch 00006: early stopping\n",
      "Epoch 00020: early stopping\n",
      "Epoch 00006: early stopping\n",
      "Epoch 00006: early stopping\n",
      "Epoch 00018: early stopping\n",
      "10\n",
      "Epoch 00012: early stopping\n",
      "Epoch 00006: early stopping\n",
      "Epoch 00009: early stopping\n",
      "Epoch 00016: early stopping\n",
      "Epoch 00011: early stopping\n",
      "Epoch 00008: early stopping\n",
      "Epoch 00006: early stopping\n",
      "Epoch 00006: early stopping\n",
      "Epoch 00008: early stopping\n",
      "Epoch 00008: early stopping\n"
     ]
    },
    {
     "data": {
      "image/png": "[encoded data removed]",
      "text/plain": [
       "<Figure size 432x288 with 1 Axes>"
      ]
     },
     "metadata": {
      "needs_background": "light"
     },
     "output_type": "display_data"
    },
    {
     "data": {
      "text/plain": [
       "Ks_2sampResult(statistic=0.35000000000000003, pvalue=0.13494714803612687)"
      ]
     },
     "execution_count": 67,
     "metadata": {},
     "output_type": "execute_result"
    }
   ],
   "source": [
    "seq_np = recode_data()\n",
    "test_accs_1_1layer = [] \n",
    "train_accs_1_1layer = []\n",
    "for i in range(20):\n",
    "    if i%10 == 0:\n",
    "        print(i)\n",
    "    [train1, train2, train_ans], [test1, test2, test_ans] = gen_data_sets(seq_np)\n",
    "    history = model.fit(train1, train_ans, epochs=100, validation_split = 0.1, callbacks = [es], verbose=0)   \n",
    "    acc = model.evaluate(test1, test_ans, verbose=0)[1]\n",
    "    acc_train = model.evaluate(train1, train_ans, verbose=0)[1]\n",
    "    test_accs_1_1layer.append(acc)\n",
    "    train_accs_1_1layer.append(acc_train)\n",
    "\n",
    "plt.boxplot([test_accs_1_1layer, train_accs_1_1layer])\n",
    "plt.xticks([1,2], ('test', 'train'))\n",
    "plt.ylabel(\"accuracy\")\n",
    "plt.show()\n",
    "ks_2samp(test_accs_1_1layer, train_accs_1_1layer)"
   ]
  },
  {
   "cell_type": "code",
   "execution_count": 50,
   "metadata": {},
   "outputs": [
    {
     "name": "stdout",
     "output_type": "stream",
     "text": [
      "0\n",
      "Epoch 00009: early stopping\n",
      "10000/10000 [==============================] - 0s 9us/step\n",
      "Epoch 00006: early stopping\n",
      "10000/10000 [==============================] - 0s 9us/step\n",
      "Epoch 00013: early stopping\n",
      "10000/10000 [==============================] - 0s 9us/step\n",
      "Epoch 00010: early stopping\n",
      "10000/10000 [==============================] - 0s 9us/step\n",
      "Epoch 00010: early stopping\n",
      "10000/10000 [==============================] - 0s 9us/step\n",
      "Epoch 00008: early stopping\n",
      "10000/10000 [==============================] - 0s 9us/step\n",
      "Epoch 00007: early stopping\n",
      "10000/10000 [==============================] - 0s 9us/step\n",
      "Epoch 00014: early stopping\n",
      "10000/10000 [==============================] - 0s 8us/step\n",
      "Epoch 00009: early stopping\n",
      "10000/10000 [==============================] - 0s 8us/step\n",
      "Epoch 00006: early stopping\n",
      "10000/10000 [==============================] - 0s 8us/step\n",
      "10\n",
      "Epoch 00006: early stopping\n",
      "10000/10000 [==============================] - 0s 9us/step\n",
      "Epoch 00012: early stopping\n",
      "10000/10000 [==============================] - 0s 9us/step\n",
      "Epoch 00009: early stopping\n",
      "10000/10000 [==============================] - 0s 12us/step\n",
      "Epoch 00006: early stopping\n",
      "10000/10000 [==============================] - 0s 8us/step\n",
      "Epoch 00009: early stopping\n",
      "10000/10000 [==============================] - 0s 8us/step\n",
      "Epoch 00006: early stopping\n",
      "10000/10000 [==============================] - 0s 9us/step\n",
      "Epoch 00013: early stopping\n",
      "10000/10000 [==============================] - 0s 9us/step\n",
      "Epoch 00011: early stopping\n",
      "10000/10000 [==============================] - 0s 9us/step\n",
      "Epoch 00008: early stopping\n",
      "10000/10000 [==============================] - 0s 10us/step\n",
      "Epoch 00014: early stopping\n",
      "10000/10000 [==============================] - 0s 9us/step\n",
      "20\n",
      "Epoch 00006: early stopping\n",
      "10000/10000 [==============================] - 0s 9us/step\n",
      "Epoch 00009: early stopping\n",
      "10000/10000 [==============================] - 0s 9us/step\n",
      "Epoch 00009: early stopping\n",
      "10000/10000 [==============================] - 0s 9us/step\n",
      "Epoch 00015: early stopping\n",
      "10000/10000 [==============================] - 0s 9us/step\n",
      "Epoch 00007: early stopping\n",
      "10000/10000 [==============================] - 0s 8us/step\n",
      "Epoch 00006: early stopping\n",
      "10000/10000 [==============================] - 0s 9us/step\n",
      "Epoch 00007: early stopping\n",
      "10000/10000 [==============================] - 0s 9us/step\n",
      "Epoch 00023: early stopping\n",
      "10000/10000 [==============================] - 0s 10us/step\n",
      "Epoch 00007: early stopping\n",
      "10000/10000 [==============================] - 0s 9us/step\n",
      "Epoch 00012: early stopping\n",
      "10000/10000 [==============================] - 0s 9us/step\n",
      "30\n",
      "Epoch 00008: early stopping\n",
      "10000/10000 [==============================] - 0s 9us/step\n",
      "Epoch 00006: early stopping\n",
      "10000/10000 [==============================] - 0s 9us/step\n",
      "Epoch 00012: early stopping\n",
      "10000/10000 [==============================] - 0s 8us/step\n",
      "Epoch 00010: early stopping\n",
      "10000/10000 [==============================] - 0s 9us/step\n",
      "Epoch 00008: early stopping\n",
      "10000/10000 [==============================] - 0s 9us/step\n",
      "Epoch 00007: early stopping\n",
      "10000/10000 [==============================] - 0s 9us/step\n",
      "Epoch 00008: early stopping\n",
      "10000/10000 [==============================] - 0s 9us/step\n",
      "Epoch 00010: early stopping\n",
      "10000/10000 [==============================] - 0s 8us/step\n",
      "Epoch 00007: early stopping\n",
      "10000/10000 [==============================] - 0s 9us/step\n",
      "Epoch 00015: early stopping\n",
      "10000/10000 [==============================] - 0s 9us/step\n",
      "40\n",
      "Epoch 00010: early stopping\n",
      "10000/10000 [==============================] - 0s 9us/step\n",
      "Epoch 00017: early stopping\n",
      "10000/10000 [==============================] - 0s 8us/step\n",
      "Epoch 00006: early stopping\n",
      "10000/10000 [==============================] - 0s 9us/step\n",
      "Epoch 00015: early stopping\n",
      "10000/10000 [==============================] - 0s 9us/step\n",
      "Epoch 00007: early stopping\n",
      "10000/10000 [==============================] - 0s 9us/step\n",
      "Epoch 00011: early stopping\n",
      "10000/10000 [==============================] - 0s 9us/step\n",
      "Epoch 00008: early stopping\n",
      "10000/10000 [==============================] - 0s 9us/step\n",
      "Epoch 00008: early stopping\n",
      "10000/10000 [==============================] - 0s 9us/step\n",
      "Epoch 00008: early stopping\n",
      "10000/10000 [==============================] - 0s 9us/step\n",
      "Epoch 00006: early stopping\n",
      "10000/10000 [==============================] - 0s 9us/step\n",
      "50\n",
      "Epoch 00011: early stopping\n",
      "10000/10000 [==============================] - 0s 9us/step\n",
      "Epoch 00012: early stopping\n",
      "10000/10000 [==============================] - 0s 11us/step\n",
      "Epoch 00007: early stopping\n",
      "10000/10000 [==============================] - 0s 9us/step\n",
      "Epoch 00006: early stopping\n",
      "10000/10000 [==============================] - 0s 8us/step\n",
      "Epoch 00009: early stopping\n",
      "10000/10000 [==============================] - 0s 9us/step\n",
      "Epoch 00006: early stopping\n",
      "10000/10000 [==============================] - 0s 8us/step\n",
      "Epoch 00011: early stopping\n",
      "10000/10000 [==============================] - 0s 8us/step\n",
      "Epoch 00006: early stopping\n",
      "10000/10000 [==============================] - 0s 8us/step\n",
      "Epoch 00008: early stopping\n",
      "10000/10000 [==============================] - 0s 9us/step\n",
      "Epoch 00007: early stopping\n",
      "10000/10000 [==============================] - 0s 10us/step\n",
      "60\n",
      "Epoch 00010: early stopping\n",
      "10000/10000 [==============================] - 0s 9us/step\n",
      "Epoch 00007: early stopping\n",
      "10000/10000 [==============================] - 0s 9us/step\n",
      "Epoch 00007: early stopping\n",
      "10000/10000 [==============================] - 0s 9us/step\n",
      "Epoch 00009: early stopping\n",
      "10000/10000 [==============================] - 0s 9us/step\n",
      "Epoch 00008: early stopping\n",
      "10000/10000 [==============================] - 0s 9us/step\n",
      "Epoch 00016: early stopping\n",
      "10000/10000 [==============================] - 0s 8us/step\n",
      "Epoch 00006: early stopping\n",
      "10000/10000 [==============================] - 0s 9us/step\n",
      "Epoch 00006: early stopping\n",
      "10000/10000 [==============================] - 0s 8us/step\n",
      "Epoch 00008: early stopping\n",
      "10000/10000 [==============================] - 0s 9us/step\n",
      "Epoch 00007: early stopping\n",
      "10000/10000 [==============================] - 0s 9us/step\n",
      "70\n",
      "Epoch 00013: early stopping\n",
      "10000/10000 [==============================] - 0s 9us/step\n",
      "Epoch 00011: early stopping\n",
      "10000/10000 [==============================] - 0s 8us/step\n",
      "Epoch 00006: early stopping\n",
      "10000/10000 [==============================] - 0s 11us/step\n",
      "Epoch 00013: early stopping\n",
      "10000/10000 [==============================] - 0s 8us/step\n",
      "Epoch 00007: early stopping\n",
      "10000/10000 [==============================] - 0s 8us/step\n",
      "Epoch 00008: early stopping\n",
      "10000/10000 [==============================] - 0s 8us/step\n",
      "Epoch 00014: early stopping\n",
      "10000/10000 [==============================] - 0s 9us/step\n",
      "Epoch 00009: early stopping\n",
      "10000/10000 [==============================] - 0s 10us/step\n",
      "Epoch 00012: early stopping\n",
      "10000/10000 [==============================] - 0s 9us/step\n",
      "Epoch 00007: early stopping\n",
      "10000/10000 [==============================] - 0s 9us/step\n",
      "80\n",
      "Epoch 00020: early stopping\n",
      "10000/10000 [==============================] - 0s 9us/step\n",
      "Epoch 00007: early stopping\n",
      "10000/10000 [==============================] - 0s 8us/step\n",
      "Epoch 00007: early stopping\n",
      "10000/10000 [==============================] - 0s 9us/step\n",
      "Epoch 00016: early stopping\n",
      "10000/10000 [==============================] - 0s 9us/step\n",
      "Epoch 00006: early stopping\n",
      "10000/10000 [==============================] - 0s 8us/step\n",
      "Epoch 00011: early stopping\n",
      "10000/10000 [==============================] - 0s 8us/step\n",
      "Epoch 00013: early stopping\n",
      "10000/10000 [==============================] - 0s 8us/step\n",
      "Epoch 00013: early stopping\n",
      "10000/10000 [==============================] - 0s 8us/step\n",
      "Epoch 00013: early stopping\n",
      "10000/10000 [==============================] - 0s 9us/step\n",
      "Epoch 00011: early stopping\n",
      "10000/10000 [==============================] - 0s 8us/step\n",
      "90\n",
      "Epoch 00007: early stopping\n",
      "10000/10000 [==============================] - 0s 9us/step\n",
      "Epoch 00011: early stopping\n",
      "10000/10000 [==============================] - 0s 9us/step\n",
      "Epoch 00017: early stopping\n",
      "10000/10000 [==============================] - 0s 8us/step\n",
      "Epoch 00013: early stopping\n"
     ]
    },
    {
     "name": "stdout",
     "output_type": "stream",
     "text": [
      "10000/10000 [==============================] - 0s 9us/step\n",
      "Epoch 00014: early stopping\n",
      "10000/10000 [==============================] - 0s 8us/step\n",
      "Epoch 00007: early stopping\n",
      "10000/10000 [==============================] - 0s 8us/step\n",
      "Epoch 00007: early stopping\n",
      "10000/10000 [==============================] - 0s 9us/step\n",
      "Epoch 00013: early stopping\n",
      "10000/10000 [==============================] - 0s 10us/step\n",
      "Epoch 00016: early stopping\n",
      "10000/10000 [==============================] - 0s 8us/step\n",
      "Epoch 00014: early stopping\n",
      "10000/10000 [==============================] - 0s 8us/step\n"
     ]
    }
   ],
   "source": [
    "seq_np = recode_data()\n",
    "test_accs_regr_1 = [] \n",
    "for i in range(100):\n",
    "    if i%10 == 0:\n",
    "        print(i)\n",
    "    [train1, train2, train_ans], [test1, test2, test_ans] = gen_data_sets(seq_np)\n",
    "    history = model.fit(train1, train_ans, epochs=100, validation_split = 0.1, callbacks = [es], verbose=0)   \n",
    "    acc = model.evaluate(test1, test_ans)[1]\n",
    "    test_accs_regr_1.append(acc)"
   ]
  },
  {
   "cell_type": "code",
   "execution_count": 52,
   "metadata": {},
   "outputs": [
    {
     "name": "stdout",
     "output_type": "stream",
     "text": [
      "0\n",
      "Epoch 00007: early stopping\n",
      "10000/10000 [==============================] - 0s 9us/step\n",
      "Epoch 00012: early stopping\n",
      "10000/10000 [==============================] - 0s 9us/step\n",
      "Epoch 00008: early stopping\n",
      "10000/10000 [==============================] - 0s 9us/step\n",
      "Epoch 00012: early stopping\n",
      "10000/10000 [==============================] - 0s 9us/step\n",
      "Epoch 00007: early stopping\n",
      "10000/10000 [==============================] - 0s 9us/step\n",
      "Epoch 00007: early stopping\n",
      "10000/10000 [==============================] - 0s 8us/step\n",
      "Epoch 00007: early stopping\n",
      "10000/10000 [==============================] - 0s 9us/step\n",
      "Epoch 00011: early stopping\n",
      "10000/10000 [==============================] - 0s 9us/step\n",
      "Epoch 00012: early stopping\n",
      "10000/10000 [==============================] - 0s 9us/step\n",
      "Epoch 00008: early stopping\n",
      "10000/10000 [==============================] - 0s 9us/step\n",
      "10\n",
      "Epoch 00010: early stopping\n",
      "10000/10000 [==============================] - 0s 9us/step\n",
      "Epoch 00007: early stopping\n",
      "10000/10000 [==============================] - 0s 9us/step\n",
      "Epoch 00006: early stopping\n",
      "10000/10000 [==============================] - 0s 9us/step\n",
      "Epoch 00014: early stopping\n",
      "10000/10000 [==============================] - 0s 8us/step\n",
      "Epoch 00010: early stopping\n",
      "10000/10000 [==============================] - 0s 9us/step\n",
      "Epoch 00007: early stopping\n",
      "10000/10000 [==============================] - 0s 9us/step\n",
      "Epoch 00011: early stopping\n",
      "10000/10000 [==============================] - 0s 8us/step\n",
      "Epoch 00012: early stopping\n",
      "10000/10000 [==============================] - 0s 9us/step\n",
      "Epoch 00006: early stopping\n",
      "10000/10000 [==============================] - 0s 9us/step\n",
      "Epoch 00006: early stopping\n",
      "10000/10000 [==============================] - 0s 9us/step\n",
      "20\n",
      "Epoch 00011: early stopping\n",
      "10000/10000 [==============================] - 0s 9us/step\n",
      "Epoch 00012: early stopping\n",
      "10000/10000 [==============================] - 0s 9us/step\n",
      "Epoch 00008: early stopping\n",
      "10000/10000 [==============================] - 0s 9us/step\n",
      "Epoch 00010: early stopping\n",
      "10000/10000 [==============================] - 0s 9us/step\n",
      "Epoch 00009: early stopping\n",
      "10000/10000 [==============================] - 0s 9us/step\n",
      "Epoch 00011: early stopping\n",
      "10000/10000 [==============================] - 0s 8us/step\n",
      "Epoch 00009: early stopping\n",
      "10000/10000 [==============================] - 0s 10us/step\n",
      "Epoch 00010: early stopping\n",
      "10000/10000 [==============================] - 0s 10us/step\n",
      "Epoch 00006: early stopping\n",
      "10000/10000 [==============================] - 0s 9us/step\n",
      "Epoch 00010: early stopping\n",
      "10000/10000 [==============================] - 0s 10us/step\n",
      "30\n",
      "Epoch 00009: early stopping\n",
      "10000/10000 [==============================] - 0s 9us/step\n",
      "Epoch 00009: early stopping\n",
      "10000/10000 [==============================] - 0s 9us/step\n",
      "Epoch 00007: early stopping\n",
      "10000/10000 [==============================] - 0s 9us/step\n",
      "Epoch 00013: early stopping\n",
      "10000/10000 [==============================] - 0s 9us/step\n",
      "Epoch 00011: early stopping\n",
      "10000/10000 [==============================] - 0s 9us/step\n",
      "Epoch 00007: early stopping\n",
      "10000/10000 [==============================] - 0s 9us/step\n",
      "Epoch 00013: early stopping\n",
      "10000/10000 [==============================] - 0s 9us/step\n",
      "Epoch 00008: early stopping\n",
      "10000/10000 [==============================] - 0s 9us/step\n",
      "Epoch 00006: early stopping\n",
      "10000/10000 [==============================] - 0s 8us/step\n",
      "Epoch 00011: early stopping\n",
      "10000/10000 [==============================] - 0s 9us/step\n",
      "40\n",
      "Epoch 00012: early stopping\n",
      "10000/10000 [==============================] - 0s 8us/step\n",
      "Epoch 00009: early stopping\n",
      "10000/10000 [==============================] - 0s 8us/step\n",
      "Epoch 00010: early stopping\n",
      "10000/10000 [==============================] - 0s 10us/step\n",
      "Epoch 00012: early stopping\n",
      "10000/10000 [==============================] - 0s 8us/step\n",
      "Epoch 00006: early stopping\n",
      "10000/10000 [==============================] - 0s 9us/step\n",
      "Epoch 00007: early stopping\n",
      "10000/10000 [==============================] - 0s 9us/step\n",
      "Epoch 00006: early stopping\n",
      "10000/10000 [==============================] - 0s 9us/step\n",
      "Epoch 00007: early stopping\n",
      "10000/10000 [==============================] - 0s 9us/step\n",
      "Epoch 00007: early stopping\n",
      "10000/10000 [==============================] - 0s 9us/step\n",
      "Epoch 00011: early stopping\n",
      "10000/10000 [==============================] - 0s 13us/step\n",
      "50\n",
      "Epoch 00008: early stopping\n",
      "10000/10000 [==============================] - 0s 9us/step\n",
      "Epoch 00007: early stopping\n",
      "10000/10000 [==============================] - 0s 11us/step\n",
      "Epoch 00011: early stopping\n",
      "10000/10000 [==============================] - 0s 9us/step\n",
      "Epoch 00007: early stopping\n",
      "10000/10000 [==============================] - 0s 11us/step\n",
      "Epoch 00007: early stopping\n",
      "10000/10000 [==============================] - 0s 9us/step\n",
      "Epoch 00016: early stopping\n",
      "10000/10000 [==============================] - 0s 8us/step\n",
      "Epoch 00009: early stopping\n",
      "10000/10000 [==============================] - 0s 9us/step\n",
      "Epoch 00009: early stopping\n",
      "10000/10000 [==============================] - 0s 8us/step\n",
      "Epoch 00013: early stopping\n",
      "10000/10000 [==============================] - 0s 9us/step\n",
      "Epoch 00008: early stopping\n",
      "10000/10000 [==============================] - 0s 9us/step\n",
      "60\n",
      "Epoch 00007: early stopping\n",
      "10000/10000 [==============================] - 0s 9us/step\n",
      "Epoch 00009: early stopping\n",
      "10000/10000 [==============================] - 0s 9us/step\n",
      "Epoch 00009: early stopping\n",
      "10000/10000 [==============================] - 0s 11us/step\n",
      "Epoch 00014: early stopping\n",
      "10000/10000 [==============================] - 0s 8us/step\n",
      "Epoch 00006: early stopping\n",
      "10000/10000 [==============================] - 0s 9us/step\n",
      "Epoch 00012: early stopping\n",
      "10000/10000 [==============================] - 0s 8us/step\n",
      "Epoch 00011: early stopping\n",
      "10000/10000 [==============================] - 0s 9us/step\n",
      "Epoch 00012: early stopping\n",
      "10000/10000 [==============================] - 0s 8us/step\n",
      "Epoch 00006: early stopping\n",
      "10000/10000 [==============================] - 0s 9us/step\n",
      "Epoch 00010: early stopping\n",
      "10000/10000 [==============================] - 0s 8us/step\n",
      "70\n",
      "Epoch 00010: early stopping\n",
      "10000/10000 [==============================] - 0s 8us/step\n",
      "Epoch 00006: early stopping\n",
      "10000/10000 [==============================] - 0s 12us/step\n",
      "Epoch 00007: early stopping\n",
      "10000/10000 [==============================] - 0s 8us/step\n",
      "Epoch 00012: early stopping\n",
      "10000/10000 [==============================] - 0s 8us/step\n",
      "Epoch 00006: early stopping\n",
      "10000/10000 [==============================] - 0s 8us/step\n",
      "Epoch 00010: early stopping\n",
      "10000/10000 [==============================] - 0s 8us/step\n",
      "Epoch 00008: early stopping\n",
      "10000/10000 [==============================] - 0s 9us/step\n",
      "Epoch 00012: early stopping\n",
      "10000/10000 [==============================] - 0s 8us/step\n",
      "Epoch 00006: early stopping\n",
      "10000/10000 [==============================] - 0s 9us/step\n",
      "Epoch 00011: early stopping\n",
      "10000/10000 [==============================] - 0s 9us/step\n",
      "80\n",
      "Epoch 00013: early stopping\n",
      "10000/10000 [==============================] - 0s 8us/step\n",
      "Epoch 00009: early stopping\n",
      "10000/10000 [==============================] - 0s 9us/step\n",
      "Epoch 00007: early stopping\n",
      "10000/10000 [==============================] - 0s 9us/step\n",
      "Epoch 00008: early stopping\n",
      "10000/10000 [==============================] - 0s 9us/step\n",
      "Epoch 00011: early stopping\n",
      "10000/10000 [==============================] - 0s 9us/step\n",
      "Epoch 00007: early stopping\n",
      "10000/10000 [==============================] - 0s 9us/step\n",
      "Epoch 00009: early stopping\n",
      "10000/10000 [==============================] - 0s 9us/step\n",
      "Epoch 00006: early stopping\n",
      "10000/10000 [==============================] - 0s 8us/step\n",
      "Epoch 00008: early stopping\n",
      "10000/10000 [==============================] - 0s 9us/step\n",
      "Epoch 00010: early stopping\n",
      "10000/10000 [==============================] - 0s 9us/step\n",
      "90\n",
      "Epoch 00007: early stopping\n",
      "10000/10000 [==============================] - 0s 9us/step\n",
      "Epoch 00006: early stopping\n",
      "10000/10000 [==============================] - 0s 9us/step\n",
      "Epoch 00013: early stopping\n",
      "10000/10000 [==============================] - 0s 9us/step\n",
      "Epoch 00006: early stopping\n"
     ]
    },
    {
     "name": "stdout",
     "output_type": "stream",
     "text": [
      "10000/10000 [==============================] - 0s 8us/step\n",
      "Epoch 00009: early stopping\n",
      "10000/10000 [==============================] - 0s 8us/step\n",
      "Epoch 00006: early stopping\n",
      "10000/10000 [==============================] - 0s 8us/step\n",
      "Epoch 00016: early stopping\n",
      "10000/10000 [==============================] - 0s 9us/step\n",
      "Epoch 00016: early stopping\n",
      "10000/10000 [==============================] - 0s 8us/step\n",
      "Epoch 00007: early stopping\n",
      "10000/10000 [==============================] - 0s 8us/step\n",
      "Epoch 00008: early stopping\n",
      "10000/10000 [==============================] - 0s 9us/step\n"
     ]
    }
   ],
   "source": [
    "test_accs_regr_2 = [] \n",
    "for i in range(100):\n",
    "    if i%10 == 0:\n",
    "        print(i)\n",
    "    [train1, train2, train_ans], [test1, test2, test_ans] = gen_data_sets(seq_np)\n",
    "    history = model.fit(train2, train_ans, epochs=100, validation_split = 0.1, callbacks = [es], verbose=0)   \n",
    "    acc = model.evaluate(test2, test_ans)[1]\n",
    "    test_accs_regr_2.append(acc)"
   ]
  },
  {
   "cell_type": "code",
   "execution_count": 55,
   "metadata": {},
   "outputs": [
    {
     "data": {
      "image/png": "[encoded data removed]",
      "text/plain": [
       "<Figure size 432x288 with 1 Axes>"
      ]
     },
     "metadata": {
      "needs_background": "light"
     },
     "output_type": "display_data"
    },
    {
     "data": {
      "text/plain": [
       "Ks_2sampResult(statistic=0.09000000000000008, pvalue=0.794183771284772)"
      ]
     },
     "execution_count": 55,
     "metadata": {},
     "output_type": "execute_result"
    }
   ],
   "source": [
    "import matplotlib.pyplot as plt\n",
    "%matplotlib inline\n",
    "from scipy.stats import ks_2samp\n",
    "\n",
    "plt.boxplot([test_accs_regr_1, test_accs_regr_2])\n",
    "plt.show()\n",
    "ks_2samp(test_accs_regr_1, test_accs_regr_2)"
   ]
  },
  {
   "cell_type": "markdown",
   "metadata": {},
   "source": [
    "## Теперь сетка сложнее - два слоя"
   ]
  },
  {
   "cell_type": "code",
   "execution_count": 68,
   "metadata": {},
   "outputs": [
    {
     "name": "stdout",
     "output_type": "stream",
     "text": [
      "_________________________________________________________________\n",
      "Layer (type)                 Output Shape              Param #   \n",
      "=================================================================\n",
      "input_9 (InputLayer)         (None, 10, 4)             0         \n",
      "_________________________________________________________________\n",
      "flatten_6 (Flatten)          (None, 40)                0         \n",
      "_________________________________________________________________\n",
      "dense_18 (Dense)             (None, 10)                410       \n",
      "_________________________________________________________________\n",
      "dense_19 (Dense)             (None, 4)                 44        \n",
      "=================================================================\n",
      "Total params: 454\n",
      "Trainable params: 454\n",
      "Non-trainable params: 0\n",
      "_________________________________________________________________\n"
     ]
    }
   ],
   "source": [
    "def create_model():\n",
    "    x = Input(shape=(10, 4))\n",
    "    y = Flatten()(x)\n",
    "    a = Dense(10)(y)\n",
    "    z = Dense(4, activation='softmax')(a)\n",
    "    model = Model(x, z)\n",
    "    model.compile(loss='categorical_crossentropy', optimizer='adam', metrics=['accuracy'])\n",
    "    return model\n",
    "\n",
    "model = create_model()\n",
    "model.summary()"
   ]
  },
  {
   "cell_type": "code",
   "execution_count": 69,
   "metadata": {},
   "outputs": [
    {
     "name": "stdout",
     "output_type": "stream",
     "text": [
      "Train on 90000 samples, validate on 10000 samples\n",
      "Epoch 1/100\n",
      "90000/90000 [==============================] - 3s 30us/step - loss: 1.3679 - acc: 0.3123 - val_loss: 1.3603 - val_acc: 0.3145\n",
      "Epoch 2/100\n",
      "90000/90000 [==============================] - 2s 25us/step - loss: 1.3605 - acc: 0.3204 - val_loss: 1.3603 - val_acc: 0.3205\n",
      "Epoch 3/100\n",
      "90000/90000 [==============================] - 2s 26us/step - loss: 1.3601 - acc: 0.3219 - val_loss: 1.3594 - val_acc: 0.3221\n",
      "Epoch 4/100\n",
      "90000/90000 [==============================] - 3s 31us/step - loss: 1.3601 - acc: 0.3215 - val_loss: 1.3609 - val_acc: 0.3178\n",
      "Epoch 5/100\n",
      "90000/90000 [==============================] - 2s 26us/step - loss: 1.3599 - acc: 0.3218 - val_loss: 1.3610 - val_acc: 0.3206\n",
      "Epoch 6/100\n",
      "90000/90000 [==============================] - 3s 28us/step - loss: 1.3598 - acc: 0.3221 - val_loss: 1.3598 - val_acc: 0.3187\n",
      "Epoch 7/100\n",
      "90000/90000 [==============================] - 2s 27us/step - loss: 1.3596 - acc: 0.3217 - val_loss: 1.3594 - val_acc: 0.3210\n",
      "Epoch 8/100\n",
      "90000/90000 [==============================] - 2s 26us/step - loss: 1.3595 - acc: 0.3221 - val_loss: 1.3603 - val_acc: 0.3229\n",
      "Epoch 9/100\n",
      "90000/90000 [==============================] - 2s 26us/step - loss: 1.3595 - acc: 0.3218 - val_loss: 1.3595 - val_acc: 0.3197\n",
      "Epoch 10/100\n",
      "90000/90000 [==============================] - 2s 26us/step - loss: 1.3594 - acc: 0.3222 - val_loss: 1.3603 - val_acc: 0.3183\n",
      "Epoch 11/100\n",
      "90000/90000 [==============================] - 2s 27us/step - loss: 1.3593 - acc: 0.3227 - val_loss: 1.3596 - val_acc: 0.3259\n",
      "Epoch 00011: early stopping\n"
     ]
    }
   ],
   "source": [
    "from keras.callbacks import EarlyStopping\n",
    "\n",
    "es = EarlyStopping(monitor='val_loss', verbose=1, patience=4)\n",
    "history = model.fit(train1, train_ans, epochs=100, validation_split = 0.1, callbacks = [es])   "
   ]
  },
  {
   "cell_type": "code",
   "execution_count": 58,
   "metadata": {},
   "outputs": [
    {
     "name": "stdout",
     "output_type": "stream",
     "text": [
      "10000/10000 [==============================] - 0s 14us/step\n"
     ]
    },
    {
     "data": {
      "text/plain": [
       "[1.3551686933517455, 0.3311]"
      ]
     },
     "execution_count": 58,
     "metadata": {},
     "output_type": "execute_result"
    }
   ],
   "source": [
    "model.evaluate(test1, test_ans)"
   ]
  },
  {
   "cell_type": "code",
   "execution_count": 59,
   "metadata": {},
   "outputs": [
    {
     "data": {
      "image/png": "[encoded data removed]",
      "text/plain": [
       "<Figure size 432x288 with 1 Axes>"
      ]
     },
     "metadata": {
      "needs_background": "light"
     },
     "output_type": "display_data"
    },
    {
     "data": {
      "image/png": "[encoded data removed]",
      "text/plain": [
       "<Figure size 432x288 with 1 Axes>"
      ]
     },
     "metadata": {
      "needs_background": "light"
     },
     "output_type": "display_data"
    }
   ],
   "source": [
    "plt.plot(history.history['acc'])\n",
    "plt.plot(history.history['val_acc'])\n",
    "plt.title('Model accuracy')\n",
    "plt.ylabel('Accuracy')\n",
    "plt.xlabel('Epoch')\n",
    "plt.legend(['Train', 'Validation'], loc='upper left')\n",
    "plt.show()\n",
    "\n",
    "# Plot training & validation loss values\n",
    "plt.plot(history.history['loss'])\n",
    "plt.plot(history.history['val_loss'])\n",
    "plt.title('Model loss')\n",
    "plt.ylabel('Loss')\n",
    "plt.xlabel('Epoch')\n",
    "plt.legend(['Train', 'Validation'], loc='upper left')\n",
    "plt.show()"
   ]
  },
  {
   "cell_type": "markdown",
   "metadata": {},
   "source": [
    "Проверим, не переобучается ли"
   ]
  },
  {
   "cell_type": "code",
   "execution_count": 71,
   "metadata": {},
   "outputs": [
    {
     "name": "stdout",
     "output_type": "stream",
     "text": [
      "0\n",
      "Epoch 00005: early stopping\n",
      "Epoch 00005: early stopping\n",
      "Epoch 00005: early stopping\n",
      "Epoch 00006: early stopping\n",
      "Epoch 00010: early stopping\n",
      "Epoch 00007: early stopping\n",
      "Epoch 00005: early stopping\n",
      "Epoch 00005: early stopping\n",
      "Epoch 00005: early stopping\n",
      "Epoch 00009: early stopping\n",
      "10\n",
      "Epoch 00009: early stopping\n",
      "Epoch 00005: early stopping\n",
      "Epoch 00006: early stopping\n",
      "Epoch 00009: early stopping\n",
      "Epoch 00005: early stopping\n",
      "Epoch 00005: early stopping\n",
      "Epoch 00007: early stopping\n",
      "Epoch 00009: early stopping\n",
      "Epoch 00006: early stopping\n",
      "Epoch 00005: early stopping\n"
     ]
    },
    {
     "data": {
      "image/png": "[encoded data removed]",
      "text/plain": [
       "<Figure size 432x288 with 1 Axes>"
      ]
     },
     "metadata": {
      "needs_background": "light"
     },
     "output_type": "display_data"
    },
    {
     "data": {
      "text/plain": [
       "Ks_2sampResult(statistic=0.35, pvalue=0.13494714803612698)"
      ]
     },
     "execution_count": 71,
     "metadata": {},
     "output_type": "execute_result"
    }
   ],
   "source": [
    "seq_np = recode_data()\n",
    "test_accs_1_2layer = [] \n",
    "train_accs_1_2layer = []\n",
    "for i in range(20):\n",
    "    if i%10 == 0:\n",
    "        print(i)\n",
    "    [train1, train2, train_ans], [test1, test2, test_ans] = gen_data_sets(seq_np)\n",
    "    history = model.fit(train1, train_ans, epochs=100, validation_split = 0.1, callbacks = [es], verbose=0)   \n",
    "    acc = model.evaluate(test1, test_ans, verbose=0)[1]\n",
    "    acc_train = model.evaluate(train1, train_ans, verbose=0)[1]\n",
    "    test_accs_1_2layer.append(acc)\n",
    "    train_accs_1_2layer.append(acc_train)\n",
    "\n",
    "plt.boxplot([test_accs_1_2layer, train_accs_1_2layer])\n",
    "plt.xticks([1,2], ('test', 'train'))\n",
    "plt.ylabel(\"accuracy\")\n",
    "plt.show()\n",
    "ks_2samp(test_accs_1_2layer, train_accs_1_2layer)"
   ]
  },
  {
   "cell_type": "code",
   "execution_count": 74,
   "metadata": {},
   "outputs": [
    {
     "name": "stdout",
     "output_type": "stream",
     "text": [
      "0\n",
      "Epoch 00005: early stopping\n",
      "Epoch 00005: early stopping\n",
      "Epoch 00007: early stopping\n",
      "Epoch 00006: early stopping\n",
      "Epoch 00006: early stopping\n",
      "Epoch 00012: early stopping\n",
      "Epoch 00007: early stopping\n",
      "Epoch 00006: early stopping\n",
      "Epoch 00005: early stopping\n",
      "Epoch 00005: early stopping\n",
      "10\n",
      "Epoch 00012: early stopping\n",
      "Epoch 00006: early stopping\n",
      "Epoch 00005: early stopping\n",
      "Epoch 00005: early stopping\n",
      "Epoch 00007: early stopping\n",
      "Epoch 00007: early stopping\n",
      "Epoch 00009: early stopping\n",
      "Epoch 00007: early stopping\n",
      "Epoch 00010: early stopping\n",
      "Epoch 00011: early stopping\n",
      "20\n",
      "Epoch 00005: early stopping\n",
      "Epoch 00007: early stopping\n",
      "Epoch 00011: early stopping\n",
      "Epoch 00009: early stopping\n",
      "Epoch 00005: early stopping\n",
      "Epoch 00005: early stopping\n",
      "Epoch 00005: early stopping\n",
      "Epoch 00008: early stopping\n",
      "Epoch 00010: early stopping\n",
      "Epoch 00006: early stopping\n",
      "30\n",
      "Epoch 00009: early stopping\n",
      "Epoch 00007: early stopping\n",
      "Epoch 00012: early stopping\n",
      "Epoch 00006: early stopping\n",
      "Epoch 00008: early stopping\n",
      "Epoch 00005: early stopping\n",
      "Epoch 00005: early stopping\n",
      "Epoch 00008: early stopping\n",
      "Epoch 00006: early stopping\n",
      "Epoch 00006: early stopping\n",
      "40\n",
      "Epoch 00012: early stopping\n",
      "Epoch 00005: early stopping\n",
      "Epoch 00005: early stopping\n",
      "Epoch 00008: early stopping\n",
      "Epoch 00010: early stopping\n",
      "Epoch 00005: early stopping\n",
      "Epoch 00007: early stopping\n",
      "Epoch 00005: early stopping\n",
      "Epoch 00006: early stopping\n",
      "Epoch 00020: early stopping\n",
      "50\n",
      "Epoch 00006: early stopping\n",
      "Epoch 00005: early stopping\n",
      "Epoch 00007: early stopping\n",
      "Epoch 00011: early stopping\n",
      "Epoch 00010: early stopping\n",
      "Epoch 00005: early stopping\n",
      "Epoch 00011: early stopping\n",
      "Epoch 00008: early stopping\n",
      "Epoch 00005: early stopping\n",
      "Epoch 00007: early stopping\n",
      "60\n",
      "Epoch 00005: early stopping\n",
      "Epoch 00007: early stopping\n",
      "Epoch 00005: early stopping\n",
      "Epoch 00005: early stopping\n",
      "Epoch 00005: early stopping\n",
      "Epoch 00007: early stopping\n",
      "Epoch 00006: early stopping\n",
      "Epoch 00007: early stopping\n",
      "Epoch 00008: early stopping\n",
      "Epoch 00006: early stopping\n",
      "70\n",
      "Epoch 00007: early stopping\n",
      "Epoch 00006: early stopping\n",
      "Epoch 00007: early stopping\n",
      "Epoch 00006: early stopping\n",
      "Epoch 00008: early stopping\n",
      "Epoch 00006: early stopping\n",
      "Epoch 00006: early stopping\n",
      "Epoch 00005: early stopping\n",
      "Epoch 00013: early stopping\n",
      "Epoch 00011: early stopping\n",
      "80\n",
      "Epoch 00006: early stopping\n",
      "Epoch 00011: early stopping\n",
      "Epoch 00009: early stopping\n",
      "Epoch 00008: early stopping\n",
      "Epoch 00008: early stopping\n",
      "Epoch 00007: early stopping\n",
      "Epoch 00010: early stopping\n",
      "Epoch 00005: early stopping\n",
      "Epoch 00006: early stopping\n",
      "Epoch 00005: early stopping\n",
      "90\n",
      "Epoch 00008: early stopping\n",
      "Epoch 00005: early stopping\n",
      "Epoch 00005: early stopping\n",
      "Epoch 00010: early stopping\n",
      "Epoch 00005: early stopping\n",
      "Epoch 00005: early stopping\n",
      "Epoch 00007: early stopping\n",
      "Epoch 00008: early stopping\n",
      "Epoch 00005: early stopping\n",
      "Epoch 00008: early stopping\n"
     ]
    }
   ],
   "source": [
    "seq_np = recode_data()\n",
    "test_accs_regr_1_2layer = [] \n",
    "for i in range(100):\n",
    "    if i%10 == 0:\n",
    "        print(i)\n",
    "    [train1, train2, train_ans], [test1, test2, test_ans] = gen_data_sets(seq_np)\n",
    "    history = model.fit(train1, train_ans, epochs=100, validation_split = 0.1, callbacks = [es], verbose=0)   \n",
    "    acc = model.evaluate(test1, test_ans, verbose=0)[1]\n",
    "    test_accs_regr_1_2layer.append(acc)"
   ]
  },
  {
   "cell_type": "code",
   "execution_count": 75,
   "metadata": {},
   "outputs": [
    {
     "data": {
      "image/png": "[encoded data removed]",
      "text/plain": [
       "<Figure size 432x288 with 1 Axes>"
      ]
     },
     "metadata": {
      "needs_background": "light"
     },
     "output_type": "display_data"
    },
    {
     "data": {
      "text/plain": [
       "Ks_2sampResult(statistic=0.21000000000000002, pvalue=0.020495314493847068)"
      ]
     },
     "execution_count": 75,
     "metadata": {},
     "output_type": "execute_result"
    }
   ],
   "source": [
    "plt.boxplot([test_accs_regr_1, test_accs_regr_1_2layer])\n",
    "plt.xticks([1, 2], ('model_1', 'model_2'))\n",
    "plt.ylabel(\"accuracy\")\n",
    "plt.show()\n",
    "ks_2samp(test_accs_regr_1, test_accs_regr_1_2layer)"
   ]
  },
  {
   "cell_type": "code",
   "execution_count": 78,
   "metadata": {},
   "outputs": [
    {
     "data": {
      "text/plain": [
       "(0.31, 0.339)"
      ]
     },
     "execution_count": 78,
     "metadata": {},
     "output_type": "execute_result"
    },
    {
     "data": {
      "image/png": "[encoded data removed]",
      "text/plain": [
       "<Figure size 432x288 with 1 Axes>"
      ]
     },
     "metadata": {
      "needs_background": "light"
     },
     "output_type": "display_data"
    }
   ],
   "source": [
    "plt.hist(test_accs_regr_1)\n",
    "plt.xlim(0.31, 0.339)"
   ]
  },
  {
   "cell_type": "code",
   "execution_count": 79,
   "metadata": {},
   "outputs": [
    {
     "data": {
      "text/plain": [
       "(0.31, 0.339)"
      ]
     },
     "execution_count": 79,
     "metadata": {},
     "output_type": "execute_result"
    },
    {
     "data": {
      "image/png": "[encoded data removed]",
      "text/plain": [
       "<Figure size 432x288 with 1 Axes>"
      ]
     },
     "metadata": {
      "needs_background": "light"
     },
     "output_type": "display_data"
    }
   ],
   "source": [
    "plt.hist(test_accs_regr_1_2layer)\n",
    "plt.xlim(0.31, 0.339)"
   ]
  }
 ],
 "metadata": {
  "kernelspec": {
   "display_name": "Python 3",
   "language": "python",
   "name": "python3"
  },
  "language_info": {
   "codemirror_mode": {
    "name": "ipython",
    "version": 3
   },
   "file_extension": ".py",
   "mimetype": "text/x-python",
   "name": "python",
   "nbconvert_exporter": "python",
   "pygments_lexer": "ipython3",
   "version": "3.5.2"
  }
 },
 "nbformat": 4,
 "nbformat_minor": 2
}
