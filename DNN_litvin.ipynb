{
 "cells": [
  {
   "cell_type": "markdown",
   "metadata": {},
   "source": [
    "## Что посчиталось"
   ]
  },
  {
   "cell_type": "code",
   "execution_count": 6,
   "metadata": {
    "collapsed": false
   },
   "outputs": [],
   "source": [
    "from data_loading import *\n",
    "import glob"
   ]
  },
  {
   "cell_type": "code",
   "execution_count": 71,
   "metadata": {
    "collapsed": false
   },
   "outputs": [],
   "source": [
    "# s = [print(x) for x in sorted(glob.glob(\"../results/dnn/*/*all_runs**\"), key = lambda x : x.split(\"/\")[-1])]"
   ]
  },
  {
   "cell_type": "markdown",
   "metadata": {},
   "source": [
    "# Самая простая модель - однослойная"
   ]
  },
  {
   "cell_type": "code",
   "execution_count": 23,
   "metadata": {
    "collapsed": false,
    "scrolled": false
   },
   "outputs": [
    {
     "name": "stdout",
     "output_type": "stream",
     "text": [
      "../results/dnn/2019-04-29-17-17/dnn_model_1_all_runs_p1_ecoli_100000_10000_03_00.pyob\n",
      "../results/dnn/2019-04-26-01-42/dnn_model_1_all_runs_p1_ecoli_100000_10000_12_02.pyob\n",
      "../results/dnn/2019-04-27-14-51/dnn_model_1_all_runs_p1_ecoli_100000_10000_12_0.pyob\n",
      "../results/dnn/2019-04-29-18-08/dnn_model_1_all_runs_p1_ecoli_100000_10000_50_00.pyob\n",
      "../results/dnn/2019-04-26-03-47/dnn_model_1_all_runs_p1_ecoli_100000_10000_12_06.pyob\n",
      "../results/dnn/2019-04-26-00-37/dnn_model_1_all_runs_p1_ecoli_100000_10000_12_01.pyob\n",
      "../results/dnn/2019-04-27-15-59/dnn_model_1_all_runs_p1_ecoli_100000_10000_24_0.pyob\n",
      "../results/dnn/2019-04-27-13-50/dnn_model_1_all_runs_p1_ecoli_100000_10000_06_0.pyob\n",
      "../results/dnn/2019-04-26-02-43/dnn_model_1_all_runs_p1_ecoli_100000_10000_12_03.pyob\n"
     ]
    }
   ],
   "source": [
    "from data_loading import *\n",
    "import glob\n",
    "\n",
    "a = glob.glob(\"../results/dnn/*/*1_all_runs_p1*100000*_0*\")\n",
    "[print(x) for x in a]\n",
    "\n",
    "# import matplotlib\n",
    "# matplotlib.rcParams.update({'font.size': 26})\n",
    "\n",
    "from matplotlib import rc\n",
    "rc('font',**{'family':'serif','serif':['Computer Modern Roman'], 'weight' : 200, 'size'   : 26})\n",
    "# rc('font',**{'family':'serif','serif':['Times'], 'weight' : 700, 'size'   : 26})\n",
    "rc('text', usetex=True)\n",
    "\n",
    "# for path in a:\n",
    "#     train, val, test = plot_hist(path, [plt.ylim(0.31, 0.35)])"
   ]
  },
  {
   "cell_type": "code",
   "execution_count": 92,
   "metadata": {
    "collapsed": false
   },
   "outputs": [
    {
     "name": "stdout",
     "output_type": "stream",
     "text": [
      "file ../results/dnn/2019-04-29-17-17/dnn_model_1_all_runs_p1_ecoli_100000_10000_03_00.pyob\n",
      "file ../results/dnn/2019-04-27-13-50/dnn_model_1_all_runs_p1_ecoli_100000_10000_06_0.pyob\n",
      "file ../results/dnn/2019-04-27-14-51/dnn_model_1_all_runs_p1_ecoli_100000_10000_12_0.pyob\n",
      "file ../results/dnn/2019-04-27-15-59/dnn_model_1_all_runs_p1_ecoli_100000_10000_24_0.pyob\n",
      "file ../results/dnn/2019-04-29-18-08/dnn_model_1_all_runs_p1_ecoli_100000_10000_50_00.pyob\n",
      "21 30 30 30 30 "
     ]
    },
    {
     "name": "stderr",
     "output_type": "stream",
     "text": [
      "/home/bvdmitri/anaconda3/lib/python3.5/site-packages/matplotlib/font_manager.py:1328: UserWarning: findfont: Font family ['serif'] not found. Falling back to DejaVu Sans\n",
      "  (prop.get_family(), self.defaultFamily[fontext]))\n"
     ]
    },
    {
     "data": {
      "image/png": "[encoded data removed]",
      "text/plain": [
       "<Figure size 432x288 with 1 Axes>"
      ]
     },
     "metadata": {},
     "output_type": "display_data"
    }
   ],
   "source": [
    "from data_loading import *\n",
    "import matplotlib.pyplot as plt\n",
    "%matplotlib inline\n",
    "\n",
    "test_list = [test_accs(x) for x in sorted(glob.glob(\"../results/dnn/*/*1_all_runs_p1*100000*_0.*\") + glob.glob(\"../results/dnn/*/*1_all_runs_p1*100000*_00.*\"), key = lambda x : x.split(\"/\")[-1])]\n",
    "\n",
    "[print(len(x), end = \" \") for x in test_list]\n",
    "\n",
    "from matplotlib import rc\n",
    "rc('font',**{'family':'serif','serif':['Computer Modern Roman'], 'weight' : 200, 'size'   : 20})\n",
    "# rc('font',**{'family':'serif','serif':['Times'], 'weight' : 700, 'size'   : 26})\n",
    "rc('text', usetex=True)\n",
    "\n",
    "# plt.hlines(0.25, 0, 4, color = 'red', linewidth = 2)\n",
    "plt.ylim(0.29, 0.35)\n",
    "plt.boxplot(test_list,\n",
    "            medianprops=dict(color=\"black\", linewidth = 2),\n",
    "            boxprops=dict(linewidth = 2),\n",
    "            capprops=dict(linewidth = 2),\n",
    "            whiskerprops=dict(linewidth = 2),)\n",
    "ticks = (3, 6, 12, 24, 50)\n",
    "plt.xticks(range(1, len(ticks) + 1), ticks)\n",
    "plt.ylabel(\"accuracy\")\n",
    "plt.xlabel(\"predictor size\")\n",
    "plt.title(\"DNN model 1\")\n",
    "plt.plot([2, 4], [0.344, 0.344], marker=\"|\", linewidth = 0.5, color = \"black\")\n",
    "plt.text(3-0.1, 0.343, \"**\")\n",
    "plt.savefig(\"../results/pics/dnn_model_1_all_runs_p1_ecoli_100000_10000_all_0.png\", dpi=300, bbox_inches='tight')\n",
    "plt.show()"
   ]
  },
  {
   "cell_type": "code",
   "execution_count": 79,
   "metadata": {
    "collapsed": false
   },
   "outputs": [
    {
     "name": "stdout",
     "output_type": "stream",
     "text": [
      "WilcoxonResult(statistic=58.0, pvalue=0.00033136372596703106)\n",
      "MannwhitneyuResult(statistic=264.0, pvalue=0.0030450355470564715)\n"
     ]
    }
   ],
   "source": [
    "with open(\"../results/dnn/2019-04-27-13-50/dnn_model_1_all_runs_p1_ecoli_100000_10000_06_0.pyob\", \"rb\") as file:\n",
    "    test6, x = pickle.load(file)\n",
    "with open(\"../results/dnn/2019-04-27-15-59/dnn_model_1_all_runs_p1_ecoli_100000_10000_24_0.pyob\", \"rb\") as file:\n",
    "    test24, x = pickle.load(file)  \n",
    "    \n",
    "print(scipy.stats.wilcoxon(test6, test24))\n",
    "print(scipy.stats.mannwhitneyu(test6, test24))"
   ]
  },
  {
   "cell_type": "code",
   "execution_count": 97,
   "metadata": {
    "collapsed": false
   },
   "outputs": [
    {
     "name": "stdout",
     "output_type": "stream",
     "text": [
      "file ../results/dnn/2019-04-28-11-26/dnn_model_2_all_runs_p1_ecoli_100000_10000_06_00.pyob\n",
      "file ../results/dnn/2019-04-28-13-08/dnn_model_2_all_runs_p1_ecoli_100000_10000_12_0.pyob\n",
      "file ../results/dnn/2019-04-28-14-51/dnn_model_2_all_runs_p1_ecoli_100000_10000_24_0.pyob\n",
      "30 30 30 "
     ]
    },
    {
     "name": "stderr",
     "output_type": "stream",
     "text": [
      "/home/bvdmitri/anaconda3/lib/python3.5/site-packages/matplotlib/font_manager.py:1328: UserWarning: findfont: Font family ['serif'] not found. Falling back to DejaVu Sans\n",
      "  (prop.get_family(), self.defaultFamily[fontext]))\n"
     ]
    },
    {
     "data": {
      "image/png": "[encoded data removed]",
      "text/plain": [
       "<Figure size 432x288 with 1 Axes>"
      ]
     },
     "metadata": {},
     "output_type": "display_data"
    }
   ],
   "source": [
    "from data_loading import *\n",
    "import matplotlib.pyplot as plt\n",
    "%matplotlib inline\n",
    "\n",
    "test_list = [test_accs(x) for x in sorted(glob.glob(\"../results/dnn/*/*2_all_runs_p1*100000**\"), key = lambda x : x.split(\"/\")[-1])]\n",
    "\n",
    "[print(len(x), end = \" \") for x in test_list]\n",
    "\n",
    "from matplotlib import rc\n",
    "rc('font',**{'family':'serif','serif':['Computer Modern Roman'], 'weight' : 200, 'size'   : 20})\n",
    "# rc('font',**{'family':'serif','serif':['Times'], 'weight' : 700, 'size'   : 26})\n",
    "rc('text', usetex=True)\n",
    "\n",
    "# plt.hlines(0.25, 0, 4, color = 'red', linewidth = 2)\n",
    "plt.ylim(0.29, 0.35)\n",
    "plt.boxplot(test_list,\n",
    "            medianprops=dict(color=\"black\", linewidth = 2),\n",
    "            boxprops=dict(linewidth = 2),\n",
    "            capprops=dict(linewidth = 2),\n",
    "            whiskerprops=dict(linewidth = 2),)\n",
    "\n",
    "plt.xticks(range(1,4), (6, 12, 24))\n",
    "plt.ylabel(\"accuracy\")\n",
    "plt.xlabel(\"predictor size\")\n",
    "plt.title(\"DNN model 2\")\n",
    "\n",
    "plt.plot([1, 3], [0.344, 0.344], marker=\"|\", linewidth = 0.5, color = \"black\")\n",
    "plt.text(2-0.12, 0.343, \"***\")\n",
    "\n",
    "plt.savefig(\"../results/pics/dnn_model_2_all_runs_p1_ecoli_100000_10000_all_0.png\", dpi=300, bbox_inches='tight')\n",
    "plt.show()"
   ]
  },
  {
   "cell_type": "code",
   "execution_count": 93,
   "metadata": {
    "collapsed": false
   },
   "outputs": [
    {
     "name": "stdout",
     "output_type": "stream",
     "text": [
      "WilcoxonResult(statistic=19.0, pvalue=1.1235346125409313e-05)\n",
      "MannwhitneyuResult(statistic=159.0, pvalue=8.725472733397055e-06)\n"
     ]
    }
   ],
   "source": [
    "with open(\"../results/dnn/2019-04-28-11-26/dnn_model_2_all_runs_p1_ecoli_100000_10000_06_00.pyob\", \"rb\") as file:\n",
    "    test6, x = pickle.load(file)\n",
    "with open(\"../results/dnn/2019-04-28-14-51/dnn_model_2_all_runs_p1_ecoli_100000_10000_24_0.pyob\", \"rb\") as file:\n",
    "    test24, x = pickle.load(file)  \n",
    "    \n",
    "print(scipy.stats.wilcoxon(test6, test24))\n",
    "print(scipy.stats.mannwhitneyu(test6, test24))"
   ]
  },
  {
   "cell_type": "code",
   "execution_count": 70,
   "metadata": {
    "collapsed": false
   },
   "outputs": [],
   "source": [
    "# from data_loading import *\n",
    "# import matplotlib.pyplot as plt\n",
    "# %matplotlib inline\n",
    "\n",
    "# test_list = [test_accs(x) for x in sorted(glob.glob(\"../results/dnn/*/*2_all_runs_p2*100000**\"), key = lambda x : x.split(\"/\")[-1])]\n",
    "\n",
    "# [print(len(x), end = \" \") for x in test_list]\n",
    "\n",
    "# from matplotlib import rc\n",
    "# rc('font',**{'family':'serif','serif':['Computer Modern Roman'], 'weight' : 200, 'size'   : 20})\n",
    "# # rc('font',**{'family':'serif','serif':['Times'], 'weight' : 700, 'size'   : 26})\n",
    "# rc('text', usetex=True)\n",
    "\n",
    "# # plt.hlines(0.25, 0, 4, color = 'red', linewidth = 2)\n",
    "# plt.ylim(0.29, 0.35)\n",
    "# plt.boxplot(test_list,\n",
    "#             medianprops=dict(color=\"black\", linewidth = 2),\n",
    "#             boxprops=dict(linewidth = 2),\n",
    "#             capprops=dict(linewidth = 2),\n",
    "#             whiskerprops=dict(linewidth = 2),)\n",
    "\n",
    "# plt.xticks(range(1,4), (6, 12, 24))\n",
    "# plt.ylabel(\"accuracy\")\n",
    "# plt.xlabel(\"predictor size\")\n",
    "# plt.title(\"DNN model 2\")\n",
    "# # plt.savefig(\"../results/pics/dnn_model_2_all_runs_p1_ecoli_100000_10000_all_0.png\", dpi=300, bbox_inches='tight')\n",
    "# plt.show()"
   ]
  },
  {
   "cell_type": "markdown",
   "metadata": {},
   "source": [
    "# Сдвиг"
   ]
  },
  {
   "cell_type": "code",
   "execution_count": 16,
   "metadata": {
    "collapsed": false
   },
   "outputs": [
    {
     "name": "stdout",
     "output_type": "stream",
     "text": [
      "../results/dnn/2019-04-25-15-51/dnn_model_1_all_runs_p2_ecoli_100000_10000_12_1.pyob\n"
     ]
    },
    {
     "data": {
      "text/plain": [
       "[None]"
      ]
     },
     "execution_count": 16,
     "metadata": {},
     "output_type": "execute_result"
    }
   ],
   "source": [
    "a = glob.glob(\"../results/dnn/*/*1_all_runs_p2*100000*_12_*\")\n",
    "[print(x) for x in a]\n",
    "# for path in a: plot_hist(path, [plt.ylim(0.26, 0.33)])"
   ]
  },
  {
   "cell_type": "code",
   "execution_count": 17,
   "metadata": {
    "collapsed": false,
    "scrolled": false
   },
   "outputs": [
    {
     "name": "stdout",
     "output_type": "stream",
     "text": [
      "../results/dnn/2019-04-26-05-52/dnn_model_1_all_runs_p1_ecoli_100000_10000_12_50.pyob\n",
      "../results/dnn/2019-04-26-01-42/dnn_model_1_all_runs_p1_ecoli_100000_10000_12_02.pyob\n",
      "../results/dnn/2019-04-27-14-51/dnn_model_1_all_runs_p1_ecoli_100000_10000_12_0.pyob\n",
      "../results/dnn/2019-04-26-03-47/dnn_model_1_all_runs_p1_ecoli_100000_10000_12_06.pyob\n",
      "../results/dnn/2019-04-26-00-37/dnn_model_1_all_runs_p1_ecoli_100000_10000_12_01.pyob\n",
      "../results/dnn/2019-04-26-04-49/dnn_model_1_all_runs_p1_ecoli_100000_10000_12_12.pyob\n",
      "../results/dnn/2019-04-26-02-43/dnn_model_1_all_runs_p1_ecoli_100000_10000_12_03.pyob\n"
     ]
    },
    {
     "data": {
      "text/plain": [
       "[None, None, None, None, None, None, None]"
      ]
     },
     "execution_count": 17,
     "metadata": {},
     "output_type": "execute_result"
    }
   ],
   "source": [
    "a = glob.glob(\"../results/dnn/*/*1_all_runs_p1*100000*_12_*\")\n",
    "[print(x) for x in a]\n",
    "# for path in a: plot_hist(path, [plt.ylim(0.25, 0.34)])"
   ]
  },
  {
   "cell_type": "code",
   "execution_count": 30,
   "metadata": {
    "collapsed": false
   },
   "outputs": [
    {
     "name": "stdout",
     "output_type": "stream",
     "text": [
      "file ../results/dnn/2019-04-27-14-51/dnn_model_1_all_runs_p1_ecoli_100000_10000_12_0.pyob\n",
      "file ../results/dnn/2019-04-26-00-37/dnn_model_1_all_runs_p1_ecoli_100000_10000_12_01.pyob\n",
      "file ../results/dnn/2019-04-26-01-42/dnn_model_1_all_runs_p1_ecoli_100000_10000_12_02.pyob\n",
      "file ../results/dnn/2019-04-26-02-43/dnn_model_1_all_runs_p1_ecoli_100000_10000_12_03.pyob\n",
      "file ../results/dnn/2019-04-26-03-47/dnn_model_1_all_runs_p1_ecoli_100000_10000_12_06.pyob\n",
      "file ../results/dnn/2019-04-26-04-49/dnn_model_1_all_runs_p1_ecoli_100000_10000_12_12.pyob\n",
      "file ../results/dnn/2019-04-26-05-52/dnn_model_1_all_runs_p1_ecoli_100000_10000_12_50.pyob\n",
      "30 30 30 30 30 30 30 "
     ]
    },
    {
     "name": "stderr",
     "output_type": "stream",
     "text": [
      "/home/bvdmitri/anaconda3/lib/python3.5/site-packages/matplotlib/font_manager.py:1328: UserWarning: findfont: Font family ['serif'] not found. Falling back to DejaVu Sans\n",
      "  (prop.get_family(), self.defaultFamily[fontext]))\n"
     ]
    },
    {
     "data": {
      "image/png": "[encoded data removed]",
      "text/plain": [
       "<Figure size 432x288 with 1 Axes>"
      ]
     },
     "metadata": {},
     "output_type": "display_data"
    }
   ],
   "source": [
    "from data_loading import *\n",
    "import matplotlib.pyplot as plt\n",
    "%matplotlib inline\n",
    "\n",
    "test_list = [test_accs(x) for x in sorted(glob.glob(\"../results/dnn/*/*1_all_runs_p1*12_*\"), key = lambda x : x.split(\"/\")[-1])]\n",
    "\n",
    "[print(len(x), end = \" \") for x in test_list]\n",
    "\n",
    "from matplotlib import rc\n",
    "rc('font',**{'family':'serif','serif':['Computer Modern Roman'], 'weight' : 200, 'size'   : 20})\n",
    "# rc('font',**{'family':'serif','serif':['Times'], 'weight' : 700, 'size'   : 26})\n",
    "rc('text', usetex=True)\n",
    "\n",
    "plt.ylim(0.23, 0.34)\n",
    "plt.hlines(0.25, 0, 8, color = 'red', linewidth = 2)\n",
    "plt.boxplot(test_list,\n",
    "            medianprops=dict(color=\"black\", linewidth = 2),\n",
    "            boxprops=dict(linewidth = 2),\n",
    "            capprops=dict(linewidth = 2),\n",
    "            whiskerprops=dict(linewidth = 2),)\n",
    "\n",
    "plt.xticks(range(1,8), (0, 1, 2, 3, 6, 12, 50))\n",
    "plt.ylabel(\"accuracy\")\n",
    "plt.xlabel(\"shift value\")\n",
    "plt.title(\"DNN model 1\")\n",
    "plt.savefig(\"../results/pics/dnn_model_1_all_runs_p1_ecoli_100000_10000_12_all.png\", dpi=300, bbox_inches='tight')\n",
    "plt.show()"
   ]
  },
  {
   "cell_type": "markdown",
   "metadata": {},
   "source": [
    "# Загрузка модели из истории"
   ]
  },
  {
   "cell_type": "code",
   "execution_count": 9,
   "metadata": {
    "collapsed": false
   },
   "outputs": [
    {
     "data": {
      "text/plain": [
       "['../results/dnn/2019-04-24-10-38/dnn_model_1_all_runs_p3_ecoli_100000_10000_24_0.pyob']"
      ]
     },
     "execution_count": 9,
     "metadata": {},
     "output_type": "execute_result"
    }
   ],
   "source": [
    "import glob\n",
    "path = \"../results/dnn/2019-04-24-10-38\"\n",
    "glob.glob(path + \"/*all_runs*\")"
   ]
  },
  {
   "cell_type": "code",
   "execution_count": 10,
   "metadata": {
    "collapsed": false
   },
   "outputs": [
    {
     "name": "stdout",
     "output_type": "stream",
     "text": [
      "0 1 2 3 4 5 6 7 8 9 10 11 12 13 14 15 16 17 18 19 20 21 22 23 24 25 26 27 28 29 "
     ]
    }
   ],
   "source": [
    "from data_loading import *\n",
    "data = generate_data(\"../results/ecoli_100000_10000\", enviroment_size = 24, shift = 0)[0]"
   ]
  },
  {
   "cell_type": "code",
   "execution_count": 11,
   "metadata": {
    "collapsed": false
   },
   "outputs": [
    {
     "name": "stderr",
     "output_type": "stream",
     "text": [
      "Using TensorFlow backend.\n"
     ]
    },
    {
     "name": "stdout",
     "output_type": "stream",
     "text": [
      "Loaded model from disk\n",
      "10000/10000 [==============================] - 2s 202us/step\n"
     ]
    },
    {
     "data": {
      "text/plain": [
       "[1.3559132844924926, 0.33179999999999998]"
      ]
     },
     "execution_count": 11,
     "metadata": {},
     "output_type": "execute_result"
    }
   ],
   "source": [
    "from keras.models import model_from_json\n",
    "json_file = open(path+ '/model.json', 'r')\n",
    "loaded_model_json = json_file.read()\n",
    "json_file.close()\n",
    "loaded_model = model_from_json(loaded_model_json)\n",
    "# load weights into new model\n",
    "loaded_model.load_weights(path + \"/0.weights\")\n",
    "print(\"Loaded model from disk\")\n",
    " \n",
    "# evaluate loaded model on test data\n",
    "loaded_model.compile(loss='categorical_crossentropy', optimizer='adam', metrics=['accuracy'])\n",
    "loaded_model.evaluate(data.test1, data.test_ans)"
   ]
  },
  {
   "cell_type": "code",
   "execution_count": 24,
   "metadata": {
    "collapsed": false
   },
   "outputs": [
    {
     "name": "stderr",
     "output_type": "stream",
     "text": [
      "/home/bvdmitri/anaconda3/lib/python3.5/site-packages/matplotlib/figure.py:403: UserWarning: matplotlib is currently using a non-GUI backend, so cannot show the figure\n",
      "  \"matplotlib is currently using a non-GUI backend, \"\n"
     ]
    },
    {
     "data": {
      "image/png": "[encoded data removed]",
      "text/plain": [
       "<matplotlib.figure.Figure at 0x7fca606663c8>"
      ]
     },
     "metadata": {},
     "output_type": "display_data"
    }
   ],
   "source": [
    "import pickle\n",
    "%matplotlib inline\n",
    "\n",
    "with open(path + '/0_history.pyob', \"rb\") as f:\n",
    "    history = pickle.load(f)\n",
    "plot_history(history)"
   ]
  },
  {
   "cell_type": "code",
   "execution_count": null,
   "metadata": {
    "collapsed": true
   },
   "outputs": [],
   "source": []
  },
  {
   "cell_type": "markdown",
   "metadata": {},
   "source": [
    "## Теперь сетка сложнее - два слоя"
   ]
  },
  {
   "cell_type": "code",
   "execution_count": 59,
   "metadata": {
    "collapsed": false
   },
   "outputs": [
    {
     "name": "stdout",
     "output_type": "stream",
     "text": [
      "../results/dnn/2019-04-28-11-26/dnn_model_2_all_runs_p1_ecoli_100000_10000_06_00.pyob\n",
      "../results/dnn/2019-04-28-13-08/dnn_model_2_all_runs_p1_ecoli_100000_10000_12_0.pyob\n",
      "../results/dnn/2019-04-28-14-51/dnn_model_2_all_runs_p1_ecoli_100000_10000_24_0.pyob\n",
      "../results/dnn/2019-04-25-02-40/dnn_model_2_all_runs_p2_ecoli_100000_10000_12_0.pyob\n",
      "../results/dnn/2019-04-25-04-38/dnn_model_2_all_runs_p2_ecoli_100000_10000_24_0.pyob\n",
      "../results/dnn/2019-04-25-00-41/dnn_model_2_all_runs_p2_ecoli_100000_10000_6_0.pyob\n"
     ]
    }
   ],
   "source": [
    "\n",
    "a = [print(x) for x in sorted(glob.glob(\"../results/dnn/*/*2_all_runs*100000**\"), key = lambda x : x.split(\"/\")[-1])]"
   ]
  },
  {
   "cell_type": "code",
   "execution_count": 13,
   "metadata": {
    "collapsed": false
   },
   "outputs": [
    {
     "name": "stderr",
     "output_type": "stream",
     "text": [
      "Using TensorFlow backend.\n"
     ]
    },
    {
     "name": "stdout",
     "output_type": "stream",
     "text": [
      "_________________________________________________________________\n",
      "Layer (type)                 Output Shape              Param #   \n",
      "=================================================================\n",
      "input_1 (InputLayer)         (None, 12, 4)             0         \n",
      "_________________________________________________________________\n",
      "flatten_1 (Flatten)          (None, 48)                0         \n",
      "_________________________________________________________________\n",
      "dense_1 (Dense)              (None, 4)                 196       \n",
      "_________________________________________________________________\n",
      "dense_2 (Dense)              (None, 4)                 20        \n",
      "=================================================================\n",
      "Total params: 216\n",
      "Trainable params: 216\n",
      "Non-trainable params: 0\n",
      "_________________________________________________________________\n"
     ]
    }
   ],
   "source": [
    "from dnn_models import *\n",
    "model = create_dnn_model_2(12)\n",
    "model.summary()"
   ]
  },
  {
   "cell_type": "markdown",
   "metadata": {},
   "source": [
    " # Сравнение моделей"
   ]
  },
  {
   "cell_type": "code",
   "execution_count": 108,
   "metadata": {
    "collapsed": false
   },
   "outputs": [
    {
     "name": "stdout",
     "output_type": "stream",
     "text": [
      "../results/dnn/2019-04-28-14-51/dnn_model_2_all_runs_p1_ecoli_100000_10000_24_0.pyob\n",
      "../results/dnn/2019-04-27-15-59/dnn_model_1_all_runs_p1_ecoli_100000_10000_24_0.pyob\n"
     ]
    }
   ],
   "source": [
    "a = [print(x) for x in glob.glob(\"../results/dnn/*/**all_runs_p1*24*0.*\")]"
   ]
  },
  {
   "cell_type": "code",
   "execution_count": 121,
   "metadata": {
    "collapsed": false
   },
   "outputs": [
    {
     "name": "stdout",
     "output_type": "stream",
     "text": [
      "file ../results/dnn/2019-04-27-14-51/dnn_model_1_all_runs_p1_ecoli_100000_10000_12_0.pyob\n",
      "file ../results/dnn/2019-04-28-13-08/dnn_model_2_all_runs_p1_ecoli_100000_10000_12_0.pyob\n",
      "file ../results/dnn/2019-04-27-15-59/dnn_model_1_all_runs_p1_ecoli_100000_10000_24_0.pyob\n",
      "file ../results/dnn/2019-04-28-14-51/dnn_model_2_all_runs_p1_ecoli_100000_10000_24_0.pyob\n",
      "30 30 30 30 "
     ]
    },
    {
     "name": "stderr",
     "output_type": "stream",
     "text": [
      "/home/bvdmitri/anaconda3/lib/python3.5/site-packages/matplotlib/font_manager.py:1328: UserWarning: findfont: Font family ['serif'] not found. Falling back to DejaVu Sans\n",
      "  (prop.get_family(), self.defaultFamily[fontext]))\n"
     ]
    },
    {
     "data": {
      "image/png": "[encoded data removed]",
      "text/plain": [
       "<Figure size 432x288 with 1 Axes>"
      ]
     },
     "metadata": {},
     "output_type": "display_data"
    }
   ],
   "source": [
    "\n",
    "test_1_12 = test_accs(\"../results/dnn/2019-04-27-14-51/dnn_model_1_all_runs_p1_ecoli_100000_10000_12_0.pyob\")\n",
    "test_2_12 = test_accs(\"../results/dnn/2019-04-28-13-08/dnn_model_2_all_runs_p1_ecoli_100000_10000_12_0.pyob\")\n",
    "test_1_24 = test_accs(\"../results/dnn/2019-04-27-15-59/dnn_model_1_all_runs_p1_ecoli_100000_10000_24_0.pyob\")\n",
    "test_2_24 = test_accs(\"../results/dnn/2019-04-28-14-51/dnn_model_2_all_runs_p1_ecoli_100000_10000_24_0.pyob\")\n",
    "test_list = [test_1_12, test_2_12, test_1_24, test_2_24]\n",
    " \n",
    "[print(len(x), end = \" \") for x in test_list]\n",
    "plt.ylim(0.29, 0.35)\n",
    "plt.boxplot([test_1_12, test_2_12, test_1_24, test_2_24], \n",
    "               medianprops=dict(color=\"black\", linewidth = 2),\n",
    "                boxprops=dict(linewidth = 2),\n",
    "                capprops=dict(linewidth = 2),\n",
    "                whiskerprops=dict(linewidth = 2),)\n",
    "\n",
    "plt.xticks([1,2,3,4], ['DNN \\n model 1 \\n 12', 'DNN \\n model 2 \\n 12',\n",
    "                    'DNN \\n model 1 \\n 24', 'DNN \\n model 2 \\n 24',])\n",
    "plt.plot([1, 2], [0.345, 0.345], color=\"black\", linewidth = 0.5, marker = '|')\n",
    "plt.text(1.5, 0.344, \"ns\")\n",
    "\n",
    "plt.plot([3, 4], [0.345, 0.345], color=\"black\", linewidth = 0.5, marker = '|')\n",
    "plt.text(3.5, 0.344, \"ns\")\n",
    "\n",
    "plt.ylabel(\"test accuracy\")\n",
    "plt.savefig(\"../results/pics/dnn_models_all_runs_p1_ecoli_100000_10000_12_0.png\", dpi=300, bbox_inches='tight')\n",
    "plt.show()"
   ]
  },
  {
   "cell_type": "code",
   "execution_count": 110,
   "metadata": {
    "collapsed": false
   },
   "outputs": [
    {
     "name": "stdout",
     "output_type": "stream",
     "text": [
      "MannwhitneyuResult(statistic=436.0, pvalue=0.4208942179265419)\n",
      "MannwhitneyuResult(statistic=344.5, pvalue=0.060272023481901076)\n"
     ]
    }
   ],
   "source": [
    "print(scipy.stats.mannwhitneyu(test_1_12, test_2_12))\n",
    "print(scipy.stats.mannwhitneyu(test_1_24, test_2_24))"
   ]
  },
  {
   "cell_type": "code",
   "execution_count": null,
   "metadata": {
    "collapsed": true
   },
   "outputs": [],
   "source": []
  },
  {
   "cell_type": "markdown",
   "metadata": {},
   "source": [
    "# Кодирующая часть"
   ]
  },
  {
   "cell_type": "code",
   "execution_count": 1,
   "metadata": {
    "collapsed": false
   },
   "outputs": [
    {
     "name": "stdout",
     "output_type": "stream",
     "text": [
      "0 train\n",
      "83667\n",
      "test\n",
      "8267\n",
      "validate\n",
      "8466\n"
     ]
    }
   ],
   "source": [
    "from data_loading import *\n",
    "data_cds_list = generate_data_cds_1(\"../results/ecoli_100000_10000\", enviroment_size = 6, shift = 0, \n",
    "                                    genome_file = \"../data/ecoli.genbank\")"
   ]
  },
  {
   "cell_type": "code",
   "execution_count": 3,
   "metadata": {
    "collapsed": true
   },
   "outputs": [],
   "source": [
    "data = data_cds_list[0]"
   ]
  },
  {
   "cell_type": "code",
   "execution_count": 72,
   "metadata": {
    "collapsed": false
   },
   "outputs": [],
   "source": [
    "# from dnn_models import *\n",
    "# model, history = run_model(create_dnn_model_1, data, patience = 2)"
   ]
  },
  {
   "cell_type": "code",
   "execution_count": 73,
   "metadata": {
    "collapsed": false
   },
   "outputs": [],
   "source": [
    "# %matplotlib inline\n",
    "# plot_history(history.history)"
   ]
  },
  {
   "cell_type": "code",
   "execution_count": 7,
   "metadata": {
    "collapsed": false
   },
   "outputs": [
    {
     "name": "stdout",
     "output_type": "stream",
     "text": [
      "8267/8267 [==============================] - 2s 226us/step\n"
     ]
    },
    {
     "data": {
      "text/plain": [
       "[1.3560081268288398, 0.32611588243130574]"
      ]
     },
     "execution_count": 7,
     "metadata": {},
     "output_type": "execute_result"
    }
   ],
   "source": [
    "model.evaluate(data.test1, data.test_ans)"
   ]
  },
  {
   "cell_type": "code",
   "execution_count": 7,
   "metadata": {
    "collapsed": true
   },
   "outputs": [],
   "source": []
  },
  {
   "cell_type": "code",
   "execution_count": null,
   "metadata": {
    "collapsed": true
   },
   "outputs": [],
   "source": []
  },
  {
   "cell_type": "code",
   "execution_count": 92,
   "metadata": {
    "collapsed": false
   },
   "outputs": [
    {
     "data": {
      "text/plain": [
       "['../results/dnn/2019-04-29-17-17/dnn_model_1_all_runs_p1_ecoli_100000_10000_03_00.pyob',\n",
       " '../results/dnn/2019-04-29-18-08/dnn_model_1_all_runs_p1_ecoli_100000_10000_50_00.pyob']"
      ]
     },
     "execution_count": 92,
     "metadata": {},
     "output_type": "execute_result"
    }
   ],
   "source": []
  },
  {
   "cell_type": "code",
   "execution_count": 28,
   "metadata": {
    "collapsed": false
   },
   "outputs": [
    {
     "name": "stdout",
     "output_type": "stream",
     "text": [
      "_________________________________________________________________\n",
      "Layer (type)                 Output Shape              Param #   \n",
      "=================================================================\n",
      "input_21 (InputLayer)        (None, 10, 4)             0         \n",
      "_________________________________________________________________\n",
      "flatten_21 (Flatten)         (None, 40)                0         \n",
      "_________________________________________________________________\n",
      "dense_35 (Dense)             (None, 4)                 164       \n",
      "_________________________________________________________________\n",
      "dense_36 (Dense)             (None, 4)                 20        \n",
      "=================================================================\n",
      "Total params: 184\n",
      "Trainable params: 184\n",
      "Non-trainable params: 0\n",
      "_________________________________________________________________\n"
     ]
    }
   ],
   "source": [
    "from dnn_models import *\n",
    "model = create_dnn_model_2(10)\n",
    "model.summary()"
   ]
  },
  {
   "cell_type": "markdown",
   "metadata": {},
   "source": [
    "# Бейзлайн по частоте нуклеотидов в геноме"
   ]
  },
  {
   "cell_type": "code",
   "execution_count": 32,
   "metadata": {
    "collapsed": false
   },
   "outputs": [],
   "source": [
    "from data_loading import *\n",
    "seq_np = get_seq_np(\"../data/ecoli.genbank\")"
   ]
  },
  {
   "cell_type": "code",
   "execution_count": 23,
   "metadata": {
    "collapsed": false
   },
   "outputs": [
    {
     "data": {
      "text/plain": [
       "array([0.2491, 0.2302, 0.2511, 0.2696])"
      ]
     },
     "execution_count": 23,
     "metadata": {},
     "output_type": "execute_result"
    }
   ],
   "source": [
    "def get_freqs(seq_np):\n",
    "    bases_dict     = {\"A\": 0, \"T\": 1, \"C\": 2, \"G\": 3}\n",
    "    bases_list = [\"A\", \"T\", \"C\", \"G\"]\n",
    "    bases_np        = {\n",
    "                        \"A\": np.array([1, 0, 0, 0], dtype = np.float64),\n",
    "                        \"T\": np.array([0, 1, 0, 0], dtype = np.float64),\n",
    "                        \"C\": np.array([0, 0, 1, 0], dtype = np.float64),\n",
    "                        \"G\": np.array([0, 0, 0, 1], dtype = np.float64)\n",
    "                        }\n",
    "    unique, counts = np.unique(seq_np, return_counts=True, axis = 0)\n",
    "    \n",
    "    freqs = [0, 0, 0, 0]\n",
    "    length = len(seq_np)\n",
    "    for i in seq_np:\n",
    "        base = np.argmax(i)\n",
    "        freqs[base] += 1\n",
    "        \n",
    "    freqs = np.array(freqs) / length        \n",
    "    return freqs\n",
    "\n",
    "get_freqs(seq_np[:10000, ...])"
   ]
  },
  {
   "cell_type": "code",
   "execution_count": 31,
   "metadata": {
    "collapsed": false
   },
   "outputs": [
    {
     "name": "stdout",
     "output_type": "stream",
     "text": [
      "0 1 2 3 4 5 6 7 8 9 10 11 12 13 14 15 16 17 18 19 20 21 22 23 24 25 26 27 28 29 "
     ]
    }
   ],
   "source": [
    "data_list = generate_data(\"../results/ecoli_100000_10000\", enviroment_size=12, shift = 0 )"
   ]
  },
  {
   "cell_type": "code",
   "execution_count": 27,
   "metadata": {
    "collapsed": false
   },
   "outputs": [
    {
     "name": "stdout",
     "output_type": "stream",
     "text": [
      "0 1 2 3 4 5 6 7 8 9 10 11 12 13 14 15 16 17 18 19 20 21 22 23 24 25 26 27 28 29 "
     ]
    },
    {
     "data": {
      "text/plain": [
       "0.25633611111111526"
      ]
     },
     "execution_count": 27,
     "metadata": {},
     "output_type": "execute_result"
    }
   ],
   "source": [
    "all_probs = 0\n",
    "\n",
    "for n, data in enumerate(data_list):\n",
    "    print(n, end = \" \")\n",
    "    for i, w in enumerate(data.test1):\n",
    "        f = get_freqs(w)\n",
    "        ans = data.test_ans[i, ...]\n",
    "        base = np.argmax(ans)\n",
    "        all_probs += f[base]\n",
    "        \n",
    "all_probs/(data.test1.shape[0] * len(data_list))"
   ]
  },
  {
   "cell_type": "code",
   "execution_count": 33,
   "metadata": {
    "collapsed": false
   },
   "outputs": [
    {
     "name": "stdout",
     "output_type": "stream",
     "text": [
      "0 1 2 3 4 5 6 7 8 9 10 11 12 13 14 15 16 17 18 19 20 21 22 23 24 25 26 27 28 29 "
     ]
    },
    {
     "data": {
      "text/plain": [
       "0.2500617976398052"
      ]
     },
     "execution_count": 33,
     "metadata": {},
     "output_type": "execute_result"
    }
   ],
   "source": [
    "all_probs = 0\n",
    "f = get_freqs(seq_np)\n",
    "\n",
    "for n, data in enumerate(data_list):\n",
    "    print(n, end = \" \")\n",
    "    for i, w in enumerate(data.test1):\n",
    "        ans = data.test_ans[i, ...]\n",
    "        base = np.argmax(ans)\n",
    "        all_probs += f[base]\n",
    "        \n",
    "all_probs/(data.test1.shape[0] * len(data_list))"
   ]
  },
  {
   "cell_type": "code",
   "execution_count": 34,
   "metadata": {
    "collapsed": false
   },
   "outputs": [
    {
     "name": "stdout",
     "output_type": "stream",
     "text": [
      "0 1 2 3 4 5 6 7 8 9 10 11 12 13 14 15 16 17 18 19 20 21 22 23 24 25 26 27 28 29 0 1 2 3 4 5 6 7 8 9 10 11 12 13 14 15 16 17 18 19 20 21 22 23 24 25 26 27 28 29 "
     ]
    },
    {
     "data": {
      "text/plain": [
       "0.25538527777777964"
      ]
     },
     "execution_count": 34,
     "metadata": {},
     "output_type": "execute_result"
    }
   ],
   "source": [
    "data_list = generate_data(\"../results/ecoli_100000_10000\", enviroment_size=24, shift = 0 )\n",
    "all_probs = 0\n",
    "\n",
    "for n, data in enumerate(data_list):\n",
    "    print(n, end = \" \")\n",
    "    for i, w in enumerate(data.test1):\n",
    "        f = get_freqs(w)\n",
    "        ans = data.test_ans[i, ...]\n",
    "        base = np.argmax(ans)\n",
    "        all_probs += f[base]\n",
    "        \n",
    "all_probs/(data.test1.shape[0] * len(data_list))"
   ]
  },
  {
   "cell_type": "markdown",
   "metadata": {},
   "source": [
    "## По частотам динуклеотидов"
   ]
  },
  {
   "cell_type": "markdown",
   "metadata": {},
   "source": [
    "`Требование\n",
    "sum(f[previous][base]) for all bases = 1\n",
    "for single previous sum of all next bases should be 1`"
   ]
  },
  {
   "cell_type": "code",
   "execution_count": 1,
   "metadata": {
    "collapsed": true
   },
   "outputs": [],
   "source": [
    "from data_loading import *\n",
    "seq_np = get_seq_np(\"../data/ecoli.genbank\")"
   ]
  },
  {
   "cell_type": "code",
   "execution_count": 155,
   "metadata": {
    "collapsed": false
   },
   "outputs": [],
   "source": [
    "def get_difreqs(seq_np):\n",
    "    bases_dict     = {\"A\": 0, \"T\": 1, \"C\": 2, \"G\": 3}\n",
    "    bases_list = [\"A\", \"T\", \"C\", \"G\"]\n",
    "    bases_np        = {\n",
    "                        \"A\": np.array([1, 0, 0, 0], dtype = np.float64),\n",
    "                        \"T\": np.array([0, 1, 0, 0], dtype = np.float64),\n",
    "                        \"C\": np.array([0, 0, 1, 0], dtype = np.float64),\n",
    "                        \"G\": np.array([0, 0, 0, 1], dtype = np.float64)\n",
    "                        }\n",
    "    unique, counts = np.unique(seq_np, return_counts=True, axis = 0)\n",
    "    \n",
    "    freqs = np.zeros((4, 4))\n",
    "    previous_counts = np.zeros(4)\n",
    "    \n",
    "\n",
    "    for i in range(seq_np.shape[0]):\n",
    "        base = np.argmax(seq_np[i, ...])\n",
    "        previous = np.argmax(seq_np[i-1, ...])\n",
    "        freqs[previous, base] += 1\n",
    "        previous_counts[previous] +=1\n",
    "        \n",
    "    freqs = np.array([np.array(freqs[i]) / previous_counts[i] for i in range(4)])\n",
    "    return freqs\n",
    "\n",
    "f = get_difreqs(seq_np[:100000, ...])"
   ]
  },
  {
   "cell_type": "code",
   "execution_count": 156,
   "metadata": {
    "collapsed": false
   },
   "outputs": [
    {
     "data": {
      "text/plain": [
       "1.0"
      ]
     },
     "execution_count": 156,
     "metadata": {},
     "output_type": "execute_result"
    }
   ],
   "source": [
    "sum(f[0, ...])"
   ]
  },
  {
   "cell_type": "code",
   "execution_count": 123,
   "metadata": {
    "collapsed": false
   },
   "outputs": [
    {
     "name": "stdout",
     "output_type": "stream",
     "text": [
      "0 1 2 3 4 5 6 7 8 9 10 11 12 13 14 15 16 17 18 19 20 21 22 23 24 25 26 27 28 29 "
     ]
    }
   ],
   "source": [
    "data_list = generate_data(\"../results/ecoli_100000_10000\", enviroment_size=3, shift = 0 )"
   ]
  },
  {
   "cell_type": "code",
   "execution_count": 151,
   "metadata": {
    "collapsed": false
   },
   "outputs": [
    {
     "name": "stdout",
     "output_type": "stream",
     "text": [
      "[[0.29578505 0.27123358 0.22469901 0.20828236]\n",
      " [0.18576077 0.29752002 0.23427301 0.28244619]\n",
      " [0.27568043 0.20011084 0.23033902 0.29386971]\n",
      " [0.22708986 0.21716576 0.32621873 0.22952566]]\n"
     ]
    }
   ],
   "source": [
    "f = get_difreqs(seq_np)\n",
    "print(f)"
   ]
  },
  {
   "cell_type": "code",
   "execution_count": 152,
   "metadata": {
    "collapsed": false
   },
   "outputs": [
    {
     "name": "stdout",
     "output_type": "stream",
     "text": [
      "0 1 2 3 4 5 6 7 8 9 10 11 12 13 14 15 16 17 18 19 20 21 22 23 24 25 26 27 28 29 "
     ]
    }
   ],
   "source": [
    "all_probs = 0\n",
    "for n, data in enumerate(data_list):\n",
    "    print(n, end = \" \")\n",
    "    for i in range(data.test1.shape[0]):\n",
    "        ans = np.argmax(data.test_ans[i, ...])\n",
    "        previous = np.argmax(data.test1[i, 2, ...])\n",
    "        all_probs += f[previous, ans]"
   ]
  },
  {
   "cell_type": "code",
   "execution_count": 154,
   "metadata": {
    "collapsed": false
   },
   "outputs": [
    {
     "data": {
      "text/plain": [
       "0.25654150631394446"
      ]
     },
     "execution_count": 154,
     "metadata": {},
     "output_type": "execute_result"
    }
   ],
   "source": [
    "all_probs/(data.test1.shape[0] * len(data_list))"
   ]
  },
  {
   "cell_type": "markdown",
   "metadata": {},
   "source": [
    "### По частотам тринуклеотидов"
   ]
  },
  {
   "cell_type": "code",
   "execution_count": null,
   "metadata": {
    "collapsed": true
   },
   "outputs": [],
   "source": []
  },
  {
   "cell_type": "code",
   "execution_count": 3,
   "metadata": {
    "collapsed": false
   },
   "outputs": [
    {
     "name": "stdout",
     "output_type": "stream",
     "text": [
      "0 10000 20000 30000 40000 50000 60000 70000 80000 90000 "
     ]
    }
   ],
   "source": [
    "def get_trifreqs(seq_np):\n",
    "    bases_dict     = {\"A\": 0, \"T\": 1, \"C\": 2, \"G\": 3}\n",
    "    bases_list = [\"A\", \"T\", \"C\", \"G\"]\n",
    "    bases_np        = {\n",
    "                        \"A\": np.array([1, 0, 0, 0], dtype = np.float64),\n",
    "                        \"T\": np.array([0, 1, 0, 0], dtype = np.float64),\n",
    "                        \"C\": np.array([0, 0, 1, 0], dtype = np.float64),\n",
    "                        \"G\": np.array([0, 0, 0, 1], dtype = np.float64)\n",
    "                        }\n",
    "    unique, counts = np.unique(seq_np, return_counts=True, axis = 0)\n",
    "    \n",
    "    freqs = np.zeros((4, 4, 4))\n",
    "    pre_counts = np.zeros((4, 4))\n",
    "\n",
    "    for i in range(seq_np.shape[0]):\n",
    "        if i % 10000 == 0:\n",
    "            print(i, end = \" \")\n",
    "        base = np.argmax(seq_np[i, ...])\n",
    "        previous = np.argmax(seq_np[i-1, ...])\n",
    "        preprevious = np.argmax(seq_np[i-2, ...])\n",
    "        \n",
    "        freqs[preprevious, previous, base] += 1\n",
    "        pre_counts[preprevious, previous] +=1\n",
    "        \n",
    "    freqs = np.array( [[ freqs[i, j, ...] / pre_counts[i, j] for i in range(4)] for j in range(4)])\n",
    "    return freqs\n",
    "\n",
    "f = get_trifreqs(seq_np[:100000, ...])"
   ]
  },
  {
   "cell_type": "code",
   "execution_count": 4,
   "metadata": {
    "collapsed": false
   },
   "outputs": [
    {
     "data": {
      "text/plain": [
       "1.0"
      ]
     },
     "execution_count": 4,
     "metadata": {},
     "output_type": "execute_result"
    }
   ],
   "source": [
    "sum(f[0, 1, ...])"
   ]
  },
  {
   "cell_type": "code",
   "execution_count": 7,
   "metadata": {
    "collapsed": false
   },
   "outputs": [
    {
     "name": "stdout",
     "output_type": "stream",
     "text": [
      "0 1 2 3 4 5 6 7 8 9 10 11 12 13 14 15 16 17 18 19 20 21 22 23 24 25 26 27 28 29 "
     ]
    }
   ],
   "source": [
    "data_list = generate_data(\"../results/ecoli_100000_10000\", enviroment_size=3, shift = 0 )"
   ]
  },
  {
   "cell_type": "code",
   "execution_count": 5,
   "metadata": {
    "collapsed": false
   },
   "outputs": [
    {
     "name": "stdout",
     "output_type": "stream",
     "text": [
      "0 10000 20000 30000 40000 50000 60000 70000 80000 90000 100000 110000 120000 130000 140000 150000 160000 170000 180000 190000 200000 210000 220000 230000 240000 250000 260000 270000 280000 290000 300000 310000 320000 330000 340000 350000 360000 370000 380000 390000 400000 410000 420000 430000 440000 450000 460000 470000 480000 490000 500000 510000 520000 530000 540000 550000 560000 570000 580000 590000 600000 610000 620000 630000 640000 650000 660000 670000 680000 690000 700000 710000 720000 730000 740000 750000 760000 770000 780000 790000 800000 810000 820000 830000 840000 850000 860000 870000 880000 890000 900000 910000 920000 930000 940000 950000 960000 970000 980000 990000 1000000 1010000 1020000 1030000 1040000 1050000 1060000 1070000 1080000 1090000 1100000 1110000 1120000 1130000 1140000 1150000 1160000 1170000 1180000 1190000 1200000 1210000 1220000 1230000 1240000 1250000 1260000 1270000 1280000 1290000 1300000 1310000 1320000 1330000 1340000 1350000 1360000 1370000 1380000 1390000 1400000 1410000 1420000 1430000 1440000 1450000 1460000 1470000 1480000 1490000 1500000 1510000 1520000 1530000 1540000 1550000 1560000 1570000 1580000 1590000 1600000 1610000 1620000 1630000 1640000 1650000 1660000 1670000 1680000 1690000 1700000 1710000 1720000 1730000 1740000 1750000 1760000 1770000 1780000 1790000 1800000 1810000 1820000 1830000 1840000 1850000 1860000 1870000 1880000 1890000 1900000 1910000 1920000 1930000 1940000 1950000 1960000 1970000 1980000 1990000 2000000 2010000 2020000 2030000 2040000 2050000 2060000 2070000 2080000 2090000 2100000 2110000 2120000 2130000 2140000 2150000 2160000 2170000 2180000 2190000 2200000 2210000 2220000 2230000 2240000 2250000 2260000 2270000 2280000 2290000 2300000 2310000 2320000 2330000 2340000 2350000 2360000 2370000 2380000 2390000 2400000 2410000 2420000 2430000 2440000 2450000 2460000 2470000 2480000 2490000 2500000 2510000 2520000 2530000 2540000 2550000 2560000 2570000 2580000 2590000 2600000 2610000 2620000 2630000 2640000 2650000 2660000 2670000 2680000 2690000 2700000 2710000 2720000 2730000 2740000 2750000 2760000 2770000 2780000 2790000 2800000 2810000 2820000 2830000 2840000 2850000 2860000 2870000 2880000 2890000 2900000 2910000 2920000 2930000 2940000 2950000 2960000 2970000 2980000 2990000 3000000 3010000 3020000 3030000 3040000 3050000 3060000 3070000 3080000 3090000 3100000 3110000 3120000 3130000 3140000 3150000 3160000 3170000 3180000 3190000 3200000 3210000 3220000 3230000 3240000 3250000 3260000 3270000 3280000 3290000 3300000 3310000 3320000 3330000 3340000 3350000 3360000 3370000 3380000 3390000 3400000 3410000 3420000 3430000 3440000 3450000 3460000 3470000 3480000 3490000 3500000 3510000 3520000 3530000 3540000 3550000 3560000 3570000 3580000 3590000 3600000 3610000 3620000 3630000 3640000 3650000 3660000 3670000 3680000 3690000 3700000 3710000 3720000 3730000 3740000 3750000 3760000 3770000 3780000 3790000 3800000 3810000 3820000 3830000 3840000 3850000 3860000 3870000 3880000 3890000 3900000 3910000 3920000 3930000 3940000 3950000 3960000 3970000 3980000 3990000 4000000 4010000 4020000 4030000 4040000 4050000 4060000 4070000 4080000 4090000 4100000 4110000 4120000 4130000 4140000 4150000 4160000 4170000 4180000 4190000 4200000 4210000 4220000 4230000 4240000 4250000 4260000 4270000 4280000 4290000 4300000 4310000 4320000 4330000 4340000 4350000 4360000 4370000 4380000 4390000 4400000 4410000 4420000 4430000 4440000 4450000 4460000 4470000 4480000 4490000 4500000 4510000 4520000 4530000 4540000 4550000 4560000 4570000 4580000 4590000 4600000 4610000 4620000 4630000 4640000 [[[0.32237298 0.2456199  0.2444217  0.18758543]\n",
      "  [0.32476512 0.29855582 0.248137   0.12854205]\n",
      "  [0.23562067 0.23681023 0.20527591 0.32229319]\n",
      "  [0.31239715 0.32383015 0.20481405 0.15895865]]\n",
      "\n",
      " [[0.20558477 0.26915309 0.27915148 0.24611066]\n",
      "  [0.20273334 0.32351936 0.24700516 0.22674213]\n",
      "  [0.11336063 0.26964332 0.18101284 0.43598321]\n",
      "  [0.20605478 0.32312211 0.21215179 0.25867133]]\n",
      "\n",
      " [[0.22846639 0.19428055 0.29183364 0.28541942]\n",
      "  [0.31452346 0.20749453 0.20961873 0.26836328]\n",
      "  [0.31819102 0.18558905 0.17587677 0.32034317]\n",
      "  [0.25011846 0.20914497 0.24219608 0.29854049]]\n",
      "\n",
      " [[0.23805002 0.20919866 0.33993521 0.21281611]\n",
      "  [0.25911117 0.18114393 0.29552173 0.26422317]\n",
      "  [0.20464946 0.21103079 0.33372646 0.25059329]\n",
      "  [0.20803546 0.27502479 0.34112236 0.17581739]]]\n"
     ]
    }
   ],
   "source": [
    "f = get_trifreqs(seq_np)\n",
    "print(f)"
   ]
  },
  {
   "cell_type": "code",
   "execution_count": 8,
   "metadata": {
    "collapsed": false
   },
   "outputs": [
    {
     "name": "stdout",
     "output_type": "stream",
     "text": [
      "0 1 2 3 4 5 6 7 8 9 10 11 12 13 14 15 16 17 18 19 20 21 22 23 24 25 26 27 28 29 "
     ]
    }
   ],
   "source": [
    "all_probs = 0\n",
    "for n, data in enumerate(data_list):\n",
    "    print(n, end = \" \")\n",
    "    for i in range(data.test1.shape[0]):\n",
    "        ans = np.argmax(data.test_ans[i, ...])\n",
    "        previous = np.argmax(data.test1[i, 2, ...])\n",
    "        preprevious = np.argmax(data.test1[i, 1, ...])\n",
    "        all_probs += f[preprevious, previous, ans]"
   ]
  },
  {
   "cell_type": "code",
   "execution_count": 9,
   "metadata": {
    "collapsed": false
   },
   "outputs": [
    {
     "data": {
      "text/plain": [
       "0.25169423124626766"
      ]
     },
     "execution_count": 9,
     "metadata": {},
     "output_type": "execute_result"
    }
   ],
   "source": [
    "all_probs/(data.test1.shape[0] * len(data_list))"
   ]
  },
  {
   "cell_type": "code",
   "execution_count": null,
   "metadata": {
    "collapsed": true
   },
   "outputs": [],
   "source": []
  }
 ],
 "metadata": {
  "anaconda-cloud": {},
  "kernelspec": {
   "display_name": "Python [default]",
   "language": "python",
   "name": "python3"
  },
  "language_info": {
   "codemirror_mode": {
    "name": "ipython",
    "version": 3
   },
   "file_extension": ".py",
   "mimetype": "text/x-python",
   "name": "python",
   "nbconvert_exporter": "python",
   "pygments_lexer": "ipython3",
   "version": "3.5.6"
  }
 },
 "nbformat": 4,
 "nbformat_minor": 2
}
