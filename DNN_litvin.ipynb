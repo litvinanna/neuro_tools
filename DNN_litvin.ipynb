{
 "cells": [
  {
   "cell_type": "markdown",
   "metadata": {},
   "source": [
    "## Подготовка данных"
   ]
  },
  {
   "cell_type": "code",
   "execution_count": 11,
   "metadata": {
    "collapsed": false
   },
   "outputs": [],
   "source": [
    "import pickle\n",
    "with open(\"../results/dnn/ecoli_10_10000_1000.data\", \"rb\") as file:\n",
    "    data_list = pickle.load(file)\n",
    "data = data_list[0]"
   ]
  },
  {
   "cell_type": "code",
   "execution_count": 12,
   "metadata": {
    "collapsed": false
   },
   "outputs": [
    {
     "name": "stdout",
     "output_type": "stream",
     "text": [
      "(10000, 10, 4) (10000, 4) (1000, 10, 4) (1000, 4)\n"
     ]
    }
   ],
   "source": [
    "print(data.train1.shape, data.train_ans.shape, data.test1.shape, data.test_ans.shape)"
   ]
  },
  {
   "cell_type": "markdown",
   "metadata": {},
   "source": [
    "## Самая простая модель - однослойная"
   ]
  },
  {
   "cell_type": "code",
   "execution_count": 7,
   "metadata": {
    "collapsed": false
   },
   "outputs": [
    {
     "name": "stderr",
     "output_type": "stream",
     "text": [
      "Using TensorFlow backend.\n"
     ]
    },
    {
     "name": "stdout",
     "output_type": "stream",
     "text": [
      "_________________________________________________________________\n",
      "Layer (type)                 Output Shape              Param #   \n",
      "=================================================================\n",
      "input_1 (InputLayer)         (None, 10, 4)             0         \n",
      "_________________________________________________________________\n",
      "flatten_1 (Flatten)          (None, 40)                0         \n",
      "_________________________________________________________________\n",
      "dense_1 (Dense)              (None, 4)                 164       \n",
      "=================================================================\n",
      "Total params: 164\n",
      "Trainable params: 164\n",
      "Non-trainable params: 0\n",
      "_________________________________________________________________\n"
     ]
    }
   ],
   "source": [
    "from dnn_models import *\n",
    "model = create_model_1()\n",
    "model.summary()"
   ]
  },
  {
   "cell_type": "code",
   "execution_count": 9,
   "metadata": {
    "collapsed": false
   },
   "outputs": [
    {
     "name": "stdout",
     "output_type": "stream",
     "text": [
      "10000/10000 [==============================] - 6s 593us/step\n"
     ]
    },
    {
     "data": {
      "text/plain": [
       "[1.5557473237991333, 0.2349]"
      ]
     },
     "execution_count": 9,
     "metadata": {},
     "output_type": "execute_result"
    }
   ],
   "source": [
    "model.evaluate(test1, test_ans)"
   ]
  },
  {
   "cell_type": "code",
   "execution_count": 10,
   "metadata": {
    "collapsed": false
   },
   "outputs": [
    {
     "name": "stdout",
     "output_type": "stream",
     "text": [
      "10000/10000 [==============================] - 2s 152us/step\n"
     ]
    },
    {
     "data": {
      "text/plain": [
       "[1.5407269609451293, 0.25190000000000001]"
      ]
     },
     "execution_count": 10,
     "metadata": {},
     "output_type": "execute_result"
    }
   ],
   "source": [
    "model.evaluate(test2, test_ans)"
   ]
  },
  {
   "cell_type": "code",
   "execution_count": 8,
   "metadata": {
    "collapsed": false
   },
   "outputs": [
    {
     "name": "stdout",
     "output_type": "stream",
     "text": [
      "Train on 9000 samples, validate on 1000 samples\n",
      "Epoch 1/100\n",
      "9000/9000 [==============================] - 7s 728us/step - loss: 1.4643 - acc: 0.2713 - val_loss: 1.4228 - val_acc: 0.2820\n",
      "Epoch 2/100\n",
      "9000/9000 [==============================] - 4s 399us/step - loss: 1.4014 - acc: 0.2842 - val_loss: 1.3849 - val_acc: 0.3010\n",
      "Epoch 3/100\n",
      "9000/9000 [==============================] - 4s 395us/step - loss: 1.3749 - acc: 0.3004 - val_loss: 1.3680 - val_acc: 0.3210\n",
      "Epoch 4/100\n",
      "9000/9000 [==============================] - 4s 393us/step - loss: 1.3640 - acc: 0.3098 - val_loss: 1.3591 - val_acc: 0.3320\n",
      "Epoch 5/100\n",
      "9000/9000 [==============================] - 3s 369us/step - loss: 1.3594 - acc: 0.3183 - val_loss: 1.3554 - val_acc: 0.3330\n",
      "Epoch 6/100\n",
      "9000/9000 [==============================] - 3s 383us/step - loss: 1.3576 - acc: 0.3186 - val_loss: 1.3542 - val_acc: 0.3310\n",
      "Epoch 7/100\n",
      "9000/9000 [==============================] - 4s 389us/step - loss: 1.3567 - acc: 0.3200 - val_loss: 1.3543 - val_acc: 0.3400\n",
      "Epoch 8/100\n",
      "9000/9000 [==============================] - 3s 385us/step - loss: 1.3563 - acc: 0.3201 - val_loss: 1.3531 - val_acc: 0.3370\n",
      "Epoch 9/100\n",
      "9000/9000 [==============================] - 3s 379us/step - loss: 1.3564 - acc: 0.3211 - val_loss: 1.3544 - val_acc: 0.3300\n",
      "Epoch 10/100\n",
      "9000/9000 [==============================] - 4s 389us/step - loss: 1.3562 - acc: 0.3203 - val_loss: 1.3539 - val_acc: 0.3310\n",
      "Epoch 11/100\n",
      "9000/9000 [==============================] - 3s 375us/step - loss: 1.3559 - acc: 0.3211 - val_loss: 1.3566 - val_acc: 0.3240\n",
      "Epoch 12/100\n",
      "9000/9000 [==============================] - 3s 376us/step - loss: 1.3561 - acc: 0.3237 - val_loss: 1.3555 - val_acc: 0.3310\n",
      "Epoch 13/100\n",
      "9000/9000 [==============================] - 3s 374us/step - loss: 1.3564 - acc: 0.3213 - val_loss: 1.3547 - val_acc: 0.3290\n",
      "Epoch 00013: early stopping\n"
     ]
    }
   ],
   "source": [
    "model, history = run_model_1(data, patience=5)"
   ]
  },
  {
   "cell_type": "code",
   "execution_count": 12,
   "metadata": {
    "collapsed": false
   },
   "outputs": [
    {
     "name": "stdout",
     "output_type": "stream",
     "text": [
      "10000/10000 [==============================] - 1s 142us/step\n"
     ]
    },
    {
     "data": {
      "text/plain": [
       "[1.3627315309524537, 0.31569999999999998]"
      ]
     },
     "execution_count": 12,
     "metadata": {},
     "output_type": "execute_result"
    }
   ],
   "source": [
    "model.evaluate(test1, test_ans)"
   ]
  },
  {
   "cell_type": "code",
   "execution_count": 13,
   "metadata": {
    "collapsed": false
   },
   "outputs": [
    {
     "data": {
      "image/png": "[encoded data removed]",
      "text/plain": [
       "<matplotlib.figure.Figure at 0x7f0e98486f28>"
      ]
     },
     "metadata": {},
     "output_type": "display_data"
    },
    {
     "data": {
      "image/png": "[encoded data removed]",
      "text/plain": [
       "<matplotlib.figure.Figure at 0x7f0e98255b38>"
      ]
     },
     "metadata": {},
     "output_type": "display_data"
    }
   ],
   "source": [
    "import matplotlib.pyplot as plt\n",
    "%matplotlib inline\n",
    "\n",
    "plt.plot(history.history['acc'])\n",
    "plt.plot(history.history['val_acc'])\n",
    "plt.title('Model accuracy')\n",
    "plt.ylabel('Accuracy')\n",
    "plt.xlabel('Epoch')\n",
    "plt.legend(['Train', 'Validation'], loc='upper left')\n",
    "plt.show()\n",
    "\n",
    "# Plot training & validation loss values\n",
    "plt.plot(history.history['loss'])\n",
    "plt.plot(history.history['val_loss'])\n",
    "plt.title('Model loss')\n",
    "plt.ylabel('Loss')\n",
    "plt.xlabel('Epoch')\n",
    "plt.legend(['Train', 'Validation'], loc='upper left')\n",
    "plt.show()"
   ]
  },
  {
   "cell_type": "markdown",
   "metadata": {},
   "source": [
    "проверим, что не переучиваем"
   ]
  },
  {
   "cell_type": "markdown",
   "metadata": {},
   "source": [
    "script dnn_model_1_run_all.py"
   ]
  },
  {
   "cell_type": "code",
   "execution_count": 128,
   "metadata": {
    "collapsed": false
   },
   "outputs": [
    {
     "name": "stdout",
     "output_type": "stream",
     "text": [
      "30\n"
     ]
    }
   ],
   "source": [
    "with open(\"../results/dnn/dnn_model_1_all_runs_10_p2.pyob\", \"rb\") as file:\n",
    "    (test_accs_1, train_accs_1) = pickle.load(file)  \n",
    "print(len(test_accs_1))"
   ]
  },
  {
   "cell_type": "code",
   "execution_count": 129,
   "metadata": {
    "collapsed": false
   },
   "outputs": [
    {
     "data": {
      "image/png": "[encoded data removed]",
      "text/plain": [
       "<matplotlib.figure.Figure at 0x7ff8644092e8>"
      ]
     },
     "metadata": {},
     "output_type": "display_data"
    }
   ],
   "source": [
    "import matplotlib.pyplot as plt\n",
    "%matplotlib inline\n",
    "\n",
    "plt.boxplot([test_accs_1, train_accs_1])\n",
    "plt.xticks([1,2], ('test', 'train'))\n",
    "plt.ylabel(\"accuracy\")\n",
    "plt.show()"
   ]
  },
  {
   "cell_type": "markdown",
   "metadata": {},
   "source": [
    "The Wilcoxon signed-rank test tests the null hypothesis that two related paired samples come from the same distribution. In particular, it tests whether the distribution of the differences x - y is symmetric about zero. It is a non-parametric version of the paired T-test."
   ]
  },
  {
   "cell_type": "code",
   "execution_count": 130,
   "metadata": {
    "collapsed": false
   },
   "outputs": [
    {
     "data": {
      "text/plain": [
       "MannwhitneyuResult(statistic=329.0, pvalue=0.037371089869749831)"
      ]
     },
     "execution_count": 130,
     "metadata": {},
     "output_type": "execute_result"
    }
   ],
   "source": [
    "import scipy.stats\n",
    "# scipy.stats.wilcoxon(test_accs_1, train_accs_1)\n",
    "scipy.stats.mannwhitneyu(test_accs_1, train_accs_1)"
   ]
  },
  {
   "cell_type": "code",
   "execution_count": 138,
   "metadata": {
    "collapsed": false
   },
   "outputs": [
    {
     "name": "stdout",
     "output_type": "stream",
     "text": [
      "1 MannwhitneyuResult(statistic=337.5, pvalue=0.048852228492911383)\n",
      "2 MannwhitneyuResult(statistic=329.0, pvalue=0.037371089869749831)\n",
      "3 MannwhitneyuResult(statistic=254.5, pvalue=0.0019655138254915118)\n",
      "4 MannwhitneyuResult(statistic=304.0, pvalue=0.015713954412081281)\n",
      "5 MannwhitneyuResult(statistic=297.5, pvalue=0.012303608058560067)\n",
      "6 MannwhitneyuResult(statistic=327.0, pvalue=0.035032144716299118)\n",
      "7 MannwhitneyuResult(statistic=249.5, pvalue=0.0015523709484461079)\n"
     ]
    }
   ],
   "source": [
    "for patience in [1, 2, 3, 4, 5, 6, 7]:\n",
    "    with open(\"../results/dnn/dnn_model_1_all_runs_10_p{}.pyob\".format(patience), \"rb\") as file:\n",
    "        (test_accs_1, train_accs_1) = pickle.load(file)  \n",
    "        print(patience, scipy.stats.mannwhitneyu(test_accs_1, train_accs_1))"
   ]
  },
  {
   "cell_type": "markdown",
   "metadata": {},
   "source": [
    "## Теперь сетка сложнее - два слоя"
   ]
  },
  {
   "cell_type": "code",
   "execution_count": 25,
   "metadata": {
    "collapsed": false
   },
   "outputs": [
    {
     "name": "stdout",
     "output_type": "stream",
     "text": [
      "_________________________________________________________________\n",
      "Layer (type)                 Output Shape              Param #   \n",
      "=================================================================\n",
      "input_24 (InputLayer)        (None, 10, 4)             0         \n",
      "_________________________________________________________________\n",
      "flatten_24 (Flatten)         (None, 40)                0         \n",
      "_________________________________________________________________\n",
      "dense_24 (Dense)             (None, 10)                410       \n",
      "_________________________________________________________________\n",
      "dense_25 (Dense)             (None, 4)                 44        \n",
      "=================================================================\n",
      "Total params: 454\n",
      "Trainable params: 454\n",
      "Non-trainable params: 0\n",
      "_________________________________________________________________\n"
     ]
    }
   ],
   "source": [
    "model = create_model_2()\n",
    "model.summary()"
   ]
  },
  {
   "cell_type": "code",
   "execution_count": 26,
   "metadata": {
    "collapsed": true
   },
   "outputs": [],
   "source": [
    "model, history = run_model_2(data, 4)"
   ]
  },
  {
   "cell_type": "code",
   "execution_count": 29,
   "metadata": {
    "collapsed": false
   },
   "outputs": [
    {
     "name": "stdout",
     "output_type": "stream",
     "text": [
      "1000/1000 [==============================] - 0s 122us/step\n"
     ]
    },
    {
     "data": {
      "text/plain": [
       "[1.351066240310669, 0.33700000000000002]"
      ]
     },
     "execution_count": 29,
     "metadata": {},
     "output_type": "execute_result"
    }
   ],
   "source": [
    "model.evaluate(data.test1, data.test_ans)"
   ]
  },
  {
   "cell_type": "code",
   "execution_count": 30,
   "metadata": {
    "collapsed": false
   },
   "outputs": [
    {
     "data": {
      "image/png": "[encoded data removed]",
      "text/plain": [
       "<matplotlib.figure.Figure at 0x7f016c481c18>"
      ]
     },
     "metadata": {},
     "output_type": "display_data"
    },
    {
     "data": {
      "image/png": "[encoded data removed]",
      "text/plain": [
       "<matplotlib.figure.Figure at 0x7f016c503e80>"
      ]
     },
     "metadata": {},
     "output_type": "display_data"
    }
   ],
   "source": [
    "plt.plot(history.history['acc'])\n",
    "plt.plot(history.history['val_acc'])\n",
    "plt.title('Model accuracy')\n",
    "plt.ylabel('Accuracy')\n",
    "plt.xlabel('Epoch')\n",
    "plt.legend(['Train', 'Validation'], loc='upper left')\n",
    "plt.show()\n",
    "\n",
    "# Plot training & validation loss values\n",
    "plt.plot(history.history['loss'])\n",
    "plt.plot(history.history['val_loss'])\n",
    "plt.title('Model loss')\n",
    "plt.ylabel('Loss')\n",
    "plt.xlabel('Epoch')\n",
    "plt.legend(['Train', 'Validation'], loc='upper left')\n",
    "plt.show()"
   ]
  },
  {
   "cell_type": "markdown",
   "metadata": {},
   "source": [
    "Проверим, не переобучается ли"
   ]
  },
  {
   "cell_type": "code",
   "execution_count": 120,
   "metadata": {
    "collapsed": false
   },
   "outputs": [
    {
     "name": "stdout",
     "output_type": "stream",
     "text": [
      "30\n"
     ]
    }
   ],
   "source": [
    "with open(\"../results/dnn/dnn_model_2_all_runs_10_p5.pyob\", \"rb\") as file:\n",
    "    (test_accs_2, train_accs_2) = pickle.load(file)  \n",
    "print(len(test_accs_2))"
   ]
  },
  {
   "cell_type": "code",
   "execution_count": 121,
   "metadata": {
    "collapsed": false
   },
   "outputs": [
    {
     "data": {
      "image/png": "[encoded data removed]",
      "text/plain": [
       "<matplotlib.figure.Figure at 0x7ff89c1127f0>"
      ]
     },
     "metadata": {},
     "output_type": "display_data"
    }
   ],
   "source": [
    "import matplotlib.pyplot as plt\n",
    "%matplotlib inline\n",
    "\n",
    "plt.boxplot([test_accs_2, train_accs_2])\n",
    "plt.xticks([1,2], ('test', 'train'))\n",
    "plt.ylabel(\"accuracy\")\n",
    "plt.show()"
   ]
  },
  {
   "cell_type": "code",
   "execution_count": 124,
   "metadata": {
    "collapsed": false
   },
   "outputs": [
    {
     "data": {
      "text/plain": [
       "MannwhitneyuResult(statistic=268.5, pvalue=0.0037197602285726945)"
      ]
     },
     "execution_count": 124,
     "metadata": {},
     "output_type": "execute_result"
    }
   ],
   "source": [
    "# scipy.stats.wilcoxon(test_accs_2, train_accs_2)\n",
    "scipy.stats.mannwhitneyu(test_accs_2, train_accs_2)"
   ]
  },
  {
   "cell_type": "code",
   "execution_count": 134,
   "metadata": {
    "collapsed": false
   },
   "outputs": [
    {
     "name": "stdout",
     "output_type": "stream",
     "text": [
      "1 MannwhitneyuResult(statistic=280.0, pvalue=0.0060981564698755391)\n",
      "2 MannwhitneyuResult(statistic=327.5, pvalue=0.035615600447949369)\n",
      "3 MannwhitneyuResult(statistic=313.0, pvalue=0.0217757180282925)\n",
      "4 MannwhitneyuResult(statistic=268.0, pvalue=0.003637682983065064)\n",
      "5 MannwhitneyuResult(statistic=268.5, pvalue=0.0037197602285726945)\n"
     ]
    }
   ],
   "source": [
    "for patience in [1, 2, 3, 4, 5]:\n",
    "    with open(\"../results/dnn/dnn_model_2_all_runs_10_p{}.pyob\".format(patience), \"rb\") as file:\n",
    "        (test_accs_2, train_accs_2) = pickle.load(file)  \n",
    "        print(patience, scipy.stats.mannwhitneyu(test_accs_2, train_accs_2))"
   ]
  },
  {
   "cell_type": "markdown",
   "metadata": {},
   "source": [
    " # Сравнение моделей"
   ]
  },
  {
   "cell_type": "code",
   "execution_count": 140,
   "metadata": {
    "collapsed": false
   },
   "outputs": [
    {
     "data": {
      "image/png": "[encoded data removed]",
      "text/plain": [
       "<matplotlib.figure.Figure at 0x7ff8647add30>"
      ]
     },
     "metadata": {},
     "output_type": "display_data"
    }
   ],
   "source": [
    "with open(\"../results/dnn/dnn_model_1_all_runs_10_p6.pyob\", \"rb\") as file:\n",
    "    (test_accs_1, train_accs_1) = pickle.load(file)  \n",
    "    \n",
    "with open(\"../results/dnn/dnn_model_2_all_runs_10_p3.pyob\", \"rb\") as file:\n",
    "    (test_accs_2, train_accs_2) = pickle.load(file) \n",
    "    \n",
    "plt.boxplot([test_accs_1, test_accs_2])\n",
    "plt.xticks([1, 2], ('model_1', 'model_2'))\n",
    "plt.ylabel(\"accuracy\")\n",
    "plt.show()"
   ]
  },
  {
   "cell_type": "code",
   "execution_count": 141,
   "metadata": {
    "collapsed": false
   },
   "outputs": [
    {
     "name": "stdout",
     "output_type": "stream",
     "text": [
      "WilcoxonResult(statistic=153.0, pvalue=0.10199257328585418)\n",
      "MannwhitneyuResult(statistic=358.0, pvalue=0.088024730607560331)\n"
     ]
    }
   ],
   "source": [
    "print(scipy.stats.wilcoxon(test_accs_1, train_accs_2))\n",
    "print(scipy.stats.mannwhitneyu(test_accs_1, train_accs_2))"
   ]
  },
  {
   "cell_type": "code",
   "execution_count": null,
   "metadata": {
    "collapsed": true
   },
   "outputs": [],
   "source": []
  }
 ],
 "metadata": {
  "anaconda-cloud": {},
  "kernelspec": {
   "display_name": "Python [default]",
   "language": "python",
   "name": "python3"
  },
  "language_info": {
   "codemirror_mode": {
    "name": "ipython",
    "version": 3
   },
   "file_extension": ".py",
   "mimetype": "text/x-python",
   "name": "python",
   "nbconvert_exporter": "python",
   "pygments_lexer": "ipython3",
   "version": "3.5.2"
  }
 },
 "nbformat": 4,
 "nbformat_minor": 2
}
