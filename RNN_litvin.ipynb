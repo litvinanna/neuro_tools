{
 "cells": [
  {
   "cell_type": "code",
   "execution_count": 2,
   "metadata": {},
   "outputs": [],
   "source": [
    "from Bio import SeqIO\n",
    "\n",
    "genome_file = \"NC_000913.2.fasta\"\n",
    "genome_file_type = genome_file.split('.')[-1]\n",
    "record = SeqIO.read(genome_file, genome_file_type)\n",
    "length = len(record.seq)"
   ]
  },
  {
   "cell_type": "markdown",
   "metadata": {},
   "source": [
    "## Подготовка данных"
   ]
  },
  {
   "cell_type": "code",
   "execution_count": 41,
   "metadata": {},
   "outputs": [],
   "source": [
    "import numpy as np\n",
    "\n",
    "def recode_data():\n",
    "    bases_dict     = {\"A\": 0, \"T\": 1, \"C\": 2, \"G\": 3}\n",
    "    bases_list = [\"A\", \"T\", \"C\", \"G\"]\n",
    "    bases_np        = {\n",
    "                        \"A\": np.array([1, 0, 0, 0], dtype = np.float32),\n",
    "                        \"T\": np.array([0, 1, 0, 0], dtype = np.float32),\n",
    "                        \"C\": np.array([0, 0, 1, 0], dtype = np.float32),\n",
    "                        \"G\": np.array([0, 0, 0, 1], dtype = np.float32)\n",
    "                        }\n",
    "\n",
    "    seq_np = np.zeros((length, 4), dtype = np.float32) \n",
    "    for index in range(length):\n",
    "        base = record.seq[index]\n",
    "        if base in bases_list:\n",
    "            channel = bases_dict[base]\n",
    "            seq_np[index, channel] = 1\n",
    "        else:\n",
    "            print(\"alternative base\")\n",
    "    return seq_np"
   ]
  },
  {
   "cell_type": "code",
   "execution_count": 49,
   "metadata": {},
   "outputs": [],
   "source": [
    "LENGTH = 10\n",
    "N_TRAIN = 100000\n",
    "N_TEST = 10000\n",
    "\n",
    "def gen_data_sets(seq_np):\n",
    "    \n",
    "    train_ids = np.random.choice(int(length * (1-test)) - 300, N_TRAIN, replace=False) + 200\n",
    "    test_ids = np.random.choice(int(length * test) - 300, N_TEST, replace=False) + int(length * (1-test))\n",
    "\n",
    "    train1 = np.array([seq_np[x-LENGTH:x, ...] for x in train_ids])\n",
    "    train2 = np.array([seq_np[x+1:x+LENGTH+1, ...] for x in train_ids])\n",
    "    train_ans = np.array([seq_np[x, ...]  for x in train_ids])\n",
    "\n",
    "    test1 = np.array([seq_np[x-LENGTH:x, ...] for x in test_ids])\n",
    "    test2 = np.array([seq_np[x+1:x+LENGTH+1, ...] for x in test_ids])\n",
    "    test_ans = np.array([seq_np[x, ...]  for x in test_ids])\n",
    "    return [train1, train2, train_ans], [test1, test2, test_ans]"
   ]
  },
  {
   "cell_type": "code",
   "execution_count": 46,
   "metadata": {},
   "outputs": [
    {
     "name": "stdout",
     "output_type": "stream",
     "text": [
      "100000 222 4175601\n",
      "10000 4175730 4639365\n",
      "(100000, 10, 4) (100000, 10, 4) (100000, 4)\n",
      "(10000, 10, 4) (10000, 10, 4) (10000, 4)\n"
     ]
    }
   ],
   "source": [
    "seq_np = recode_data()\n",
    "[train1, train2, train_ans], [test1, test2, test_ans] = gen_data_sets(seq_np)\n",
    "print(train1.shape, train2.shape, train_ans.shape)\n",
    "print( test1.shape, test2.shape, test_ans.shape)"
   ]
  },
  {
   "cell_type": "markdown",
   "metadata": {},
   "source": [
    "## Самая простая модель - скрытая марковская"
   ]
  },
  {
   "cell_type": "markdown",
   "metadata": {},
   "source": [
    "https://hmmlearn.readthedocs.io/en/latest/tutorial.html"
   ]
  },
  {
   "cell_type": "code",
   "execution_count": null,
   "metadata": {},
   "outputs": [],
   "source": []
  }
 ],
 "metadata": {
  "kernelspec": {
   "display_name": "Python 3",
   "language": "python",
   "name": "python3"
  },
  "language_info": {
   "codemirror_mode": {
    "name": "ipython",
    "version": 3
   },
   "file_extension": ".py",
   "mimetype": "text/x-python",
   "name": "python",
   "nbconvert_exporter": "python",
   "pygments_lexer": "ipython3",
   "version": "3.5.2"
  }
 },
 "nbformat": 4,
 "nbformat_minor": 2
}
