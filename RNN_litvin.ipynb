{
 "cells": [
  {
   "cell_type": "markdown",
   "metadata": {},
   "source": [
    "# LSTM"
   ]
  },
  {
   "cell_type": "code",
   "execution_count": 8,
   "metadata": {
    "collapsed": false
   },
   "outputs": [],
   "source": [
    "from rnn_models import *"
   ]
  },
  {
   "cell_type": "code",
   "execution_count": null,
   "metadata": {
    "collapsed": false
   },
   "outputs": [
    {
     "name": "stdout",
     "output_type": "stream",
     "text": [
      "Train on 100000 samples, validate on 10000 samples\n",
      "Epoch 1/4\n",
      " 25888/100000 [======>.......................] - ETA: 1:40 - loss: 1.3857 - acc: 0.2625"
     ]
    }
   ],
   "source": [
    "def run_rnn_model_1(data, patience = 1):\n",
    "    input_size = data.train1.shape[1]\n",
    "    model = create_rnn_model_1(input_size)\n",
    "    es = EarlyStopping(monitor='val_loss', verbose=1, patience=patience)\n",
    "    history = model.fit(data.train1, data.train_ans, epochs=4, callbacks = [es], validation_data=(data.validate1, data.validate_ans))\n",
    "    return model, history\n",
    "\n",
    "model, history = run_rnn_model_1(data)"
   ]
  },
  {
   "cell_type": "code",
   "execution_count": null,
   "metadata": {
    "collapsed": true
   },
   "outputs": [],
   "source": [
    "model.evaluate(data.test1, data.test_ans)"
   ]
  },
  {
   "cell_type": "code",
   "execution_count": 27,
   "metadata": {
    "collapsed": false
   },
   "outputs": [],
   "source": [
    "# import matplotlib.pyplot as plt\n",
    "# %matplotlib inline\n",
    "\n",
    "# plot_history(history.history)"
   ]
  },
  {
   "cell_type": "code",
   "execution_count": 89,
   "metadata": {
    "collapsed": false
   },
   "outputs": [
    {
     "name": "stdout",
     "output_type": "stream",
     "text": [
      "1000/1000 [==============================] - 1s 641us/step\n"
     ]
    },
    {
     "data": {
      "text/plain": [
       "[1.3603198890686035, 0.316]"
      ]
     },
     "execution_count": 89,
     "metadata": {},
     "output_type": "execute_result"
    }
   ],
   "source": [
    "model.evaluate(data.test1, data.test_ans)"
   ]
  },
  {
   "cell_type": "code",
   "execution_count": 90,
   "metadata": {
    "collapsed": false
   },
   "outputs": [
    {
     "name": "stdout",
     "output_type": "stream",
     "text": [
      "_________________________________________________________________\n",
      "Layer (type)                 Output Shape              Param #   \n",
      "=================================================================\n",
      "lstm_13 (LSTM)               (None, 10)                600       \n",
      "_________________________________________________________________\n",
      "dense_13 (Dense)             (None, 4)                 44        \n",
      "=================================================================\n",
      "Total params: 644\n",
      "Trainable params: 644\n",
      "Non-trainable params: 0\n",
      "_________________________________________________________________\n"
     ]
    }
   ],
   "source": [
    "model.summary()"
   ]
  },
  {
   "cell_type": "code",
   "execution_count": 18,
   "metadata": {
    "collapsed": false
   },
   "outputs": [],
   "source": [
    "# with open(\"../results/rnn/rnn_model_1_all_runs_10_p3.pyob\", \"rb\") as file:\n",
    "#     (test_accs_1, train_accs_1) = pickle.load(file)  \n",
    "# print(len(test_accs_1))"
   ]
  },
  {
   "cell_type": "markdown",
   "metadata": {},
   "source": [
    "Попробуем загрузить модель"
   ]
  },
  {
   "cell_type": "code",
   "execution_count": 39,
   "metadata": {
    "collapsed": false
   },
   "outputs": [
    {
     "name": "stdout",
     "output_type": "stream",
     "text": [
      "../results/rnn/2019-05-17-23-31/rnn_model_2_all_runs_p2_ecoli_100000_10000_12_00_cds_False.pyob\n",
      "../results/rnn/2019-05-02-18-07/rnn_model_3_all_runs_p1_ecoli_100000_10000_50_00.pyob\n",
      "../results/rnn/2019-04-30-20-28/rnn_model_2_all_runs_p1_ecoli_100000_10000_50_00.pyob\n",
      "../results/rnn/2019-04-30-01-08/rnn_model_1_all_runs_p1_ecoli_100000_10000_50_00.pyob\n"
     ]
    },
    {
     "data": {
      "text/plain": [
       "[None, None, None, None]"
      ]
     },
     "execution_count": 39,
     "metadata": {},
     "output_type": "execute_result"
    }
   ],
   "source": [
    "a = glob.glob(\"../results/rnn/*/*all_runs**\")\n",
    "[print(x) for x in a]"
   ]
  },
  {
   "cell_type": "code",
   "execution_count": 42,
   "metadata": {
    "collapsed": false
   },
   "outputs": [
    {
     "name": "stdout",
     "output_type": "stream",
     "text": [
      "0 "
     ]
    }
   ],
   "source": [
    "data_list = generate_data(\"../results/ecoli_100000_10000\", enviroment_size=12, shift = 0, t = 1)\n",
    "data = data_list[0]"
   ]
  },
  {
   "cell_type": "code",
   "execution_count": 43,
   "metadata": {
    "collapsed": false
   },
   "outputs": [
    {
     "name": "stdout",
     "output_type": "stream",
     "text": [
      "Loaded model from disk\n"
     ]
    }
   ],
   "source": [
    "path = \"2019-05-17-23-31\"\n",
    "from keras.models import model_from_json\n",
    "json_file = open('../results/rnn/{}/model.json'.format(path), 'r')\n",
    "loaded_model_json = json_file.read()\n",
    "json_file.close()\n",
    "loaded_model = model_from_json(loaded_model_json)\n",
    "# load weights into new model\n",
    "i = 0\n",
    "loaded_model.load_weights(\"../results/rnn/{}/{}.weights\".format(path, i))\n",
    "print(\"Loaded model from disk\")\n",
    " \n",
    "# evaluate loaded model on test data\n",
    "loaded_model.compile(loss='categorical_crossentropy', optimizer='adam', metrics=['accuracy'])\n",
    "data = data_list[i]\n",
    "# loaded_model.evaluate(data.test1, data.test_ans)"
   ]
  },
  {
   "cell_type": "code",
   "execution_count": 44,
   "metadata": {
    "collapsed": false
   },
   "outputs": [
    {
     "name": "stdout",
     "output_type": "stream",
     "text": [
      "_________________________________________________________________\n",
      "Layer (type)                 Output Shape              Param #   \n",
      "=================================================================\n",
      "lstm_1 (LSTM)                (None, 12)                816       \n",
      "_________________________________________________________________\n",
      "dense_1 (Dense)              (None, 4)                 52        \n",
      "=================================================================\n",
      "Total params: 868\n",
      "Trainable params: 868\n",
      "Non-trainable params: 0\n",
      "_________________________________________________________________\n"
     ]
    }
   ],
   "source": [
    "loaded_model.summary()"
   ]
  },
  {
   "cell_type": "markdown",
   "metadata": {},
   "source": [
    "# Модели, возвращающие последовательность"
   ]
  },
  {
   "cell_type": "code",
   "execution_count": 4,
   "metadata": {
    "collapsed": false
   },
   "outputs": [
    {
     "name": "stderr",
     "output_type": "stream",
     "text": [
      "Using TensorFlow backend.\n"
     ]
    }
   ],
   "source": [
    "from keras.layers import Input, RNN, Flatten, Dense, Embedding, LSTM\n",
    "from keras.models import Sequential, Model\n",
    "from keras.callbacks import EarlyStopping"
   ]
  },
  {
   "cell_type": "code",
   "execution_count": 23,
   "metadata": {
    "collapsed": false
   },
   "outputs": [
    {
     "name": "stdout",
     "output_type": "stream",
     "text": [
      "(?, ?, 12)\n",
      "(?, 50, 4)\n",
      "_________________________________________________________________\n",
      "Layer (type)                 Output Shape              Param #   \n",
      "=================================================================\n",
      "input_18 (InputLayer)        (None, 50, 4)             0         \n",
      "_________________________________________________________________\n",
      "lstm_16 (LSTM)               (None, 50, 12)            816       \n",
      "_________________________________________________________________\n",
      "dense_14 (Dense)             (None, 50, 4)             52        \n",
      "=================================================================\n",
      "Total params: 868\n",
      "Trainable params: 868\n",
      "Non-trainable params: 0\n",
      "_________________________________________________________________\n"
     ]
    }
   ],
   "source": [
    "inp = Input(shape = (50, 4))\n",
    "x = LSTM(12, recurrent_dropout=0, dropout=0, return_sequences = True)(inp)\n",
    "print(x.shape)\n",
    "x = Dense(4,activation='softmax')(x)\n",
    "print(x.shape)\n",
    "model = Model(inp, x)\n",
    "model.compile(loss = 'categorical_crossentropy', optimizer='adam',metrics = ['accuracy'])\n",
    "model.summary()"
   ]
  },
  {
   "cell_type": "code",
   "execution_count": null,
   "metadata": {
    "collapsed": true
   },
   "outputs": [],
   "source": []
  },
  {
   "cell_type": "code",
   "execution_count": null,
   "metadata": {
    "collapsed": true
   },
   "outputs": [],
   "source": []
  },
  {
   "cell_type": "code",
   "execution_count": null,
   "metadata": {
    "collapsed": true
   },
   "outputs": [],
   "source": []
  },
  {
   "cell_type": "markdown",
   "metadata": {},
   "source": [
    "# Attention"
   ]
  },
  {
   "cell_type": "code",
   "execution_count": 2,
   "metadata": {
    "collapsed": false
   },
   "outputs": [
    {
     "name": "stdout",
     "output_type": "stream",
     "text": [
      "0 1 2 3 4 5 6 7 8 9 10 11 12 13 14 15 16 17 18 19 20 21 22 23 24 25 26 27 28 29 "
     ]
    }
   ],
   "source": [
    "from data_loading import *\n",
    "data_list = generate_data(\"../results/ecoli_100000_10000\", enviroment_size=50, shift = 0)\n",
    "data = data_list[0]"
   ]
  },
  {
   "cell_type": "code",
   "execution_count": 5,
   "metadata": {
    "collapsed": false
   },
   "outputs": [],
   "source": [
    "import keras\n",
    "from keras.models import Sequential\n",
    "from keras.layers import Input, RNN, Flatten, Dense, Embedding, LSTM\n",
    "from keras.models import Sequential\n",
    "from keras.callbacks import EarlyStopping, ModelCheckpoint\n",
    "\n",
    "from keras_self_attention import SeqSelfAttention"
   ]
  },
  {
   "cell_type": "code",
   "execution_count": 19,
   "metadata": {
    "collapsed": false
   },
   "outputs": [],
   "source": [
    "model = Sequential()\n",
    "model.add(LSTM(12, recurrent_dropout=0, dropout=0, return_sequences=True ))\n",
    "model.add(SeqSelfAttention(attention_activation='sigmoid', attention_width=4))\n",
    "model.add(LSTM(12, recurrent_dropout=0, dropout=0, return_sequences=False))\n",
    "model.add(Dense(4,activation='softmax'))\n",
    "model.compile(loss = 'categorical_crossentropy', optimizer='adam',metrics = ['accuracy'])\n"
   ]
  },
  {
   "cell_type": "code",
   "execution_count": null,
   "metadata": {
    "collapsed": false
   },
   "outputs": [
    {
     "name": "stdout",
     "output_type": "stream",
     "text": [
      "Train on 100000 samples, validate on 10000 samples\n",
      "Epoch 1/100\n",
      "  8192/100000 [=>............................] - ETA: 16:41 - loss: 1.3857 - acc: 0.2644"
     ]
    }
   ],
   "source": [
    "es = EarlyStopping(monitor='val_loss', verbose=1, patience=1)\n",
    "checkpointer = ModelCheckpoint(filepath = '../results/attention/model-1-{epoch:02d}.hdf5', verbose=1)\n",
    "history = model.fit(data.train1, data.train_ans, epochs=100, callbacks = [es], validation_data=(data.validate1, data.validate_ans))"
   ]
  },
  {
   "cell_type": "code",
   "execution_count": 12,
   "metadata": {
    "collapsed": false
   },
   "outputs": [
    {
     "name": "stdout",
     "output_type": "stream",
     "text": [
      "_________________________________________________________________\n",
      "Layer (type)                 Output Shape              Param #   \n",
      "=================================================================\n",
      "lstm_3 (LSTM)                (None, 50, 50)            11000     \n",
      "_________________________________________________________________\n",
      "seq_self_attention_2 (SeqSel (None, 50, 50)            3265      \n",
      "_________________________________________________________________\n",
      "lstm_4 (LSTM)                (None, 50, 50)            20200     \n",
      "_________________________________________________________________\n",
      "dense_2 (Dense)              (None, 50, 4)             204       \n",
      "=================================================================\n",
      "Total params: 34,669\n",
      "Trainable params: 34,669\n",
      "Non-trainable params: 0\n",
      "_________________________________________________________________\n"
     ]
    }
   ],
   "source": [
    "model.summary()"
   ]
  },
  {
   "cell_type": "code",
   "execution_count": null,
   "metadata": {
    "collapsed": true
   },
   "outputs": [],
   "source": []
  }
 ],
 "metadata": {
  "anaconda-cloud": {},
  "kernelspec": {
   "display_name": "Python [default]",
   "language": "python",
   "name": "python3"
  },
  "language_info": {
   "codemirror_mode": {
    "name": "ipython",
    "version": 3
   },
   "file_extension": ".py",
   "mimetype": "text/x-python",
   "name": "python",
   "nbconvert_exporter": "python",
   "pygments_lexer": "ipython3",
   "version": "3.5.6"
  }
 },
 "nbformat": 4,
 "nbformat_minor": 2
}
